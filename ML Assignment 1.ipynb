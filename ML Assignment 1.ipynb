{
  "nbformat": 4,
  "nbformat_minor": 0,
  "metadata": {
    "colab": {
      "provenance": []
    },
    "kernelspec": {
      "name": "python3",
      "display_name": "Python 3"
    },
    "language_info": {
      "name": "python"
    }
  },
  "cells": [
    {
      "cell_type": "code",
      "execution_count": null,
      "metadata": {
        "id": "nsB9NLSkUxT0"
      },
      "outputs": [],
      "source": [
        "'''Q.1 What is a parameter?'''"
      ]
    },
    {
      "cell_type": "markdown",
      "source": [
        "A parameter is a variable in a machine learning model that is learned from the training data and is used to make predictions.\n",
        "\n",
        "-Parameters are internal model values adjusted during training.\n",
        "\n",
        "-They help the model understand patterns in the data.\n",
        "\n",
        "-Parameters are optimized to minimize error or loss.\n",
        "\n",
        "Examples:\n",
        "\n",
        "- In Linear Regression, parameters are:\n",
        "\n",
        "  The slope (m) and intercept (b) in the equation y = mx + b.\n",
        "\n",
        "- In Logistic Regression, parameters are:\n",
        "\n",
        "  The weights (coefficients) used to calculate the probability of a class.\n",
        "\n",
        "- In a Neural Network, parameters are:\n",
        "\n",
        "  Weights and biases between layers.\n",
        "\n",
        "Conclusion:\n",
        "\n",
        "Parameters are the core components of a machine learning model that are learned during training to improve prediction accuracy."
      ],
      "metadata": {
        "id": "XkpyXtBqVsnz"
      }
    },
    {
      "cell_type": "code",
      "source": [
        " '''Q.2 What is correlation?\n",
        " What does negative correlation mean?'''"
      ],
      "metadata": {
        "id": "ttzA6-t1WXuk"
      },
      "execution_count": null,
      "outputs": []
    },
    {
      "cell_type": "markdown",
      "source": [
        "Correlation is a statistical measure that describes the strength and direction of a relationship between two variables.\n",
        "\n",
        "It ranges from -1 to +1.\n",
        "\n",
        "- +1 = perfect positive correlation\n",
        "\n",
        "- 0 = no correlation\n",
        "\n",
        "- –1 = perfect negative correlation\n",
        "\n",
        "A negative correlation means that as one variable increases, the other decreases, and vice versa.\n",
        "\n",
        "Example:\n",
        "\n",
        "The amount of time spent watching TV vs. exam scores\n",
        "(more TV → lower scores): negative correlation\n",
        "\n",
        "Conclusion:\n",
        "\n",
        "Correlation shows how two variables are related. A negative correlation indicates that the variables move in opposite directions."
      ],
      "metadata": {
        "id": "N4vrsYjYXI8z"
      }
    },
    {
      "cell_type": "code",
      "source": [
        "'''Q.3 Define Machine Learning. What are the main components in Machine Learning?'''"
      ],
      "metadata": {
        "id": "asr7jjYeXolN"
      },
      "execution_count": null,
      "outputs": []
    },
    {
      "cell_type": "markdown",
      "source": [
        "Definition of Machine Learning:\n",
        "\n",
        "Machine Learning (ML) is a subset of Artificial Intelligence (AI) that enables computers to learn from data and make predictions or decisions without being explicitly programmed.\n",
        "\n",
        "Main Components of Machine Learning:\n",
        "1. Data\n",
        "\n",
        "- The input used to train the model.\n",
        "\n",
        "- Can be labeled (supervised) or unlabeled (unsupervised).\n",
        "\n",
        "2. Model (Algorithm)\n",
        "\n",
        "- A mathematical representation or logic used to learn from the data.\n",
        "\n",
        "- Examples: Linear Regression, Decision Trees, Neural Networks.\n",
        "\n",
        "3. Features\n",
        "\n",
        "- The input variables or attributes used for prediction (independent variables).\n",
        "\n",
        "4. Target/Labels\n",
        "\n",
        "- The output variable the model aims to predict (dependent variable).\n",
        "\n",
        "5. Training\n",
        "\n",
        "- The process of feeding data to the model so it can learn patterns.\n",
        "\n",
        "6. Loss Function\n",
        "\n",
        "- A function that measures the error between the predicted output and the actual output.\n",
        "\n",
        "7. Optimizer\n",
        "\n",
        "- A method (like Gradient Descent) used to minimize the loss function and improve the model.\n",
        "\n",
        "Conclusion:\n",
        "\n",
        "Machine Learning involves using data to train models that can make predictions. Its core components include data, features, model, training, loss function, and optimizer."
      ],
      "metadata": {
        "id": "er3n6dzDX0pE"
      }
    },
    {
      "cell_type": "code",
      "source": [
        "'''Q.4 How does loss value help in determining whether the model is good or not?'''"
      ],
      "metadata": {
        "id": "h8_OIOPUYgwS"
      },
      "execution_count": null,
      "outputs": []
    },
    {
      "cell_type": "markdown",
      "source": [
        "The loss value is a numerical indicator of how far the model’s predictions are from the actual target values.\n",
        "\n",
        "- It is calculated using a loss function (e.g., Mean Squared Error, Cross-Entropy).\n",
        "\n",
        "- A lower loss value means the model’s predictions are closer to the actual values, indicating better performance.\n",
        "\n",
        "- A higher loss value suggests the model is making larger errors, meaning it may not be learning well.\n",
        "\n",
        "Key Points:\n",
        "\n",
        "- Loss is minimized during training using optimization techniques.\n",
        "\n",
        "- It guides how the model’s parameters (like weights) should be adjusted.\n",
        "\n",
        "- It is used to compare multiple models – the one with the lowest loss on validation data is usually better.\n",
        "\n",
        "Conclusion:\n",
        "\n",
        "The loss value measures prediction error. A smaller loss indicates a better-performing model, while a larger loss means the model needs improvement.\n",
        "\n"
      ],
      "metadata": {
        "id": "kXu70xbAYplw"
      }
    },
    {
      "cell_type": "code",
      "source": [
        " '''Q.5 What are continuous and categorical variables?'''"
      ],
      "metadata": {
        "id": "W4xrIG27Z8Vo"
      },
      "execution_count": null,
      "outputs": []
    },
    {
      "cell_type": "markdown",
      "source": [
        " Continuous Variables:\n",
        "\n",
        "These are numeric variables that can take an infinite number of values within a range.\n",
        "\n",
        "They are measurable and often involve decimal values.\n",
        "\n",
        "Examples:\n",
        "\n",
        "Height (e.g., 162.5 cm)\n",
        "\n",
        "Temperature (e.g., 36.7°C)\n",
        "\n",
        "Weight (e.g., 57.5 kg)\n",
        "\n",
        "Time (e.g., 2.45 hours)\n",
        "\n",
        "Categorical Variables:\n",
        "\n",
        "These are variables that represent groups or categories.\n",
        "\n",
        "They are not numerical (even if they use numbers, the numbers represent labels, not quantities).\n",
        "\n",
        "Examples include:\n",
        "\n",
        "Gender (Male, Female, Other)\n",
        "\n",
        "Color (Red, Blue, Green)\n",
        "\n",
        "Grade (A, B, C)\n",
        "\n",
        "Yes/No responses\n",
        "\n",
        "| Feature  | Continuous Variable      | Categorical Variable        |\n",
        "| -------- | ------------------------ | --------------------------- |\n",
        "| Type     | Numeric                  | Non-numeric (or labels)     |\n",
        "| Values   | Infinite range           | Limited/fixed categories    |\n",
        "| Examples | Age, Salary, Temperature | Gender, Country, Product ID |\n",
        "| Used for | Regression               | Classification              |\n"
      ],
      "metadata": {
        "id": "VeRnMdrlaJXX"
      }
    },
    {
      "cell_type": "code",
      "source": [
        "'''Q.6  How do we handle categorical variables in Machine Learning? What are the common techniques?'''"
      ],
      "metadata": {
        "id": "_wOthLrMvdse"
      },
      "execution_count": null,
      "outputs": []
    },
    {
      "cell_type": "markdown",
      "source": [
        "Categorical variables cannot be used directly in most machine learning algorithms, so we need to convert them into numerical format.\n",
        "\n",
        "Common Techniques to Handle Categorical Variables:\n",
        "\n",
        "1. Label Encoding\n",
        "Assigns a unique integer to each category.\n",
        "\n",
        "Example:\n",
        "\n",
        "Color: [Red, Green, Blue] → [0, 1, 2]\n",
        "\n",
        "Best for: Ordinal data (when categories have a natural order).\n",
        "\n",
        "2. One-Hot Encoding\n",
        "\n",
        "Creates binary (0/1) columns for each category.\n",
        "\n",
        "Example:\n",
        "\n",
        "Color: Red → [1, 0, 0]  \n",
        "       Green → [0, 1, 0]  \n",
        "       Blue → [0, 0, 1]\n",
        "\n",
        "Best for: Nominal data (no order between categories).\n",
        "\n",
        "3. Ordinal Encoding\n",
        "Assigns integers based on category order.\n",
        "\n",
        "Example:\n",
        "\n",
        "Size: [Small, Medium, Large] → [1, 2, 3]\n",
        "\n",
        "Important: Use only when there is logical ordering.\n",
        "\n",
        "4. Frequency / Count Encoding\n",
        "\n",
        "Replace each category with the frequency it appears.\n",
        "\n",
        "Example:\n",
        "\n",
        "Color: Red (20 times), Green (15), Blue (5)  \n",
        "→ Red = 20, Green = 15, Blue = 5\n",
        "\n",
        "5. Binary Encoding (Advanced)\n",
        "\n",
        "- First applies label encoding, then converts numbers to binary format.\n",
        "\n",
        "- Fewer columns than one-hot encoding.\n",
        "\n",
        "- Used when high cardinality (many unique categories)."
      ],
      "metadata": {
        "id": "pvlFNFDTvlGO"
      }
    },
    {
      "cell_type": "code",
      "source": [
        "'''Q.7 What do you mean by training and testing a dataset?'''"
      ],
      "metadata": {
        "id": "R1MYdnY8wni3"
      },
      "execution_count": null,
      "outputs": []
    },
    {
      "cell_type": "markdown",
      "source": [
        " Training Dataset:\n",
        "\n",
        "The training dataset is the portion of data used to train a machine learning model.\n",
        "\n",
        "It contains both:\n",
        "\n",
        "- Features (inputs) and\n",
        "\n",
        "- Labels (outputs/targets) (for supervised learning).\n",
        "\n",
        "- The model learns patterns and relationships from this data.\n",
        "\n",
        "Example: If you're building a model to predict house prices, the training set will have features like area, number of rooms, location, etc., along with the actual prices.\n",
        "\n",
        "Testing Dataset:\n",
        "\n",
        "- The testing dataset is a separate portion of data used to evaluate the performance of the trained model.\n",
        "\n",
        "- It checks how well the model performs on unseen data.\n",
        "\n",
        "- The goal is to measure accuracy, precision, recall, etc., and ensure the model is not overfitting.\n",
        "\n",
        "- It simulates how the model will perform in the real world."
      ],
      "metadata": {
        "id": "HfiysMHHwx9Q"
      }
    },
    {
      "cell_type": "code",
      "source": [
        "'''Q.8 What is sklearn.preprocessing'''"
      ],
      "metadata": {
        "id": "bPx_Fwfcxd7Y"
      },
      "execution_count": null,
      "outputs": []
    },
    {
      "cell_type": "markdown",
      "source": [
        "Definition:\n",
        "\n",
        "sklearn.preprocessing is a module in the Scikit-learn (sklearn) library used for data preprocessing — the process of transforming raw data into a clean and usable format before feeding it into machine learning models.\n",
        "\n",
        "It provides functions and classes to:\n",
        "\n",
        "- Scale\n",
        "\n",
        "- Normalize\n",
        "\n",
        "- Encode\n",
        "\n",
        "- Transform features\n",
        "\n",
        "Why is it important?\n",
        "\n",
        "Machine learning algorithms often require data to be in a specific format or scale. For example:\n",
        "\n",
        "- Features on different scales can negatively impact model performance.\n",
        "\n",
        "- Categorical data needs to be converted into numbers.\n",
        "\n",
        "| Function / Class | Purpose                                           | Example Use                                           |\n",
        "| ---------------- | ------------------------------------------------- | ----------------------------------------------------- |\n",
        "| `StandardScaler` | Standardizes features (mean=0, std=1)             | Good for algorithms like SVM, KNN                     |\n",
        "| `MinMaxScaler`   | Scales features to a range (e.g., 0 to 1)         | Useful for neural networks                            |\n",
        "| `LabelEncoder`   | Converts categorical labels into integers         | For target variable encoding                          |\n",
        "| `OneHotEncoder`  | Converts categorical features into binary vectors | For nominal categorical data                          |\n",
        "| `Binarizer`      | Converts values to 0 or 1 based on a threshold    | Used in classification                                |\n",
        "| `Normalizer`     | Scales input vectors individually                 | Used when magnitude matters (e.g., cosine similarity) |\n"
      ],
      "metadata": {
        "id": "1gKTP67Hxkx8"
      }
    },
    {
      "cell_type": "code",
      "source": [
        "#Example\n",
        "from sklearn.preprocessing import StandardScaler\n",
        "\n",
        "data = [[1.0, 2.0], [2.0, 0.0], [0.0, 1.0]]\n",
        "scaler = StandardScaler()\n",
        "scaled_data = scaler.fit_transform(data)\n"
      ],
      "metadata": {
        "id": "M2OluNccyEed"
      },
      "execution_count": 1,
      "outputs": []
    },
    {
      "cell_type": "code",
      "source": [
        "'''Q.9 What is a Test set?'''"
      ],
      "metadata": {
        "id": "r38goQe8yNko"
      },
      "execution_count": null,
      "outputs": []
    },
    {
      "cell_type": "markdown",
      "source": [
        "Definition:\n",
        "\n",
        "A test set is a separate portion of the dataset used to evaluate the performance of a machine learning model after training.\n",
        "\n",
        "- It contains data that the model has never seen before.\n",
        "\n",
        "- The goal is to check how well the model generalizes to new/unseen data.\n",
        "\n",
        "Purpose of a Test Set:\n",
        "\n",
        "- To measure the accuracy, precision, recall, F1-score, etc.\n",
        "\n",
        "- To ensure the model is not overfitting or underfitting.\n",
        "\n",
        "- To simulate how the model would perform in the real world.\n",
        "\n",
        "Typical Split:\n",
        "\n",
        "- Dataset is usually divided into:\n",
        "\n",
        " - Training Set: ~70–80% of the data\n",
        "\n",
        " - Test Set: ~20–30% of the data\n",
        "\n",
        "Sometimes, a validation set is also used to fine-tune model parameters.\n",
        "\n",
        "Example:\n",
        "\n",
        "If you have 1,000 rows of data:\n",
        "\n",
        "- 800 rows → for training (to build the model)\n",
        "\n",
        "- 200 rows → for testing (to evaluate performance)"
      ],
      "metadata": {
        "id": "vmWia_-RyYI0"
      }
    },
    {
      "cell_type": "code",
      "source": [
        " '''Q.10 How do we split data for model fitting (training and testing) in Python? How do you approach a Machine Learning problem?'''"
      ],
      "metadata": {
        "id": "RbqW9ZvXzCfy"
      },
      "execution_count": null,
      "outputs": []
    },
    {
      "cell_type": "markdown",
      "source": [
        "1. We use the train_test_split function from sklearn.model_selection.\n",
        "\n",
        "Syntax:\n",
        "\n",
        "from sklearn.model_selection import train_test_split\n",
        "\n",
        "X_train, X_test, y_train, y_test = train_test_split(\n",
        "    X, y, test_size=0.2, random_state=42\n",
        ")\n",
        "\n",
        "Explanation:\n",
        "\n",
        "- X: Features (independent variables)\n",
        "\n",
        "- y: Labels/Target variable (dependent variable)\n",
        "\n",
        "- test_size=0.2: 20% for testing, 80% for training\n",
        "\n",
        "- random_state=42: Ensures reproducibility (same split every time)\n",
        "\n",
        "2. Step-by-Step ML Problem-Solving Approach:\n",
        "\n",
        "Step 1: Understand the Problem\n",
        "\n",
        "- Identify the goal (classification, regression, etc.)\n",
        "\n",
        "- Understand the business context and available data\n",
        "\n",
        "Step 2: Collect and Explore the Data\n",
        "\n",
        "- Load the dataset\n",
        "\n",
        "- Use EDA (Exploratory Data Analysis) to:\n",
        "\n",
        " - Check missing values\n",
        "\n",
        " - Understand distributions\n",
        "\n",
        " - Identify outliers\n",
        "\n",
        " - Visualize relationships\n",
        "\n",
        "Step 3: Preprocess the Data\n",
        "\n",
        "- Handle missing values\n",
        "\n",
        "- Encode categorical variables (e.g., OneHotEncoder, LabelEncoder)\n",
        "\n",
        "- Scale numerical features (e.g., StandardScaler, MinMaxScaler)\n",
        "\n",
        "- Split the dataset into training and testing sets\n",
        "\n",
        "Step 4: Select and Train a Model\n",
        "\n",
        "- Choose suitable algorithms (e.g., Linear Regression, Decision Tree)\n",
        "\n",
        "- Fit the model using training data\n",
        "\n",
        "Code: model.fit(X_train, y_train)\n",
        "\n",
        "Step 5: Evaluate the Model\n",
        "\n",
        "- Predict on test data\n",
        "\n",
        "Code: y_pred = model.predict(X_test)\n",
        "\n",
        "- Use metrics:\n",
        "\n",
        " - Accuracy, Precision, Recall (for classification)\n",
        "\n",
        " - MSE, RMSE, R² (for regression)\n",
        "\n",
        "Step 6: Tune and Optimize\n",
        "\n",
        "- Use techniques like:\n",
        "\n",
        " - Cross-validation\n",
        "\n",
        " - Hyperparameter tuning (GridSearchCV)\n",
        "\n",
        "Step 7: Final Model and Deployment\n",
        "\n",
        "- Retrain with best parameters\n",
        "\n",
        "- Save the model (using joblib or pickle)\n",
        "\n",
        "- Deploy into a real-world application"
      ],
      "metadata": {
        "id": "PMfvJT7wzw_t"
      }
    },
    {
      "cell_type": "code",
      "source": [
        "'''Q.11 Why do we have to perform EDA before fitting a model to the data?'''"
      ],
      "metadata": {
        "id": "RhAIWCNz1dlI"
      },
      "execution_count": null,
      "outputs": []
    },
    {
      "cell_type": "markdown",
      "source": [
        " EDA = Exploratory Data Analysis\n",
        "\n",
        "EDA is the process of examining, visualizing, and understanding the data before applying any machine learning algorithm.\n",
        "\n",
        "Why EDA is Important Before Model Fitting:\n",
        "1. Understand the Structure of the Data\n",
        "\n",
        "- Know what columns are present\n",
        "\n",
        "- Understand data types (numeric, categorical, etc.)\n",
        "\n",
        "2. Detect Missing or Null Values\n",
        "\n",
        "- Models can't handle missing values without preprocessing\n",
        "\n",
        "- Helps decide whether to drop, fill, or impute them\n",
        "\n",
        "3. Identify Outliers\n",
        "\n",
        "- Outliers can distort the model’s learning\n",
        "\n",
        "- EDA helps visualize them (e.g., using box plots)\n",
        "\n",
        "4. Understand Feature Distributions\n",
        "\n",
        "- Helps in selecting the right scaling method\n",
        "\n",
        "- Check if the data is skewed or normally distributed\n",
        "\n",
        "5. Find Relationships Between Variables\n",
        "\n",
        "- Helps choose relevant features\n",
        "\n",
        "- Use correlation heatmaps, scatter plots, etc.\n",
        "\n",
        "6. Detect Data Imbalance\n",
        "\n",
        "- Especially important in classification (e.g., 90% Yes, 10% No)\n",
        "\n",
        "- Helps decide on balancing techniques (SMOTE, class weights)\n",
        "\n",
        "7. Improve Feature Engineering\n",
        "\n",
        "- EDA gives insights for creating new features or combining existing ones\n",
        "\n",
        "Common EDA Techniques:\n",
        "\n",
        "- .info(), .describe()\n",
        "\n",
        "- Missing value analysis\n",
        "\n",
        "- Histograms, bar plots, box plots\n",
        "\n",
        "- Correlation matrix\n",
        "\n",
        "- Groupby summaries\n",
        "\n"
      ],
      "metadata": {
        "id": "tPOnMSoH1njq"
      }
    },
    {
      "cell_type": "code",
      "source": [
        "'''Q.12 What is correlation?'''"
      ],
      "metadata": {
        "id": "mO0JEQyj2sUn"
      },
      "execution_count": null,
      "outputs": []
    },
    {
      "cell_type": "markdown",
      "source": [
        "Definition:\n",
        "\n",
        "Correlation is a statistical measure that describes the strength and direction of the relationship between two numerical variables.\n",
        "\n",
        "| Type               | Description                                       |\n",
        "| ------------------ | ------------------------------------------------- |\n",
        "| **Positive**       | When one variable increases, the other increases. |\n",
        "| **Negative**       | When one variable increases, the other decreases. |\n",
        "| **No Correlation** | No clear relationship between the variables.      |\n",
        "\n",
        "Correlation Coefficient (r):\n",
        "Ranges from -1 to +1:\n",
        "\n",
        "+1 → Perfect positive correlation\n",
        "\n",
        "-1 → Perfect negative correlation\n",
        "\n",
        "| Height (cm) | Weight (kg) |\n",
        "| ----------- | ----------- |\n",
        "| 160         | 50          |\n",
        "| 165         | 55          |\n",
        "| 170         | 60          |\n"
      ],
      "metadata": {
        "id": "0ESraJEM20zy"
      }
    },
    {
      "cell_type": "code",
      "source": [
        "#How to Calculate in Python:\n",
        "import pandas as pd\n",
        "\n",
        "df = pd.DataFrame({'x': [1, 2, 3], 'y': [2, 4, 6]})\n",
        "correlation = df['x'].corr(df['y'])\n",
        "print(correlation)  # Output: 1.0 (perfect positive correlation)\n"
      ],
      "metadata": {
        "colab": {
          "base_uri": "https://localhost:8080/"
        },
        "id": "S1y1n-h03Fik",
        "outputId": "ce97c09b-f7ce-48bb-9d34-d680ea5ce7df"
      },
      "execution_count": 3,
      "outputs": [
        {
          "output_type": "stream",
          "name": "stdout",
          "text": [
            "1.0\n"
          ]
        }
      ]
    },
    {
      "cell_type": "code",
      "source": [
        "'''Q.13 What does negative correlation mean?'''"
      ],
      "metadata": {
        "id": "7cd1mOWc3Q6C"
      },
      "execution_count": null,
      "outputs": []
    },
    {
      "cell_type": "markdown",
      "source": [
        " Definition:\n",
        "\n",
        "Negative correlation means that as one variable increases, the other decreases, and vice versa.\n",
        "\n",
        "- The two variables move in opposite directions.\n",
        "\n",
        "- It is represented by a correlation coefficient less than 0, down to -1.\n",
        "\n",
        "Correlation Coefficient (r):\n",
        "\n",
        "- Ranges from -1 to 0 for negative correlation:\n",
        "\n",
        " - -1 → Perfect negative correlation\n",
        "\n",
        " - -0.5 → Moderate negative correlation\n",
        "\n",
        " - 0 → No correlation\n",
        "\n",
        "| Hours Spent Watching TV | Exam Score (%) |\n",
        "| ----------------------- | -------------- |\n",
        "| 5                       | 50             |\n",
        "| 3                       | 70             |\n",
        "| 1                       | 90             |\n",
        "\n",
        "As TV hours increase, exam scores decrease →\n",
        "This is a negative correlation."
      ],
      "metadata": {
        "id": "dC9Hb13n3TcE"
      }
    },
    {
      "cell_type": "code",
      "source": [
        "'''Q.14 How can you find correlation between variables in Python?'''"
      ],
      "metadata": {
        "id": "iFb9w7F-3v5Z"
      },
      "execution_count": null,
      "outputs": []
    },
    {
      "cell_type": "code",
      "source": [
        "#Using Pandas .corr() Method\n",
        "import pandas as pd\n",
        "\n",
        "# Sample DataFrame\n",
        "data = {\n",
        "    'Height': [150, 160, 170, 180],\n",
        "    'Weight': [50, 60, 70, 80],\n",
        "    'Age': [25, 30, 35, 40]\n",
        "}\n",
        "\n",
        "df = pd.DataFrame(data)\n",
        "\n",
        "# Find correlation matrix\n",
        "correlation_matrix = df.corr()\n",
        "\n",
        "print(correlation_matrix)\n"
      ],
      "metadata": {
        "colab": {
          "base_uri": "https://localhost:8080/"
        },
        "id": "vbYcqgOt4AJv",
        "outputId": "c5ee0699-aede-40b9-b182-ef8e0b83cb64"
      },
      "execution_count": 4,
      "outputs": [
        {
          "output_type": "stream",
          "name": "stdout",
          "text": [
            "        Height  Weight  Age\n",
            "Height     1.0     1.0  1.0\n",
            "Weight     1.0     1.0  1.0\n",
            "Age        1.0     1.0  1.0\n"
          ]
        }
      ]
    },
    {
      "cell_type": "markdown",
      "source": [
        " Explanation:\n",
        "\n",
        "- df.corr() computes pairwise correlation between all numerical columns.\n",
        "\n",
        "- By default, it uses Pearson correlation, which measures linear relationships.\n",
        "\n",
        "|        | Height | Weight | Age   |\n",
        "| ------ | ------ | ------ | ----- |\n",
        "| Height | 1.000  | 1.000  | 1.000 |\n",
        "| Weight | 1.000  | 1.000  | 1.000 |\n",
        "| Age    | 1.000  | 1.000  | 1.000 |\n"
      ],
      "metadata": {
        "id": "gtgFe18E4FNp"
      }
    },
    {
      "cell_type": "code",
      "source": [
        "#Optional: Visualize Using Heatmap (Seaborn)\n",
        "import seaborn as sns\n",
        "import matplotlib.pyplot as plt\n",
        "\n",
        "sns.heatmap(df.corr(), annot=True, cmap='coolwarm')\n",
        "plt.show()\n"
      ],
      "metadata": {
        "colab": {
          "base_uri": "https://localhost:8080/",
          "height": 435
        },
        "id": "NdHeKgZk4OYf",
        "outputId": "5abe440a-9c47-4b0a-ee63-453ab48a043b"
      },
      "execution_count": 5,
      "outputs": [
        {
          "output_type": "display_data",
          "data": {
            "text/plain": [
              "<Figure size 640x480 with 2 Axes>"
            ],
            "image/png": "[encoded data removed]"
          },
          "metadata": {}
        }
      ]
    },
    {
      "cell_type": "code",
      "source": [
        " '''Q.15 What is causation? Explain difference between correlation and causation with an example.'''"
      ],
      "metadata": {
        "id": "VFLlidIx4UIK"
      },
      "execution_count": null,
      "outputs": []
    },
    {
      "cell_type": "markdown",
      "source": [
        " Definition:\n",
        "\n",
        "Causation means that one variable directly affects or causes a change in another.\n",
        "\n",
        "- It implies a cause-and-effect relationship.\n",
        "\n",
        "- If X causes Y, then changing X will lead to a change in Y.\n",
        "\n",
        "Example of Causation:\n",
        "\n",
        "Increasing the temperature of water causes it to boil.\n",
        "Here, temperature causes a change in water's state.\n",
        "\n",
        "| Aspect            | Correlation                               | Causation                                  |\n",
        "| ----------------- | ----------------------------------------- | ------------------------------------------ |\n",
        "| Relationship Type | Two variables move together (linked)      | One variable directly affects the other    |\n",
        "| Direction         | No cause-effect implied                   | Clear cause-effect exists                  |\n",
        "| Example           | Ice cream sales ↑ and drowning ↑ (linked) | Smoking causes lung disease (proven cause) |\n",
        "| Misleading?       | Can be misleading without context         | Backed by experimental or scientific proof |\n",
        "\n",
        "Important:\n",
        "\n",
        "Correlation does not imply causation.\n",
        "\n",
        "Just because two variables change together doesn’t mean one causes the other."
      ],
      "metadata": {
        "id": "32HsVR5M4is0"
      }
    },
    {
      "cell_type": "code",
      "source": [
        "'''Q.17  What is an Optimizer? What are different types of optimizers? Explain each with an example'''"
      ],
      "metadata": {
        "id": "nwAuQ8ra5EaF"
      },
      "execution_count": null,
      "outputs": []
    },
    {
      "cell_type": "markdown",
      "source": [
        "Definition:\n",
        "\n",
        "An optimizer is an algorithm used to adjust the weights in a machine learning or deep learning model in order to minimize the loss function and improve the model's performance.\n",
        "\n",
        " In simple words: Optimizers help the model learn faster and better by updating parameters (like weights and biases) during training.\n",
        "\n",
        "Goal of an Optimizer:\n",
        "\n",
        "To reduce the error/loss of the model on the training data by changing the model's parameters in the right direction.\n",
        "\n",
        "Types of Optimizers (with Examples):\n",
        "\n",
        "1. Gradient Descent (GD)\n",
        "\n",
        "How it works:\n",
        "\n",
        "- Calculates the gradient (slope) of the loss function\n",
        "\n",
        "- Updates weights in the opposite direction of the gradient\n",
        "\n",
        "Drawback:\n",
        "\n",
        "Very slow with large datasets (requires full dataset per update)"
      ],
      "metadata": {
        "id": "y0l04O305Mdn"
      }
    },
    {
      "cell_type": "code",
      "source": [
        "#Gradient Descent (GD) Example\n",
        "# new_weight = old_weight - learning_rate * gradient\n"
      ],
      "metadata": {
        "id": "HZKegCow5rKN"
      },
      "execution_count": 7,
      "outputs": []
    },
    {
      "cell_type": "markdown",
      "source": [
        "2. Stochastic Gradient Descent (SGD)\n",
        "\n",
        "How it works:\n",
        "\n",
        "- Updates weights using one training sample at a time\n",
        "\n",
        "- Faster and more scalable than batch GD\n",
        "\n",
        "Drawback:\n",
        "\n",
        "Noisy updates, may not converge smoothly"
      ],
      "metadata": {
        "id": "39SY8LKa6LQ2"
      }
    },
    {
      "cell_type": "code",
      "source": [
        "#Stochastic Gradient Descent (SGD) Example\n",
        "# from tensorflow.keras.optimizers import SGD\n",
        "# optimizer = SGD(learning_rate=0.01)\n"
      ],
      "metadata": {
        "id": "XuPkYSzj6Tj_"
      },
      "execution_count": null,
      "outputs": []
    },
    {
      "cell_type": "markdown",
      "source": [
        "3. Mini-Batch Gradient Descent\n",
        "\n",
        "- Combines GD and SGD: uses small batches of data to update weights.\n",
        "\n",
        "- Balances efficiency and stability\n",
        "\n",
        "4. Momentum\n",
        "\n",
        "- Adds a memory of past gradients to current update to smooth the path\n",
        "\n",
        "- Helps avoid oscillation in valleys\n",
        "\n",
        "5. AdaGrad\n",
        "\n",
        "- Adapts learning rate for each parameter\n",
        "\n",
        "- Good for sparse data (e.g., NLP)\n",
        "\n",
        "- Learning rate decreases over time\n",
        "\n",
        "6. RMSprop\n",
        "\n",
        "- Like AdaGrad but keeps learning rate stable over time\n",
        "\n",
        "- Well-suited for recurrent neural networks (RNNs)\n",
        "\n",
        "7. Adam (Adaptive Moment Estimation)\n",
        "\n",
        " Combines:\n",
        "\n",
        "- Momentum + RMSprop\n",
        "\n",
        "- Adapts learning rate using mean and variance of past gradients\n",
        "\n",
        "Pros:\n",
        "\n",
        "- Fast convergence\n",
        "\n",
        "- Works well in most deep learning tasks\n",
        "\n"
      ],
      "metadata": {
        "id": "1aZIf-js6ply"
      }
    },
    {
      "cell_type": "code",
      "source": [
        "# Adam (Adaptive Moment Estimation) Example\n",
        "# from tensorflow.keras.optimizers import Adam\n",
        "# optimizer = Adam(learning_rate=0.001)"
      ],
      "metadata": {
        "id": "go-QbaQ07GO6"
      },
      "execution_count": null,
      "outputs": []
    },
    {
      "cell_type": "code",
      "source": [
        "'''Q.17 What is sklearn.linear_model ?'''"
      ],
      "metadata": {
        "id": "svAcbh5U7fJr"
      },
      "execution_count": null,
      "outputs": []
    },
    {
      "cell_type": "markdown",
      "source": [
        "Definition:\n",
        "\n",
        "sklearn.linear_model is a module in Scikit-learn (sklearn) that provides linear models for regression and classification tasks.\n",
        "\n",
        "It includes popular algorithms like:\n",
        "\n",
        "- Linear Regression\n",
        "\n",
        "- Logistic Regression\n",
        "\n",
        "- Ridge, Lasso, ElasticNet\n",
        "\n",
        "- SGDClassifier, SGDRegressor, etc.\n",
        "\n",
        "Why is it used?\n",
        "\n",
        "To build models that predict:\n",
        "\n",
        "- Continuous values (Regression)\n",
        "\n",
        "- Class labels (Classification)\n",
        "\n",
        "| Model                | Purpose                    | Use Case Example    |\n",
        "| -------------------- | -------------------------- | ------------------- |\n",
        "| `LinearRegression`   | Regression                 | Predict house price |\n",
        "| `LogisticRegression` | Classification             | Spam vs Not Spam    |\n",
        "| `Ridge`, `Lasso`     | Regularized regression     | Prevent overfitting |\n",
        "| `SGDClassifier`      | Large-scale classification | Text classification |\n"
      ],
      "metadata": {
        "id": "TXTiI9fe7shB"
      }
    },
    {
      "cell_type": "code",
      "source": [
        "from sklearn.linear_model import LinearRegression\n",
        "from sklearn.model_selection import train_test_split\n",
        "\n",
        "# Sample data\n",
        "X = [[1], [2], [3], [4], [5]]\n",
        "y = [2, 4, 6, 8, 10]\n",
        "\n",
        "# Split data\n",
        "X_train, X_test, y_train, y_test = train_test_split(X, y)\n",
        "\n",
        "# Train model\n",
        "model = LinearRegression()\n",
        "model.fit(X_train, y_train)\n",
        "\n",
        "# Predict\n",
        "predictions = model.predict(X_test)\n",
        "print(predictions)\n"
      ],
      "metadata": {
        "colab": {
          "base_uri": "https://localhost:8080/"
        },
        "id": "j2w8qBOf7-aK",
        "outputId": "cd89e974-28d9-4417-9318-73793f3d0cd3"
      },
      "execution_count": 8,
      "outputs": [
        {
          "output_type": "stream",
          "name": "stdout",
          "text": [
            "[2. 8.]\n"
          ]
        }
      ]
    },
    {
      "cell_type": "code",
      "source": [
        "'''Q.18 What does model.fit() do? What arguments must be given?'''"
      ],
      "metadata": {
        "id": "k8UJWAN78E0O"
      },
      "execution_count": null,
      "outputs": []
    },
    {
      "cell_type": "markdown",
      "source": [
        "Definition:\n",
        "\n",
        "The .fit() method is used to train a machine learning model on the training data.\n",
        "\n",
        "It allows the model to learn the relationship between the input features (X) and the target/output variable (y).\n",
        "\n",
        "Syntax:\n",
        "\n",
        "model.fit(X_train, y_train)\n",
        "\n",
        "What It Does Internally:\n",
        "\n",
        "- Calculates the best model parameters (like weights and intercepts)\n",
        "\n",
        "- Minimizes the loss function (e.g., MSE for regression, log-loss for classification)\n",
        "\n",
        "- Stores the learned parameters in the model object\n",
        "\n",
        "| Argument | Description                                               |\n",
        "| -------- | --------------------------------------------------------- |\n",
        "| `X`      | Input features (independent variables) — usually 2D array |\n",
        "| `y`      | Target values (dependent variable/labels)                 |\n"
      ],
      "metadata": {
        "id": "JSsECh6b8H-A"
      }
    },
    {
      "cell_type": "code",
      "source": [
        "#Example\n",
        "from sklearn.linear_model import LinearRegression\n",
        "\n",
        "X = [[1], [2], [3], [4]]\n",
        "y = [2, 4, 6, 8]\n",
        "\n",
        "model = LinearRegression()\n",
        "model.fit(X, y)  # Trains the model\n"
      ],
      "metadata": {
        "colab": {
          "base_uri": "https://localhost:8080/",
          "height": 80
        },
        "id": "ud_Mbjaq8fXl",
        "outputId": "db2561dd-1cfc-4950-acc2-3a55eb12ba4d"
      },
      "execution_count": 9,
      "outputs": [
        {
          "output_type": "execute_result",
          "data": {
            "text/plain": [
              "LinearRegression()"
            ],
            "text/html": [
              "<style>#sk-container-id-1 {\n",
              "  /* Definition of color scheme common for light and dark mode */\n",
              "  --sklearn-color-text: #000;\n",
              "  --sklearn-color-text-muted: #666;\n",
              "  --sklearn-color-line: gray;\n",
              "  /* Definition of color scheme for unfitted estimators */\n",
              "  --sklearn-color-unfitted-level-0: #fff5e6;\n",
              "  --sklearn-color-unfitted-level-1: #f6e4d2;\n",
              "  --sklearn-color-unfitted-level-2: #ffe0b3;\n",
              "  --sklearn-color-unfitted-level-3: chocolate;\n",
              "  /* Definition of color scheme for fitted estimators */\n",
              "  --sklearn-color-fitted-level-0: #f0f8ff;\n",
              "  --sklearn-color-fitted-level-1: #d4ebff;\n",
              "  --sklearn-color-fitted-level-2: #b3dbfd;\n",
              "  --sklearn-color-fitted-level-3: cornflowerblue;\n",
              "\n",
              "  /* Specific color for light theme */\n",
              "  --sklearn-color-text-on-default-background: var(--sg-text-color, var(--theme-code-foreground, var(--jp-content-font-color1, black)));\n",
              "  --sklearn-color-background: var(--sg-background-color, var(--theme-background, var(--jp-layout-color0, white)));\n",
              "  --sklearn-color-border-box: var(--sg-text-color, var(--theme-code-foreground, var(--jp-content-font-color1, black)));\n",
              "  --sklearn-color-icon: #696969;\n",
              "\n",
              "  @media (prefers-color-scheme: dark) {\n",
              "    /* Redefinition of color scheme for dark theme */\n",
              "    --sklearn-color-text-on-default-background: var(--sg-text-color, var(--theme-code-foreground, var(--jp-content-font-color1, white)));\n",
              "    --sklearn-color-background: var(--sg-background-color, var(--theme-background, var(--jp-layout-color0, #111)));\n",
              "    --sklearn-color-border-box: var(--sg-text-color, var(--theme-code-foreground, var(--jp-content-font-color1, white)));\n",
              "    --sklearn-color-icon: #878787;\n",
              "  }\n",
              "}\n",
              "\n",
              "#sk-container-id-1 {\n",
              "  color: var(--sklearn-color-text);\n",
              "}\n",
              "\n",
              "#sk-container-id-1 pre {\n",
              "  padding: 0;\n",
              "}\n",
              "\n",
              "#sk-container-id-1 input.sk-hidden--visually {\n",
              "  border: 0;\n",
              "  clip: rect(1px 1px 1px 1px);\n",
              "  clip: rect(1px, 1px, 1px, 1px);\n",
              "  height: 1px;\n",
              "  margin: -1px;\n",
              "  overflow: hidden;\n",
              "  padding: 0;\n",
              "  position: absolute;\n",
              "  width: 1px;\n",
              "}\n",
              "\n",
              "#sk-container-id-1 div.sk-dashed-wrapped {\n",
              "  border: 1px dashed var(--sklearn-color-line);\n",
              "  margin: 0 0.4em 0.5em 0.4em;\n",
              "  box-sizing: border-box;\n",
              "  padding-bottom: 0.4em;\n",
              "  background-color: var(--sklearn-color-background);\n",
              "}\n",
              "\n",
              "#sk-container-id-1 div.sk-container {\n",
              "  /* jupyter's `normalize.less` sets `[hidden] { display: none; }`\n",
              "     but bootstrap.min.css set `[hidden] { display: none !important; }`\n",
              "     so we also need the `!important` here to be able to override the\n",
              "     default hidden behavior on the sphinx rendered scikit-learn.org.\n",
              "     See: https://github.com/scikit-learn/scikit-learn/issues/21755 */\n",
              "  display: inline-block !important;\n",
              "  position: relative;\n",
              "}\n",
              "\n",
              "#sk-container-id-1 div.sk-text-repr-fallback {\n",
              "  display: none;\n",
              "}\n",
              "\n",
              "div.sk-parallel-item,\n",
              "div.sk-serial,\n",
              "div.sk-item {\n",
              "  /* draw centered vertical line to link estimators */\n",
              "  background-image: linear-gradient(var(--sklearn-color-text-on-default-background), var(--sklearn-color-text-on-default-background));\n",
              "  background-size: 2px 100%;\n",
              "  background-repeat: no-repeat;\n",
              "  background-position: center center;\n",
              "}\n",
              "\n",
              "/* Parallel-specific style estimator block */\n",
              "\n",
              "#sk-container-id-1 div.sk-parallel-item::after {\n",
              "  content: \"\";\n",
              "  width: 100%;\n",
              "  border-bottom: 2px solid var(--sklearn-color-text-on-default-background);\n",
              "  flex-grow: 1;\n",
              "}\n",
              "\n",
              "#sk-container-id-1 div.sk-parallel {\n",
              "  display: flex;\n",
              "  align-items: stretch;\n",
              "  justify-content: center;\n",
              "  background-color: var(--sklearn-color-background);\n",
              "  position: relative;\n",
              "}\n",
              "\n",
              "#sk-container-id-1 div.sk-parallel-item {\n",
              "  display: flex;\n",
              "  flex-direction: column;\n",
              "}\n",
              "\n",
              "#sk-container-id-1 div.sk-parallel-item:first-child::after {\n",
              "  align-self: flex-end;\n",
              "  width: 50%;\n",
              "}\n",
              "\n",
              "#sk-container-id-1 div.sk-parallel-item:last-child::after {\n",
              "  align-self: flex-start;\n",
              "  width: 50%;\n",
              "}\n",
              "\n",
              "#sk-container-id-1 div.sk-parallel-item:only-child::after {\n",
              "  width: 0;\n",
              "}\n",
              "\n",
              "/* Serial-specific style estimator block */\n",
              "\n",
              "#sk-container-id-1 div.sk-serial {\n",
              "  display: flex;\n",
              "  flex-direction: column;\n",
              "  align-items: center;\n",
              "  background-color: var(--sklearn-color-background);\n",
              "  padding-right: 1em;\n",
              "  padding-left: 1em;\n",
              "}\n",
              "\n",
              "\n",
              "/* Toggleable style: style used for estimator/Pipeline/ColumnTransformer box that is\n",
              "clickable and can be expanded/collapsed.\n",
              "- Pipeline and ColumnTransformer use this feature and define the default style\n",
              "- Estimators will overwrite some part of the style using the `sk-estimator` class\n",
              "*/\n",
              "\n",
              "/* Pipeline and ColumnTransformer style (default) */\n",
              "\n",
              "#sk-container-id-1 div.sk-toggleable {\n",
              "  /* Default theme specific background. It is overwritten whether we have a\n",
              "  specific estimator or a Pipeline/ColumnTransformer */\n",
              "  background-color: var(--sklearn-color-background);\n",
              "}\n",
              "\n",
              "/* Toggleable label */\n",
              "#sk-container-id-1 label.sk-toggleable__label {\n",
              "  cursor: pointer;\n",
              "  display: flex;\n",
              "  width: 100%;\n",
              "  margin-bottom: 0;\n",
              "  padding: 0.5em;\n",
              "  box-sizing: border-box;\n",
              "  text-align: center;\n",
              "  align-items: start;\n",
              "  justify-content: space-between;\n",
              "  gap: 0.5em;\n",
              "}\n",
              "\n",
              "#sk-container-id-1 label.sk-toggleable__label .caption {\n",
              "  font-size: 0.6rem;\n",
              "  font-weight: lighter;\n",
              "  color: var(--sklearn-color-text-muted);\n",
              "}\n",
              "\n",
              "#sk-container-id-1 label.sk-toggleable__label-arrow:before {\n",
              "  /* Arrow on the left of the label */\n",
              "  content: \"▸\";\n",
              "  float: left;\n",
              "  margin-right: 0.25em;\n",
              "  color: var(--sklearn-color-icon);\n",
              "}\n",
              "\n",
              "#sk-container-id-1 label.sk-toggleable__label-arrow:hover:before {\n",
              "  color: var(--sklearn-color-text);\n",
              "}\n",
              "\n",
              "/* Toggleable content - dropdown */\n",
              "\n",
              "#sk-container-id-1 div.sk-toggleable__content {\n",
              "  max-height: 0;\n",
              "  max-width: 0;\n",
              "  overflow: hidden;\n",
              "  text-align: left;\n",
              "  /* unfitted */\n",
              "  background-color: var(--sklearn-color-unfitted-level-0);\n",
              "}\n",
              "\n",
              "#sk-container-id-1 div.sk-toggleable__content.fitted {\n",
              "  /* fitted */\n",
              "  background-color: var(--sklearn-color-fitted-level-0);\n",
              "}\n",
              "\n",
              "#sk-container-id-1 div.sk-toggleable__content pre {\n",
              "  margin: 0.2em;\n",
              "  border-radius: 0.25em;\n",
              "  color: var(--sklearn-color-text);\n",
              "  /* unfitted */\n",
              "  background-color: var(--sklearn-color-unfitted-level-0);\n",
              "}\n",
              "\n",
              "#sk-container-id-1 div.sk-toggleable__content.fitted pre {\n",
              "  /* unfitted */\n",
              "  background-color: var(--sklearn-color-fitted-level-0);\n",
              "}\n",
              "\n",
              "#sk-container-id-1 input.sk-toggleable__control:checked~div.sk-toggleable__content {\n",
              "  /* Expand drop-down */\n",
              "  max-height: 200px;\n",
              "  max-width: 100%;\n",
              "  overflow: auto;\n",
              "}\n",
              "\n",
              "#sk-container-id-1 input.sk-toggleable__control:checked~label.sk-toggleable__label-arrow:before {\n",
              "  content: \"▾\";\n",
              "}\n",
              "\n",
              "/* Pipeline/ColumnTransformer-specific style */\n",
              "\n",
              "#sk-container-id-1 div.sk-label input.sk-toggleable__control:checked~label.sk-toggleable__label {\n",
              "  color: var(--sklearn-color-text);\n",
              "  background-color: var(--sklearn-color-unfitted-level-2);\n",
              "}\n",
              "\n",
              "#sk-container-id-1 div.sk-label.fitted input.sk-toggleable__control:checked~label.sk-toggleable__label {\n",
              "  background-color: var(--sklearn-color-fitted-level-2);\n",
              "}\n",
              "\n",
              "/* Estimator-specific style */\n",
              "\n",
              "/* Colorize estimator box */\n",
              "#sk-container-id-1 div.sk-estimator input.sk-toggleable__control:checked~label.sk-toggleable__label {\n",
              "  /* unfitted */\n",
              "  background-color: var(--sklearn-color-unfitted-level-2);\n",
              "}\n",
              "\n",
              "#sk-container-id-1 div.sk-estimator.fitted input.sk-toggleable__control:checked~label.sk-toggleable__label {\n",
              "  /* fitted */\n",
              "  background-color: var(--sklearn-color-fitted-level-2);\n",
              "}\n",
              "\n",
              "#sk-container-id-1 div.sk-label label.sk-toggleable__label,\n",
              "#sk-container-id-1 div.sk-label label {\n",
              "  /* The background is the default theme color */\n",
              "  color: var(--sklearn-color-text-on-default-background);\n",
              "}\n",
              "\n",
              "/* On hover, darken the color of the background */\n",
              "#sk-container-id-1 div.sk-label:hover label.sk-toggleable__label {\n",
              "  color: var(--sklearn-color-text);\n",
              "  background-color: var(--sklearn-color-unfitted-level-2);\n",
              "}\n",
              "\n",
              "/* Label box, darken color on hover, fitted */\n",
              "#sk-container-id-1 div.sk-label.fitted:hover label.sk-toggleable__label.fitted {\n",
              "  color: var(--sklearn-color-text);\n",
              "  background-color: var(--sklearn-color-fitted-level-2);\n",
              "}\n",
              "\n",
              "/* Estimator label */\n",
              "\n",
              "#sk-container-id-1 div.sk-label label {\n",
              "  font-family: monospace;\n",
              "  font-weight: bold;\n",
              "  display: inline-block;\n",
              "  line-height: 1.2em;\n",
              "}\n",
              "\n",
              "#sk-container-id-1 div.sk-label-container {\n",
              "  text-align: center;\n",
              "}\n",
              "\n",
              "/* Estimator-specific */\n",
              "#sk-container-id-1 div.sk-estimator {\n",
              "  font-family: monospace;\n",
              "  border: 1px dotted var(--sklearn-color-border-box);\n",
              "  border-radius: 0.25em;\n",
              "  box-sizing: border-box;\n",
              "  margin-bottom: 0.5em;\n",
              "  /* unfitted */\n",
              "  background-color: var(--sklearn-color-unfitted-level-0);\n",
              "}\n",
              "\n",
              "#sk-container-id-1 div.sk-estimator.fitted {\n",
              "  /* fitted */\n",
              "  background-color: var(--sklearn-color-fitted-level-0);\n",
              "}\n",
              "\n",
              "/* on hover */\n",
              "#sk-container-id-1 div.sk-estimator:hover {\n",
              "  /* unfitted */\n",
              "  background-color: var(--sklearn-color-unfitted-level-2);\n",
              "}\n",
              "\n",
              "#sk-container-id-1 div.sk-estimator.fitted:hover {\n",
              "  /* fitted */\n",
              "  background-color: var(--sklearn-color-fitted-level-2);\n",
              "}\n",
              "\n",
              "/* Specification for estimator info (e.g. \"i\" and \"?\") */\n",
              "\n",
              "/* Common style for \"i\" and \"?\" */\n",
              "\n",
              ".sk-estimator-doc-link,\n",
              "a:link.sk-estimator-doc-link,\n",
              "a:visited.sk-estimator-doc-link {\n",
              "  float: right;\n",
              "  font-size: smaller;\n",
              "  line-height: 1em;\n",
              "  font-family: monospace;\n",
              "  background-color: var(--sklearn-color-background);\n",
              "  border-radius: 1em;\n",
              "  height: 1em;\n",
              "  width: 1em;\n",
              "  text-decoration: none !important;\n",
              "  margin-left: 0.5em;\n",
              "  text-align: center;\n",
              "  /* unfitted */\n",
              "  border: var(--sklearn-color-unfitted-level-1) 1pt solid;\n",
              "  color: var(--sklearn-color-unfitted-level-1);\n",
              "}\n",
              "\n",
              ".sk-estimator-doc-link.fitted,\n",
              "a:link.sk-estimator-doc-link.fitted,\n",
              "a:visited.sk-estimator-doc-link.fitted {\n",
              "  /* fitted */\n",
              "  border: var(--sklearn-color-fitted-level-1) 1pt solid;\n",
              "  color: var(--sklearn-color-fitted-level-1);\n",
              "}\n",
              "\n",
              "/* On hover */\n",
              "div.sk-estimator:hover .sk-estimator-doc-link:hover,\n",
              ".sk-estimator-doc-link:hover,\n",
              "div.sk-label-container:hover .sk-estimator-doc-link:hover,\n",
              ".sk-estimator-doc-link:hover {\n",
              "  /* unfitted */\n",
              "  background-color: var(--sklearn-color-unfitted-level-3);\n",
              "  color: var(--sklearn-color-background);\n",
              "  text-decoration: none;\n",
              "}\n",
              "\n",
              "div.sk-estimator.fitted:hover .sk-estimator-doc-link.fitted:hover,\n",
              ".sk-estimator-doc-link.fitted:hover,\n",
              "div.sk-label-container:hover .sk-estimator-doc-link.fitted:hover,\n",
              ".sk-estimator-doc-link.fitted:hover {\n",
              "  /* fitted */\n",
              "  background-color: var(--sklearn-color-fitted-level-3);\n",
              "  color: var(--sklearn-color-background);\n",
              "  text-decoration: none;\n",
              "}\n",
              "\n",
              "/* Span, style for the box shown on hovering the info icon */\n",
              ".sk-estimator-doc-link span {\n",
              "  display: none;\n",
              "  z-index: 9999;\n",
              "  position: relative;\n",
              "  font-weight: normal;\n",
              "  right: .2ex;\n",
              "  padding: .5ex;\n",
              "  margin: .5ex;\n",
              "  width: min-content;\n",
              "  min-width: 20ex;\n",
              "  max-width: 50ex;\n",
              "  color: var(--sklearn-color-text);\n",
              "  box-shadow: 2pt 2pt 4pt #999;\n",
              "  /* unfitted */\n",
              "  background: var(--sklearn-color-unfitted-level-0);\n",
              "  border: .5pt solid var(--sklearn-color-unfitted-level-3);\n",
              "}\n",
              "\n",
              ".sk-estimator-doc-link.fitted span {\n",
              "  /* fitted */\n",
              "  background: var(--sklearn-color-fitted-level-0);\n",
              "  border: var(--sklearn-color-fitted-level-3);\n",
              "}\n",
              "\n",
              ".sk-estimator-doc-link:hover span {\n",
              "  display: block;\n",
              "}\n",
              "\n",
              "/* \"?\"-specific style due to the `<a>` HTML tag */\n",
              "\n",
              "#sk-container-id-1 a.estimator_doc_link {\n",
              "  float: right;\n",
              "  font-size: 1rem;\n",
              "  line-height: 1em;\n",
              "  font-family: monospace;\n",
              "  background-color: var(--sklearn-color-background);\n",
              "  border-radius: 1rem;\n",
              "  height: 1rem;\n",
              "  width: 1rem;\n",
              "  text-decoration: none;\n",
              "  /* unfitted */\n",
              "  color: var(--sklearn-color-unfitted-level-1);\n",
              "  border: var(--sklearn-color-unfitted-level-1) 1pt solid;\n",
              "}\n",
              "\n",
              "#sk-container-id-1 a.estimator_doc_link.fitted {\n",
              "  /* fitted */\n",
              "  border: var(--sklearn-color-fitted-level-1) 1pt solid;\n",
              "  color: var(--sklearn-color-fitted-level-1);\n",
              "}\n",
              "\n",
              "/* On hover */\n",
              "#sk-container-id-1 a.estimator_doc_link:hover {\n",
              "  /* unfitted */\n",
              "  background-color: var(--sklearn-color-unfitted-level-3);\n",
              "  color: var(--sklearn-color-background);\n",
              "  text-decoration: none;\n",
              "}\n",
              "\n",
              "#sk-container-id-1 a.estimator_doc_link.fitted:hover {\n",
              "  /* fitted */\n",
              "  background-color: var(--sklearn-color-fitted-level-3);\n",
              "}\n",
              "</style><div id=\"sk-container-id-1\" class=\"sk-top-container\"><div class=\"sk-text-repr-fallback\"><pre>LinearRegression()</pre><b>In a Jupyter environment, please rerun this cell to show the HTML representation or trust the notebook. <br />On GitHub, the HTML representation is unable to render, please try loading this page with nbviewer.org.</b></div><div class=\"sk-container\" hidden><div class=\"sk-item\"><div class=\"sk-estimator fitted sk-toggleable\"><input class=\"sk-toggleable__control sk-hidden--visually\" id=\"sk-estimator-id-1\" type=\"checkbox\" checked><label for=\"sk-estimator-id-1\" class=\"sk-toggleable__label fitted sk-toggleable__label-arrow\"><div><div>LinearRegression</div></div><div><a class=\"sk-estimator-doc-link fitted\" rel=\"noreferrer\" target=\"_blank\" href=\"https://scikit-learn.org/1.6/modules/generated/sklearn.linear_model.LinearRegression.html\">?<span>Documentation for LinearRegression</span></a><span class=\"sk-estimator-doc-link fitted\">i<span>Fitted</span></span></div></label><div class=\"sk-toggleable__content fitted\"><pre>LinearRegression()</pre></div> </div></div></div></div>"
            ]
          },
          "metadata": {},
          "execution_count": 9
        }
      ]
    },
    {
      "cell_type": "code",
      "source": [
        "'''Q.19 What does model.predict() do? What arguments must be given?'''"
      ],
      "metadata": {
        "id": "4gCnOOXK8lZq"
      },
      "execution_count": null,
      "outputs": []
    },
    {
      "cell_type": "markdown",
      "source": [
        "Definition:\n",
        "\n",
        "The .predict() method is used to make predictions using a trained machine learning model.\n",
        "\n",
        "Once the model has been trained using .fit(), you use .predict() to apply the model to new or test data (X) and get the predicted output (ŷ).\n",
        "\n",
        "Syntax:\n",
        "\n",
        "model.predict(X_test)\n",
        "\n",
        "| Argument | Description                                                                                                                     |\n",
        "| -------- | ------------------------------------------------------------------------------------------------------------------------------- |\n",
        "| `X_test` | Input features (independent variables) for which predictions are to be made — must match the structure used in training (`fit`) |\n",
        "\n",
        " What It Returns:\n",
        "\n",
        "- For regression: predicted continuous values (e.g., prices, temperatures)\n",
        "\n",
        "- For classification: predicted class labels (e.g., spam or not spam)"
      ],
      "metadata": {
        "id": "SyLDYalF8wqn"
      }
    },
    {
      "cell_type": "code",
      "source": [
        "#Example\n",
        "from sklearn.linear_model import LinearRegression\n",
        "\n",
        "# Sample training data\n",
        "X_train = [[1], [2], [3], [4]]\n",
        "y_train = [2, 4, 6, 8]\n",
        "\n",
        "# Sample test data\n",
        "X_test = [[5], [6]]\n",
        "\n",
        "# Train the model\n",
        "model = LinearRegression()\n",
        "model.fit(X_train, y_train)\n",
        "\n",
        "# Predict on test data\n",
        "predictions = model.predict(X_test)\n",
        "print(predictions)  # Output: [10. 12.]\n"
      ],
      "metadata": {
        "colab": {
          "base_uri": "https://localhost:8080/"
        },
        "id": "G-3Qb8Um87XI",
        "outputId": "e3f96e93-8c7c-4578-88ad-f79bfc9dc7b3"
      },
      "execution_count": 10,
      "outputs": [
        {
          "output_type": "stream",
          "name": "stdout",
          "text": [
            "[10. 12.]\n"
          ]
        }
      ]
    },
    {
      "cell_type": "code",
      "source": [
        "'''Q.20 What are continuous and categorical variables?'''"
      ],
      "metadata": {
        "id": "Q_HJL0ti9OpH"
      },
      "execution_count": null,
      "outputs": []
    },
    {
      "cell_type": "markdown",
      "source": [
        "Continuous Variables:\n",
        "\n",
        "These are numeric variables that can take an infinite number of values within a range.\n",
        "\n",
        "They are measurable and often involve decimal values.\n",
        "\n",
        "Examples:\n",
        "\n",
        "Height (e.g., 162.5 cm)\n",
        "\n",
        "Temperature (e.g., 36.7°C)\n",
        "\n",
        "Weight (e.g., 57.5 kg)\n",
        "\n",
        "Time (e.g., 2.45 hours)\n",
        "\n",
        "Categorical Variables:\n",
        "\n",
        "These are variables that represent groups or categories.\n",
        "\n",
        "They are not numerical (even if they use numbers, the numbers represent labels, not quantities).\n",
        "\n",
        "Examples include:\n",
        "\n",
        "Gender (Male, Female, Other)\n",
        "\n",
        "Color (Red, Blue, Green)\n",
        "\n",
        "Grade (A, B, C)\n",
        "\n",
        "Yes/No responses\n",
        "\n",
        "| Feature      | Continuous Variable      | Categorical Variable      |\n",
        "| ------------ | ------------------------ | ------------------------- |\n",
        "| Nature       | Quantitative             | Qualitative               |\n",
        "| Values       | Infinite, within a range | Fixed set of categories   |\n",
        "| Type of Data | Numeric                  | Labels or discrete values |\n",
        "| Used For     | Regression tasks         | Classification tasks      |\n"
      ],
      "metadata": {
        "id": "D4bzYrvd9R2F"
      }
    },
    {
      "cell_type": "code",
      "source": [
        "'''Q.21 What is feature scaling? How does it help in Machine Learning?'''"
      ],
      "metadata": {
        "id": "u_ZsP8M4-Oq-"
      },
      "execution_count": null,
      "outputs": []
    },
    {
      "cell_type": "markdown",
      "source": [
        "Definition:\n",
        "\n",
        "Feature scaling is a data preprocessing technique used to normalize or standardize the range of independent variables (features) in a dataset.\n",
        "\n",
        "It ensures that all features contribute equally to the model’s learning process.\n",
        "\n",
        " Why is Feature Scaling Important?\n",
        "\n",
        "Many machine learning algorithms:\n",
        "\n",
        "- Are sensitive to feature scales\n",
        "\n",
        "- Use distance-based calculations (e.g., KNN, SVM, Gradient Descent)\n",
        "\n",
        "- Can be biased if one feature has a much larger scale than others\n",
        "\n",
        "Without scaling:\n",
        "\n",
        "- Features with larger values dominate the model\n",
        "\n",
        "- Training becomes unstable or less accurate\n",
        "\n",
        "How Does It Help in Machine Learning?\n",
        "\n",
        "| Benefit                               | Explanation                             |\n",
        "| ------------------------------------- | --------------------------------------- |\n",
        "| Improves model performance            | Ensures fair weight updates in training |\n",
        "| Faster convergence                    | Especially in gradient-based models     |\n",
        "| Better accuracy                       | Helps algorithms that rely on distance  |\n",
        "| Avoids bias from large-scale features | All features treated equally            |\n"
      ],
      "metadata": {
        "id": "ryYbe6pq-ZLn"
      }
    },
    {
      "cell_type": "code",
      "source": [
        "#1. Standardization (Z-score normalization)\n",
        "from sklearn.preprocessing import StandardScaler\n",
        "\n",
        "scaler = StandardScaler()\n",
        "X_scaled = scaler.fit_transform(X)\n",
        "\n",
        "#Transforms data to mean = 0 and std = 1"
      ],
      "metadata": {
        "id": "xI8SGbNo-2sU"
      },
      "execution_count": 11,
      "outputs": []
    },
    {
      "cell_type": "code",
      "source": [
        "#2. Min-Max Scaling (Normalization)\n",
        "from sklearn.preprocessing import MinMaxScaler\n",
        "\n",
        "scaler = MinMaxScaler()\n",
        "X_scaled = scaler.fit_transform(X)\n",
        "\n",
        "#Scales data to a [0, 1] range"
      ],
      "metadata": {
        "id": "2T9uQq5p_Ah2"
      },
      "execution_count": 12,
      "outputs": []
    },
    {
      "cell_type": "code",
      "source": [
        "'''Q.22 How do we perform scaling in Python?'''"
      ],
      "metadata": {
        "id": "PnIv1x2r_Mjs"
      },
      "execution_count": null,
      "outputs": []
    },
    {
      "cell_type": "code",
      "source": [
        "#Step-by-Step Using Scikit-learn (sklearn.preprocessing)\n",
        "\n",
        "#1. Standardization (Z-score scaling)\n",
        "#Transforms features to have mean = 0 and standard deviation = 1\n",
        "\n",
        "from sklearn.preprocessing import StandardScaler\n",
        "\n",
        "scaler = StandardScaler()\n",
        "X_scaled = scaler.fit_transform(X)\n"
      ],
      "metadata": {
        "id": "SjhSNrsO_ctc"
      },
      "execution_count": 13,
      "outputs": []
    },
    {
      "cell_type": "code",
      "source": [
        "#2. Min-Max Scaling (Normalization)\n",
        "#Scales features to a fixed range, usually [0, 1]\n",
        "\n",
        "from sklearn.preprocessing import MinMaxScaler\n",
        "\n",
        "scaler = MinMaxScaler()\n",
        "X_scaled = scaler.fit_transform(X)\n"
      ],
      "metadata": {
        "id": "PtsLvwEw_oju"
      },
      "execution_count": 14,
      "outputs": []
    },
    {
      "cell_type": "code",
      "source": [
        "#3. MaxAbsScaler\n",
        "#Scales data to the range [-1, 1], good for sparse data\n",
        "\n",
        "from sklearn.preprocessing import MaxAbsScaler\n",
        "\n",
        "scaler = MaxAbsScaler()\n",
        "X_scaled = scaler.fit_transform(X)\n"
      ],
      "metadata": {
        "id": "Z0fFH903_wbx"
      },
      "execution_count": 15,
      "outputs": []
    },
    {
      "cell_type": "code",
      "source": [
        "#4. RobustScaler\n",
        "#Uses median and interquartile range, good for data with outliers\n",
        "\n",
        "from sklearn.preprocessing import RobustScaler\n",
        "\n",
        "scaler = RobustScaler()\n",
        "X_scaled = scaler.fit_transform(X)\n"
      ],
      "metadata": {
        "id": "WXSr8DFg_4ue"
      },
      "execution_count": 16,
      "outputs": []
    },
    {
      "cell_type": "code",
      "source": [
        "#Example with Sample Data:\n",
        "import numpy as np\n",
        "from sklearn.preprocessing import StandardScaler\n",
        "\n",
        "# Sample feature matrix\n",
        "X = np.array([[1.0, 100.0], [2.0, 300.0], [3.0, 200.0]])\n",
        "\n",
        "# Apply standard scaling\n",
        "scaler = StandardScaler()\n",
        "X_scaled = scaler.fit_transform(X)\n",
        "\n",
        "print(\"Scaled Data:\\n\", X_scaled)\n"
      ],
      "metadata": {
        "colab": {
          "base_uri": "https://localhost:8080/"
        },
        "id": "fJmDZTMb__aP",
        "outputId": "9d27a381-a5d9-4992-fa7a-adf3a8f53c7a"
      },
      "execution_count": 17,
      "outputs": [
        {
          "output_type": "stream",
          "name": "stdout",
          "text": [
            "Scaled Data:\n",
            " [[-1.22474487 -1.22474487]\n",
            " [ 0.          1.22474487]\n",
            " [ 1.22474487  0.        ]]\n"
          ]
        }
      ]
    },
    {
      "cell_type": "code",
      "source": [
        "'''Q.23 What is sklearn.preprocessing?'''"
      ],
      "metadata": {
        "id": "_y83amZBAI1F"
      },
      "execution_count": null,
      "outputs": []
    },
    {
      "cell_type": "markdown",
      "source": [
        " Definition:\n",
        "\n",
        "sklearn.preprocessing is a module in the Scikit-learn library that provides tools for data preprocessing before training machine learning models.\n",
        "\n",
        "It includes methods to:\n",
        "\n",
        "- Scale features\n",
        "\n",
        "- Encode categorical variables\n",
        "\n",
        "- Normalize data\n",
        "\n",
        "- Handle missing values\n",
        "\n",
        "Why It’s Important:\n",
        "\n",
        "Machine learning models perform better when the input data is:\n",
        "\n",
        "- On a similar scale\n",
        "\n",
        "- Clean\n",
        "\n",
        "- Properly encoded\n",
        "\n",
        "This module helps prepare the raw data so it can be used effectively by models.\n",
        "\n",
        "Common Classes and Functions in sklearn.preprocessing:\n",
        "\n",
        "| Function/Class   | Purpose                                 | Example Use                                  |\n",
        "| ---------------- | --------------------------------------- | -------------------------------------------- |\n",
        "| `StandardScaler` | Standardizes data (mean = 0, std = 1)   | For algorithms like SVM, Logistic Regression |\n",
        "| `MinMaxScaler`   | Scales features to a range (0 to 1)     | Good for neural networks                     |\n",
        "| `LabelEncoder`   | Converts labels to integers             | For encoding target variables                |\n",
        "| `OneHotEncoder`  | Converts categorical features to binary | For classification models with nominal data  |\n",
        "| `RobustScaler`   | Scales using median and IQR             | Best for data with outliers                  |\n",
        "| `Normalizer`     | Normalizes input vectors (unit norm)    | Useful in text data or cosine similarity     |\n"
      ],
      "metadata": {
        "id": "jKflb9L3ASAe"
      }
    },
    {
      "cell_type": "code",
      "source": [
        "# Example: Scaling Features\n",
        "from sklearn.preprocessing import StandardScaler\n",
        "\n",
        "X = [[1, 100], [2, 200], [3, 300]]\n",
        "scaler = StandardScaler()\n",
        "X_scaled = scaler.fit_transform(X)\n",
        "\n",
        "print(X_scaled)\n"
      ],
      "metadata": {
        "colab": {
          "base_uri": "https://localhost:8080/"
        },
        "id": "JR_-oOlxAjxl",
        "outputId": "2a4d8f51-be2f-4657-e34d-a69c110dbbae"
      },
      "execution_count": 18,
      "outputs": [
        {
          "output_type": "stream",
          "name": "stdout",
          "text": [
            "[[-1.22474487 -1.22474487]\n",
            " [ 0.          0.        ]\n",
            " [ 1.22474487  1.22474487]]\n"
          ]
        }
      ]
    },
    {
      "cell_type": "code",
      "source": [
        "'''Q.24 How do we split data for model fitting (training and testing) in Python?'''"
      ],
      "metadata": {
        "id": "uAiQdCWyAxNK"
      },
      "execution_count": null,
      "outputs": []
    },
    {
      "cell_type": "markdown",
      "source": [
        "Using train_test_split() from Scikit-learn\n",
        "\n",
        "The most common way to split a dataset is by using the train_test_split() function from the sklearn.model_selection module.\n",
        "\n",
        "Syntax:\n",
        "\n",
        "from sklearn.model_selection import train_test_split\n",
        "\n",
        "X_train, X_test, y_train, y_test = train_test_split(\n",
        "    X, y, test_size=0.2, random_state=42\n",
        ")\n",
        "\n",
        " Explanation:\n",
        "\n",
        " | Parameter         | Purpose                                               |\n",
        "| ----------------- | ----------------------------------------------------- |\n",
        "| `X`               | Input features (independent variables)                |\n",
        "| `y`               | Target variable (labels/dependent variable)           |\n",
        "| `test_size=0.2`   | 20% of the data is used for testing; 80% for training |\n",
        "| `random_state=42` | Ensures reproducibility (same split every time)       |\n"
      ],
      "metadata": {
        "id": "M70Whh0kA5ou"
      }
    },
    {
      "cell_type": "code",
      "source": [
        "#Example Code:\n",
        "from sklearn.datasets import load_iris\n",
        "from sklearn.model_selection import train_test_split\n",
        "\n",
        "# Load dataset\n",
        "iris = load_iris()\n",
        "X = iris.data\n",
        "y = iris.target\n",
        "\n",
        "# Split into training and testing sets\n",
        "X_train, X_test, y_train, y_test = train_test_split(\n",
        "    X, y, test_size=0.3, random_state=1\n",
        ")\n",
        "\n",
        "print(\"Train shape:\", X_train.shape)\n",
        "print(\"Test shape:\", X_test.shape)\n"
      ],
      "metadata": {
        "colab": {
          "base_uri": "https://localhost:8080/"
        },
        "id": "OQTWOG_pBFmG",
        "outputId": "8f8bdd5c-0d73-43ce-a835-226050f5eb6a"
      },
      "execution_count": 19,
      "outputs": [
        {
          "output_type": "stream",
          "name": "stdout",
          "text": [
            "Train shape: (105, 4)\n",
            "Test shape: (45, 4)\n"
          ]
        }
      ]
    },
    {
      "cell_type": "code",
      "source": [
        "'''Q.25 Explain data encoding?'''"
      ],
      "metadata": {
        "id": "C070ZVsEBMUU"
      },
      "execution_count": null,
      "outputs": []
    },
    {
      "cell_type": "markdown",
      "source": [
        " Definition:\n",
        "\n",
        "Data encoding is the process of converting categorical (non-numeric) data into a numerical format so that machine learning models can understand and use it.\n",
        "\n",
        "Machine learning algorithms work with numbers, not text. Encoding makes categorical data model-friendly.\n",
        "\n",
        "Why Is Encoding Important?\n",
        "\n",
        "- Categorical data (like \"Male\", \"Red\", \"Yes\") must be numerically represented.\n",
        "\n",
        "- Encoding helps the model interpret categories correctly and avoid errors during training.\n",
        "\n",
        "Types of Data Encoding:\n",
        "1. Label Encoding\n",
        "\n",
        "- Converts each category into a unique integer.\n",
        "\n",
        "- Example:\n",
        "\n",
        "Gender: [Male, Female, Female, Male] → [1, 0, 0, 1]\n",
        "\n",
        "- Use when categories have order or ranking (Ordinal data)"
      ],
      "metadata": {
        "id": "k4-tMiH7BSec"
      }
    },
    {
      "cell_type": "code",
      "source": [
        "#Label Encoding\n",
        "from sklearn.preprocessing import LabelEncoder\n",
        "\n",
        "encoder = LabelEncoder()\n",
        "encoded = encoder.fit_transform(['Male', 'Female', 'Female', 'Male'])\n"
      ],
      "metadata": {
        "id": "sxypsoupBtlF"
      },
      "execution_count": 20,
      "outputs": []
    },
    {
      "cell_type": "markdown",
      "source": [
        " 2. One-Hot Encoding\n",
        "\n",
        "- Creates a binary column for each category.\n",
        "\n",
        "- Example:\n",
        "\n",
        "Color: Red, Green, Blue\n",
        "→ [1,0,0], [0,1,0], [0,0,1]\n",
        "\n",
        "- Use when categories are nominal (no order)."
      ],
      "metadata": {
        "id": "EfUOdyQvB2PE"
      }
    },
    {
      "cell_type": "code",
      "source": [
        "#One-Hot Encoding\n",
        "from sklearn.preprocessing import OneHotEncoder\n",
        "import numpy as np\n",
        "\n",
        "data = np.array([['Red'], ['Green'], ['Blue']])\n",
        "encoder = OneHotEncoder()\n",
        "encoded = encoder.fit_transform(data).toarray()\n"
      ],
      "metadata": {
        "id": "uuUQ8BlJCEHs"
      },
      "execution_count": null,
      "outputs": []
    },
    {
      "cell_type": "markdown",
      "source": [
        "3. Ordinal Encoding\n",
        "\n",
        "- Assigns integers based on order of categories.\n",
        "\n",
        "- Example:\n",
        "\n",
        "Size: Small → 0, Medium → 1, Large → 2"
      ],
      "metadata": {
        "id": "vISr-huzCME-"
      }
    },
    {
      "cell_type": "code",
      "source": [
        "#Ordinal Encoding\n",
        "from sklearn.preprocessing import OrdinalEncoder\n",
        "\n",
        "encoder = OrdinalEncoder()\n",
        "encoded = encoder.fit_transform([['Small'], ['Medium'], ['Large']])\n"
      ],
      "metadata": {
        "id": "MGN5Dq02CUDY"
      },
      "execution_count": 21,
      "outputs": []
    }
  ]
}