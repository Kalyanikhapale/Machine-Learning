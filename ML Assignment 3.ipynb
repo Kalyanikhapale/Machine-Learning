{
  "nbformat": 4,
  "nbformat_minor": 0,
  "metadata": {
    "colab": {
      "provenance": []
    },
    "kernelspec": {
      "name": "python3",
      "display_name": "Python 3"
    },
    "language_info": {
      "name": "python"
    }
  },
  "cells": [
    {
      "cell_type": "code",
      "execution_count": null,
      "metadata": {
        "id": "6k3UTi7t4oTg"
      },
      "outputs": [],
      "source": [
        "'''Q.1  What is Simple Linear Regression?'''"
      ]
    },
    {
      "cell_type": "markdown",
      "source": [
        " Simple Linear Regression is a statistical technique used to study the relationship between two variables:\n",
        "\n",
        "- One independent variable (X)\n",
        "\n",
        "- One dependent variable (Y)\n",
        "\n",
        "It shows how the value of Y changes based on changes in X by fitting a straight line (called the regression line) through the data points.\n",
        "\n",
        "Mathematical Equation:\n",
        "\n",
        "Y=a+bX\n",
        "\n",
        "Where:\n",
        "\n",
        "\n",
        "Y = Dependent variable\n",
        "\n",
        "\n",
        "X = Independent variable\n",
        "\n",
        "\n",
        "a = Intercept (value of Y when X = 0)\n",
        "\n",
        "\n",
        "b = Slope (rate of change in Y with respect to X)\n",
        "\n",
        "Purpose:\n",
        "\n",
        "- To predict the value of the dependent variable based on the independent variable.\n",
        "\n",
        "Example:\n",
        "\n",
        "- Predicting marks (Y) based on hours of study (X).\n",
        "\n",
        "Assumptions of Simple Linear Regression:\n",
        "\n",
        "- Linearity – Relationship between X and Y is linear.\n",
        "\n",
        "- Independence – Observations are independent.\n",
        "\n",
        "- Homoscedasticity – Equal variance of errors.\n",
        "\n",
        "- Normality – Errors follow a normal distribution.\n",
        "\n"
      ],
      "metadata": {
        "id": "hcvHHuJY5EHp"
      }
    },
    {
      "cell_type": "code",
      "source": [
        "'''Q.2 What are the key assumptions of Simple Linear Regression?'''"
      ],
      "metadata": {
        "id": "94lfPmEw6OMt"
      },
      "execution_count": null,
      "outputs": []
    },
    {
      "cell_type": "markdown",
      "source": [
        "The key assumptions of Simple Linear Regression are:\n",
        "\n",
        "1. Linearity:\n",
        "\n",
        "There should be a linear relationship between the independent variable (X) and the dependent variable (Y).\n",
        "\n",
        "2. Independence:\n",
        "\n",
        "The observations (data points) should be independent of each other.\n",
        "This means one data point should not influence another.\n",
        "\n",
        "3. Homoscedasticity:\n",
        "\n",
        "The residuals (errors) should have constant variance across all levels of the independent variable.\n",
        "\n",
        "4. Normality of Errors:\n",
        "\n",
        "The residuals (differences between actual and predicted values) should be normally distributed.\n",
        "\n",
        "5. No Multicollinearity (only for Multiple Regression):\n",
        "\n",
        "Not applicable in Simple Linear Regression (since it involves only one independent variable), but important in multiple regression."
      ],
      "metadata": {
        "id": "9gHJjdkd6psi"
      }
    },
    {
      "cell_type": "code",
      "source": [
        "'''Q.3 What does the coefficient m represent in the equation Y=mX+c?'''"
      ],
      "metadata": {
        "id": "-w7_ZmG07B8M"
      },
      "execution_count": null,
      "outputs": []
    },
    {
      "cell_type": "markdown",
      "source": [
        "In the equation Y=mX+c, the coefficient 'm' represents the slope of the line.\n",
        "\n",
        "It shows the rate of change of Y with respect to X.\n",
        "\n",
        "Meaning:\n",
        "\n",
        "If\n",
        "m>0: Y increases as X increases (positive slope)\n",
        "\n",
        "If\n",
        "m<0: Y decreases as X increases (negative slope)\n",
        "\n",
        "If\n",
        "m=0: Y remains constant (horizontal line)\n",
        "\n",
        "Example:\n",
        "\n",
        "If\n",
        "Y=3X+2, then\n",
        "m=3.\n",
        "\n",
        "This means: for every 1 unit increase in X, Y increases by 3 units.\n",
        "\n",
        "\n",
        "\n"
      ],
      "metadata": {
        "id": "UBeHw8cX7YiA"
      }
    },
    {
      "cell_type": "code",
      "source": [
        "'''Q.4  What does the intercept c represent in the equation Y=mX+c?'''"
      ],
      "metadata": {
        "id": "cC6LOr228GgF"
      },
      "execution_count": null,
      "outputs": []
    },
    {
      "cell_type": "markdown",
      "source": [
        "In the equation Y=mX+c, the intercept 'c' represents the value of Y when X = 0.\n",
        "\n",
        "It is called the Y-intercept — the point where the line crosses the Y-axis.\n",
        "\n",
        "Meaning:\n",
        "\n",
        "- It shows the starting value or initial value of Y before any changes in X.\n",
        "\n",
        "- It helps in locating the position of the line on the graph.\n",
        "\n",
        "Example:\n",
        "If\n",
        "Y=2X+5,\n",
        "\n",
        "then:c=5\n",
        "\n",
        "This means when\n",
        "X=0,\n",
        "Y=5\n",
        "\n"
      ],
      "metadata": {
        "id": "TPJOvQNX8Pqp"
      }
    },
    {
      "cell_type": "code",
      "source": [
        "'''Q.5 How do we calculate the slope m in Simple Linear Regression?'''"
      ],
      "metadata": {
        "id": "PtUFlQ6r8530"
      },
      "execution_count": null,
      "outputs": []
    },
    {
      "cell_type": "markdown",
      "source": [
        "\n",
        "\n",
        "In Simple Linear Regression, the slope $m$ is calculated using the formula:\n",
        "\n",
        "$$\n",
        "m = \\frac{n(\\sum XY) - (\\sum X)(\\sum Y)}{n(\\sum X^2) - (\\sum X)^2}\n",
        "$$\n",
        "\n",
        "Where:\n",
        "\n",
        "* $n$ = number of data points\n",
        "* $\\sum XY$ = sum of the product of X and Y values\n",
        "* $\\sum X$ = sum of X values\n",
        "* $\\sum Y$ = sum of Y values\n",
        "* $\\sum X^2$ = sum of squares of X values\n",
        "\n",
        "\n",
        "\n",
        "Purpose of 'm':\n",
        "\n",
        "* It tells us how much Y changes for a unit change in X.\n",
        "* It is the slope of the best-fit line.\n",
        "\n",
        "\n",
        "\n",
        "Example:\n",
        "\n",
        "Given data:\n",
        "X: 1, 2, 3\n",
        "Y: 2, 4, 5\n",
        "\n",
        "Apply the formula using calculated sums.\n",
        "\n"
      ],
      "metadata": {
        "id": "qhYcov1Q9HIw"
      }
    },
    {
      "cell_type": "code",
      "source": [
        "'''Q.6 What is the purpose of the Least Squares Method in Simple Linear Regression?'''"
      ],
      "metadata": {
        "id": "ZH-zac7h-pwa"
      },
      "execution_count": null,
      "outputs": []
    },
    {
      "cell_type": "markdown",
      "source": [
        "The purpose of the Least Squares Method is to find the best-fitting straight line through the data points by minimizing the sum of the squared differences between actual and predicted values.\n",
        "\n",
        "These differences are called residuals (errors).\n",
        "\n",
        "In short:\n",
        "\n",
        "- The Least Squares Method minimizes the total error and gives the most accurate line (regression line) for prediction.\n",
        "\n",
        "Formula it tries to minimize:\n",
        "\n",
        "$$\n",
        "\\sum (Y_i - \\hat{Y}_i)^2\n",
        "$$\n",
        "\n",
        "Where:\n",
        "\n",
        "* $Y_i$ = Actual value\n",
        "* $\\hat{Y}_i$ = Predicted value\n",
        "* $(Y_i - \\hat{Y}_i)^2$ = Squared error (residual)\n",
        "\n",
        "Result:\n",
        "\n",
        "Using this method, we calculate the slope (m) and intercept (c) of the line $Y = mX + c$.\n",
        "\n",
        "\n"
      ],
      "metadata": {
        "id": "OtdH0d-MANPF"
      }
    },
    {
      "cell_type": "code",
      "source": [
        "'''Q.7 How is the coefficient of determination (R²) interpreted in Simple Linear Regression?'''"
      ],
      "metadata": {
        "id": "F-Np5pkqA3g6"
      },
      "execution_count": null,
      "outputs": []
    },
    {
      "cell_type": "markdown",
      "source": [
        "The Coefficient of Determination, denoted as $R^2$, measures how well the regression line fits the data.\n",
        "\n",
        "It tells us the proportion of the variance in the dependent variable (Y) that is explained by the independent variable (X).\n",
        "\n",
        "Interpretation of $R^2$:\n",
        "\n",
        "* $R^2 = 1$ → Perfect fit (100% of the variance in Y is explained by X)\n",
        "* $R^2 = 0$ → No fit (X explains 0% of the variance in Y)\n",
        "* $0 < R^2 < 1$ → Partial fit (some of the variance is explained)\n",
        "\n",
        "\n",
        "Example:\n",
        "\n",
        "- If $R^2 = 0.85$, it means 85% of the variation in Y is explained by X, and 15% is unexplained.\n",
        "\n",
        "\n",
        "\n",
        "Formula (for reference):\n",
        "\n",
        "$$\n",
        "R^2 = 1 - \\frac{SS_{\\text{res}}}{SS_{\\text{tot}}}\n",
        "$$\n",
        "\n",
        "Where:\n",
        "\n",
        "* $SS_{\\text{res}}$: Sum of squares of residuals\n",
        "* $SS_{\\text{tot}}$: Total sum of squares\n",
        "\n",
        "Tip:\n",
        "* Higher the $R^2$, better the model’s performance.\n",
        "\n",
        "\n"
      ],
      "metadata": {
        "id": "blBa9PNTBDGt"
      }
    },
    {
      "cell_type": "code",
      "source": [
        "'''Q.8 What is Multiple Linear Regression?'''"
      ],
      "metadata": {
        "id": "L5dF2FkiCL_Z"
      },
      "execution_count": null,
      "outputs": []
    },
    {
      "cell_type": "markdown",
      "source": [
        "\n",
        "\n",
        "Multiple Linear Regression is a statistical method used to study the relationship between one dependent variable (Y) and two or more independent variables (X₁, X₂, ..., Xₙ).\n",
        "\n",
        "It is an extension of Simple Linear Regression, which involves only one independent variable.\n",
        "\n",
        "Mathematical Equation:\n",
        "\n",
        "$$\n",
        "Y = a + b_1X_1 + b_2X_2 + \\dots + b_nX_n\n",
        "$$\n",
        "\n",
        "Where:\n",
        "\n",
        "* $Y$ = Dependent variable\n",
        "* $X_1, X_2, ..., X_n$ = Independent variables\n",
        "* $a$ = Intercept\n",
        "* $b_1, b_2, ..., b_n$ = Coefficients (slopes for each X)\n",
        "\n",
        "Purpose:\n",
        "\n",
        "To predict the value of Y based on multiple factors (X₁, X₂, ..., Xₙ) and to understand how each variable influences Y.\n",
        "\n",
        "Example:\n",
        "\n",
        "Predicting a student's exam score (Y) based on:\n",
        "\n",
        "* Hours studied (X₁)\n",
        "* Sleep hours (X₂)\n",
        "* Number of practice tests taken (X₃)\n",
        "\n",
        "\n"
      ],
      "metadata": {
        "id": "_i8iZBbmCcPh"
      }
    },
    {
      "cell_type": "code",
      "source": [
        "'''Q.9 What is the main difference between Simple and Multiple Linear Regression?'''"
      ],
      "metadata": {
        "id": "has-7JsNUvjv"
      },
      "execution_count": null,
      "outputs": []
    },
    {
      "cell_type": "markdown",
      "source": [
        "| **Aspect**                          | **Simple Linear Regression**       | **Multiple Linear Regression**                             |\n",
        "| ----------------------------------- | ---------------------------------- | ---------------------------------------------------------- |\n",
        "| Number of Independent Variables | Only one independent variable  | Two or more independent variables                      |\n",
        "| Equation                     | $Y = b_0 + b_1X + \\varepsilon$     | $Y = b_0 + b_1X_1 + b_2X_2 + \\dots + b_nX_n + \\varepsilon$ |\n",
        "| Complexity                      | Less complex, easy to visualize    | More complex, harder to visualize in higher dimensions     |\n",
        "| Use Case                     | When one factor affects the target | When multiple factors affect the target                    |\n"
      ],
      "metadata": {
        "id": "-TDaGSUZU7bb"
      }
    },
    {
      "cell_type": "code",
      "source": [
        "'''Q.10 What are the key assumptions of Multiple Linear Regression?'''"
      ],
      "metadata": {
        "id": "CiUHW5BkVU9q"
      },
      "execution_count": null,
      "outputs": []
    },
    {
      "cell_type": "markdown",
      "source": [
        "1. Linearity\n",
        "\n",
        "- There is a linear relationship between the dependent variable and each independent variable.\n",
        "\n",
        "2. Independence of Errors\n",
        "\n",
        "- The residuals (errors) are independent of each other.\n",
        "\n",
        "- Often tested using the Durbin-Watson test.\n",
        "\n",
        "3. Homoscedasticity\n",
        "\n",
        "- The variance of errors is constant across all levels of independent variables.\n",
        "\n",
        "- No pattern in the residual plot.\n",
        "\n",
        "4. Normality of Errors\n",
        "\n",
        "- The residuals should be normally distributed.\n",
        "\n",
        "- Can be checked using a histogram or Q-Q plot.\n",
        "\n",
        "5. No Multicollinearity\n",
        "\n",
        "- The independent variables should not be highly correlated with each other.\n",
        "\n",
        "- Tested using VIF (Variance Inflation Factor).\n",
        "\n"
      ],
      "metadata": {
        "id": "ANwlxsiQVjKE"
      }
    },
    {
      "cell_type": "code",
      "source": [
        "'''Q.11 What is heteroscedasticity, and how does it affect the results of a Multiple Linear Regression model?'''"
      ],
      "metadata": {
        "id": "pCxsjQm5WBEq"
      },
      "execution_count": null,
      "outputs": []
    },
    {
      "cell_type": "markdown",
      "source": [
        "Heteroscedasticity occurs when the variance of the error terms (residuals) is not constant across all levels of the independent variables in a regression model.\n",
        "\n",
        "- Impact on Multiple Linear Regression:\n",
        "\n",
        "- Violates the assumption of homoscedasticity.\n",
        "\n",
        "- Leads to inefficient estimates of coefficients.\n",
        "\n",
        "- Standard errors become unreliable, which affects:\n",
        "\n",
        " - t-tests (for significance)\n",
        "\n",
        " - Confidence intervals\n",
        "\n",
        "- It can result in incorrect conclusions about which variables are important.\n",
        "\n",
        "How to Detect It:\n",
        "\n",
        "- Residual vs Fitted plot: If the spread of residuals increases or decreases with fitted values, heteroscedasticity is present.\n",
        "\n",
        "- Statistical tests:\n",
        "\n",
        " - Breusch-Pagan test\n",
        "\n",
        " - White’s test\n",
        "\n"
      ],
      "metadata": {
        "id": "xj3w81uFWJKG"
      }
    },
    {
      "cell_type": "code",
      "source": [
        "'''Q.12 How can you improve a Multiple Linear Regression model with high multicollinearity?'''"
      ],
      "metadata": {
        "id": "bAlQglGWWzEZ"
      },
      "execution_count": null,
      "outputs": []
    },
    {
      "cell_type": "markdown",
      "source": [
        "Multicollinearity means two or more independent variables are highly correlated, which can make regression coefficients unstable and unreliable.\n",
        "\n",
        " Ways to Improve the Model:\n",
        "\n",
        "1. Remove Highly Correlated Predictors\n",
        "\n",
        "- Drop one of the variables that are highly correlated.\n",
        "\n",
        "- Use a correlation matrix to identify such variables.\n",
        "\n",
        "2. Use Principal Component Analysis (PCA)\n",
        "\n",
        "- Converts correlated variables into a set of uncorrelated components.\n",
        "\n",
        "3. Combine Variables\n",
        "\n",
        "- If two variables are highly correlated and measure similar things, combine them into one (e.g., average or ratio).\n",
        "\n",
        "4. Regularization Techniques\n",
        "\n",
        "- Use models like Ridge Regression or Lasso Regression which handle multicollinearity by adding a penalty term.\n",
        "\n",
        "5. Check Variance Inflation Factor (VIF)\n",
        "\n",
        "-  Remove variables with high VIF values (typically > 5 or 10).\n",
        "\n"
      ],
      "metadata": {
        "id": "VGheWNyAW3Ln"
      }
    },
    {
      "cell_type": "code",
      "source": [
        "'''Q.13 What are some common techniques for transforming categorical variables for use in regression models?'''"
      ],
      "metadata": {
        "id": "gY0Tp4gVv2Oo"
      },
      "execution_count": null,
      "outputs": []
    },
    {
      "cell_type": "markdown",
      "source": [
        "| **Technique**                | **Description**                                                                                                               |\n",
        "| ---------------------------- | ----------------------------------------------------------------------------------------------------------------------------- |\n",
        "| One-Hot Encoding         | Converts each category into a separate binary column (0 or 1). Avoid dummy variable trap by removing one column.              |\n",
        "| Label Encoding           | Assigns a unique number to each category. Best for ordinal data (e.g., low = 1, medium = 2, high = 3).                    |\n",
        "| Ordinal Encoding         | Like label encoding, but explicitly used when categories have a meaningful order.                                             |\n",
        "| Binary Encoding          | Converts categories into binary numbers and splits into columns. Efficient for high-cardinality features.                     |\n",
        "|\n",
        "Frequency/Count Encoding | Replaces categories with the frequency or count of their occurrences in the data.                                             |\n",
        "| Target Encoding          | Replaces each category with the mean of the target variable for that category (used with caution due to risk of overfitting). |\n"
      ],
      "metadata": {
        "id": "N4XqQHILwmoE"
      }
    },
    {
      "cell_type": "code",
      "source": [
        "'''Q.14 What is the role of interaction terms in Multiple Linear Regression?'''"
      ],
      "metadata": {
        "id": "MKE1x8kFZwE6"
      },
      "execution_count": null,
      "outputs": []
    },
    {
      "cell_type": "markdown",
      "source": [
        "Interaction terms in Multiple Linear Regression are used to model the combined effect of two or more independent variables on the dependent variable.\n",
        "\n",
        "Definition:\n",
        "\n",
        "An interaction term is created by multiplying two (or more) independent variables together to see if their joint effect on the dependent variable is different from their individual effects.\n",
        "\n",
        "Why Use Interaction Terms?\n",
        "\n",
        "- To capture relationships between variables that only exist when considered together.\n",
        "\n",
        "- Helps when the effect of one variable depends on the level of another.\n",
        "\n",
        "Example Equation with Interaction Term:\n",
        "Y=b\n",
        "0\n",
        "​\n",
        " +b\n",
        "1\n",
        "​\n",
        " X\n",
        "1\n",
        "​\n",
        " +b\n",
        "2\n",
        "​\n",
        " X\n",
        "2\n",
        "​\n",
        " +b\n",
        "3\n",
        "​\n",
        " (X\n",
        "1\n",
        "​\n",
        " ×X\n",
        "2\n",
        "​\n",
        " )+ε\n",
        "\n",
        " Here,\n",
        "b\n",
        "3\n",
        "​ captures the interaction effect between\n",
        "X\n",
        "1\n",
        "​\n",
        "  and\n",
        "X\n",
        "2\n",
        "​\n",
        " .\n",
        "\n"
      ],
      "metadata": {
        "id": "xHTiP6YFaY2W"
      }
    },
    {
      "cell_type": "code",
      "source": [
        "'''Q.15 How can the interpretation of intercept differ between Simple and Multiple Linear Regression?'''"
      ],
      "metadata": {
        "id": "cOTW7t83bnib"
      },
      "execution_count": null,
      "outputs": []
    },
    {
      "cell_type": "markdown",
      "source": [
        "1.In Simple Linear Regression:\n",
        "\n",
        "* The intercept (b₀) represents the expected value of the dependent variable (Y) when the independent variable (X) is zero.\n",
        "\n",
        "$$\n",
        "Y = b_0 + b_1X\n",
        "$$\n",
        "\n",
        "* Interpretation:\n",
        "\n",
        "> When $X = 0$, the value of $Y$ is equal to the intercept $b_0$.\n",
        "\n",
        "\n",
        "\n",
        "2.In Multiple Linear Regression:\n",
        "\n",
        "* The intercept (b₀) represents the expected value of the dependent variable (Y) when all independent variables are zero.\n",
        "\n",
        "$$\n",
        "Y = b_0 + b_1X_1 + b_2X_2 + \\dots + b_nX_n\n",
        "$$\n",
        "\n",
        "* Interpretation:\n",
        "\n",
        "> When $X_1 = X_2 = \\dots = X_n = 0$, the value of $Y$ is equal to the intercept $b_0$.\n",
        "\n",
        "Important Note:\n",
        "\n",
        "* In Multiple Linear Regression, the intercept often has no real-world meaning if zero is not a possible or meaningful value for all predictors.\n",
        "\n",
        "\n",
        "Short Answer:\n",
        "\n",
        "* In Simple Linear Regression, the intercept is the predicted value of Y when X = 0.\n",
        "* In Multiple Linear Regression, it is the predicted value of Y when all independent variables are 0.\n",
        "\n",
        "\n"
      ],
      "metadata": {
        "id": "7pMytiy5bmUm"
      }
    },
    {
      "cell_type": "code",
      "source": [
        "'''Q.16 What is the significance of the slope in regression analysis, and how does it affect predictions?'''"
      ],
      "metadata": {
        "id": "pfRByAXYdFAw"
      },
      "execution_count": null,
      "outputs": []
    },
    {
      "cell_type": "markdown",
      "source": [
        "Definition of Slope:\n",
        "\n",
        "In regression analysis, the slope (coefficient of an independent variable) represents the rate of change in the dependent variable (Y) for a one-unit increase in the independent variable (X), keeping all other variables constant.\n",
        "\n",
        "Significance of Slope:\n",
        "\n",
        "* Shows the direction and strength of the relationship between variables:\n",
        "\n",
        "  * Positive slope → As $X$ increases, $Y$ increases.\n",
        "  * Negative slope → As $X$ increases, $Y$ decreases.\n",
        "* Helps in understanding how strongly a predictor affects the outcome.\n",
        "* The magnitude of the slope shows how much change is expected in the dependent variable.\n",
        "\n",
        "Impact on Predictions:\n",
        "\n",
        "* The slope directly affects the predicted values of $Y$.\n",
        "* In a regression equation:\n",
        "\n",
        "  $$\n",
        "  Y = b_0 + b_1X\n",
        "  $$\n",
        "\n",
        "  The value of $b_1$ (slope) tells us how much $Y$ will change when $X$ increases by 1 unit.\n",
        "\n",
        "Short Answer:\n",
        "\n",
        "> The slope in regression analysis indicates how much the dependent variable changes for a one-unit change in the independent variable. It affects predictions by determining the direction and amount of change in the predicted value.\n",
        "\n"
      ],
      "metadata": {
        "id": "OEYD9YrMdWP0"
      }
    },
    {
      "cell_type": "code",
      "source": [
        "'''Q.17 How does the intercept in a regression model provide context for the relationship between variables?'''"
      ],
      "metadata": {
        "id": "jEIkAM_7d4z-"
      },
      "execution_count": null,
      "outputs": []
    },
    {
      "cell_type": "markdown",
      "source": [
        "\n",
        "\n",
        "Definition of Intercept:\n",
        "\n",
        "In a regression model, the intercept (b₀) is the value of the dependent variable (Y) when all independent variables (X) are equal to zero.\n",
        "\n",
        "Contextual Role of Intercept:\n",
        "\n",
        "* It provides a starting point or baseline for the regression equation.\n",
        "* Helps understand the value of the outcome variable when no predictors are present.\n",
        "* Example:\n",
        "  If the equation is:\n",
        "\n",
        "  $$\n",
        "  Y = b_0 + b_1X_1 + b_2X_2\n",
        "  $$\n",
        "\n",
        "  Then $b_0$ tells us the expected value of $Y$ when $X_1 = X_2 = 0$.\n",
        "\n",
        "\n",
        "Important Notes:\n",
        "\n",
        "* The intercept may not always be meaningful, especially if zero is not a realistic value for all predictors.\n",
        "* Even if not interpretable, it is mathematically necessary to accurately fit the model.\n",
        "\n",
        "Short Answer:\n",
        "\n",
        "> The intercept shows the expected value of the dependent variable when all independent variables are zero. It provides a baseline to understand how predictors influence the outcome.\n",
        "\n",
        "\n"
      ],
      "metadata": {
        "id": "NPZ6mxMtesI3"
      }
    },
    {
      "cell_type": "code",
      "source": [
        "'''Q.18 What are the limitations of using R² as a sole measure of model performance?'''"
      ],
      "metadata": {
        "id": "jcVUPQ8kfWGd"
      },
      "execution_count": null,
      "outputs": []
    },
    {
      "cell_type": "markdown",
      "source": [
        "| **Aspect**                              | **Limitation of R²**                                                                  |\n",
        "| --------------------------------------- | ------------------------------------------------------------------------------------- |\n",
        "| Doesn't Detect Overfitting          | A high R² may occur even when the model is overfitting** the training data.         |\n",
        "| Doesn’t Show Causality              | R² only shows correlation, not causation** between variables.                       |\n",
        "| Affected by Number of Predictors    | Adding more variables can artificially increase R², even if they are irrelevant.  |\n",
        "| Ignores Model Bias                  | R² does not account for whether the model’s predictions are systematically wrong. |\n",
        "| Not Suitable for Non-Linear Models  | R² may give misleading results for non-linear relationships.                      |\n",
        "| Doesn’t Reflect Prediction Accuracy | A high R² doesn’t always mean the model predicts well on new/unseen data.         |\n"
      ],
      "metadata": {
        "id": "r554Dq2Gfl7I"
      }
    },
    {
      "cell_type": "code",
      "source": [
        "'''Q.19 How would you interpret a large standard error for a regression coefficient?'''"
      ],
      "metadata": {
        "id": "aGWGMq8jgF88"
      },
      "execution_count": null,
      "outputs": []
    },
    {
      "cell_type": "markdown",
      "source": [
        "\n",
        "| **Aspect**                     | **Interpretation**                                                                                                                 |\n",
        "| ------------------------------ | ---------------------------------------------------------------------------------------------------------------------------------- |\n",
        "| Definition                 | The standard error of a regression coefficient measures the variability of the estimated coefficient across different samples. |\n",
        "| Large Standard Error Means | The coefficient estimate is not precise — it varies widely from sample to sample.                                              |\n",
        "| Impact on Significance     | A large standard error makes the t-statistic small, which may lead to a high p-value.                                      |\n",
        "| Conclusion                 | The predictor may not be statistically significant, and we may not trust its effect on the dependent variable.             |\n",
        "| Possible Causes            | - Multicollinearity                                                                                                                |\n",
        "\n",
        "* Small sample size\n",
        "* High data variability\n",
        "* Poor model fit  |\n",
        "\n",
        "Short Answer:\n",
        "\n",
        "> A large standard error for a regression coefficient indicates low precision and suggests that the variable may not have a significant impact on the dependent variable.\n",
        "\n",
        "\n"
      ],
      "metadata": {
        "id": "2-dZ2CKcgn_g"
      }
    },
    {
      "cell_type": "code",
      "source": [
        "'''Q.20 How can heteroscedasticity be identified in residual plots, and why is it important to address it?'''"
      ],
      "metadata": {
        "id": "DZ1yW5zohPK0"
      },
      "execution_count": null,
      "outputs": []
    },
    {
      "cell_type": "markdown",
      "source": [
        "Identification in Residual Plots:\n",
        "\n",
        "- In a residual vs fitted values plot, heteroscedasticity appears as:\n",
        "\n",
        " - A funnel shape (widening or narrowing spread of residuals).\n",
        "\n",
        " - A patterned spread, rather than a constant horizontal band.\n",
        "\n",
        " Constant spread = Homoscedasticity (good)\n",
        "\n",
        " Varying spread = Heteroscedasticity (problem)\n",
        "\n",
        "Why It's Important to Address Heteroscedasticity:\n",
        "\n",
        "| Reason                               | Explanation                                                              |\n",
        "| ---------------------------------------- | ---------------------------------------------------------------------------- |\n",
        "| Violates regression assumptions      | Breaks the assumption of constant variance of errors (homoscedasticity). |\n",
        "| Unreliable standard errors           | Leads to incorrect p-values, t-tests, and confidence intervals.  |\n",
        "| Affects model accuracy and inference | Can result in misleading conclusions about variable significance.        |\n",
        "\n"
      ],
      "metadata": {
        "id": "7zteT6YFhtWW"
      }
    },
    {
      "cell_type": "code",
      "source": [
        "'''Q.21 What does it mean if a Multiple Linear Regression model has a high R² but low adjusted R²?'''"
      ],
      "metadata": {
        "id": "S7RhPIn1inbR"
      },
      "execution_count": null,
      "outputs": []
    },
    {
      "cell_type": "markdown",
      "source": [
        "| Term           | Meaning                                                                           |\n",
        "| ------------------ | ------------------------------------------------------------------------------------- |\n",
        "| R² (R-squared) | Measures the proportion of variance in the dependent variable explained by the model. |\n",
        "| Adjusted R²    | Adjusts R² for the number of predictors, penalizing irrelevant variables.         |\n",
        "\n",
        "Interpretation:\n",
        "\n",
        "If a model has high R² but low Adjusted R², it means:\n",
        "\n",
        "- The model includes too many predictors, some of which do not contribute meaningfully.\n",
        "\n",
        "- The high R² is inflated by adding unnecessary variables.\n",
        "\n",
        "- The model may be overfitting — fitting noise instead of true signal.\n",
        "\n",
        "Why It Matters:\n",
        "\n",
        "- A high R² alone can be misleading.\n",
        "\n",
        "- Adjusted R² helps determine the true explanatory power of the model after removing the effect of irrelevant predictors.\n",
        "\n",
        "Short Answer:\n",
        "\n",
        "A high R² but low adjusted R² indicates that the model includes unnecessary variables, reducing its reliability and possibly leading to overfitting."
      ],
      "metadata": {
        "id": "346ZuxNDircF"
      }
    },
    {
      "cell_type": "code",
      "source": [
        "'''Q.22 Why is it important to scale variables in Multiple Linear Regression?'''"
      ],
      "metadata": {
        "id": "WTwbpEqWlDtr"
      },
      "execution_count": null,
      "outputs": []
    },
    {
      "cell_type": "markdown",
      "source": [
        "Definition of Scaling:\n",
        "\n",
        "Scaling means standardizing the range of independent variables, usually by normalization or standardization (e.g., converting values to z-scores).\n",
        "\n",
        "Importance of Scaling in Multiple Linear Regression:\n",
        "\n",
        "| **Reason**                            | **Explanation**                                                                          |\n",
        "| ------------------------------------- | ---------------------------------------------------------------------------------------- |\n",
        "| Improves numerical stability    | Scaling reduces large differences in variable magnitudes, avoiding calculation errors.   |\n",
        "| Makes coefficients comparable  | Allows us to compare the relative impact of each variable on the dependent variable. |\n",
        "| Supports regularization methods | Methods like Ridge and Lasso require scaling to apply penalties correctly.           |\n",
        "| Improves model interpretation   | Easier to interpret how much 1 standard unit change in X affects Y.                  |\n",
        "\n",
        " When It's Less Critical:\n",
        "\n",
        "- Scaling is not mandatory for basic regression without regularization.\n",
        "\n",
        "- But it's very helpful when predictors are on very different scales (e.g., age vs income).\n",
        "\n",
        "Short Answer:\n",
        "\n",
        "Scaling variables helps improve model stability, makes coefficients interpretable, and is essential for regularization techniques like Ridge and Lasso."
      ],
      "metadata": {
        "id": "pWiHOyS6l06o"
      }
    },
    {
      "cell_type": "code",
      "source": [
        "'''Q.23 What is polynomial regression?'''"
      ],
      "metadata": {
        "id": "5qeGOoifmjN-"
      },
      "execution_count": null,
      "outputs": []
    },
    {
      "cell_type": "markdown",
      "source": [
        "Definition:\n",
        "\n",
        "Polynomial Regression is a type of regression analysis where the relationship between the independent variable (X) and the dependent variable (Y) is modeled as an nth-degree polynomial.\n",
        "\n",
        "It is used when the data shows a non-linear trend, but we still want to use a regression-based approach.\n",
        "\n",
        " General Equation:\n",
        "\n",
        "𝑌\n",
        "=\n",
        "𝑏\n",
        "0\n",
        "+\n",
        "𝑏\n",
        "1\n",
        "𝑋\n",
        "+\n",
        "𝑏\n",
        "2\n",
        "𝑋^\n",
        "2\n",
        "+\n",
        "𝑏\n",
        "3\n",
        "𝑋^\n",
        "3\n",
        "+\n",
        "⋯\n",
        "+\n",
        "𝑏\n",
        "𝑛\n",
        "𝑋^\n",
        "𝑛\n",
        "+\n",
        "𝜀\n",
        "\n",
        "𝑌= Dependent variable\n",
        "\n",
        "𝑋= Independent variable\n",
        "\n",
        "𝑏\n",
        "0\n",
        ",\n",
        "𝑏\n",
        "1\n",
        ",\n",
        "…\n",
        ",\n",
        "𝑏\n",
        "𝑛= Coefficients\n",
        "\n",
        "𝜀 = Error term\n",
        "\n",
        "𝑛 = Degree of the polynomial\n",
        "\n",
        "Key Points:\n",
        "\n",
        "| **Feature**                          | **Explanation**                                                     |\n",
        "| ------------------------------------ | ------------------------------------------------------------------- |\n",
        "| Non-linear modeling              | Models curved relationships using polynomial terms.                 |\n",
        "| Still linear in parameters       | Despite non-linear form, it's linear in terms of coefficients.      |\n",
        "| Higher-degree = more flexibility | Higher degrees can capture more complex patterns (but may overfit). |\n"
      ],
      "metadata": {
        "id": "SKA-m4X-nH-Y"
      }
    },
    {
      "cell_type": "code",
      "source": [
        "'''Q.24 How does polynomial regression differ from linear regression?'''"
      ],
      "metadata": {
        "id": "dszdffM6on-3"
      },
      "execution_count": null,
      "outputs": []
    },
    {
      "cell_type": "markdown",
      "source": [
        "| **Aspect**               | **Linear Regression**                     | **Polynomial Regression**                                         |\n",
        "| ------------------------ | ----------------------------------------- | ----------------------------------------------------------------- |\n",
        "| Equation Form        | $Y = b_0 + b_1X + \\varepsilon$            | $Y = b_0 + b_1X + b_2X^2 + b_3X^3 + \\dots + b_nX^n + \\varepsilon$ |\n",
        "| Relationship Modeled | Models a straight-line relationship   | Models a curved or non-linear relationship                    |\n",
        "| Linearity            | Linear in both X and coefficients | Linear in coefficients, but non-linear in X               |\n",
        "| Complexity          | Simple and easy to interpret              | More complex; higher degree may lead to overfitting           |\n",
        "| Use Case            | When the data shows a linear trend    | When the data shows a non-linear pattern                     |\n"
      ],
      "metadata": {
        "id": "xu3-WdnGoy3U"
      }
    },
    {
      "cell_type": "code",
      "source": [
        "'''Q.25 When is polynomial regression used?'''"
      ],
      "metadata": {
        "id": "sOlBsI7BpTrR"
      },
      "execution_count": null,
      "outputs": []
    },
    {
      "cell_type": "markdown",
      "source": [
        "Definition:\n",
        "\n",
        "Polynomial Regression is used to model a non-linear relationship between the independent variable and the dependent variable using a polynomial equation.\n",
        "\n",
        "Situations Where It Is Used:\n",
        "\n",
        "| **Scenario**                   | **Explanation**                                                               |\n",
        "| ------------------------------ | ----------------------------------------------------------------------------- |\n",
        "| Non-linear data patterns | When the relationship between X and Y is curved, not a straight line.         |\n",
        "| Improving model fit     | When linear regression shows poor fit (low R²), and residuals show a pattern. |\n",
        "| Real-world phenomena     | Used in physics, economics, biology, etc., where changes occur non-linearly.  |\n",
        "| Trend analysis           | Useful for modeling growth, decay, or cyclical trends in data.    |\n",
        "| Visual curve fitting     | When visual inspection suggests a curved pattern (e.g., U-shape or S-shape).  |\n"
      ],
      "metadata": {
        "id": "LFmn8P_Mpb15"
      }
    },
    {
      "cell_type": "code",
      "source": [
        "'''Q.26 What is the general equation for polynomial regression?'''"
      ],
      "metadata": {
        "id": "DZzvGo2rqCg_"
      },
      "execution_count": null,
      "outputs": []
    },
    {
      "cell_type": "markdown",
      "source": [
        "General Form of Polynomial Regression:\n",
        "\n",
        "$$\n",
        "Y = b_0 + b_1X + b_2X^2 + b_3X^3 + \\dots + b_nX^n + \\varepsilon\n",
        "$$\n",
        "\n",
        "\n",
        "Where:\n",
        "\n",
        "* $Y$ = Dependent variable\n",
        "* $X$ = Independent variable\n",
        "* $b_0$ = Intercept\n",
        "* $b_1, b_2, \\dots, b_n$ = Coefficients for each degree of $X$\n",
        "* $X^2, X^3, \\dots, X^n$ = Polynomial (non-linear) terms\n",
        "* $\\varepsilon$ = Error term\n",
        "* $n$ = Degree of the polynomial\n",
        "\n",
        "\n"
      ],
      "metadata": {
        "id": "9TJi_n8aqGI9"
      }
    },
    {
      "cell_type": "code",
      "source": [
        "'''Q.27 Can polynomial regression be applied to multiple variables?'''"
      ],
      "metadata": {
        "id": "pY2NEIjcqY35"
      },
      "execution_count": null,
      "outputs": []
    },
    {
      "cell_type": "markdown",
      "source": [
        "YES, polynomial regression can be applied to multiple independent variables.\n",
        "\n",
        "This is known as Multivariate Polynomial Regression or Polynomial Multiple Linear Regression.\n",
        "\n",
        "Explanation:\n",
        "\n",
        "When you have more than one input variable, polynomial regression includes:\n",
        "\n",
        "* Individual powers of each variable\n",
        "* Interaction terms (e.g., $X_1X_2$, $X_1^2X_2$, etc.)\n",
        "\n",
        "Example Equation (2 variables, degree 2):\n",
        "\n",
        "$$\n",
        "Y = b_0 + b_1X_1 + b_2X_2 + b_3X_1^2 + b_4X_2^2 + b_5X_1X_2 + \\varepsilon\n",
        "$$\n",
        "\n",
        "Use Case:\n",
        "\n",
        "Used when the relationship between multiple variables and the outcome is non-linear and complex."
      ],
      "metadata": {
        "id": "5LGKMQ1zqs_5"
      }
    },
    {
      "cell_type": "code",
      "source": [
        "'''Q.28 What are the limitations of polynomial regression?'''"
      ],
      "metadata": {
        "id": "TlDvJLf6rPN4"
      },
      "execution_count": null,
      "outputs": []
    },
    {
      "cell_type": "markdown",
      "source": [
        "| **Limitation**                   | **Explanation**                                                                                    |\n",
        "| -------------------------------- | -------------------------------------------------------------------------------------------------- |\n",
        "| Overfitting                  | High-degree polynomials may fit the training data too closely and perform poorly on new data.      |\n",
        "| Complexity Increases Rapidly | As the degree increases, the model becomes harder to interpret and manage.                         |\n",
        "| Sensitive to Outliers        | A few extreme data points can drastically affect the curve and model accuracy.                     |\n",
        "| Risk of Multicollinearity   | Polynomial terms (like $X$, $X^2$, $X^3$) are often correlated, affecting coefficient reliability. |\n",
        "| Poor Extrapolation           | Predictions outside the data range can be highly inaccurate.                                       |\n",
        "| Computational Cost           | Higher-degree polynomial models require more processing power and memory.                          |\n"
      ],
      "metadata": {
        "id": "Yr6yBjNwrb9e"
      }
    },
    {
      "cell_type": "code",
      "source": [
        "'''Q.29 What methods can be used to evaluate model fit when selecting the degree of a polynomial?'''"
      ],
      "metadata": {
        "id": "FW02k4DFru6i"
      },
      "execution_count": null,
      "outputs": []
    },
    {
      "cell_type": "markdown",
      "source": [
        "Key Methods to Evaluate and Select the Degree of a Polynomial Regression Model:\n",
        "\n",
        "\n",
        "| **Method**                                      | **Explanation**                                                                                                 |\n",
        "| ----------------------------------------------- | --------------------------------------------------------------------------------------------------------------- |\n",
        "| R² (R-squared)                              | Measures how much variance in the dependent variable is explained by the model. Higher R² indicates better fit. |\n",
        "| Adjusted R²                                | Penalizes unnecessary predictors. Helps identify the optimal degree without overfitting.                        |\n",
        "| Mean Squared Error (MSE)                    | Measures the average squared difference between actual and predicted values. Lower MSE indicates better fit.    |\n",
        "| Root Mean Squared Error (RMSE)              | Square root of MSE; easier to interpret in terms of original units.                                             |\n",
        "| Cross-Validation (e.g., k-fold)             | Splits data into training and validation sets to test how well the model generalizes to new data.               |\n",
        "| AIC / BIC (Akaike / Bayesian Info Criteria) | Balance goodness of fit and model complexity. Lower values suggest a better model.                              |\n",
        "| Residual Plots                              | Visual inspection to detect non-random patterns. A good fit shows random scatter of residuals.                  |\n"
      ],
      "metadata": {
        "id": "Dfo-lMbor7_e"
      }
    },
    {
      "cell_type": "code",
      "source": [
        "'''Q.30 Why is visualization important in polynomial regression?'''"
      ],
      "metadata": {
        "id": "HCcslBXFsiBx"
      },
      "execution_count": null,
      "outputs": []
    },
    {
      "cell_type": "markdown",
      "source": [
        "| **Reason**                              | **Explanation**                                                                   |\n",
        "| --------------------------------------- | --------------------------------------------------------------------------------- |\n",
        "| Understanding Non-linear Patterns | Helps to clearly see the curve or trend captured by the polynomial model.     |\n",
        "| Model Fit Assessment              | Visualizes how well the model fits the actual data (underfitting or overfitting). |\n",
        "| Compare Different Degrees         | Shows how the shape of the curve changes as the polynomial degree increases.  |\n",
        "| Detect Overfitting                | Overly wiggly or complex curves in the plot may indicate overfitting.         |\n",
        "| Communicating Results             | Easier to explain model behavior and findings to others using visual graphs.  |\n",
        "\n",
        "Typical Visuals Used:\n",
        "\n",
        "- Scatter plot of data points with polynomial regression curve.\n",
        "\n",
        "- Residual plots to check randomness of errors."
      ],
      "metadata": {
        "id": "0X8CTEE0sk_O"
      }
    },
    {
      "cell_type": "code",
      "source": [
        "'''Q.31 How is polynomial regression implemented in Python?'''"
      ],
      "metadata": {
        "id": "smEwtBr-uhLh"
      },
      "execution_count": null,
      "outputs": []
    },
    {
      "cell_type": "code",
      "source": [
        "# Step 1: Import required libraries\n",
        "import numpy as np\n",
        "import matplotlib.pyplot as plt\n",
        "from sklearn.linear_model import LinearRegression\n",
        "from sklearn.preprocessing import PolynomialFeatures\n",
        "from sklearn.metrics import mean_squared_error\n",
        "\n",
        "# Step 2: Sample data\n",
        "X = np.array([1, 2, 3, 4, 5]).reshape(-1, 1)\n",
        "y = np.array([1, 4, 9, 16, 25])  # y = x^2, perfect quadratic\n",
        "\n",
        "# Step 3: Transform input data to polynomial features (degree 2)\n",
        "poly = PolynomialFeatures(degree=2)\n",
        "X_poly = poly.fit_transform(X)\n",
        "\n",
        "# Step 4: Fit the model\n",
        "model = LinearRegression()\n",
        "model.fit(X_poly, y)\n",
        "\n",
        "# Step 5: Predict using the model\n",
        "y_pred = model.predict(X_poly)\n",
        "\n",
        "# Step 6: Visualize the results\n",
        "plt.scatter(X, y, color='blue', label='Actual')\n",
        "plt.plot(X, y_pred, color='red', label='Polynomial Fit')\n",
        "plt.title('Polynomial Regression (Degree 2)')\n",
        "plt.xlabel('X')\n",
        "plt.ylabel('y')\n",
        "plt.legend()\n",
        "plt.show()\n",
        "\n",
        "# Step 7: Evaluate the model\n",
        "mse = mean_squared_error(y, y_pred)\n",
        "print(\"Mean Squared Error:\", mse)\n"
      ],
      "metadata": {
        "colab": {
          "base_uri": "https://localhost:8080/",
          "height": 489
        },
        "id": "VnE6NDnuuxPU",
        "outputId": "1aa81ec7-46d3-4700-e7c9-c169e00c7bdd"
      },
      "execution_count": 1,
      "outputs": [
        {
          "output_type": "display_data",
          "data": {
            "text/plain": [
              "<Figure size 640x480 with 1 Axes>"
            ],
            "image/png": "[encoded data removed]"
          },
          "metadata": {}
        },
        {
          "output_type": "stream",
          "name": "stdout",
          "text": [
            "Mean Squared Error: 1.5146129380243426e-29\n"
          ]
        }
      ]
    }
  ]
}