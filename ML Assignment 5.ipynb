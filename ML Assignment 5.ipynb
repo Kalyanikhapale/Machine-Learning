{
  "nbformat": 4,
  "nbformat_minor": 0,
  "metadata": {
    "colab": {
      "provenance": []
    },
    "kernelspec": {
      "name": "python3",
      "display_name": "Python 3"
    },
    "language_info": {
      "name": "python"
    }
  },
  "cells": [
    {
      "cell_type": "markdown",
      "source": [
        "# THEROTICAL"
      ],
      "metadata": {
        "id": "Ljyh4YJHdU4n"
      }
    },
    {
      "cell_type": "code",
      "source": [
        "'''Q.1  What is Logistic Regression, and how does it differ from Linear Regression?'''"
      ],
      "metadata": {
        "id": "kf1IzcsJdaj2"
      },
      "execution_count": null,
      "outputs": []
    },
    {
      "cell_type": "markdown",
      "source": [
        "Logistic Regression is a supervised learning algorithm used for classification tasks, especially when the target variable is binary (e.g., 0 or 1, yes or no, spam or not spam).\n",
        "\n",
        "How Logistic Regression Works:\n",
        "\n",
        "* Instead of predicting a continuous value like linear regression, it predicts the probability that a given input belongs to a particular class.\n",
        "\n",
        "* It uses the sigmoid (logistic) function to convert the linear output into a probability between 0 and 1:\n",
        "\n",
        "  $$\n",
        "  P(y = 1 | X) = \\frac{1}{1 + e^{-(b_0 + b_1X_1 + b_2X_2 + \\dots + b_nX_n)}}\n",
        "  $$\n",
        "\n",
        "* If the predicted probability is greater than 0.5, the output is class 1; otherwise, class 0.\n",
        "\n",
        "Key Differences Between Logistic and Linear Regression:\n",
        "\n",
        "| Aspect            | Logistic Regression                        | Linear Regression                      |\n",
        "| -- |  | -- |\n",
        "| Output            | Probability (between 0 and 1)              | Continuous value                       |\n",
        "| Use case          | Classification (binary or multi-class)     | Regression (predicting numeric values) |\n",
        "| Algorithm Output  | Uses sigmoid to classify into categories   | Direct numeric prediction              |\n",
        "| Cost Function     | Log Loss (Cross-Entropy)                   | Mean Squared Error                     |\n",
        "| Decision boundary | Based on probability threshold (e.g., 0.5) | Not applicable                         |\n",
        "| Example           | Email spam detection                       | Predicting house prices                |\n",
        "\n",
        "\n"
      ],
      "metadata": {
        "id": "U1nFRVAZdmEM"
      }
    },
    {
      "cell_type": "code",
      "source": [
        "'''Q.2 What is the mathematical equation of Logistic Regression?'''"
      ],
      "metadata": {
        "id": "zmPA1Kn1eCvG"
      },
      "execution_count": null,
      "outputs": []
    },
    {
      "cell_type": "markdown",
      "source": [
        "The mathematical equation of Logistic Regression is based on the sigmoid (logistic) function, which maps any real-valued number into a probability between 0 and 1.\n",
        "\n",
        "1. Linear Combination (like in Linear Regression):\n",
        "\n",
        "$$\n",
        "z = b_0 + b_1x_1 + b_2x_2 + \\dots + b_nx_n = \\mathbf{w}^T\\mathbf{x}\n",
        "$$\n",
        "\n",
        "Where:\n",
        "\n",
        "* $z$ is the linear combination of features\n",
        "* $b_0$ is the intercept (bias)\n",
        "* $b_1, b_2, ..., b_n$ are the coefficients (weights)\n",
        "* $x_1, x_2, ..., x_n$ are the input features\n",
        "\n",
        "2. Sigmoid Function (to get probability):\n",
        "\n",
        "$$\n",
        "P(y = 1 \\mid x) = \\sigma(z) = \\frac{1}{1 + e^{-z}} = \\frac{1}{1 + e^{-(b_0 + b_1x_1 + \\dots + b_nx_n)}}\n",
        "$$\n",
        "\n",
        "This gives the probability that the output belongs to class 1.\n",
        "\n",
        "3. Decision Rule:\n",
        "\n",
        "* If $P(y = 1 \\mid x) \\geq 0.5$, predict class 1\n",
        "* If $P(y = 1 \\mid x) < 0.5$, predict class 0\n",
        "\n",
        "\n"
      ],
      "metadata": {
        "id": "vEXgUouxeITk"
      }
    },
    {
      "cell_type": "code",
      "source": [
        "'''Q.3 Why do we use the Sigmoid function in Logistic Regression?'''"
      ],
      "metadata": {
        "id": "OXP5Yj9CepYo"
      },
      "execution_count": null,
      "outputs": []
    },
    {
      "cell_type": "markdown",
      "source": [
        "We use the sigmoid function in logistic regression because it transforms the output of a linear equation into a probability value between 0 and 1, which is essential for binary classification tasks.\n",
        "\n",
        "Reasons for Using the Sigmoid Function:\n",
        "\n",
        "1. Probability Output\n",
        "   The sigmoid function converts the raw linear combination (which can be any real number) into a probability:\n",
        "\n",
        "   $$\n",
        "   \\sigma(z) = \\frac{1}{1 + e^{-z}} \\in (0, 1)\n",
        "   $$\n",
        "\n",
        "   This makes it suitable for estimating the likelihood that a sample belongs to class 1.\n",
        "\n",
        "2. Clear Decision Boundary\n",
        "   A threshold (commonly 0.5) can be applied to the output:\n",
        "\n",
        "   * If output ≥ 0.5 → predict class 1\n",
        "   * If output < 0.5 → predict class 0\n",
        "\n",
        "3. Smooth and Differentiable\n",
        "   The sigmoid function is smooth and differentiable, which allows gradient-based optimization (like gradient descent) during training.\n",
        "\n",
        "4. Monotonic Behavior\n",
        "   The function always increases, meaning a higher value of input $z$ leads to a higher probability, preserving the order.\n",
        "\n",
        "5. Center Around 0.5\n",
        "   When $z = 0$, the output is 0.5 — a neutral probability — making it intuitive for classification.\n",
        "\n",
        "\n",
        "\n",
        "In summary, the sigmoid function transforms linear predictions into interpretable probabilities, making it the core of logistic regression for binary outcomes.\n"
      ],
      "metadata": {
        "id": "iVjkMCQke4_P"
      }
    },
    {
      "cell_type": "code",
      "source": [
        "'''Q.4 What is the cost function of Logistic Regression?'''"
      ],
      "metadata": {
        "id": "Gb3jnEpofFNT"
      },
      "execution_count": null,
      "outputs": []
    },
    {
      "cell_type": "markdown",
      "source": [
        "The cost function of Logistic Regression is the Log Loss, also known as Binary Cross-Entropy Loss.\n",
        "\n",
        "It measures how well the predicted probabilities match the actual class labels (0 or 1), penalizing incorrect predictions more as their confidence increases.\n",
        "\n",
        "\n",
        "\n",
        " Cost Function (Log Loss)\n",
        "\n",
        "For binary classification, the cost function is defined as:\n",
        "\n",
        "$$\n",
        "J(\\theta) = -\\frac{1}{m} \\sum_{i=1}^{m} \\left[ y^{(i)} \\log(\\hat{y}^{(i)}) + (1 - y^{(i)}) \\log(1 - \\hat{y}^{(i)}) \\right]\n",
        "$$\n",
        "\n",
        "Where:\n",
        "\n",
        "* $m$ = number of training examples\n",
        "* $y^{(i)}$ = actual label (0 or 1)\n",
        "* $\\hat{y}^{(i)}$ = predicted probability $\\sigma(z^{(i)})$\n",
        "* $\\theta$ = model parameters (weights)\n",
        "\n",
        "\n",
        "\n",
        " Why Not Use Mean Squared Error (MSE)?\n",
        "\n",
        "* MSE is used in linear regression, but not suitable for logistic regression because:\n",
        "\n",
        "  * It leads to non-convex cost functions, making optimization harder.\n",
        "  * It doesn't model probability effectively.\n",
        "\n",
        "\n",
        "\n",
        " Goal\n",
        "\n",
        "Minimize $J(\\theta)$, which is typically done using gradient descent to update the weights iteratively.\n",
        "\n",
        "\n"
      ],
      "metadata": {
        "id": "o79IZC77fQ9j"
      }
    },
    {
      "cell_type": "code",
      "source": [
        "'''Q.5 What is Regularization in Logistic Regression? Why is it needed?'''"
      ],
      "metadata": {
        "id": "W6D6eNJkfxbv"
      },
      "execution_count": null,
      "outputs": []
    },
    {
      "cell_type": "markdown",
      "source": [
        "Regularization in logistic regression is a technique used to prevent overfitting by adding a penalty term to the cost function. This penalty discourages the model from learning overly complex patterns that may not generalize well to unseen data.\n",
        "\n",
        "\n",
        "\n",
        " Why is Regularization Needed?\n",
        "\n",
        "1. Prevents Overfitting\n",
        "   When the model becomes too complex (e.g., too many features or high coefficients), it may fit the noise in the training data. Regularization penalizes large weights, leading to a simpler, more generalizable model.\n",
        "\n",
        "2. Improves Generalization\n",
        "   Helps the model perform better on new, unseen data by controlling the complexity of the hypothesis.\n",
        "\n",
        "3. Feature Shrinkage\n",
        "   Some forms of regularization shrink irrelevant feature weights close to zero, effectively performing feature selection.\n",
        "\n",
        "\n",
        "\n",
        " Types of Regularization in Logistic Regression\n",
        "\n",
        "1. L2 Regularization (Ridge)\n",
        "\n",
        "Adds the squared magnitude of coefficients to the cost function:\n",
        "\n",
        "$$\n",
        "J(\\theta) = -\\frac{1}{m} \\sum \\left[ y \\log(\\hat{y}) + (1 - y) \\log(1 - \\hat{y}) \\right] + \\lambda \\sum \\theta_j^2\n",
        "$$\n",
        "\n",
        "* Keeps all features but shrinks coefficients.\n",
        "* Most commonly used in logistic regression.\n",
        "\n",
        "2. L1 Regularization (Lasso)\n",
        "\n",
        "Adds the absolute value of coefficients:\n",
        "\n",
        "$$\n",
        "J(\\theta) = -\\frac{1}{m} \\sum \\left[ y \\log(\\hat{y}) + (1 - y) \\log(1 - \\hat{y}) \\right] + \\lambda \\sum |\\theta_j|\n",
        "$$\n",
        "\n",
        "* Can set some coefficients exactly to zero → useful for feature selection.\n",
        "\n",
        "\n",
        "\n",
        " Summary\n",
        "\n",
        "Regularization is essential to make logistic regression models more robust, interpretable, and better-performing by controlling overfitting and encouraging simpler models.\n"
      ],
      "metadata": {
        "id": "YJTi2QF7f9Lr"
      }
    },
    {
      "cell_type": "code",
      "source": [
        "'''Q.6 Explain the difference between Lasso, Ridge, and Elastic Net regression'''"
      ],
      "metadata": {
        "id": "KRV24GkcgYqg"
      },
      "execution_count": null,
      "outputs": []
    },
    {
      "cell_type": "markdown",
      "source": [
        "Here’s a clear comparison of Lasso, Ridge, and Elastic Net regression—three regularization techniques used in linear and logistic regression to prevent overfitting and improve model generalization.\n",
        "\n",
        "\n",
        "\n",
        " 1. Ridge Regression (L2 Regularization)\n",
        "\n",
        "* Penalty term: Adds the sum of squared coefficients to the loss function.\n",
        "\n",
        "  $$\n",
        "  J(\\theta) = \\text{Loss} + \\lambda \\sum_{j=1}^{n} \\theta_j^2\n",
        "  $$\n",
        "\n",
        "* Effect:\n",
        "\n",
        "  * Shrinks all coefficients closer to zero.\n",
        "  * Does not eliminate any coefficients (i.e., keeps all features).\n",
        "  * Useful when all features are relevant but need regularization.\n",
        "\n",
        "\n",
        "\n",
        " 2. Lasso Regression (L1 Regularization)\n",
        "\n",
        "* Penalty term: Adds the sum of absolute values of coefficients.\n",
        "\n",
        "  $$\n",
        "  J(\\theta) = \\text{Loss} + \\lambda \\sum_{j=1}^{n} |\\theta_j|\n",
        "  $$\n",
        "\n",
        "* Effect:\n",
        "\n",
        "  * Shrinks some coefficients to exactly zero.\n",
        "  * Performs feature selection.\n",
        "  * Useful when only a few features are important.\n",
        "\n",
        "\n",
        "\n",
        " 3. Elastic Net Regression\n",
        "\n",
        "* Penalty term: Combination of L1 and L2 regularization.\n",
        "\n",
        "  $$\n",
        "  J(\\theta) = \\text{Loss} + \\lambda_1 \\sum |\\theta_j| + \\lambda_2 \\sum \\theta_j^2\n",
        "  $$\n",
        "\n",
        "* Effect:\n",
        "\n",
        "  * Balances between Ridge and Lasso.\n",
        "  * Handles multicollinearity better than Lasso.\n",
        "  * Selects variables and stabilizes model.\n",
        "\n",
        "\n",
        "\n",
        " Key Differences\n",
        "\n",
        "| Aspect            | Ridge              | Lasso              | Elastic Net               |\n",
        "| -- |  |  | - |\n",
        "| Penalty Type      | L2 (squared)       | L1 (absolute)      | L1 + L2                   |\n",
        "| Feature Selection | No                 | Yes                | Yes                       |\n",
        "| Coefficients      | Shrunk             | Some zero          | Some zero + shrink others |\n",
        "| Best When         | Many small effects | Few strong effects | Mixture of both           |\n",
        "\n",
        "\n",
        "\n",
        " Summary\n",
        "\n",
        "* Use Ridge when all features matter but need to avoid overfitting.\n",
        "* Use Lasso when you want a simpler model that automatically removes irrelevant features.\n",
        "* Use Elastic Net when you need both regularization and feature selection, especially with correlated predictors.\n",
        "\n"
      ],
      "metadata": {
        "id": "UjsO6gUDgyeS"
      }
    },
    {
      "cell_type": "code",
      "source": [
        "'''Q.7  When should we use Elastic Net instead of Lasso or Ridge?'''"
      ],
      "metadata": {
        "id": "uj0BWckOhAe8"
      },
      "execution_count": null,
      "outputs": []
    },
    {
      "cell_type": "markdown",
      "source": [
        "You should use Elastic Net instead of Lasso or Ridge when:\n",
        "\n",
        "\n",
        "\n",
        " 1. You Have Many Correlated Features\n",
        "\n",
        "* Lasso tends to pick only one feature from a group of correlated features and ignores the others.\n",
        "* Elastic Net can include groups of correlated variables in the model, which is often more appropriate.\n",
        "\n",
        "\n",
        "\n",
        " 2. You Need Both Feature Selection and Coefficient Shrinkage\n",
        "\n",
        "* Ridge keeps all variables (no feature selection), while Lasso performs variable selection but may be unstable.\n",
        "* Elastic Net combines both L1 and L2 penalties:\n",
        "\n",
        "  * Selects important features (like Lasso).\n",
        "  * Shrinks coefficients (like Ridge) to stabilize the model.\n",
        "\n",
        "\n",
        "\n",
        " 3. When Lasso is Too Aggressive or Unstable\n",
        "\n",
        "* In high-dimensional data (more features than samples), Lasso can behave erratically, dropping too many features or becoming sensitive to data noise.\n",
        "* Elastic Net balances this by using the L2 component to add robustness.\n",
        "\n",
        "\n",
        "\n",
        " 4. When the Number of Predictors Is Much Greater Than the Number of Observations (p >> n)\n",
        "\n",
        "* Lasso may select at most n variables before it saturates.\n",
        "* Elastic Net does not have this limitation and can handle high-dimensional datasets more effectively.\n",
        "\n",
        "\n",
        "\n",
        " In Summary:\n",
        "\n",
        "Use Elastic Net when:\n",
        "\n",
        "* Your predictors are highly correlated.\n",
        "* You want feature selection + coefficient shrinkage.\n",
        "* You're working with high-dimensional data.\n",
        "* Lasso or Ridge alone underperform or overfit.\n",
        "\n",
        "\n"
      ],
      "metadata": {
        "id": "E5YaFEQuhPDR"
      }
    },
    {
      "cell_type": "code",
      "source": [
        "'''Q.8  What is the impact of the regularization parameter (λ) in Logistic Regression?'''"
      ],
      "metadata": {
        "id": "LzfJtvBkhcE7"
      },
      "execution_count": null,
      "outputs": []
    },
    {
      "cell_type": "markdown",
      "source": [
        "The regularization parameter (λ) in logistic regression controls the strength of the penalty applied to the model's coefficients during training. Its value directly affects the complexity, performance, and generalization of the model.\n",
        "\n",
        "\n",
        "\n",
        " Impact of Regularization Parameter (λ):\n",
        "\n",
        "1. When λ is very large (high regularization):\n",
        "\n",
        "* The penalty term becomes dominant.\n",
        "* Coefficients are heavily shrunk toward zero.\n",
        "* The model becomes simpler, with less variance.\n",
        "* May lead to underfitting (too simple to capture patterns in the data).\n",
        "\n",
        "2. When λ is very small (low regularization):\n",
        "\n",
        "* The penalty is minimal.\n",
        "* Coefficients can take large values to fit the training data.\n",
        "* The model becomes more flexible with higher variance.\n",
        "* May lead to overfitting (captures noise in the training data).\n",
        "\n",
        "\n",
        "\n",
        " Trade-off:\n",
        "\n",
        "* High λ: Low variance, high bias → Underfitting.\n",
        "* Low λ: High variance, low bias → Overfitting.\n",
        "\n",
        "\n",
        "\n",
        " In scikit-learn (`LogisticRegression`):\n",
        "\n",
        "* The parameter is `C`, which is inverse of λ:\n",
        "\n",
        "  $$\n",
        "  C = \\frac{1}{\\lambda}\n",
        "  $$\n",
        "\n",
        "  * Large C → Less regularization (like small λ).\n",
        "  * Small C → More regularization (like large λ).\n",
        "\n",
        "\n",
        "\n",
        " Summary:\n",
        "\n",
        "The regularization parameter λ balances model complexity and performance:\n",
        "\n",
        "* Tune λ (or C) using cross-validation to find the best value for your dataset.\n",
        "* A well-chosen λ can significantly improve generalization on unseen data.\n"
      ],
      "metadata": {
        "id": "q4lgKX40hi2S"
      }
    },
    {
      "cell_type": "code",
      "source": [
        "'''Q.9 What are the key assumptions of Logistic Regression?'''"
      ],
      "metadata": {
        "id": "oRPlIrNMiQzZ"
      },
      "execution_count": null,
      "outputs": []
    },
    {
      "cell_type": "markdown",
      "source": [
        "1. Binary or Categorical Dependent Variable\n",
        "\n",
        "* The dependent variable should be binary (e.g., 0 or 1) for binary logistic regression.\n",
        "* Multinomial or ordinal logistic regression can be used for more than two classes.\n",
        "\n",
        "\n",
        "\n",
        " 2. Linear Relationship Between Independent Variables and Logit\n",
        "\n",
        "* Logistic regression assumes a linear relationship between the independent variables and the log odds (logit) of the dependent variable:\n",
        "\n",
        "  $$\n",
        "  \\log\\left(\\frac{p}{1 - p}\\right) = \\beta_0 + \\beta_1X_1 + \\beta_2X_2 + \\dots + \\beta_nX_n\n",
        "  $$\n",
        "\n",
        "\n",
        "\n",
        " 3. No or Little Multicollinearity\n",
        "\n",
        "* Independent variables should not be highly correlated with each other.\n",
        "* High multicollinearity can make estimates unreliable.\n",
        "* Use Variance Inflation Factor (VIF) to detect multicollinearity.\n",
        "\n",
        "\n",
        "\n",
        " 4. Independence of Observations\n",
        "\n",
        "* Observations should be independent of each other.\n",
        "* Violations (e.g., time series or clustered data) require specialized models (e.g., mixed-effects logistic regression).\n",
        "\n",
        "\n",
        "\n",
        " 5. Large Sample Size\n",
        "\n",
        "* Logistic regression requires a relatively large sample size, especially when the event of interest is rare.\n",
        "* This ensures stable and reliable estimates.\n",
        "\n",
        "\n",
        "\n",
        " 6. No Extreme Outliers\n",
        "\n",
        "* While logistic regression is more robust than linear regression, extreme outliers in independent variables can still distort the model.\n",
        "\n",
        "\n",
        "\n",
        " 7. Independent Variables Can Be Continuous or Categorical\n",
        "\n",
        "* Logistic regression can handle both types, but categorical variables must be encoded (e.g., one-hot encoding).\n",
        "\n",
        "\n",
        "\n",
        "\n",
        "\n"
      ],
      "metadata": {
        "id": "YTfjMaDLigvt"
      }
    },
    {
      "cell_type": "code",
      "source": [
        "'''Q.10 What are some alternatives to Logistic Regression for classification tasks?'''"
      ],
      "metadata": {
        "id": "ulNq8qKci2x0"
      },
      "execution_count": null,
      "outputs": []
    },
    {
      "cell_type": "markdown",
      "source": [
        "1. Decision Tree Classifier\n",
        "\n",
        "* Tree-based model that splits the data based on feature values.\n",
        "* Pros: Easy to interpret, no need for feature scaling.\n",
        "* Cons: Prone to overfitting.\n",
        "\n",
        "\n",
        "\n",
        " 2. Random Forest\n",
        "\n",
        "* An ensemble of decision trees using bagging (bootstrap aggregation).\n",
        "* Pros: Reduces overfitting, handles non-linearities well.\n",
        "* Cons: Less interpretable than a single tree.\n",
        "\n",
        "\n",
        "\n",
        " 3. Support Vector Machine (SVM)\n",
        "\n",
        "* Finds the optimal hyperplane to separate classes.\n",
        "* Pros: Effective in high-dimensional spaces.\n",
        "* Cons: Not ideal for large datasets, sensitive to kernel and parameters.\n",
        "\n",
        "\n",
        "\n",
        " 4. K-Nearest Neighbors (KNN)\n",
        "\n",
        "* Classifies based on the majority class of nearest neighbors.\n",
        "* Pros: Simple, no training phase.\n",
        "* Cons: Computationally expensive at prediction time, sensitive to irrelevant features.\n",
        "\n",
        "\n",
        "\n",
        " 5. Naive Bayes\n",
        "\n",
        "* Probabilistic classifier based on Bayes’ Theorem with strong independence assumptions.\n",
        "* Pros: Fast, works well with text data (e.g., spam detection).\n",
        "* Cons: Assumes feature independence, which may not hold true.\n",
        "\n",
        "\n",
        "\n",
        " 6. Gradient Boosting Machines (e.g., XGBoost, LightGBM, CatBoost)\n",
        "\n",
        "* Builds trees sequentially to correct previous errors.\n",
        "* Pros: High accuracy, handles mixed data types.\n",
        "* Cons: Requires tuning, longer training time.\n",
        "\n",
        "\n",
        "\n",
        " 7. Neural Networks\n",
        "\n",
        "* Multi-layer models that can learn complex patterns.\n",
        "* Pros: Powerful for large datasets and non-linear data.\n",
        "* Cons: Requires more data and computational power; less interpretable.\n",
        "\n",
        "\n",
        "\n",
        " 8. Linear Discriminant Analysis (LDA)\n",
        "\n",
        "* Projects features to a lower-dimensional space while preserving class separability.\n",
        "* Pros: Works well when class distributions are Gaussian.\n",
        "* Cons: Assumes equal class covariance matrices.\n",
        "\n",
        "\n",
        "\n",
        " 9. Quadratic Discriminant Analysis (QDA)\n",
        "\n",
        "* Similar to LDA but allows different covariance matrices.\n",
        "* Pros: More flexible than LDA.\n",
        "* Cons: Requires more data due to additional parameters.\n",
        "\n",
        "\n",
        "\n",
        " Model Selection Tip:\n",
        "\n",
        "| Scenario                                       | Suggested Model     |\n",
        "| - | - |\n",
        "| Small dataset, linear boundaries               | Logistic Regression |\n",
        "| Non-linear boundaries, interpretability needed | Decision Tree       |\n",
        "| High-dimensional data                          | SVM                 |\n",
        "| Text classification                            | Naive Bayes         |\n",
        "| Accuracy-focused, tabular data                 | XGBoost / LightGBM  |\n",
        "| Complex patterns, large dataset                | Neural Network      |\n",
        "\n",
        "\n",
        "\n",
        "\n"
      ],
      "metadata": {
        "id": "ihFKqWRkjXXF"
      }
    },
    {
      "cell_type": "code",
      "source": [
        "'''Q.11 What are Classification Evaluation Metrics?'''"
      ],
      "metadata": {
        "id": "WtFb06t1j82N"
      },
      "execution_count": null,
      "outputs": []
    },
    {
      "cell_type": "markdown",
      "source": [
        "Classification Evaluation Metrics are used to assess the performance of a classification model. They help determine how well the model is predicting the correct classes. Below are the key metrics:\n",
        "\n",
        "\n",
        "\n",
        " 1. Accuracy\n",
        "\n",
        "* Measures the overall correctness of the model.\n",
        "* Formula:\n",
        "  (True Positives + True Negatives) / Total Predictions\n",
        "* When to use: When classes are balanced.\n",
        "\n",
        "\n",
        "\n",
        " 2. Precision\n",
        "\n",
        "* Measures how many predicted positives are actually correct.\n",
        "* Formula:\n",
        "  True Positives / (True Positives + False Positives)\n",
        "* When to use: When false positives are costly (e.g., spam detection).\n",
        "\n",
        "\n",
        "\n",
        " 3. Recall (Sensitivity or True Positive Rate)\n",
        "\n",
        "* Measures how many actual positives were correctly predicted.\n",
        "* Formula:\n",
        "  True Positives / (True Positives + False Negatives)\n",
        "* When to use: When false negatives are costly (e.g., cancer detection).\n",
        "\n",
        "\n",
        "\n",
        " 4. F1-Score\n",
        "\n",
        "* Harmonic mean of precision and recall.\n",
        "* Formula:\n",
        "  2 \\* (Precision \\* Recall) / (Precision + Recall)\n",
        "* When to use: When both false positives and false negatives are important.\n",
        "\n",
        "\n",
        "\n",
        " 5. Specificity (True Negative Rate)\n",
        "\n",
        "* Measures how well the model identifies actual negatives.\n",
        "* Formula:\n",
        "  True Negatives / (True Negatives + False Positives)\n",
        "\n",
        "\n",
        "\n",
        " 6. Confusion Matrix\n",
        "\n",
        "* A table showing correct and incorrect predictions.\n",
        "* Rows: Actual classes\n",
        "* Columns: Predicted classes\n",
        "* Used to compute all other metrics.\n",
        "\n",
        "\n",
        "\n",
        " 7. ROC Curve (Receiver Operating Characteristic)\n",
        "\n",
        "* Plots True Positive Rate vs. False Positive Rate at different thresholds.\n",
        "* Helps visualize model performance.\n",
        "\n",
        "\n",
        "\n",
        " 8. AUC (Area Under the ROC Curve)\n",
        "\n",
        "* Represents the overall ability of the model to discriminate between classes.\n",
        "* Closer to 1 means better performance.\n",
        "\n",
        "\n",
        "\n",
        " 9. Log Loss (Logarithmic Loss)\n",
        "\n",
        "* Penalizes false classifications more heavily.\n",
        "* Lower values indicate better performance.\n",
        "\n",
        "\n"
      ],
      "metadata": {
        "id": "gQOQC0nqkKba"
      }
    },
    {
      "cell_type": "code",
      "source": [
        "'''Q.12  How does class imbalance affect Logistic Regression?'''"
      ],
      "metadata": {
        "id": "Jx-kuOAqkgLn"
      },
      "execution_count": null,
      "outputs": []
    },
    {
      "cell_type": "markdown",
      "source": [
        "Class imbalance significantly affects the performance of Logistic Regression and other classification models. Here's a detailed explanation:\n",
        "\n",
        "\n",
        "\n",
        " What is Class Imbalance?\n",
        "\n",
        "Class imbalance occurs when one class significantly outnumbers the other(s). For example, in a dataset for fraud detection:\n",
        "\n",
        "* Class 0 (non-fraud): 98%\n",
        "* Class 1 (fraud): 2%\n",
        "\n",
        "\n",
        "\n",
        " How It Affects Logistic Regression\n",
        "\n",
        "1. Biased Predictions\n",
        "\n",
        "   * Logistic Regression tends to favor the majority class because it minimizes overall error.\n",
        "   * The model might predict all samples as the majority class to maximize accuracy.\n",
        "\n",
        "2. Misleading Accuracy\n",
        "\n",
        "   * A high accuracy may be misleading. For example, if 98% of the data is class 0, a model predicting everything as class 0 will still have 98% accuracy but 0% recall for the minority class.\n",
        "\n",
        "3. Poor Recall for Minority Class\n",
        "\n",
        "   * The model may fail to detect important minority class instances (e.g., fraud, disease, defects).\n",
        "\n",
        "4. Skewed Probability Threshold\n",
        "\n",
        "   * The default decision threshold (0.5) may not be optimal for imbalanced data and often needs adjustment.\n",
        "\n",
        "\n",
        "\n",
        " How to Handle Class Imbalance in Logistic Regression\n",
        "\n",
        "1. Resampling Techniques\n",
        "\n",
        "   * Oversampling the minority class (e.g., SMOTE)\n",
        "   * Undersampling the majority class\n",
        "\n",
        "2. Class Weights\n",
        "\n",
        "   * Use `class_weight='balanced'` in logistic regression (e.g., in scikit-learn)\n",
        "   * Penalizes misclassification of the minority class more heavily\n",
        "\n",
        "   ```python\n",
        "   from sklearn.linear_model import LogisticRegression\n",
        "   model = LogisticRegression(class_weight='balanced')\n",
        "   ```\n",
        "\n",
        "3. Evaluation Metrics\n",
        "\n",
        "   * Use metrics like Precision, Recall, F1-score, AUC-ROC instead of just accuracy.\n",
        "\n",
        "4. Adjusting Decision Threshold\n",
        "\n",
        "   * Tune the classification threshold to improve recall or precision for the minority class.\n",
        "\n",
        "5. Ensemble Methods\n",
        "\n",
        "   * Combine Logistic Regression with boosting techniques like AdaBoost or XGBoost, which handle imbalance better.\n",
        "\n",
        "\n"
      ],
      "metadata": {
        "id": "nLSWQNVrkvcL"
      }
    },
    {
      "cell_type": "code",
      "source": [
        "'''Q.13 What is Hyperparameter Tuning in Logistic Regression?'''"
      ],
      "metadata": {
        "id": "fb1-aKS2k-K_"
      },
      "execution_count": null,
      "outputs": []
    },
    {
      "cell_type": "markdown",
      "source": [
        "Hyperparameter Tuning in Logistic Regression refers to the process of finding the best set of hyperparameters (settings) that optimize the model's performance on unseen data.\n",
        "\n",
        "What Are Hyperparameters in Logistic Regression?\n",
        "\n",
        "Unlike model parameters (like weights and bias, which are learned from data), hyperparameters are set before training and control the learning process.\n",
        "\n",
        "Key hyperparameters in Logistic Regression (especially in scikit-learn) include:\n",
        "\n",
        "| Hyperparameter | Description                                                                    |\n",
        "| -------------- | ------------------------------------------------------------------------------ |\n",
        "| `C`            | Inverse of regularization strength (smaller `C` means stronger regularization) |\n",
        "| `penalty`      | Type of regularization (`l1`, `l2`, `elasticnet`, or `none`)                   |\n",
        "| `solver`       | Optimization algorithm (`liblinear`, `saga`, `lbfgs`, etc.)                    |\n",
        "| `max_iter`     | Maximum number of iterations for convergence                                   |\n",
        "| `class_weight` | Adjusts weights for imbalanced classes                                         |\n",
        "\n",
        "Why Hyperparameter Tuning Is Important\n",
        "\n",
        "- Prevents overfitting or underfitting\n",
        "\n",
        "- Improves accuracy, recall, F1-score, or other metrics\n",
        "\n",
        "- Helps deal with class imbalance, regularization, and convergence issues\n",
        "\n",
        "Common Hyperparameter Tuning Methods\n",
        "1. Grid Search\n",
        "\n",
        "- Tests all combinations of specified values"
      ],
      "metadata": {
        "id": "5C1-H8Z2lDPl"
      }
    },
    {
      "cell_type": "markdown",
      "source": [
        "```python\n",
        "from sklearn.model_selection import GridSearchCV\n",
        "from sklearn.linear_model import LogisticRegression\n",
        "\n",
        "param_grid = {\n",
        "    'C': [0.01, 0.1, 1, 10],\n",
        "    'penalty': ['l1', 'l2'],\n",
        "    'solver': ['liblinear']\n",
        "}\n",
        "\n",
        "model = LogisticRegression()\n",
        "grid = GridSearchCV(model, param_grid, cv=5, scoring='f1')\n",
        "grid.fit(X_train, y_train)\n",
        "```"
      ],
      "metadata": {
        "id": "onmzOrYom4W6"
      }
    },
    {
      "cell_type": "markdown",
      "source": [
        "2. Random Search\n",
        "\n",
        "- Randomly samples combinations of hyperparameters"
      ],
      "metadata": {
        "id": "82oRtKaHl4TD"
      }
    },
    {
      "cell_type": "markdown",
      "source": [
        "```python\n",
        "from sklearn.model_selection import RandomizedSearchCV\n",
        "\n",
        "random = RandomizedSearchCV(model, param_grid, n_iter=10, cv=5, scoring='f1')\n",
        "random.fit(X_train, y_train)\n",
        "```"
      ],
      "metadata": {
        "id": "mz1OgHQ_mgWe"
      }
    },
    {
      "cell_type": "markdown",
      "source": [
        "3. Bayesian Optimization (advanced)\n",
        "\n",
        "- Uses probabilistic models to choose the best hyperparameters efficiently (e.g., with Optuna or scikit-optimize)\n",
        "\n",
        "Example: Tuning Regularization Parameter C\n",
        "\n",
        "- High C (e.g., 10) → Less regularization → Model may overfit\n",
        "\n",
        "- Low C (e.g., 0.01) → More regularization → Model may underfit\n",
        "\n",
        "- Ideal C balances bias and variance\n",
        "\n"
      ],
      "metadata": {
        "id": "Ol52RqyPmOFP"
      }
    },
    {
      "cell_type": "code",
      "source": [
        "'''Q.14 What are different solvers in Logistic Regression? Which one should be used?'''"
      ],
      "metadata": {
        "id": "-KEyDDIpnDAL"
      },
      "execution_count": null,
      "outputs": []
    },
    {
      "cell_type": "markdown",
      "source": [
        "In Logistic Regression, a solver is the algorithm used to optimize the cost function. Each solver has different strengths based on data size, regularization type, and sparsity.\n",
        "\n",
        "List of Solvers in scikit-learn Logistic Regression\n",
        "\n",
        "| Solver        | Description                                                                     | Supports L1? | Supports L2? | Multiclass?       | Works for large datasets? |\n",
        "| ------------- | ------------------------------------------------------------------------------- | ------------ | ------------ | ----------------- | ------------------------- |\n",
        "| liblinear | Good for small datasets, supports L1 & L2 regularization                        | Yes          | Yes          | One-vs-Rest       | No                        |\n",
        "| lbfgs     | Fast and robust, uses quasi-Newton method; good for multiclass                  | No           | Yes          | Multinomial & OvR | Yes                       |\n",
        "| sag       | Stochastic Average Gradient descent; faster on large datasets (n > 10k)         | No           | Yes          | Multinomial & OvR | Yes                       |\n",
        "| saga      | Extension of sag; supports L1, L2, and Elastic Net; works well with sparse data | Yes          | Yes          | Multinomial & OvR | Yes                       |\n",
        "| newton-cg | Uses Newton’s method; works well for L2 and multiclass classification           | No           | Yes          | Multinomial & OvR | Yes                       |\n",
        "\n",
        "Which Solver to Use?\n",
        "\n",
        "* liblinear\n",
        "\n",
        "  * Best for small datasets\n",
        "  * Use when L1 regularization is needed\n",
        "  * Default for binary classification if no solver is specified\n",
        "\n",
        "* lbfgs\n",
        "\n",
        "  * Recommended for multiclass problems\n",
        "  * Works well with L2 regularization\n",
        "  * Default for many logistic regression tasks\n",
        "\n",
        "* sag\n",
        "\n",
        "  * Good for large datasets\n",
        "  * Requires L2 regularization\n",
        "\n",
        "* saga\n",
        "\n",
        "  * Best for large, sparse datasets\n",
        "  * Only one supporting L1, L2, and ElasticNet\n",
        "  * Useful for online learning\n",
        "\n",
        "* newton-cg\n",
        "\n",
        "  * Suitable for multiclass problems\n",
        "  * Slower but can be more accurate\n",
        "\n",
        "Quick Recommendation Table\n",
        "\n",
        "| Situation                             | Recommended Solver |\n",
        "| ------------------------------------- | ------------------ |\n",
        "| Small dataset                         | liblinear          |\n",
        "| Large dataset                         | saga or sag        |\n",
        "| Multiclass classification             | lbfgs or saga      |\n",
        "| Need L1 or Elastic Net regularization | liblinear or saga  |\n",
        "| Sparse features                       | saga               |\n",
        "\n",
        "\n"
      ],
      "metadata": {
        "id": "39DT36CcnJyK"
      }
    },
    {
      "cell_type": "code",
      "source": [
        "'''Q.15 How is Logistic Regression extended for multiclass classification?'''"
      ],
      "metadata": {
        "id": "7dMccMkinohG"
      },
      "execution_count": null,
      "outputs": []
    },
    {
      "cell_type": "markdown",
      "source": [
        "Logistic Regression is naturally a binary classifier (i.e., it predicts two classes), but it can be extended to handle multiclass classification using the following approaches:\n",
        "\n",
        "\n",
        " 1. One-vs-Rest (OvR) or One-vs-All\n",
        "\n",
        "* How it works:\n",
        "\n",
        "  * For K classes, train K separate binary classifiers.\n",
        "  * Each classifier distinguishes one class vs. the rest.\n",
        "  * For prediction, choose the class whose classifier gives the highest probability.\n",
        "\n",
        "* Used by: `liblinear`, `saga`, `newton-cg` (by default unless otherwise specified)\n",
        "\n",
        "* Pros: Simple, interpretable\n",
        "\n",
        "* Cons: May lead to ambiguous predictions if multiple classifiers have similar confidence scores.\n",
        "\n",
        "\n",
        "\n",
        " 2. Multinomial (Softmax Regression)\n",
        "\n",
        "* How it works:\n",
        "\n",
        "  * Trains a single model that predicts the probability of each class using the softmax function.\n",
        "  * Generalizes the sigmoid function to multiple classes.\n",
        "\n",
        "* Cost function: Cross-entropy loss for all classes simultaneously.\n",
        "\n",
        "* Used by: `lbfgs`, `saga`, `newton-cg` (when `multi_class='multinomial'` is specified)\n",
        "\n",
        "* Pros: Considers all classes at once; more accurate for mutually exclusive classes\n",
        "\n",
        "* Cons: More computationally expensive than OvR\n",
        "\n",
        "\n",
        "\n",
        " Example in scikit-learn:\n",
        "\n",
        "```python\n",
        "from sklearn.linear_model import LogisticRegression\n",
        "from sklearn.datasets import load_iris\n",
        "from sklearn.model_selection import train_test_split\n",
        "\n",
        "# Load data\n",
        "X, y = load_iris(return_X_y=True)\n",
        "\n",
        "# Multinomial Logistic Regression\n",
        "model = LogisticRegression(multi_class='multinomial', solver='lbfgs', max_iter=200)\n",
        "model.fit(X, y)\n",
        "\n",
        "print(\"Classes:\", model.classes_)\n",
        "print(\"Predicted:\", model.predict(X[:5]))\n",
        "```\n",
        "\n",
        "\n",
        "\n",
        " Summary\n",
        "\n",
        "| Approach    | Method                     | Suitable Solvers       | Best For                      |\n",
        "| ----------- | -------------------------- | ---------------------- | ----------------------------- |\n",
        "| One-vs-Rest | K binary classifiers       | liblinear, saga        | Simpler datasets              |\n",
        "| Multinomial | Single softmax-based model | lbfgs, saga, newton-cg | More complex, multiclass data |\n",
        "\n",
        "\n"
      ],
      "metadata": {
        "id": "j582MB3on6G3"
      }
    },
    {
      "cell_type": "code",
      "source": [
        "'''Q.16  What are the advantages and disadvantages of Logistic Regression?'''"
      ],
      "metadata": {
        "id": "4M-8sbgGodp9"
      },
      "execution_count": null,
      "outputs": []
    },
    {
      "cell_type": "markdown",
      "source": [
        "\n",
        "\n",
        " Advantages of Logistic Regression\n",
        "\n",
        "1. Simple and easy to implement\n",
        "\n",
        "   * Logistic Regression is easy to understand, interpret, and implement, making it suitable for baseline models.\n",
        "\n",
        "2. Fast training and prediction\n",
        "\n",
        "   * It has low computational complexity and trains quickly, even on large datasets.\n",
        "\n",
        "3. Probabilistic interpretation\n",
        "\n",
        "   * Outputs probabilities that can be useful for decision-making (e.g., in medical diagnosis or risk assessment).\n",
        "\n",
        "4. Less prone to overfitting with regularization\n",
        "\n",
        "   * L1 (Lasso) and L2 (Ridge) regularization help prevent overfitting.\n",
        "\n",
        "5. Works well with linearly separable data\n",
        "\n",
        "   * Provides good performance when classes are linearly separable.\n",
        "\n",
        "6. Feature importance\n",
        "\n",
        "   * Coefficients help in understanding the effect of each feature on the prediction.\n",
        "\n",
        "\n",
        "\n",
        " Disadvantages of Logistic Regression\n",
        "\n",
        "1. Assumes linear relationship\n",
        "\n",
        "   * Assumes a linear relationship between the independent variables and the log-odds of the target variable, which may not always hold true.\n",
        "\n",
        "2. Not suitable for complex relationships\n",
        "\n",
        "   * Fails to perform well if the decision boundary is non-linear or complex.\n",
        "\n",
        "3. Sensitive to outliers\n",
        "\n",
        "   * Outliers can significantly affect model performance if not handled properly.\n",
        "\n",
        "4. Requires little or no multicollinearity\n",
        "\n",
        "   * High correlation among features (multicollinearity) can distort the coefficients and reduce model interpretability.\n",
        "\n",
        "5. Limited to binary or multinomial classification\n",
        "\n",
        "   * Cannot naturally handle ordinal or hierarchical classes without additional modeling.\n",
        "\n",
        "6. Needs large sample size\n",
        "\n",
        "   * Performs poorly with very small datasets or highly imbalanced data without resampling or class-weight adjustments.\n",
        "\n",
        "\n"
      ],
      "metadata": {
        "id": "cTJvc_cboolK"
      }
    },
    {
      "cell_type": "code",
      "source": [
        "'''Q.17 What are some use cases of Logistic Regression?'''"
      ],
      "metadata": {
        "id": "1zHCbiYCpEEy"
      },
      "execution_count": null,
      "outputs": []
    },
    {
      "cell_type": "markdown",
      "source": [
        "Here are some common and important use cases of Logistic Regression across various industries:\n",
        "\n",
        "\n",
        "\n",
        " 1. Medical Diagnosis\n",
        "\n",
        "* Disease prediction: Predict whether a patient has a certain disease (e.g., diabetes, heart disease, cancer) based on medical parameters.\n",
        "* Outcome prediction: Estimate the probability of survival or recovery after treatment.\n",
        "\n",
        "\n",
        "\n",
        " 2. Marketing and Sales\n",
        "\n",
        "* Customer churn prediction: Determine whether a customer is likely to stop using a service.\n",
        "* Lead conversion: Predict whether a marketing lead will convert into a paying customer.\n",
        "* Response modeling: Identify if a customer will respond to a marketing campaign.\n",
        "\n",
        "\n",
        "\n",
        " 3. Banking and Finance\n",
        "\n",
        "* Credit scoring: Assess the probability that a loan applicant will default on a loan.\n",
        "* Fraud detection: Classify whether a transaction is fraudulent or not.\n",
        "\n",
        "\n",
        "\n",
        " 4. Human Resources\n",
        "\n",
        "* Employee attrition: Predict whether an employee is likely to leave the company.\n",
        "* Hiring decisions: Predict if a candidate will be a good fit based on their profile.\n",
        "\n",
        "\n",
        "\n",
        " 5. E-commerce and Retail\n",
        "\n",
        "* Purchase prediction: Predict if a user will buy a product after viewing it.\n",
        "* Click-through rate prediction: Estimate whether a user will click on an ad.\n",
        "\n",
        "\n",
        "\n",
        " 6. Political Science\n",
        "\n",
        "* Voter prediction: Predict whether a person will vote for a certain party based on demographics and survey data.\n",
        "\n",
        "\n",
        "\n",
        " 7. Manufacturing\n",
        "\n",
        "* Product defect detection: Predict whether a product is defective based on input parameters.\n",
        "* Maintenance prediction: Predict if a machine will fail soon (binary classification: fail or not fail).\n",
        "\n",
        "\n",
        "\n",
        " 8. Education\n",
        "\n",
        "* Student dropout prediction: Predict whether a student will drop out based on academic and personal data.\n",
        "* Admission prediction: Estimate the likelihood of a student being admitted to a program.\n",
        "\n"
      ],
      "metadata": {
        "id": "ME6ma2QGpRs3"
      }
    },
    {
      "cell_type": "code",
      "source": [
        "'''Q.18 What is the difference between Softmax Regression and Logistic Regression?'''"
      ],
      "metadata": {
        "id": "jhpedrPppx6x"
      },
      "execution_count": null,
      "outputs": []
    },
    {
      "cell_type": "markdown",
      "source": [
        "Difference Between Softmax Regression and Logistic Regression\n",
        "\n",
        "| Aspect                     | Logistic Regression                              | Softmax Regression (Multinomial Logistic Regression)                   |         |                                                                             |\n",
        "| -------------------------- | ---------------------------------------------------- | -------------------------------------------------------------------------- | ------- | --------------------------------------------------------------------------- |\n",
        "| Type of Classification | Binary Classification (2 classes)                    | Multiclass Classification (3 or more classes)                              |         |                                                                             |\n",
        "| Output                 | Probability of class 1 (and by subtraction, class 0) | Probability distribution across all classes                                |         |                                                                             |\n",
        "| Activation Function    | Sigmoid Function                                     | Softmax Function                                                           |         |                                                                             |\n",
        "| Equation               | ( P(y=1                                              | x) = \\frac{1}{1 + e^{-(\\beta\\_0 + \\beta\\_1x\\_1 + \\dots + \\beta\\_nx\\_n)}} ) | ( P(y=i | x) = \\frac{e^{\\beta\\_i^T x}}{\\sum\\_{j=1}^K e^{\\beta\\_j^T x}} ), for class i |\n",
        "| Decision Boundary      | Linear (in binary space)                             | Linear boundaries between multiple classes                                 |         |                                                                             |\n",
        "| Loss Function          | Binary Cross-Entropy (Log Loss)                      | Categorical Cross-Entropy (Multinomial Log Loss)                           |         |                                                                             |\n",
        "| Used When              | When the target has two categories (e.g., 0 or 1)    | When the target has more than two categories (e.g., 0, 1, 2, ..., k)       |         |                                                                             |\n",
        "| Model Complexity       | Simpler                                              | More complex (one set of weights per class)                                |         |                                                                             |\n",
        "\n",
        "\n",
        "\n",
        "Summary\n",
        "\n",
        "* Use Logistic Regression when you're solving a binary classification problem.\n",
        "* Use Softmax Regression when you need to handle multiclass classification problems (where a sample can belong to only one of three or more classes).\n"
      ],
      "metadata": {
        "id": "TK8L92PvqMRS"
      }
    },
    {
      "cell_type": "code",
      "source": [
        "'''Q.19 How do we choose between One-vs-Rest (OvR) and Softmax for multiclass classification?'''"
      ],
      "metadata": {
        "id": "6j_8uPIgqaZe"
      },
      "execution_count": null,
      "outputs": []
    },
    {
      "cell_type": "markdown",
      "source": [
        " Choosing Between One-vs-Rest (OvR) and Softmax for Multiclass Classification\n",
        "\n",
        "When performing multiclass classification, both One-vs-Rest (OvR) and Softmax (Multinomial Logistic Regression) can be used. Here's how to choose between them:\n",
        "\n",
        "\n",
        "\n",
        "1. Understanding the Methods\n",
        "\n",
        "| Method                                        | Description                                                                                                                                                   |\n",
        "| --------------------------------------------- | ------------------------------------------------------------------------------------------------------------------------------------------------------------- |\n",
        "| One-vs-Rest (OvR)                         | Trains one binary classifier per class. Each classifier separates one class from all others. Final prediction is the class with the highest confidence score. |\n",
        "| Softmax (Multinomial Logistic Regression) | Trains a single model that directly predicts probabilities for all classes simultaneously using the softmax function.                                         |\n",
        "\n",
        "\n",
        "\n",
        "2. Comparison Table\n",
        "\n",
        "| Criteria                | One-vs-Rest (OvR)                                  | Softmax (Multinomial Logistic Regression)                                              |\n",
        "| ----------------------- | -------------------------------------------------- | -------------------------------------------------------------------------------------- |\n",
        "| Number of Models    | One per class (K binary classifiers)               | One unified model                                                                      |\n",
        "| Training Complexity | Simpler to train each classifier separately        | Slightly more complex (joint optimization)                                             |\n",
        "| Prediction Speed    | Slower (runs multiple classifiers)                 | Faster (single pass)                                                                   |\n",
        "| Performance         | Good if classes are well-separated                 | Better for correlated or overlapping classes                                           |\n",
        "| Interpretability    | Easier to interpret each classifier                | Slightly harder to interpret                                                           |\n",
        "| Libraries Support   | Widely supported (e.g., `scikit-learn`)            | Supported (e.g., `sklearn.linear_model.LogisticRegression(multi_class='multinomial')`) |\n",
        "| When to Use         | Small number of classes, imbalance between classes | Many classes or complex decision boundaries                                            |\n",
        "\n",
        "\n",
        "3. When to Use Which\n",
        "\n",
        "* Use OvR if:\n",
        "\n",
        "  * You have a small number of classes.\n",
        "  * Your data is imbalanced.\n",
        "  * You want better interpretability for each class individually.\n",
        "\n",
        "* Use Softmax if:\n",
        "\n",
        "  * You have many classes.\n",
        "  * Classes are mutually exclusive and not well separated.\n",
        "  * You need better overall model coherence and performance.\n",
        "\n",
        "\n",
        "\n",
        "4. Example in scikit-learn\n",
        "\n",
        "```python\n",
        "from sklearn.linear_model import LogisticRegression\n",
        "\n",
        "# One-vs-Rest (default)\n",
        "model_ovr = LogisticRegression(multi_class='ovr')\n",
        "\n",
        "# Softmax (Multinomial)\n",
        "model_softmax = LogisticRegression(multi_class='multinomial', solver='lbfgs')\n",
        "```\n",
        "\n",
        "\n"
      ],
      "metadata": {
        "id": "9hXyJskBqo16"
      }
    },
    {
      "cell_type": "code",
      "source": [
        "'''Q.20 How do we interpret coefficients in Logistic Regression?'''"
      ],
      "metadata": {
        "id": "ixCrSemmsCJr"
      },
      "execution_count": null,
      "outputs": []
    },
    {
      "cell_type": "markdown",
      "source": [
        " Interpretation of Coefficients in Logistic Regression\n",
        "\n",
        "In Logistic Regression, the coefficients represent the log-odds of the outcome. Here's how to interpret them:\n",
        "\n",
        "\n",
        "\n",
        " 1. Logistic Regression Equation\n",
        "\n",
        "For binary classification, the logistic regression model is:\n",
        "\n",
        "$$\n",
        "\\log\\left(\\frac{p}{1 - p}\\right) = \\beta_0 + \\beta_1 x_1 + \\beta_2 x_2 + \\dots + \\beta_n x_n\n",
        "$$\n",
        "\n",
        "Where:\n",
        "\n",
        "* $p$ is the probability of the positive class\n",
        "* $\\beta_0$ is the intercept\n",
        "* $\\beta_i$ are the feature coefficients\n",
        "* $x_i$ are the feature values\n",
        "\n",
        "\n",
        "\n",
        " 2. Interpretation of Coefficients (β)\n",
        "\n",
        "* Each coefficient $\\beta_i$ represents the change in the log-odds of the outcome for a one-unit increase in feature $x_i$, holding all other variables constant.\n",
        "\n",
        "* If $\\beta_i > 0$: As $x_i$ increases, the log-odds of the positive class increase → probability of the positive class increases.\n",
        "\n",
        "* If $\\beta_i < 0$: As $x_i$ increases, the log-odds of the positive class decrease → probability of the positive class decreases.\n",
        "\n",
        "\n",
        "\n",
        " 3. From Log-Odds to Odds Ratio\n",
        "\n",
        "To make interpretation easier, we convert the log-odds to odds ratio:\n",
        "\n",
        "$$\n",
        "\\text{Odds Ratio} = e^{\\beta_i}\n",
        "$$\n",
        "\n",
        "* If $e^{\\beta_i} > 1$: A one-unit increase in $x_i$ increases the odds of the positive class.\n",
        "* If $e^{\\beta_i} < 1$: A one-unit increase in $x_i$ decreases the odds.\n",
        "* If $e^{\\beta_i} = 1$: No effect on the odds.\n",
        "\n",
        "\n",
        "\n",
        " 4. Example\n",
        "\n",
        "Suppose a logistic regression outputs:\n",
        "\n",
        "* $\\beta_1 = 0.693$\n",
        "\n",
        "Then:\n",
        "\n",
        "* Log-odds increase by 0.693 for a one-unit increase in $x_1$\n",
        "* Odds ratio = $e^{0.693} ≈ 2$\n",
        "* Interpretation: A one-unit increase in $x_1$ doubles the odds of the outcome being in the positive class.\n",
        "\n",
        "\n",
        "\n",
        " 5. For Categorical Variables\n",
        "\n",
        "* Categorical variables (after encoding) compare the effect of one category vs the reference category.\n",
        "* Coefficients show how the presence of a category affects the odds compared to the baseline.\n",
        "\n"
      ],
      "metadata": {
        "id": "qPms34ppskMF"
      }
    },
    {
      "cell_type": "markdown",
      "source": [
        "# PRACTICAL"
      ],
      "metadata": {
        "id": "3KgPBCZvs-ug"
      }
    },
    {
      "cell_type": "code",
      "source": [
        "'''Q.1 Write a Python program that loads a dataset, splits it into training and testing sets, applies Logistic Regression, and prints the model accuracy'''"
      ],
      "metadata": {
        "id": "a_c8BsmstEeE"
      },
      "execution_count": null,
      "outputs": []
    },
    {
      "cell_type": "code",
      "source": [
        "# Import necessary libraries\n",
        "from sklearn.datasets import load_iris\n",
        "from sklearn.model_selection import train_test_split\n",
        "from sklearn.linear_model import LogisticRegression\n",
        "from sklearn.metrics import accuracy_score\n",
        "\n",
        "# Load the Iris dataset\n",
        "iris = load_iris()\n",
        "X = iris.data\n",
        "y = iris.target\n",
        "\n",
        "# Split the data into training and testing sets (80% train, 20% test)\n",
        "X_train, X_test, y_train, y_test = train_test_split(X, y, test_size=0.2, random_state=42)\n",
        "\n",
        "# Create and train the Logistic Regression model\n",
        "model = LogisticRegression(max_iter=200)\n",
        "model.fit(X_train, y_train)\n",
        "\n",
        "# Make predictions on the test set\n",
        "y_pred = model.predict(X_test)\n",
        "\n",
        "# Calculate and print the accuracy\n",
        "accuracy = accuracy_score(y_test, y_pred)\n",
        "print(\"Logistic Regression Model Accuracy:\", accuracy)\n"
      ],
      "metadata": {
        "colab": {
          "base_uri": "https://localhost:8080/"
        },
        "id": "C7nxmQR5tPve",
        "outputId": "df3d4db7-9734-4769-8d7a-f454dc7cbe39"
      },
      "execution_count": 4,
      "outputs": [
        {
          "output_type": "stream",
          "name": "stdout",
          "text": [
            "Logistic Regression Model Accuracy: 1.0\n"
          ]
        }
      ]
    },
    {
      "cell_type": "code",
      "source": [
        "'''Q.2  Write a Python program to apply L1 regularization (Lasso) on a dataset using LogisticRegression(penalty='l1')\n",
        "and print the model accuracy'''"
      ],
      "metadata": {
        "id": "GJjPrFC8tiMd"
      },
      "execution_count": null,
      "outputs": []
    },
    {
      "cell_type": "code",
      "source": [
        "# Import required libraries\n",
        "from sklearn.datasets import load_iris\n",
        "from sklearn.model_selection import train_test_split\n",
        "from sklearn.linear_model import LogisticRegression\n",
        "from sklearn.metrics import accuracy_score\n",
        "from sklearn.preprocessing import StandardScaler\n",
        "\n",
        "# Load the Iris dataset\n",
        "iris = load_iris()\n",
        "X = iris.data\n",
        "y = iris.target\n",
        "\n",
        "# Standardize features (important for L1 regularization)\n",
        "scaler = StandardScaler()\n",
        "X_scaled = scaler.fit_transform(X)\n",
        "\n",
        "# Split into training and testing sets\n",
        "X_train, X_test, y_train, y_test = train_test_split(X_scaled, y, test_size=0.2, random_state=42)\n",
        "\n",
        "# Create a Logistic Regression model with L1 regularization\n",
        "model = LogisticRegression(penalty='l1', solver='saga', max_iter=200)\n",
        "model.fit(X_train, y_train)\n",
        "\n",
        "# Predict and calculate accuracy\n",
        "y_pred = model.predict(X_test)\n",
        "accuracy = accuracy_score(y_test, y_pred)\n",
        "\n",
        "# Print accuracy\n",
        "print(\"L1-Regularized Logistic Regression Accuracy:\", accuracy)\n"
      ],
      "metadata": {
        "colab": {
          "base_uri": "https://localhost:8080/"
        },
        "id": "-xaH1vZotnG7",
        "outputId": "2a183bf4-43f1-4bdb-f2ad-d183ae6a1fc2"
      },
      "execution_count": 5,
      "outputs": [
        {
          "output_type": "stream",
          "name": "stdout",
          "text": [
            "L1-Regularized Logistic Regression Accuracy: 1.0\n"
          ]
        },
        {
          "output_type": "stream",
          "name": "stderr",
          "text": [
            "/usr/local/lib/python3.11/dist-packages/sklearn/linear_model/_sag.py:348: ConvergenceWarning: The max_iter was reached which means the coef_ did not converge\n",
            "  warnings.warn(\n"
          ]
        }
      ]
    },
    {
      "cell_type": "code",
      "source": [
        "'''Q.3  Write a Python program to train Logistic Regression with L2 regularization (Ridge) using\n",
        "LogisticRegression(penalty='l2'). Print model accuracy and coefficients'''"
      ],
      "metadata": {
        "id": "dd99UdYFt2DC"
      },
      "execution_count": null,
      "outputs": []
    },
    {
      "cell_type": "code",
      "source": [
        "# Import required libraries\n",
        "from sklearn.datasets import load_iris\n",
        "from sklearn.model_selection import train_test_split\n",
        "from sklearn.linear_model import LogisticRegression\n",
        "from sklearn.metrics import accuracy_score\n",
        "from sklearn.preprocessing import StandardScaler\n",
        "import numpy as np\n",
        "\n",
        "# Load the Iris dataset\n",
        "iris = load_iris()\n",
        "X = iris.data\n",
        "y = iris.target\n",
        "\n",
        "# Standardize the feature set\n",
        "scaler = StandardScaler()\n",
        "X_scaled = scaler.fit_transform(X)\n",
        "\n",
        "# Split into training and testing sets\n",
        "X_train, X_test, y_train, y_test = train_test_split(X_scaled, y, test_size=0.2, random_state=42)\n",
        "\n",
        "# Create a Logistic Regression model with L2 regularization\n",
        "model = LogisticRegression(penalty='l2', solver='lbfgs', max_iter=200)\n",
        "model.fit(X_train, y_train)\n",
        "\n",
        "# Predict on test set\n",
        "y_pred = model.predict(X_test)\n",
        "\n",
        "# Calculate accuracy\n",
        "accuracy = accuracy_score(y_test, y_pred)\n",
        "\n",
        "# Print model accuracy\n",
        "print(\"L2-Regularized Logistic Regression Accuracy:\", accuracy)\n",
        "\n",
        "# Print model coefficients and intercepts\n",
        "print(\"\\nModel Coefficients:\\n\", model.coef_)\n",
        "print(\"\\nIntercepts:\\n\", model.intercept_)\n"
      ],
      "metadata": {
        "colab": {
          "base_uri": "https://localhost:8080/"
        },
        "id": "GvAisGJjt78f",
        "outputId": "0dfa7472-5fda-421e-d6f3-79d67d0b7d03"
      },
      "execution_count": 6,
      "outputs": [
        {
          "output_type": "stream",
          "name": "stdout",
          "text": [
            "L2-Regularized Logistic Regression Accuracy: 1.0\n",
            "\n",
            "Model Coefficients:\n",
            " [[-1.02102589  1.1315509  -1.81471682 -1.68763103]\n",
            " [ 0.53439559 -0.28357112 -0.34273213 -0.73103351]\n",
            " [ 0.4866303  -0.84797979  2.15744895  2.41866455]]\n",
            "\n",
            "Intercepts:\n",
            " [-0.24853241  1.97284408 -1.72431167]\n"
          ]
        }
      ]
    },
    {
      "cell_type": "code",
      "source": [
        " '''Q.4 Write a Python program to train Logistic Regression with Elastic Net Regularization (penalty='elasticnet')'''"
      ],
      "metadata": {
        "id": "4iAoB8UAuHD2"
      },
      "execution_count": null,
      "outputs": []
    },
    {
      "cell_type": "code",
      "source": [
        "from sklearn.datasets import load_iris\n",
        "from sklearn.model_selection import train_test_split\n",
        "from sklearn.preprocessing import StandardScaler\n",
        "from sklearn.linear_model import LogisticRegression\n",
        "from sklearn.metrics import accuracy_score\n",
        "\n",
        "# Load Iris dataset\n",
        "iris = load_iris()\n",
        "X = iris.data\n",
        "y = iris.target\n",
        "\n",
        "# Standardize the features\n",
        "scaler = StandardScaler()\n",
        "X_scaled = scaler.fit_transform(X)\n",
        "\n",
        "# Split the dataset\n",
        "X_train, X_test, y_train, y_test = train_test_split(X_scaled, y, test_size=0.2, random_state=42)\n",
        "\n",
        "# Create and train Logistic Regression model with Elastic Net regularization\n",
        "model = LogisticRegression(\n",
        "    penalty='elasticnet',\n",
        "    solver='saga',            # Required for elasticnet\n",
        "    l1_ratio=0.5,             # Balance between L1 and L2 (0 = L2, 1 = L1)\n",
        "    max_iter=1000,\n",
        "    multi_class='multinomial' # For multiclass classification\n",
        ")\n",
        "model.fit(X_train, y_train)\n",
        "\n",
        "# Make predictions\n",
        "y_pred = model.predict(X_test)\n",
        "\n",
        "# Evaluate the model\n",
        "accuracy = accuracy_score(y_test, y_pred)\n",
        "print(\"Elastic Net Logistic Regression Accuracy:\", accuracy)\n",
        "\n",
        "# Print coefficients and intercepts\n",
        "print(\"\\nModel Coefficients:\\n\", model.coef_)\n",
        "print(\"\\nModel Intercepts:\\n\", model.intercept_)\n"
      ],
      "metadata": {
        "colab": {
          "base_uri": "https://localhost:8080/"
        },
        "id": "efbD3bwfue6X",
        "outputId": "675ec012-3f7c-4a22-bafb-cd4b29a91997"
      },
      "execution_count": 7,
      "outputs": [
        {
          "output_type": "stream",
          "name": "stdout",
          "text": [
            "Elastic Net Logistic Regression Accuracy: 1.0\n",
            "\n",
            "Model Coefficients:\n",
            " [[-0.82214374  1.17435549 -1.96499739 -1.70922937]\n",
            " [ 0.0799724   0.          0.         -0.3723561 ]\n",
            " [ 0.         -0.65344297  2.74171511  3.06929649]]\n",
            "\n",
            "Model Intercepts:\n",
            " [-0.20109765  2.12558023 -1.92448259]\n"
          ]
        },
        {
          "output_type": "stream",
          "name": "stderr",
          "text": [
            "/usr/local/lib/python3.11/dist-packages/sklearn/linear_model/_logistic.py:1247: FutureWarning: 'multi_class' was deprecated in version 1.5 and will be removed in 1.7. From then on, it will always use 'multinomial'. Leave it to its default value to avoid this warning.\n",
            "  warnings.warn(\n"
          ]
        }
      ]
    },
    {
      "cell_type": "code",
      "source": [
        "'''Q.5 Write a Python program to train a Logistic Regression model for multiclass classification using\n",
        "multi_class='ovr' '''"
      ],
      "metadata": {
        "id": "34XKrq1zuhoP"
      },
      "execution_count": null,
      "outputs": []
    },
    {
      "cell_type": "code",
      "source": [
        "from sklearn.datasets import load_iris\n",
        "from sklearn.model_selection import train_test_split\n",
        "from sklearn.preprocessing import StandardScaler\n",
        "from sklearn.linear_model import LogisticRegression\n",
        "from sklearn.metrics import accuracy_score\n",
        "\n",
        "# Load the Iris dataset\n",
        "iris = load_iris()\n",
        "X = iris.data\n",
        "y = iris.target\n",
        "\n",
        "# Standardize features\n",
        "scaler = StandardScaler()\n",
        "X_scaled = scaler.fit_transform(X)\n",
        "\n",
        "# Split into train and test sets\n",
        "X_train, X_test, y_train, y_test = train_test_split(\n",
        "    X_scaled, y, test_size=0.2, random_state=42\n",
        ")\n",
        "\n",
        "# Train Logistic Regression with One-vs-Rest (OvR) strategy\n",
        "model = LogisticRegression(multi_class='ovr', solver='liblinear')\n",
        "model.fit(X_train, y_train)\n",
        "\n",
        "# Predict on the test set\n",
        "y_pred = model.predict(X_test)\n",
        "\n",
        "# Evaluate the model\n",
        "accuracy = accuracy_score(y_test, y_pred)\n",
        "print(\"OvR Logistic Regression Accuracy:\", accuracy)\n",
        "\n",
        "# Print model coefficients and intercepts\n",
        "print(\"\\nModel Coefficients:\\n\", model.coef_)\n",
        "print(\"\\nModel Intercepts:\\n\", model.intercept_)\n"
      ],
      "metadata": {
        "colab": {
          "base_uri": "https://localhost:8080/"
        },
        "id": "5IrMTse9uqWm",
        "outputId": "fafdd302-8f85-46a1-c73f-20c0cc5f6c09"
      },
      "execution_count": 8,
      "outputs": [
        {
          "output_type": "stream",
          "name": "stdout",
          "text": [
            "OvR Logistic Regression Accuracy: 0.9666666666666667\n",
            "\n",
            "Model Coefficients:\n",
            " [[-0.76560747  1.33826997 -1.6082868  -1.42234276]\n",
            " [ 0.26117413 -1.23992478  0.53679084 -0.73948844]\n",
            " [ 0.04512377 -0.22445255  1.75763427  2.42627487]]\n",
            "\n",
            "Model Intercepts:\n",
            " [-1.54125626 -0.82971157 -2.48825514]\n"
          ]
        },
        {
          "output_type": "stream",
          "name": "stderr",
          "text": [
            "/usr/local/lib/python3.11/dist-packages/sklearn/linear_model/_logistic.py:1256: FutureWarning: 'multi_class' was deprecated in version 1.5 and will be removed in 1.7. Use OneVsRestClassifier(LogisticRegression(..)) instead. Leave it to its default value to avoid this warning.\n",
            "  warnings.warn(\n"
          ]
        }
      ]
    },
    {
      "cell_type": "code",
      "source": [
        "'''Q.6 Write a Python program to apply GridSearchCV to tune the hyperparameters (C and penalty) of Logistic\n",
        "Regression. Print the best parameters and accuracy'''"
      ],
      "metadata": {
        "id": "ZwBROfZquzUj"
      },
      "execution_count": null,
      "outputs": []
    },
    {
      "cell_type": "code",
      "source": [
        "from sklearn.datasets import load_iris\n",
        "from sklearn.model_selection import train_test_split, GridSearchCV\n",
        "from sklearn.preprocessing import StandardScaler\n",
        "from sklearn.linear_model import LogisticRegression\n",
        "from sklearn.metrics import accuracy_score\n",
        "\n",
        "# Load Iris dataset\n",
        "iris = load_iris()\n",
        "X = iris.data\n",
        "y = iris.target\n",
        "\n",
        "# Standardize features\n",
        "scaler = StandardScaler()\n",
        "X_scaled = scaler.fit_transform(X)\n",
        "\n",
        "# Split into training and testing sets\n",
        "X_train, X_test, y_train, y_test = train_test_split(\n",
        "    X_scaled, y, test_size=0.2, random_state=42\n",
        ")\n",
        "\n",
        "# Define the model\n",
        "log_reg = LogisticRegression(solver='liblinear', multi_class='ovr')\n",
        "\n",
        "# Define the parameter grid\n",
        "param_grid = {\n",
        "    'C': [0.01, 0.1, 1, 10, 100],\n",
        "    'penalty': ['l1', 'l2']\n",
        "}\n",
        "\n",
        "# Apply GridSearchCV\n",
        "grid = GridSearchCV(log_reg, param_grid, cv=5, scoring='accuracy')\n",
        "grid.fit(X_train, y_train)\n",
        "\n",
        "# Get best parameters and accuracy\n",
        "best_model = grid.best_estimator_\n",
        "best_params = grid.best_params_\n",
        "y_pred = best_model.predict(X_test)\n",
        "accuracy = accuracy_score(y_test, y_pred)\n",
        "\n",
        "# Output\n",
        "print(\"Best Parameters:\", best_params)\n",
        "print(\"Best Accuracy on Test Set:\", accuracy)\n"
      ],
      "metadata": {
        "colab": {
          "base_uri": "https://localhost:8080/"
        },
        "id": "7D4oezlIu5I8",
        "outputId": "fca1a050-322c-45f1-9ecf-e5ee506a500a"
      },
      "execution_count": 9,
      "outputs": [
        {
          "output_type": "stream",
          "name": "stdout",
          "text": [
            "Best Parameters: {'C': 10, 'penalty': 'l1'}\n",
            "Best Accuracy on Test Set: 1.0\n"
          ]
        },
        {
          "output_type": "stream",
          "name": "stderr",
          "text": [
            "/usr/local/lib/python3.11/dist-packages/sklearn/linear_model/_logistic.py:1256: FutureWarning: 'multi_class' was deprecated in version 1.5 and will be removed in 1.7. Use OneVsRestClassifier(LogisticRegression(..)) instead. Leave it to its default value to avoid this warning.\n",
            "  warnings.warn(\n",
            "/usr/local/lib/python3.11/dist-packages/sklearn/linear_model/_logistic.py:1256: FutureWarning: 'multi_class' was deprecated in version 1.5 and will be removed in 1.7. Use OneVsRestClassifier(LogisticRegression(..)) instead. Leave it to its default value to avoid this warning.\n",
            "  warnings.warn(\n",
            "/usr/local/lib/python3.11/dist-packages/sklearn/linear_model/_logistic.py:1256: FutureWarning: 'multi_class' was deprecated in version 1.5 and will be removed in 1.7. Use OneVsRestClassifier(LogisticRegression(..)) instead. Leave it to its default value to avoid this warning.\n",
            "  warnings.warn(\n",
            "/usr/local/lib/python3.11/dist-packages/sklearn/linear_model/_logistic.py:1256: FutureWarning: 'multi_class' was deprecated in version 1.5 and will be removed in 1.7. Use OneVsRestClassifier(LogisticRegression(..)) instead. Leave it to its default value to avoid this warning.\n",
            "  warnings.warn(\n",
            "/usr/local/lib/python3.11/dist-packages/sklearn/linear_model/_logistic.py:1256: FutureWarning: 'multi_class' was deprecated in version 1.5 and will be removed in 1.7. Use OneVsRestClassifier(LogisticRegression(..)) instead. Leave it to its default value to avoid this warning.\n",
            "  warnings.warn(\n",
            "/usr/local/lib/python3.11/dist-packages/sklearn/linear_model/_logistic.py:1256: FutureWarning: 'multi_class' was deprecated in version 1.5 and will be removed in 1.7. Use OneVsRestClassifier(LogisticRegression(..)) instead. Leave it to its default value to avoid this warning.\n",
            "  warnings.warn(\n",
            "/usr/local/lib/python3.11/dist-packages/sklearn/linear_model/_logistic.py:1256: FutureWarning: 'multi_class' was deprecated in version 1.5 and will be removed in 1.7. Use OneVsRestClassifier(LogisticRegression(..)) instead. Leave it to its default value to avoid this warning.\n",
            "  warnings.warn(\n",
            "/usr/local/lib/python3.11/dist-packages/sklearn/linear_model/_logistic.py:1256: FutureWarning: 'multi_class' was deprecated in version 1.5 and will be removed in 1.7. Use OneVsRestClassifier(LogisticRegression(..)) instead. Leave it to its default value to avoid this warning.\n",
            "  warnings.warn(\n",
            "/usr/local/lib/python3.11/dist-packages/sklearn/linear_model/_logistic.py:1256: FutureWarning: 'multi_class' was deprecated in version 1.5 and will be removed in 1.7. Use OneVsRestClassifier(LogisticRegression(..)) instead. Leave it to its default value to avoid this warning.\n",
            "  warnings.warn(\n",
            "/usr/local/lib/python3.11/dist-packages/sklearn/linear_model/_logistic.py:1256: FutureWarning: 'multi_class' was deprecated in version 1.5 and will be removed in 1.7. Use OneVsRestClassifier(LogisticRegression(..)) instead. Leave it to its default value to avoid this warning.\n",
            "  warnings.warn(\n",
            "/usr/local/lib/python3.11/dist-packages/sklearn/linear_model/_logistic.py:1256: FutureWarning: 'multi_class' was deprecated in version 1.5 and will be removed in 1.7. Use OneVsRestClassifier(LogisticRegression(..)) instead. Leave it to its default value to avoid this warning.\n",
            "  warnings.warn(\n",
            "/usr/local/lib/python3.11/dist-packages/sklearn/linear_model/_logistic.py:1256: FutureWarning: 'multi_class' was deprecated in version 1.5 and will be removed in 1.7. Use OneVsRestClassifier(LogisticRegression(..)) instead. Leave it to its default value to avoid this warning.\n",
            "  warnings.warn(\n",
            "/usr/local/lib/python3.11/dist-packages/sklearn/linear_model/_logistic.py:1256: FutureWarning: 'multi_class' was deprecated in version 1.5 and will be removed in 1.7. Use OneVsRestClassifier(LogisticRegression(..)) instead. Leave it to its default value to avoid this warning.\n",
            "  warnings.warn(\n",
            "/usr/local/lib/python3.11/dist-packages/sklearn/linear_model/_logistic.py:1256: FutureWarning: 'multi_class' was deprecated in version 1.5 and will be removed in 1.7. Use OneVsRestClassifier(LogisticRegression(..)) instead. Leave it to its default value to avoid this warning.\n",
            "  warnings.warn(\n",
            "/usr/local/lib/python3.11/dist-packages/sklearn/linear_model/_logistic.py:1256: FutureWarning: 'multi_class' was deprecated in version 1.5 and will be removed in 1.7. Use OneVsRestClassifier(LogisticRegression(..)) instead. Leave it to its default value to avoid this warning.\n",
            "  warnings.warn(\n",
            "/usr/local/lib/python3.11/dist-packages/sklearn/linear_model/_logistic.py:1256: FutureWarning: 'multi_class' was deprecated in version 1.5 and will be removed in 1.7. Use OneVsRestClassifier(LogisticRegression(..)) instead. Leave it to its default value to avoid this warning.\n",
            "  warnings.warn(\n",
            "/usr/local/lib/python3.11/dist-packages/sklearn/linear_model/_logistic.py:1256: FutureWarning: 'multi_class' was deprecated in version 1.5 and will be removed in 1.7. Use OneVsRestClassifier(LogisticRegression(..)) instead. Leave it to its default value to avoid this warning.\n",
            "  warnings.warn(\n",
            "/usr/local/lib/python3.11/dist-packages/sklearn/linear_model/_logistic.py:1256: FutureWarning: 'multi_class' was deprecated in version 1.5 and will be removed in 1.7. Use OneVsRestClassifier(LogisticRegression(..)) instead. Leave it to its default value to avoid this warning.\n",
            "  warnings.warn(\n",
            "/usr/local/lib/python3.11/dist-packages/sklearn/linear_model/_logistic.py:1256: FutureWarning: 'multi_class' was deprecated in version 1.5 and will be removed in 1.7. Use OneVsRestClassifier(LogisticRegression(..)) instead. Leave it to its default value to avoid this warning.\n",
            "  warnings.warn(\n",
            "/usr/local/lib/python3.11/dist-packages/sklearn/linear_model/_logistic.py:1256: FutureWarning: 'multi_class' was deprecated in version 1.5 and will be removed in 1.7. Use OneVsRestClassifier(LogisticRegression(..)) instead. Leave it to its default value to avoid this warning.\n",
            "  warnings.warn(\n",
            "/usr/local/lib/python3.11/dist-packages/sklearn/linear_model/_logistic.py:1256: FutureWarning: 'multi_class' was deprecated in version 1.5 and will be removed in 1.7. Use OneVsRestClassifier(LogisticRegression(..)) instead. Leave it to its default value to avoid this warning.\n",
            "  warnings.warn(\n",
            "/usr/local/lib/python3.11/dist-packages/sklearn/linear_model/_logistic.py:1256: FutureWarning: 'multi_class' was deprecated in version 1.5 and will be removed in 1.7. Use OneVsRestClassifier(LogisticRegression(..)) instead. Leave it to its default value to avoid this warning.\n",
            "  warnings.warn(\n",
            "/usr/local/lib/python3.11/dist-packages/sklearn/linear_model/_logistic.py:1256: FutureWarning: 'multi_class' was deprecated in version 1.5 and will be removed in 1.7. Use OneVsRestClassifier(LogisticRegression(..)) instead. Leave it to its default value to avoid this warning.\n",
            "  warnings.warn(\n",
            "/usr/local/lib/python3.11/dist-packages/sklearn/linear_model/_logistic.py:1256: FutureWarning: 'multi_class' was deprecated in version 1.5 and will be removed in 1.7. Use OneVsRestClassifier(LogisticRegression(..)) instead. Leave it to its default value to avoid this warning.\n",
            "  warnings.warn(\n",
            "/usr/local/lib/python3.11/dist-packages/sklearn/linear_model/_logistic.py:1256: FutureWarning: 'multi_class' was deprecated in version 1.5 and will be removed in 1.7. Use OneVsRestClassifier(LogisticRegression(..)) instead. Leave it to its default value to avoid this warning.\n",
            "  warnings.warn(\n",
            "/usr/local/lib/python3.11/dist-packages/sklearn/linear_model/_logistic.py:1256: FutureWarning: 'multi_class' was deprecated in version 1.5 and will be removed in 1.7. Use OneVsRestClassifier(LogisticRegression(..)) instead. Leave it to its default value to avoid this warning.\n",
            "  warnings.warn(\n",
            "/usr/local/lib/python3.11/dist-packages/sklearn/linear_model/_logistic.py:1256: FutureWarning: 'multi_class' was deprecated in version 1.5 and will be removed in 1.7. Use OneVsRestClassifier(LogisticRegression(..)) instead. Leave it to its default value to avoid this warning.\n",
            "  warnings.warn(\n",
            "/usr/local/lib/python3.11/dist-packages/sklearn/linear_model/_logistic.py:1256: FutureWarning: 'multi_class' was deprecated in version 1.5 and will be removed in 1.7. Use OneVsRestClassifier(LogisticRegression(..)) instead. Leave it to its default value to avoid this warning.\n",
            "  warnings.warn(\n",
            "/usr/local/lib/python3.11/dist-packages/sklearn/linear_model/_logistic.py:1256: FutureWarning: 'multi_class' was deprecated in version 1.5 and will be removed in 1.7. Use OneVsRestClassifier(LogisticRegression(..)) instead. Leave it to its default value to avoid this warning.\n",
            "  warnings.warn(\n",
            "/usr/local/lib/python3.11/dist-packages/sklearn/linear_model/_logistic.py:1256: FutureWarning: 'multi_class' was deprecated in version 1.5 and will be removed in 1.7. Use OneVsRestClassifier(LogisticRegression(..)) instead. Leave it to its default value to avoid this warning.\n",
            "  warnings.warn(\n",
            "/usr/local/lib/python3.11/dist-packages/sklearn/linear_model/_logistic.py:1256: FutureWarning: 'multi_class' was deprecated in version 1.5 and will be removed in 1.7. Use OneVsRestClassifier(LogisticRegression(..)) instead. Leave it to its default value to avoid this warning.\n",
            "  warnings.warn(\n",
            "/usr/local/lib/python3.11/dist-packages/sklearn/linear_model/_logistic.py:1256: FutureWarning: 'multi_class' was deprecated in version 1.5 and will be removed in 1.7. Use OneVsRestClassifier(LogisticRegression(..)) instead. Leave it to its default value to avoid this warning.\n",
            "  warnings.warn(\n",
            "/usr/local/lib/python3.11/dist-packages/sklearn/linear_model/_logistic.py:1256: FutureWarning: 'multi_class' was deprecated in version 1.5 and will be removed in 1.7. Use OneVsRestClassifier(LogisticRegression(..)) instead. Leave it to its default value to avoid this warning.\n",
            "  warnings.warn(\n",
            "/usr/local/lib/python3.11/dist-packages/sklearn/linear_model/_logistic.py:1256: FutureWarning: 'multi_class' was deprecated in version 1.5 and will be removed in 1.7. Use OneVsRestClassifier(LogisticRegression(..)) instead. Leave it to its default value to avoid this warning.\n",
            "  warnings.warn(\n",
            "/usr/local/lib/python3.11/dist-packages/sklearn/linear_model/_logistic.py:1256: FutureWarning: 'multi_class' was deprecated in version 1.5 and will be removed in 1.7. Use OneVsRestClassifier(LogisticRegression(..)) instead. Leave it to its default value to avoid this warning.\n",
            "  warnings.warn(\n",
            "/usr/local/lib/python3.11/dist-packages/sklearn/linear_model/_logistic.py:1256: FutureWarning: 'multi_class' was deprecated in version 1.5 and will be removed in 1.7. Use OneVsRestClassifier(LogisticRegression(..)) instead. Leave it to its default value to avoid this warning.\n",
            "  warnings.warn(\n",
            "/usr/local/lib/python3.11/dist-packages/sklearn/linear_model/_logistic.py:1256: FutureWarning: 'multi_class' was deprecated in version 1.5 and will be removed in 1.7. Use OneVsRestClassifier(LogisticRegression(..)) instead. Leave it to its default value to avoid this warning.\n",
            "  warnings.warn(\n",
            "/usr/local/lib/python3.11/dist-packages/sklearn/linear_model/_logistic.py:1256: FutureWarning: 'multi_class' was deprecated in version 1.5 and will be removed in 1.7. Use OneVsRestClassifier(LogisticRegression(..)) instead. Leave it to its default value to avoid this warning.\n",
            "  warnings.warn(\n",
            "/usr/local/lib/python3.11/dist-packages/sklearn/linear_model/_logistic.py:1256: FutureWarning: 'multi_class' was deprecated in version 1.5 and will be removed in 1.7. Use OneVsRestClassifier(LogisticRegression(..)) instead. Leave it to its default value to avoid this warning.\n",
            "  warnings.warn(\n",
            "/usr/local/lib/python3.11/dist-packages/sklearn/linear_model/_logistic.py:1256: FutureWarning: 'multi_class' was deprecated in version 1.5 and will be removed in 1.7. Use OneVsRestClassifier(LogisticRegression(..)) instead. Leave it to its default value to avoid this warning.\n",
            "  warnings.warn(\n",
            "/usr/local/lib/python3.11/dist-packages/sklearn/linear_model/_logistic.py:1256: FutureWarning: 'multi_class' was deprecated in version 1.5 and will be removed in 1.7. Use OneVsRestClassifier(LogisticRegression(..)) instead. Leave it to its default value to avoid this warning.\n",
            "  warnings.warn(\n",
            "/usr/local/lib/python3.11/dist-packages/sklearn/linear_model/_logistic.py:1256: FutureWarning: 'multi_class' was deprecated in version 1.5 and will be removed in 1.7. Use OneVsRestClassifier(LogisticRegression(..)) instead. Leave it to its default value to avoid this warning.\n",
            "  warnings.warn(\n",
            "/usr/local/lib/python3.11/dist-packages/sklearn/linear_model/_logistic.py:1256: FutureWarning: 'multi_class' was deprecated in version 1.5 and will be removed in 1.7. Use OneVsRestClassifier(LogisticRegression(..)) instead. Leave it to its default value to avoid this warning.\n",
            "  warnings.warn(\n",
            "/usr/local/lib/python3.11/dist-packages/sklearn/linear_model/_logistic.py:1256: FutureWarning: 'multi_class' was deprecated in version 1.5 and will be removed in 1.7. Use OneVsRestClassifier(LogisticRegression(..)) instead. Leave it to its default value to avoid this warning.\n",
            "  warnings.warn(\n",
            "/usr/local/lib/python3.11/dist-packages/sklearn/linear_model/_logistic.py:1256: FutureWarning: 'multi_class' was deprecated in version 1.5 and will be removed in 1.7. Use OneVsRestClassifier(LogisticRegression(..)) instead. Leave it to its default value to avoid this warning.\n",
            "  warnings.warn(\n",
            "/usr/local/lib/python3.11/dist-packages/sklearn/linear_model/_logistic.py:1256: FutureWarning: 'multi_class' was deprecated in version 1.5 and will be removed in 1.7. Use OneVsRestClassifier(LogisticRegression(..)) instead. Leave it to its default value to avoid this warning.\n",
            "  warnings.warn(\n",
            "/usr/local/lib/python3.11/dist-packages/sklearn/linear_model/_logistic.py:1256: FutureWarning: 'multi_class' was deprecated in version 1.5 and will be removed in 1.7. Use OneVsRestClassifier(LogisticRegression(..)) instead. Leave it to its default value to avoid this warning.\n",
            "  warnings.warn(\n",
            "/usr/local/lib/python3.11/dist-packages/sklearn/linear_model/_logistic.py:1256: FutureWarning: 'multi_class' was deprecated in version 1.5 and will be removed in 1.7. Use OneVsRestClassifier(LogisticRegression(..)) instead. Leave it to its default value to avoid this warning.\n",
            "  warnings.warn(\n",
            "/usr/local/lib/python3.11/dist-packages/sklearn/linear_model/_logistic.py:1256: FutureWarning: 'multi_class' was deprecated in version 1.5 and will be removed in 1.7. Use OneVsRestClassifier(LogisticRegression(..)) instead. Leave it to its default value to avoid this warning.\n",
            "  warnings.warn(\n",
            "/usr/local/lib/python3.11/dist-packages/sklearn/linear_model/_logistic.py:1256: FutureWarning: 'multi_class' was deprecated in version 1.5 and will be removed in 1.7. Use OneVsRestClassifier(LogisticRegression(..)) instead. Leave it to its default value to avoid this warning.\n",
            "  warnings.warn(\n",
            "/usr/local/lib/python3.11/dist-packages/sklearn/linear_model/_logistic.py:1256: FutureWarning: 'multi_class' was deprecated in version 1.5 and will be removed in 1.7. Use OneVsRestClassifier(LogisticRegression(..)) instead. Leave it to its default value to avoid this warning.\n",
            "  warnings.warn(\n"
          ]
        }
      ]
    },
    {
      "cell_type": "code",
      "source": [
        "'''Q.7  Write a Python program to evaluate Logistic Regression using Stratified K-Fold Cross-Validation. Print the\n",
        "average accuracy'''"
      ],
      "metadata": {
        "id": "PdNl-BOqvBqY"
      },
      "execution_count": null,
      "outputs": []
    },
    {
      "cell_type": "code",
      "source": [
        "from sklearn.datasets import load_iris\n",
        "from sklearn.linear_model import LogisticRegression\n",
        "from sklearn.model_selection import StratifiedKFold, cross_val_score\n",
        "from sklearn.preprocessing import StandardScaler\n",
        "import numpy as np\n",
        "\n",
        "# Load the dataset\n",
        "iris = load_iris()\n",
        "X = iris.data\n",
        "y = iris.target\n",
        "\n",
        "# Standardize the features\n",
        "scaler = StandardScaler()\n",
        "X_scaled = scaler.fit_transform(X)\n",
        "\n",
        "# Initialize Logistic Regression\n",
        "model = LogisticRegression(solver='liblinear', multi_class='ovr')\n",
        "\n",
        "# Stratified K-Fold Cross-Validation\n",
        "skf = StratifiedKFold(n_splits=5, shuffle=True, random_state=42)\n",
        "\n",
        "# Evaluate model using cross_val_score\n",
        "scores = cross_val_score(model, X_scaled, y, cv=skf, scoring='accuracy')\n",
        "\n",
        "# Print accuracy for each fold and the average accuracy\n",
        "print(\"Accuracy for each fold:\", scores)\n",
        "print(\"Average Accuracy:\", np.mean(scores))\n"
      ],
      "metadata": {
        "colab": {
          "base_uri": "https://localhost:8080/"
        },
        "id": "VQulntjevMgZ",
        "outputId": "d9ae7cc1-9091-4969-db93-ead2ee0b7024"
      },
      "execution_count": 10,
      "outputs": [
        {
          "output_type": "stream",
          "name": "stdout",
          "text": [
            "Accuracy for each fold: [0.93333333 0.96666667 0.8        0.93333333 0.86666667]\n",
            "Average Accuracy: 0.9\n"
          ]
        },
        {
          "output_type": "stream",
          "name": "stderr",
          "text": [
            "/usr/local/lib/python3.11/dist-packages/sklearn/linear_model/_logistic.py:1256: FutureWarning: 'multi_class' was deprecated in version 1.5 and will be removed in 1.7. Use OneVsRestClassifier(LogisticRegression(..)) instead. Leave it to its default value to avoid this warning.\n",
            "  warnings.warn(\n",
            "/usr/local/lib/python3.11/dist-packages/sklearn/linear_model/_logistic.py:1256: FutureWarning: 'multi_class' was deprecated in version 1.5 and will be removed in 1.7. Use OneVsRestClassifier(LogisticRegression(..)) instead. Leave it to its default value to avoid this warning.\n",
            "  warnings.warn(\n",
            "/usr/local/lib/python3.11/dist-packages/sklearn/linear_model/_logistic.py:1256: FutureWarning: 'multi_class' was deprecated in version 1.5 and will be removed in 1.7. Use OneVsRestClassifier(LogisticRegression(..)) instead. Leave it to its default value to avoid this warning.\n",
            "  warnings.warn(\n",
            "/usr/local/lib/python3.11/dist-packages/sklearn/linear_model/_logistic.py:1256: FutureWarning: 'multi_class' was deprecated in version 1.5 and will be removed in 1.7. Use OneVsRestClassifier(LogisticRegression(..)) instead. Leave it to its default value to avoid this warning.\n",
            "  warnings.warn(\n",
            "/usr/local/lib/python3.11/dist-packages/sklearn/linear_model/_logistic.py:1256: FutureWarning: 'multi_class' was deprecated in version 1.5 and will be removed in 1.7. Use OneVsRestClassifier(LogisticRegression(..)) instead. Leave it to its default value to avoid this warning.\n",
            "  warnings.warn(\n"
          ]
        }
      ]
    },
    {
      "cell_type": "code",
      "source": [
        "'''Q.8 Write a Python program to load a dataset from a CSV file, apply Logistic Regression, and evaluate its accuracy.'''"
      ],
      "metadata": {
        "id": "JIcm2kexvO5x"
      },
      "execution_count": null,
      "outputs": []
    },
    {
      "cell_type": "markdown",
      "source": [
        "```PYTHON\n",
        "import pandas as pd\n",
        "from sklearn.model_selection import train_test_split\n",
        "from sklearn.linear_model import LogisticRegression\n",
        "from sklearn.metrics import accuracy_score\n",
        "from sklearn.preprocessing import StandardScaler\n",
        "\n",
        "# Load dataset from CSV file\n",
        "# Replace 'your_file.csv' with your actual CSV filename\n",
        "df = pd.read_csv('your_file.csv')\n",
        "\n",
        "# Assume the last column is the target\n",
        "X = df.iloc[:, :-1]  # all columns except the last\n",
        "y = df.iloc[:, -1]   # the last column\n",
        "\n",
        "# Train-test split\n",
        "X_train, X_test, y_train, y_test = train_test_split(X, y, test_size=0.2, random_state=42)\n",
        "\n",
        "# Feature scaling\n",
        "scaler = StandardScaler()\n",
        "X_train_scaled = scaler.fit_transform(X_train)\n",
        "X_test_scaled = scaler.transform(X_test)\n",
        "\n",
        "# Initialize and train Logistic Regression\n",
        "model = LogisticRegression()\n",
        "model.fit(X_train_scaled, y_train)\n",
        "\n",
        "# Predict and evaluate\n",
        "y_pred = model.predict(X_test_scaled)\n",
        "accuracy = accuracy_score(y_test, y_pred)\n",
        "\n",
        "print(\"Logistic Regression Accuracy:\", accuracy)\n",
        "```"
      ],
      "metadata": {
        "id": "fXTNbHSmv3y_"
      }
    },
    {
      "cell_type": "code",
      "source": [
        "'''Q.9 Write a Python program to apply RandomizedSearchCV for tuning hyperparameters (C, penalty, solver) in\n",
        "Logistic Regression. Print the best parameters and accuracy'''"
      ],
      "metadata": {
        "id": "sIgJfla4wDT3"
      },
      "execution_count": null,
      "outputs": []
    },
    {
      "cell_type": "markdown",
      "source": [
        "```PYTHON\n",
        "import pandas as pd\n",
        "from sklearn.model_selection import train_test_split, RandomizedSearchCV\n",
        "from sklearn.linear_model import LogisticRegression\n",
        "from sklearn.preprocessing import StandardScaler\n",
        "from sklearn.metrics import accuracy_score\n",
        "from scipy.stats import uniform\n",
        "\n",
        "# Load dataset\n",
        "# Replace with your actual CSV filename\n",
        "df = pd.read_csv(\"your_file.csv\")\n",
        "\n",
        "# Prepare features and target\n",
        "X = df.iloc[:, :-1]  # features (all columns except last)\n",
        "y = df.iloc[:, -1]   # target (last column)\n",
        "\n",
        "# Train-test split\n",
        "X_train, X_test, y_train, y_test = train_test_split(X, y, test_size=0.2, random_state=42)\n",
        "\n",
        "# Feature scaling\n",
        "scaler = StandardScaler()\n",
        "X_train_scaled = scaler.fit_transform(X_train)\n",
        "X_test_scaled = scaler.transform(X_test)\n",
        "\n",
        "# Define the model\n",
        "model = LogisticRegression(max_iter=1000)\n",
        "\n",
        "# Define parameter grid\n",
        "param_dist = {\n",
        "    'C': uniform(loc=0.01, scale=10),\n",
        "    'penalty': ['l1', 'l2', 'elasticnet', 'none'],\n",
        "    'solver': ['saga', 'liblinear', 'lbfgs', 'newton-cg'],\n",
        "    'l1_ratio': uniform(0, 1)  # Only used when penalty='elasticnet'\n",
        "}\n",
        "\n",
        "# RandomizedSearchCV setup\n",
        "random_search = RandomizedSearchCV(\n",
        "    estimator=model,\n",
        "    param_distributions=param_dist,\n",
        "    n_iter=20,\n",
        "    scoring='accuracy',\n",
        "    cv=5,\n",
        "    random_state=42,\n",
        "    n_jobs=-1\n",
        ")\n",
        "\n",
        "# Fit the model\n",
        "random_search.fit(X_train_scaled, y_train)\n",
        "\n",
        "# Evaluate on test set\n",
        "best_model = random_search.best_estimator_\n",
        "y_pred = best_model.predict(X_test_scaled)\n",
        "accuracy = accuracy_score(y_test, y_pred)\n",
        "\n",
        "# Results\n",
        "print(\"Best Parameters:\", random_search.best_params_)\n",
        "print(\"Test Accuracy:\", accuracy)\n",
        "```"
      ],
      "metadata": {
        "id": "K0H7o7_pwf6Q"
      }
    },
    {
      "cell_type": "code",
      "source": [
        "'''Q.10 Write a Python program to implement One-vs-One (OvO) Multiclass Logistic Regression and print accuracy'''"
      ],
      "metadata": {
        "id": "6TD69vYbwsev"
      },
      "execution_count": null,
      "outputs": []
    },
    {
      "cell_type": "markdown",
      "source": [
        "```PYTHON\n",
        "import pandas as pd\n",
        "from sklearn.datasets import load_iris\n",
        "from sklearn.model_selection import train_test_split\n",
        "from sklearn.linear_model import LogisticRegression\n",
        "from sklearn.multiclass import OneVsOneClassifier\n",
        "from sklearn.preprocessing import StandardScaler\n",
        "from sklearn.metrics import accuracy_score\n",
        "\n",
        "# Load a sample multiclass dataset (Iris)\n",
        "data = load_iris()\n",
        "X = data.data\n",
        "y = data.target\n",
        "\n",
        "# Split into train and test sets\n",
        "X_train, X_test, y_train, y_test = train_test_split(X, y, test_size=0.2, random_state=42)\n",
        "\n",
        "# Feature scaling\n",
        "scaler = StandardScaler()\n",
        "X_train_scaled = scaler.fit_transform(X_train)\n",
        "X_test_scaled = scaler.transform(X_test)\n",
        "\n",
        "# Create logistic regression model\n",
        "logreg = LogisticRegression(max_iter=1000, solver='lbfgs', multi_class='auto')\n",
        "\n",
        "# Wrap it with One-vs-One strategy\n",
        "ovo_model = OneVsOneClassifier(logreg)\n",
        "\n",
        "# Train the model\n",
        "ovo_model.fit(X_train_scaled, y_train)\n",
        "\n",
        "# Predict and evaluate\n",
        "y_pred = ovo_model.predict(X_test_scaled)\n",
        "accuracy = accuracy_score(y_test, y_pred)\n",
        "\n",
        "# Output results\n",
        "print(\"One-vs-One Logistic Regression Accuracy:\", accuracy)\n",
        "```"
      ],
      "metadata": {
        "id": "w0iPSDlPw82Q"
      }
    },
    {
      "cell_type": "code",
      "source": [
        "'''Q.11 Write a Python program to train a Logistic Regression model and visualize the confusion matrix for binary\n",
        "classification'''"
      ],
      "metadata": {
        "id": "Y76JaN42xDDG"
      },
      "execution_count": null,
      "outputs": []
    },
    {
      "cell_type": "markdown",
      "source": [
        "```PYTHON\n",
        "import pandas as pd\n",
        "import numpy as np\n",
        "import seaborn as sns\n",
        "import matplotlib.pyplot as plt\n",
        "\n",
        "from sklearn.datasets import make_classification\n",
        "from sklearn.model_selection import train_test_split\n",
        "from sklearn.linear_model import LogisticRegression\n",
        "from sklearn.metrics import confusion_matrix, ConfusionMatrixDisplay, accuracy_score\n",
        "\n",
        "# Step 1: Generate a synthetic binary classification dataset\n",
        "X, y = make_classification(n_samples=1000, n_features=5, n_informative=3,\n",
        "                           n_redundant=0, n_classes=2, random_state=42)\n",
        "\n",
        "# Step 2: Split the dataset into training and testing sets\n",
        "X_train, X_test, y_train, y_test = train_test_split(X, y, test_size=0.3, random_state=42)\n",
        "\n",
        "# Step 3: Train a logistic regression model\n",
        "model = LogisticRegression()\n",
        "model.fit(X_train, y_train)\n",
        "\n",
        "# Step 4: Make predictions\n",
        "y_pred = model.predict(X_test)\n",
        "\n",
        "# Step 5: Evaluate accuracy\n",
        "accuracy = accuracy_score(y_test, y_pred)\n",
        "print(f\"Accuracy: {accuracy:.2f}\")\n",
        "\n",
        "# Step 6: Generate confusion matrix\n",
        "cm = confusion_matrix(y_test, y_pred)\n",
        "\n",
        "# Step 7: Visualize the confusion matrix\n",
        "plt.figure(figsize=(6, 4))\n",
        "sns.heatmap(cm, annot=True, fmt='d', cmap='Blues', xticklabels=['Pred 0', 'Pred 1'], yticklabels=['True 0', 'True 1'])\n",
        "plt.title(\"Confusion Matrix\")\n",
        "plt.xlabel(\"Predicted\")\n",
        "plt.ylabel(\"Actual\")\n",
        "plt.tight_layout()\n",
        "plt.show()\n",
        "```"
      ],
      "metadata": {
        "id": "1WNx1IMpxgZM"
      }
    },
    {
      "cell_type": "code",
      "source": [
        "'''Q.12  Write a Python program to train a Logistic Regression model and evaluate its performance using Precision,\n",
        "Recall, and F1-Score'''"
      ],
      "metadata": {
        "id": "HUKY7CPkxlYU"
      },
      "execution_count": null,
      "outputs": []
    },
    {
      "cell_type": "code",
      "source": [
        "import pandas as pd\n",
        "import numpy as np\n",
        "from sklearn.datasets import make_classification\n",
        "from sklearn.linear_model import LogisticRegression\n",
        "from sklearn.model_selection import train_test_split\n",
        "from sklearn.metrics import precision_score, recall_score, f1_score\n",
        "\n",
        "# Step 1: Generate synthetic binary classification data\n",
        "X, y = make_classification(n_samples=1000, n_features=5, n_informative=3,\n",
        "                           n_redundant=0, n_classes=2, random_state=42)\n",
        "\n",
        "# Step 2: Split into train and test sets\n",
        "X_train, X_test, y_train, y_test = train_test_split(X, y, test_size=0.3, random_state=42)\n",
        "\n",
        "# Step 3: Train Logistic Regression model\n",
        "model = LogisticRegression()\n",
        "model.fit(X_train, y_train)\n",
        "\n",
        "# Step 4: Make predictions\n",
        "y_pred = model.predict(X_test)\n",
        "\n",
        "# Step 5: Evaluate model performance\n",
        "precision = precision_score(y_test, y_pred)\n",
        "recall = recall_score(y_test, y_pred)\n",
        "f1 = f1_score(y_test, y_pred)\n",
        "\n",
        "# Step 6: Print evaluation metrics\n",
        "print(f\"Precision: {precision:.2f}\")\n",
        "print(f\"Recall:    {recall:.2f}\")\n",
        "print(f\"F1-Score:  {f1:.2f}\")\n"
      ],
      "metadata": {
        "colab": {
          "base_uri": "https://localhost:8080/"
        },
        "id": "ZnuZCckdxtE4",
        "outputId": "9c5e3b2f-cd1e-4c9a-bf99-900190fbc6b0"
      },
      "execution_count": 1,
      "outputs": [
        {
          "output_type": "stream",
          "name": "stdout",
          "text": [
            "Precision: 0.93\n",
            "Recall:    0.90\n",
            "F1-Score:  0.91\n"
          ]
        }
      ]
    },
    {
      "cell_type": "code",
      "source": [
        "'''Q.13 Write a Python program to train a Logistic Regression model on imbalanced data and apply class weights to\n",
        "improve model performance'''"
      ],
      "metadata": {
        "id": "y3TvOUclPgp1"
      },
      "execution_count": null,
      "outputs": []
    },
    {
      "cell_type": "code",
      "source": [
        "import numpy as np\n",
        "import pandas as pd\n",
        "from sklearn.datasets import make_classification\n",
        "from sklearn.linear_model import LogisticRegression\n",
        "from sklearn.model_selection import train_test_split\n",
        "from sklearn.metrics import classification_report\n",
        "import matplotlib.pyplot as plt\n",
        "import seaborn as sns\n",
        "\n",
        "# Step 1: Generate imbalanced dataset\n",
        "X, y = make_classification(n_samples=1000, n_features=5, n_informative=3,\n",
        "                           n_redundant=0, n_clusters_per_class=1,\n",
        "                           weights=[0.9, 0.1], flip_y=0, random_state=42)\n",
        "\n",
        "# Step 2: Split into train and test sets\n",
        "X_train, X_test, y_train, y_test = train_test_split(X, y, test_size=0.3, random_state=42)\n",
        "\n",
        "# Step 3: Train logistic regression without class weights\n",
        "model_default = LogisticRegression()\n",
        "model_default.fit(X_train, y_train)\n",
        "y_pred_default = model_default.predict(X_test)\n",
        "\n",
        "# Step 4: Train logistic regression with class weights\n",
        "model_weighted = LogisticRegression(class_weight='balanced')  # Automatically adjusts weights inversely proportional to class frequencies\n",
        "model_weighted.fit(X_train, y_train)\n",
        "y_pred_weighted = model_weighted.predict(X_test)\n",
        "\n",
        "# Step 5: Evaluate both models\n",
        "print(\"Classification Report WITHOUT Class Weights:\")\n",
        "print(classification_report(y_test, y_pred_default))\n",
        "\n",
        "print(\"\\nClassification Report WITH Class Weights:\")\n",
        "print(classification_report(y_test, y_pred_weighted))\n",
        "\n",
        "# Optional: Visualize class distribution\n",
        "sns.countplot(x=y)\n",
        "plt.title(\"Class Distribution (Imbalanced Data)\")\n",
        "plt.show()\n"
      ],
      "metadata": {
        "colab": {
          "base_uri": "https://localhost:8080/",
          "height": 816
        },
        "id": "PIAKEuzuPvi_",
        "outputId": "9d2e59eb-d308-4779-d796-7fd79257feed"
      },
      "execution_count": 2,
      "outputs": [
        {
          "output_type": "stream",
          "name": "stdout",
          "text": [
            "Classification Report WITHOUT Class Weights:\n",
            "              precision    recall  f1-score   support\n",
            "\n",
            "           0       0.97      0.96      0.97       275\n",
            "           1       0.63      0.68      0.65        25\n",
            "\n",
            "    accuracy                           0.94       300\n",
            "   macro avg       0.80      0.82      0.81       300\n",
            "weighted avg       0.94      0.94      0.94       300\n",
            "\n",
            "\n",
            "Classification Report WITH Class Weights:\n",
            "              precision    recall  f1-score   support\n",
            "\n",
            "           0       0.99      0.92      0.95       275\n",
            "           1       0.51      0.92      0.66        25\n",
            "\n",
            "    accuracy                           0.92       300\n",
            "   macro avg       0.75      0.92      0.81       300\n",
            "weighted avg       0.95      0.92      0.93       300\n",
            "\n"
          ]
        },
        {
          "output_type": "display_data",
          "data": {
            "text/plain": [
              "<Figure size 640x480 with 1 Axes>"
            ],
            "image/png": "[encoded data removed]"
          },
          "metadata": {}
        }
      ]
    },
    {
      "cell_type": "code",
      "source": [
        "'''Q.14 Write a Python program to train Logistic Regression on the Titanic dataset, handle missing values, and\n",
        "evaluate performance'''"
      ],
      "metadata": {
        "id": "w0UeOuHsP07o"
      },
      "execution_count": null,
      "outputs": []
    },
    {
      "cell_type": "code",
      "source": [
        "import pandas as pd\n",
        "from sklearn.model_selection import train_test_split\n",
        "from sklearn.linear_model import LogisticRegression\n",
        "from sklearn.metrics import accuracy_score, classification_report\n",
        "from sklearn.preprocessing import LabelEncoder\n",
        "from sklearn.impute import SimpleImputer\n",
        "import seaborn as sns\n",
        "\n",
        "# Step 1: Load Titanic dataset\n",
        "df = sns.load_dataset('titanic')\n",
        "\n",
        "# Step 2: Drop columns with too many missing values or irrelevant features\n",
        "df = df.drop(columns=['deck', 'embark_town', 'alive', 'who', 'adult_male', 'class'])\n",
        "\n",
        "# Step 3: Handle missing values\n",
        "imputer = SimpleImputer(strategy='most_frequent')\n",
        "df[['age', 'embarked']] = imputer.fit_transform(df[['age', 'embarked']])\n",
        "\n",
        "# Step 4: Encode categorical variables\n",
        "label_cols = ['sex', 'embarked', 'alone']\n",
        "le = LabelEncoder()\n",
        "for col in label_cols:\n",
        "    df[col] = le.fit_transform(df[col])\n",
        "\n",
        "# Step 5: Define features and target\n",
        "X = df[['pclass', 'sex', 'age', 'sibsp', 'parch', 'fare', 'embarked', 'alone']]\n",
        "y = df['survived']\n",
        "\n",
        "# Step 6: Train-test split\n",
        "X_train, X_test, y_train, y_test = train_test_split(X, y, test_size=0.2, random_state=42)\n",
        "\n",
        "# Step 7: Train Logistic Regression model\n",
        "model = LogisticRegression(max_iter=1000)\n",
        "model.fit(X_train, y_train)\n",
        "\n",
        "# Step 8: Predictions and evaluation\n",
        "y_pred = model.predict(X_test)\n",
        "\n",
        "print(\"Accuracy:\", accuracy_score(y_test, y_pred))\n",
        "print(\"\\nClassification Report:\")\n",
        "print(classification_report(y_test, y_pred))\n"
      ],
      "metadata": {
        "colab": {
          "base_uri": "https://localhost:8080/"
        },
        "id": "yaWqUR19QBd5",
        "outputId": "4e8ad98b-3b54-4f00-ad42-23241aa6415b"
      },
      "execution_count": 3,
      "outputs": [
        {
          "output_type": "stream",
          "name": "stdout",
          "text": [
            "Accuracy: 0.7988826815642458\n",
            "\n",
            "Classification Report:\n",
            "              precision    recall  f1-score   support\n",
            "\n",
            "           0       0.82      0.85      0.83       105\n",
            "           1       0.77      0.73      0.75        74\n",
            "\n",
            "    accuracy                           0.80       179\n",
            "   macro avg       0.79      0.79      0.79       179\n",
            "weighted avg       0.80      0.80      0.80       179\n",
            "\n"
          ]
        }
      ]
    },
    {
      "cell_type": "code",
      "source": [
        "'''Q.15  Write a Python program to apply feature scaling (Standardization) before training a Logistic Regression\n",
        "model. Evaluate its accuracy and compare results with and without scaling'''"
      ],
      "metadata": {
        "id": "5OoGyoneQEUF"
      },
      "execution_count": null,
      "outputs": []
    },
    {
      "cell_type": "code",
      "source": [
        "import pandas as pd\n",
        "from sklearn.model_selection import train_test_split\n",
        "from sklearn.linear_model import LogisticRegression\n",
        "from sklearn.preprocessing import StandardScaler\n",
        "from sklearn.metrics import accuracy_score\n",
        "from sklearn.datasets import load_breast_cancer\n",
        "\n",
        "# Load dataset (binary classification)\n",
        "data = load_breast_cancer()\n",
        "X = pd.DataFrame(data.data, columns=data.feature_names)\n",
        "y = data.target\n",
        "\n",
        "# Train-test split\n",
        "X_train, X_test, y_train, y_test = train_test_split(X, y, test_size=0.2, random_state=42)\n",
        "\n",
        "# Logistic Regression WITHOUT Scaling\n",
        "model_no_scaling = LogisticRegression(max_iter=1000)\n",
        "model_no_scaling.fit(X_train, y_train)\n",
        "y_pred_no_scaling = model_no_scaling.predict(X_test)\n",
        "accuracy_no_scaling = accuracy_score(y_test, y_pred_no_scaling)\n",
        "\n",
        "# Apply Standard Scaling\n",
        "scaler = StandardScaler()\n",
        "X_train_scaled = scaler.fit_transform(X_train)\n",
        "X_test_scaled = scaler.transform(X_test)\n",
        "\n",
        "# Logistic Regression WITH Scaling\n",
        "model_scaling = LogisticRegression(max_iter=1000)\n",
        "model_scaling.fit(X_train_scaled, y_train)\n",
        "y_pred_scaling = model_scaling.predict(X_test_scaled)\n",
        "accuracy_scaling = accuracy_score(y_test, y_pred_scaling)\n",
        "\n",
        "# Print Results\n",
        "print(\"Accuracy WITHOUT Scaling:\", round(accuracy_no_scaling, 4))\n",
        "print(\"Accuracy WITH Scaling   :\", round(accuracy_scaling, 4))\n"
      ],
      "metadata": {
        "colab": {
          "base_uri": "https://localhost:8080/"
        },
        "id": "rPdSWDGVQQfq",
        "outputId": "99b98fc5-bf8d-491a-c0a0-77f391b9d9e1"
      },
      "execution_count": 4,
      "outputs": [
        {
          "output_type": "stream",
          "name": "stdout",
          "text": [
            "Accuracy WITHOUT Scaling: 0.9561\n",
            "Accuracy WITH Scaling   : 0.9737\n"
          ]
        },
        {
          "output_type": "stream",
          "name": "stderr",
          "text": [
            "/usr/local/lib/python3.11/dist-packages/sklearn/linear_model/_logistic.py:465: ConvergenceWarning: lbfgs failed to converge (status=1):\n",
            "STOP: TOTAL NO. OF ITERATIONS REACHED LIMIT.\n",
            "\n",
            "Increase the number of iterations (max_iter) or scale the data as shown in:\n",
            "    https://scikit-learn.org/stable/modules/preprocessing.html\n",
            "Please also refer to the documentation for alternative solver options:\n",
            "    https://scikit-learn.org/stable/modules/linear_model.html#logistic-regression\n",
            "  n_iter_i = _check_optimize_result(\n"
          ]
        }
      ]
    },
    {
      "cell_type": "code",
      "source": [
        "'''Q.16 Write a Python program to train Logistic Regression and evaluate its performance using ROC-AUC score'''"
      ],
      "metadata": {
        "id": "fVFcgTKsQTVu"
      },
      "execution_count": null,
      "outputs": []
    },
    {
      "cell_type": "code",
      "source": [
        "import pandas as pd\n",
        "import matplotlib.pyplot as plt\n",
        "from sklearn.datasets import load_breast_cancer\n",
        "from sklearn.linear_model import LogisticRegression\n",
        "from sklearn.model_selection import train_test_split\n",
        "from sklearn.preprocessing import StandardScaler\n",
        "from sklearn.metrics import roc_auc_score, roc_curve\n",
        "\n",
        "# Load dataset\n",
        "data = load_breast_cancer()\n",
        "X = pd.DataFrame(data.data, columns=data.feature_names)\n",
        "y = data.target\n",
        "\n",
        "# Train-test split\n",
        "X_train, X_test, y_train, y_test = train_test_split(X, y, test_size=0.2, random_state=42)\n",
        "\n",
        "# Standardize the data\n",
        "scaler = StandardScaler()\n",
        "X_train_scaled = scaler.fit_transform(X_train)\n",
        "X_test_scaled = scaler.transform(X_test)\n",
        "\n",
        "# Train Logistic Regression model\n",
        "model = LogisticRegression(max_iter=1000)\n",
        "model.fit(X_train_scaled, y_train)\n",
        "\n",
        "# Predict probabilities for ROC AUC\n",
        "y_prob = model.predict_proba(X_test_scaled)[:, 1]\n",
        "\n",
        "# Compute ROC-AUC score\n",
        "roc_auc = roc_auc_score(y_test, y_prob)\n",
        "print(f\"ROC-AUC Score: {roc_auc:.4f}\")\n",
        "\n",
        "# Plot ROC Curve\n",
        "fpr, tpr, thresholds = roc_curve(y_test, y_prob)\n",
        "plt.figure(figsize=(8, 6))\n",
        "plt.plot(fpr, tpr, label=f'Logistic Regression (AUC = {roc_auc:.2f})')\n",
        "plt.plot([0, 1], [0, 1], linestyle='--', color='gray')\n",
        "plt.xlabel(\"False Positive Rate\")\n",
        "plt.ylabel(\"True Positive Rate\")\n",
        "plt.title(\"ROC Curve\")\n",
        "plt.legend(loc='lower right')\n",
        "plt.grid()\n",
        "plt.show()\n"
      ],
      "metadata": {
        "colab": {
          "base_uri": "https://localhost:8080/",
          "height": 581
        },
        "id": "mfg7sWBvQYYS",
        "outputId": "9fe14eca-7ff5-4e3d-e8b3-48fb36843a3e"
      },
      "execution_count": 5,
      "outputs": [
        {
          "output_type": "stream",
          "name": "stdout",
          "text": [
            "ROC-AUC Score: 0.9974\n"
          ]
        },
        {
          "output_type": "display_data",
          "data": {
            "text/plain": [
              "<Figure size 800x600 with 1 Axes>"
            ],
            "image/png": "[encoded data removed]"
          },
          "metadata": {}
        }
      ]
    },
    {
      "cell_type": "code",
      "source": [
        "'''Q.17 Write a Python program to train Logistic Regression using a custom learning rate (C=0.5) and evaluate accuracy'''"
      ],
      "metadata": {
        "id": "YxXCulk4QtDL"
      },
      "execution_count": null,
      "outputs": []
    },
    {
      "cell_type": "code",
      "source": [
        "from sklearn.datasets import load_breast_cancer\n",
        "from sklearn.model_selection import train_test_split\n",
        "from sklearn.linear_model import LogisticRegression\n",
        "from sklearn.preprocessing import StandardScaler\n",
        "from sklearn.metrics import accuracy_score\n",
        "\n",
        "# Load dataset\n",
        "data = load_breast_cancer()\n",
        "X = data.data\n",
        "y = data.target\n",
        "\n",
        "# Split into training and testing sets\n",
        "X_train, X_test, y_train, y_test = train_test_split(\n",
        "    X, y, test_size=0.2, random_state=42\n",
        ")\n",
        "\n",
        "# Standardize features\n",
        "scaler = StandardScaler()\n",
        "X_train_scaled = scaler.fit_transform(X_train)\n",
        "X_test_scaled = scaler.transform(X_test)\n",
        "\n",
        "# Train Logistic Regression model with C=0.5\n",
        "model = LogisticRegression(C=0.5, max_iter=1000)\n",
        "model.fit(X_train_scaled, y_train)\n",
        "\n",
        "# Predict and evaluate accuracy\n",
        "y_pred = model.predict(X_test_scaled)\n",
        "accuracy = accuracy_score(y_test, y_pred)\n",
        "print(f\"Accuracy with C=0.5: {accuracy:.4f}\")\n"
      ],
      "metadata": {
        "colab": {
          "base_uri": "https://localhost:8080/"
        },
        "id": "WrWvWNFLQyax",
        "outputId": "77d99680-536a-4b2d-a9ff-cca3b7fe9f39"
      },
      "execution_count": 6,
      "outputs": [
        {
          "output_type": "stream",
          "name": "stdout",
          "text": [
            "Accuracy with C=0.5: 0.9737\n"
          ]
        }
      ]
    },
    {
      "cell_type": "code",
      "source": [
        "'''Q.18  Write a Python program to train Logistic Regression and identify important features based on model coefficients'''"
      ],
      "metadata": {
        "id": "2hI90HL4Q-ja"
      },
      "execution_count": null,
      "outputs": []
    },
    {
      "cell_type": "code",
      "source": [
        "import pandas as pd\n",
        "import numpy as np\n",
        "from sklearn.datasets import load_breast_cancer\n",
        "from sklearn.model_selection import train_test_split\n",
        "from sklearn.linear_model import LogisticRegression\n",
        "from sklearn.preprocessing import StandardScaler\n",
        "\n",
        "# Load dataset\n",
        "data = load_breast_cancer()\n",
        "X = pd.DataFrame(data.data, columns=data.feature_names)\n",
        "y = data.target\n",
        "\n",
        "# Split into train and test sets\n",
        "X_train, X_test, y_train, y_test = train_test_split(\n",
        "    X, y, test_size=0.2, random_state=42\n",
        ")\n",
        "\n",
        "# Feature scaling\n",
        "scaler = StandardScaler()\n",
        "X_train_scaled = scaler.fit_transform(X_train)\n",
        "X_test_scaled = scaler.transform(X_test)\n",
        "\n",
        "# Train Logistic Regression model\n",
        "model = LogisticRegression(max_iter=1000)\n",
        "model.fit(X_train_scaled, y_train)\n",
        "\n",
        "# Get feature importance (coefficients)\n",
        "coefficients = model.coef_[0]\n",
        "feature_importance = pd.DataFrame({\n",
        "    'Feature': X.columns,\n",
        "    'Coefficient': coefficients,\n",
        "    'Absolute Coefficient': np.abs(coefficients)\n",
        "})\n",
        "\n",
        "# Sort features by importance\n",
        "feature_importance_sorted = feature_importance.sort_values(\n",
        "    by='Absolute Coefficient', ascending=False\n",
        ")\n",
        "\n",
        "# Display top important features\n",
        "print(\"Top Important Features Based on Coefficients:\\n\")\n",
        "print(feature_importance_sorted.head(10))\n"
      ],
      "metadata": {
        "colab": {
          "base_uri": "https://localhost:8080/"
        },
        "id": "PYNYkfDyREdU",
        "outputId": "de9924ca-e758-4aa5-f8e7-95ff53dd23fa"
      },
      "execution_count": 7,
      "outputs": [
        {
          "output_type": "stream",
          "name": "stdout",
          "text": [
            "Top Important Features Based on Coefficients:\n",
            "\n",
            "                 Feature  Coefficient  Absolute Coefficient\n",
            "21         worst texture    -1.350606              1.350606\n",
            "10          radius error    -1.268178              1.268178\n",
            "28        worst symmetry    -1.208200              1.208200\n",
            "7    mean concave points    -1.119804              1.119804\n",
            "26       worst concavity    -0.943053              0.943053\n",
            "13            area error    -0.907186              0.907186\n",
            "20          worst radius    -0.879840              0.879840\n",
            "23            worst area    -0.841846              0.841846\n",
            "6         mean concavity    -0.801458              0.801458\n",
            "27  worst concave points    -0.778217              0.778217\n"
          ]
        }
      ]
    },
    {
      "cell_type": "code",
      "source": [
        "'''Q.19  Write a Python program to train Logistic Regression and evaluate its performance using Cohen’s Kappa Score'''"
      ],
      "metadata": {
        "id": "Xd9fCtkURLkE"
      },
      "execution_count": null,
      "outputs": []
    },
    {
      "cell_type": "code",
      "source": [
        "import pandas as pd\n",
        "from sklearn.datasets import load_breast_cancer\n",
        "from sklearn.model_selection import train_test_split\n",
        "from sklearn.linear_model import LogisticRegression\n",
        "from sklearn.metrics import cohen_kappa_score\n",
        "\n",
        "# Load dataset\n",
        "data = load_breast_cancer()\n",
        "X = pd.DataFrame(data.data, columns=data.feature_names)\n",
        "y = data.target\n",
        "\n",
        "# Train-test split\n",
        "X_train, X_test, y_train, y_test = train_test_split(\n",
        "    X, y, test_size=0.2, random_state=42\n",
        ")\n",
        "\n",
        "# Train logistic regression\n",
        "model = LogisticRegression(max_iter=1000)\n",
        "model.fit(X_train, y_train)\n",
        "\n",
        "# Predict\n",
        "y_pred = model.predict(X_test)\n",
        "\n",
        "# Evaluate using Cohen's Kappa Score\n",
        "kappa = cohen_kappa_score(y_test, y_pred)\n",
        "print(f\"Cohen's Kappa Score: {kappa:.4f}\")\n"
      ],
      "metadata": {
        "colab": {
          "base_uri": "https://localhost:8080/"
        },
        "id": "aWacvGgHRQkb",
        "outputId": "c39791e2-a4ec-4a36-bdef-81e9d9137bc4"
      },
      "execution_count": 8,
      "outputs": [
        {
          "output_type": "stream",
          "name": "stdout",
          "text": [
            "Cohen's Kappa Score: 0.9053\n"
          ]
        },
        {
          "output_type": "stream",
          "name": "stderr",
          "text": [
            "/usr/local/lib/python3.11/dist-packages/sklearn/linear_model/_logistic.py:465: ConvergenceWarning: lbfgs failed to converge (status=1):\n",
            "STOP: TOTAL NO. OF ITERATIONS REACHED LIMIT.\n",
            "\n",
            "Increase the number of iterations (max_iter) or scale the data as shown in:\n",
            "    https://scikit-learn.org/stable/modules/preprocessing.html\n",
            "Please also refer to the documentation for alternative solver options:\n",
            "    https://scikit-learn.org/stable/modules/linear_model.html#logistic-regression\n",
            "  n_iter_i = _check_optimize_result(\n"
          ]
        }
      ]
    },
    {
      "cell_type": "code",
      "source": [
        "'''Q.20 Write a Python program to train Logistic Regression and visualize the Precision-Recall Curve for binary classification'''"
      ],
      "metadata": {
        "id": "jhPd7ArjRY2J"
      },
      "execution_count": null,
      "outputs": []
    },
    {
      "cell_type": "code",
      "source": [
        "import pandas as pd\n",
        "import matplotlib.pyplot as plt\n",
        "from sklearn.datasets import load_breast_cancer\n",
        "from sklearn.linear_model import LogisticRegression\n",
        "from sklearn.model_selection import train_test_split\n",
        "from sklearn.metrics import precision_recall_curve, average_precision_score\n",
        "\n",
        "# Load binary classification dataset\n",
        "data = load_breast_cancer()\n",
        "X = pd.DataFrame(data.data, columns=data.feature_names)\n",
        "y = data.target\n",
        "\n",
        "# Train-test split\n",
        "X_train, X_test, y_train, y_test = train_test_split(\n",
        "    X, y, test_size=0.2, random_state=42\n",
        ")\n",
        "\n",
        "# Train logistic regression model\n",
        "model = LogisticRegression(max_iter=1000)\n",
        "model.fit(X_train, y_train)\n",
        "\n",
        "# Get predicted probabilities\n",
        "y_scores = model.predict_proba(X_test)[:, 1]\n",
        "\n",
        "# Compute Precision-Recall curve and Average Precision\n",
        "precision, recall, thresholds = precision_recall_curve(y_test, y_scores)\n",
        "avg_precision = average_precision_score(y_test, y_scores)\n",
        "\n",
        "# Plot Precision-Recall Curve\n",
        "plt.figure(figsize=(8, 6))\n",
        "plt.plot(recall, precision, label=f'AP = {avg_precision:.2f}', color='blue')\n",
        "plt.xlabel('Recall')\n",
        "plt.ylabel('Precision')\n",
        "plt.title('Precision-Recall Curve')\n",
        "plt.legend()\n",
        "plt.grid(True)\n",
        "plt.tight_layout()\n",
        "plt.show()\n"
      ],
      "metadata": {
        "colab": {
          "base_uri": "https://localhost:8080/",
          "height": 746
        },
        "id": "Pnm4p9W7RhLf",
        "outputId": "7ee5416f-f576-4eda-9ea4-9e4b35caaa1f"
      },
      "execution_count": 9,
      "outputs": [
        {
          "output_type": "stream",
          "name": "stderr",
          "text": [
            "/usr/local/lib/python3.11/dist-packages/sklearn/linear_model/_logistic.py:465: ConvergenceWarning: lbfgs failed to converge (status=1):\n",
            "STOP: TOTAL NO. OF ITERATIONS REACHED LIMIT.\n",
            "\n",
            "Increase the number of iterations (max_iter) or scale the data as shown in:\n",
            "    https://scikit-learn.org/stable/modules/preprocessing.html\n",
            "Please also refer to the documentation for alternative solver options:\n",
            "    https://scikit-learn.org/stable/modules/linear_model.html#logistic-regression\n",
            "  n_iter_i = _check_optimize_result(\n"
          ]
        },
        {
          "output_type": "display_data",
          "data": {
            "text/plain": [
              "<Figure size 800x600 with 1 Axes>"
            ],
            "image/png": "[encoded data removed]"
          },
          "metadata": {}
        }
      ]
    },
    {
      "cell_type": "code",
      "source": [
        "'''Q.21 Write a Python program to train Logistic Regression with different solvers (liblinear, saga, lbfgs) and compare their accuracy'''"
      ],
      "metadata": {
        "id": "QJzkv67bRpmo"
      },
      "execution_count": null,
      "outputs": []
    },
    {
      "cell_type": "code",
      "source": [
        "import pandas as pd\n",
        "from sklearn.datasets import load_breast_cancer\n",
        "from sklearn.linear_model import LogisticRegression\n",
        "from sklearn.model_selection import train_test_split\n",
        "from sklearn.metrics import accuracy_score\n",
        "\n",
        "# Load dataset\n",
        "data = load_breast_cancer()\n",
        "X = pd.DataFrame(data.data, columns=data.feature_names)\n",
        "y = data.target\n",
        "\n",
        "# Train-test split\n",
        "X_train, X_test, y_train, y_test = train_test_split(\n",
        "    X, y, test_size=0.2, random_state=42\n",
        ")\n",
        "\n",
        "# Define solvers to compare\n",
        "solvers = ['liblinear', 'saga', 'lbfgs']\n",
        "results = {}\n",
        "\n",
        "# Train and evaluate with each solver\n",
        "for solver in solvers:\n",
        "    print(f\"Training with solver = {solver}\")\n",
        "    model = LogisticRegression(solver=solver, max_iter=1000)\n",
        "    model.fit(X_train, y_train)\n",
        "    y_pred = model.predict(X_test)\n",
        "    acc = accuracy_score(y_test, y_pred)\n",
        "    results[solver] = acc\n",
        "    print(f\"Accuracy with {solver}: {acc:.4f}\\n\")\n",
        "\n",
        "# Summary\n",
        "print(\"Summary of Solver Accuracies:\")\n",
        "for solver, acc in results.items():\n",
        "    print(f\"{solver}: {acc:.4f}\")\n"
      ],
      "metadata": {
        "colab": {
          "base_uri": "https://localhost:8080/"
        },
        "id": "0r04JTVVRvgg",
        "outputId": "e153b034-d4a8-46d4-fc05-c4abcdb8d715"
      },
      "execution_count": 10,
      "outputs": [
        {
          "output_type": "stream",
          "name": "stdout",
          "text": [
            "Training with solver = liblinear\n",
            "Accuracy with liblinear: 0.9561\n",
            "\n",
            "Training with solver = saga\n",
            "Accuracy with saga: 0.9649\n",
            "\n",
            "Training with solver = lbfgs\n",
            "Accuracy with lbfgs: 0.9561\n",
            "\n",
            "Summary of Solver Accuracies:\n",
            "liblinear: 0.9561\n",
            "saga: 0.9649\n",
            "lbfgs: 0.9561\n"
          ]
        },
        {
          "output_type": "stream",
          "name": "stderr",
          "text": [
            "/usr/local/lib/python3.11/dist-packages/sklearn/linear_model/_sag.py:348: ConvergenceWarning: The max_iter was reached which means the coef_ did not converge\n",
            "  warnings.warn(\n",
            "/usr/local/lib/python3.11/dist-packages/sklearn/linear_model/_logistic.py:465: ConvergenceWarning: lbfgs failed to converge (status=1):\n",
            "STOP: TOTAL NO. OF ITERATIONS REACHED LIMIT.\n",
            "\n",
            "Increase the number of iterations (max_iter) or scale the data as shown in:\n",
            "    https://scikit-learn.org/stable/modules/preprocessing.html\n",
            "Please also refer to the documentation for alternative solver options:\n",
            "    https://scikit-learn.org/stable/modules/linear_model.html#logistic-regression\n",
            "  n_iter_i = _check_optimize_result(\n"
          ]
        }
      ]
    },
    {
      "cell_type": "code",
      "source": [
        "'''Q.22  Write a Python program to train Logistic Regression and evaluate its performance using Matthews Correlation Coefficient (MCC)'''"
      ],
      "metadata": {
        "id": "Rz4JlHL1R3bx"
      },
      "execution_count": null,
      "outputs": []
    },
    {
      "cell_type": "code",
      "source": [
        "import pandas as pd\n",
        "from sklearn.datasets import load_breast_cancer\n",
        "from sklearn.linear_model import LogisticRegression\n",
        "from sklearn.model_selection import train_test_split\n",
        "from sklearn.metrics import matthews_corrcoef\n",
        "\n",
        "# Load dataset (binary classification)\n",
        "data = load_breast_cancer()\n",
        "X = pd.DataFrame(data.data, columns=data.feature_names)\n",
        "y = data.target\n",
        "\n",
        "# Split into train and test sets\n",
        "X_train, X_test, y_train, y_test = train_test_split(\n",
        "    X, y, test_size=0.2, random_state=42\n",
        ")\n",
        "\n",
        "# Train Logistic Regression model\n",
        "model = LogisticRegression(solver='liblinear')\n",
        "model.fit(X_train, y_train)\n",
        "\n",
        "# Make predictions\n",
        "y_pred = model.predict(X_test)\n",
        "\n",
        "# Evaluate using Matthews Correlation Coefficient\n",
        "mcc = matthews_corrcoef(y_test, y_pred)\n",
        "print(f\"Matthews Correlation Coefficient (MCC): {mcc:.4f}\")\n"
      ],
      "metadata": {
        "colab": {
          "base_uri": "https://localhost:8080/"
        },
        "id": "IPVts7TER9mi",
        "outputId": "274de395-1129-433a-f4dc-0e50bdb55df5"
      },
      "execution_count": 11,
      "outputs": [
        {
          "output_type": "stream",
          "name": "stdout",
          "text": [
            "Matthews Correlation Coefficient (MCC): 0.9068\n"
          ]
        }
      ]
    },
    {
      "cell_type": "code",
      "source": [
        "'''Q.25 Write a Python program to train Logistic Regression on both raw and standardized data. Compare their accuracy to see the impact of feature scaling'''"
      ],
      "metadata": {
        "id": "iLLxnFuTSFOI"
      },
      "execution_count": null,
      "outputs": []
    },
    {
      "cell_type": "code",
      "source": [
        "import pandas as pd\n",
        "from sklearn.datasets import load_breast_cancer\n",
        "from sklearn.linear_model import LogisticRegression\n",
        "from sklearn.model_selection import train_test_split\n",
        "from sklearn.preprocessing import StandardScaler\n",
        "from sklearn.metrics import accuracy_score\n",
        "\n",
        "# Load dataset\n",
        "data = load_breast_cancer()\n",
        "X = pd.DataFrame(data.data, columns=data.feature_names)\n",
        "y = data.target\n",
        "\n",
        "# Split data\n",
        "X_train, X_test, y_train, y_test = train_test_split(X, y, test_size=0.2, random_state=42)\n",
        "\n",
        "# ---- 1. Logistic Regression on Raw Data ----\n",
        "model_raw = LogisticRegression(solver='liblinear')\n",
        "model_raw.fit(X_train, y_train)\n",
        "y_pred_raw = model_raw.predict(X_test)\n",
        "acc_raw = accuracy_score(y_test, y_pred_raw)\n",
        "\n",
        "# ---- 2. Logistic Regression on Standardized Data ----\n",
        "scaler = StandardScaler()\n",
        "X_train_scaled = scaler.fit_transform(X_train)\n",
        "X_test_scaled = scaler.transform(X_test)\n",
        "\n",
        "model_scaled = LogisticRegression(solver='liblinear')\n",
        "model_scaled.fit(X_train_scaled, y_train)\n",
        "y_pred_scaled = model_scaled.predict(X_test_scaled)\n",
        "acc_scaled = accuracy_score(y_test, y_pred_scaled)\n",
        "\n",
        "# ---- Results ----\n",
        "print(f\"Accuracy on Raw Data:         {acc_raw:.4f}\")\n",
        "print(f\"Accuracy on Standardized Data:{acc_scaled:.4f}\")\n"
      ],
      "metadata": {
        "colab": {
          "base_uri": "https://localhost:8080/"
        },
        "id": "S98VLIoISKVF",
        "outputId": "0dc8a4e5-842d-442f-935a-a5ad41172643"
      },
      "execution_count": 12,
      "outputs": [
        {
          "output_type": "stream",
          "name": "stdout",
          "text": [
            "Accuracy on Raw Data:         0.9561\n",
            "Accuracy on Standardized Data:0.9737\n"
          ]
        }
      ]
    },
    {
      "cell_type": "code",
      "source": [
        "'''Q.24 Write a Python program to train Logistic Regression and find the optimal C (regularization strength) using cross-validation'''"
      ],
      "metadata": {
        "id": "_7oaq9eDSWes"
      },
      "execution_count": null,
      "outputs": []
    },
    {
      "cell_type": "code",
      "source": [
        "import numpy as np\n",
        "from sklearn.datasets import load_breast_cancer\n",
        "from sklearn.linear_model import LogisticRegressionCV\n",
        "from sklearn.model_selection import train_test_split\n",
        "from sklearn.preprocessing import StandardScaler\n",
        "from sklearn.metrics import accuracy_score\n",
        "\n",
        "# Load dataset\n",
        "data = load_breast_cancer()\n",
        "X = data.data\n",
        "y = data.target\n",
        "\n",
        "# Split into train/test\n",
        "X_train, X_test, y_train, y_test = train_test_split(X, y, test_size=0.2, random_state=42)\n",
        "\n",
        "# Standardize features\n",
        "scaler = StandardScaler()\n",
        "X_train_scaled = scaler.fit_transform(X_train)\n",
        "X_test_scaled = scaler.transform(X_test)\n",
        "\n",
        "# Define Logistic Regression with cross-validation for C\n",
        "logreg_cv = LogisticRegressionCV(\n",
        "    Cs=10,                # Try 10 different C values\n",
        "    cv=5,                 # 5-fold cross-validation\n",
        "    penalty='l2',         # L2 regularization\n",
        "    solver='liblinear',   # Works well for small datasets\n",
        "    scoring='accuracy',\n",
        "    random_state=42\n",
        ")\n",
        "\n",
        "# Train the model\n",
        "logreg_cv.fit(X_train_scaled, y_train)\n",
        "\n",
        "# Predict and evaluate\n",
        "y_pred = logreg_cv.predict(X_test_scaled)\n",
        "accuracy = accuracy_score(y_test, y_pred)\n",
        "\n",
        "# Results\n",
        "print(\"Optimal C value found:\", logreg_cv.C_[0])\n",
        "print(\"Test Accuracy: {:.4f}\".format(accuracy))\n"
      ],
      "metadata": {
        "colab": {
          "base_uri": "https://localhost:8080/"
        },
        "id": "WMbIJl_CSjC6",
        "outputId": "e994079a-8d28-45df-93f2-cac08e2e5449"
      },
      "execution_count": 13,
      "outputs": [
        {
          "output_type": "stream",
          "name": "stdout",
          "text": [
            "Optimal C value found: 0.3593813663804626\n",
            "Test Accuracy: 0.9825\n"
          ]
        }
      ]
    },
    {
      "cell_type": "code",
      "source": [
        "'''Q.25 Write a Python program to train Logistic Regression, save the trained model using joblib, and load it again to make predictions.'''"
      ],
      "metadata": {
        "id": "3s4Nc77kSlfx"
      },
      "execution_count": null,
      "outputs": []
    },
    {
      "cell_type": "code",
      "source": [
        "import numpy as np\n",
        "from sklearn.datasets import load_breast_cancer\n",
        "from sklearn.linear_model import LogisticRegression\n",
        "from sklearn.model_selection import train_test_split\n",
        "from sklearn.preprocessing import StandardScaler\n",
        "from sklearn.metrics import accuracy_score\n",
        "import joblib\n",
        "\n",
        "# Step 1: Load dataset\n",
        "data = load_breast_cancer()\n",
        "X = data.data\n",
        "y = data.target\n",
        "\n",
        "# Step 2: Train-test split\n",
        "X_train, X_test, y_train, y_test = train_test_split(X, y, test_size=0.2, random_state=42)\n",
        "\n",
        "# Step 3: Standardize the data\n",
        "scaler = StandardScaler()\n",
        "X_train_scaled = scaler.fit_transform(X_train)\n",
        "X_test_scaled = scaler.transform(X_test)\n",
        "\n",
        "# Step 4: Train Logistic Regression\n",
        "model = LogisticRegression(solver='liblinear')\n",
        "model.fit(X_train_scaled, y_train)\n",
        "\n",
        "# Step 5: Save model using joblib\n",
        "joblib.dump(model, 'logistic_model.pkl')\n",
        "joblib.dump(scaler, 'scaler.pkl')\n",
        "\n",
        "print(\"Model and scaler saved successfully!\")\n",
        "\n",
        "# Step 6: Load model and scaler\n",
        "loaded_model = joblib.load('logistic_model.pkl')\n",
        "loaded_scaler = joblib.load('scaler.pkl')\n",
        "\n",
        "# Step 7: Predict using loaded model\n",
        "X_new_scaled = loaded_scaler.transform(X_test)  # Apply same scaling\n",
        "y_pred = loaded_model.predict(X_new_scaled)\n",
        "\n",
        "# Step 8: Evaluate\n",
        "accuracy = accuracy_score(y_test, y_pred)\n",
        "print(\"Loaded model accuracy: {:.4f}\".format(accuracy))\n"
      ],
      "metadata": {
        "colab": {
          "base_uri": "https://localhost:8080/"
        },
        "id": "cTdh77mbSrZ_",
        "outputId": "6d0b904a-ee36-4be4-f47a-0e2fa6bbce10"
      },
      "execution_count": 14,
      "outputs": [
        {
          "output_type": "stream",
          "name": "stdout",
          "text": [
            "Model and scaler saved successfully!\n",
            "Loaded model accuracy: 0.9737\n"
          ]
        }
      ]
    }
  ]
}