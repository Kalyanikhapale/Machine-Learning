{
  "nbformat": 4,
  "nbformat_minor": 0,
  "metadata": {
    "colab": {
      "provenance": []
    },
    "kernelspec": {
      "name": "python3",
      "display_name": "Python 3"
    },
    "language_info": {
      "name": "python"
    }
  },
  "cells": [
    {
      "cell_type": "code",
      "execution_count": null,
      "metadata": {
        "id": "21POzU9aTocO"
      },
      "outputs": [],
      "source": [
        "'''Q.1 What is a Decision Tree, and how does it work?'''"
      ]
    },
    {
      "cell_type": "markdown",
      "source": [
        "\n",
        "\n",
        "A decision tree is a supervised machine learning algorithm used for both classification and regression problems. It is a tree-like model of decisions that splits the data into subsets based on the value of input features.\n",
        "\n",
        "Working of Decision Tree:\n",
        "\n",
        "1. It starts at the root node and selects the best feature to split the data.\n",
        "2. The best feature is chosen based on a splitting criterion like Gini index, entropy (for classification), or mean squared error (for regression).\n",
        "3. The data is divided into subsets based on this feature.\n",
        "4. This process continues recursively on each child node until a stopping condition is met (like maximum depth, minimum samples, or pure leaf nodes).\n",
        "5. For prediction, a new data point is passed from the root to a leaf by following the conditions, and the final output is given at the leaf node.\n",
        "\n",
        "Advantages:\n",
        "\n",
        "* Easy to interpret and visualize\n",
        "* Can handle both numerical and categorical data\n",
        "* No need for feature scaling\n",
        "\n",
        "Disadvantages:\n",
        "\n",
        "* Prone to overfitting\n",
        "* Can be unstable with small changes in data\n",
        "* May prefer features with more categories\n",
        "\n",
        "Decision trees are the foundation of ensemble methods like Random Forest and Gradient Boosting.\n"
      ],
      "metadata": {
        "id": "MkHGx4R4V9Hu"
      }
    },
    {
      "cell_type": "code",
      "source": [
        "'''Q.2 What are impurity measures in Decision Trees?'''"
      ],
      "metadata": {
        "id": "AzFLiraEWGO5"
      },
      "execution_count": null,
      "outputs": []
    },
    {
      "cell_type": "markdown",
      "source": [
        "\n",
        "\n",
        "Impurity measures are metrics used to determine how mixed or impure a node is in a decision tree. They help decide the best feature to split the data at each node. A node is considered pure if all samples belong to the same class.\n",
        "\n",
        "Common impurity measures:\n",
        "\n",
        "1. Gini Index:\n",
        "\n",
        "   * Formula: Gini = 1 − ∑(pi²)\n",
        "   * Where pi is the probability of class *i* in the node.\n",
        "   * Lower Gini means higher purity.\n",
        "   * Commonly used in classification (especially in CART).\n",
        "\n",
        "2. Entropy (Information Gain):\n",
        "\n",
        "   * Formula: Entropy = − ∑(pi × log₂(pi))\n",
        "   * Measures the disorder or unpredictability in the node.\n",
        "   * Information Gain = Entropy (parent) − Weighted Entropy (children)\n",
        "   * Used in ID3 and C4.5 algorithms.\n",
        "\n",
        "3. Classification Error:\n",
        "\n",
        "   * Formula: Error = 1 − max(pi)\n",
        "   * Simple and less sensitive, rarely used in practice.\n",
        "\n",
        "4. Mean Squared Error (MSE):\n",
        "\n",
        "   * Used for regression trees.\n",
        "   * Measures the average squared difference between actual and predicted values.\n",
        "\n",
        "Purpose:\n",
        "Impurity measures guide the tree-building process by choosing splits that result in child nodes with lower impurity than the parent node.\n"
      ],
      "metadata": {
        "id": "r6IuDafoWLyj"
      }
    },
    {
      "cell_type": "code",
      "source": [
        "'''Q.3 What is the mathematical formula for Gini Impurity?'''"
      ],
      "metadata": {
        "id": "jWUELl7tWXQW"
      },
      "execution_count": null,
      "outputs": []
    },
    {
      "cell_type": "markdown",
      "source": [
        "\n",
        "Gini Impurity is calculated as:\n",
        "\n",
        "$$\n",
        "\\text{Gini} = 1 - \\sum_{i=1}^{n} p_i^2\n",
        "$$\n",
        "\n",
        "Where:\n",
        "\n",
        "* $p_i$ is the probability of class $i$ in a given node.\n",
        "* $n$ is the total number of classes.\n",
        "\n",
        "Explanation:\n",
        "\n",
        "* It measures the probability of incorrectly classifying a randomly chosen element from the dataset.\n",
        "* A Gini impurity of 0 means the node is pure (only one class present).\n"
      ],
      "metadata": {
        "id": "LLpDWkYUWcwj"
      }
    },
    {
      "cell_type": "code",
      "source": [
        "'''Q.4 What is the mathematical formula for Entropy?'''"
      ],
      "metadata": {
        "id": "KwExTiiJWobi"
      },
      "execution_count": null,
      "outputs": []
    },
    {
      "cell_type": "markdown",
      "source": [
        "\n",
        "$$\n",
        "\\text{Entropy} = - \\sum_{i=1}^{n} p_i \\log_2(p_i)\n",
        "$$\n",
        "\n",
        "Where:\n",
        "\n",
        "* $p_i$ is the probability of class $i$ in a given node.\n",
        "* $n$ is the total number of classes.\n",
        "\n",
        "Explanation:\n",
        "Entropy measures the amount of uncertainty or disorder in a dataset.\n",
        "\n",
        "* If all samples belong to one class, entropy is 0 (pure node).\n",
        "* Higher entropy means more disorder (more mixed classes).\n"
      ],
      "metadata": {
        "id": "C9W-7YTbW48C"
      }
    },
    {
      "cell_type": "code",
      "source": [
        "'''Q.5 What is Information Gain, and how is it used in Decision Trees?'''"
      ],
      "metadata": {
        "id": "qqn3ZTZ_W9wV"
      },
      "execution_count": null,
      "outputs": []
    },
    {
      "cell_type": "markdown",
      "source": [
        "\n",
        "\n",
        "Information Gain is the decrease in entropy after a dataset is split on an attribute. It measures how well a feature separates the classes.\n",
        "\n",
        "Formula:\n",
        "\n",
        "$$\n",
        "\\text{Information Gain} = \\text{Entropy (Parent)} - \\sum_{i=1}^{k} \\frac{n_i}{n} \\cdot \\text{Entropy (Child}_i)\n",
        "$$\n",
        "\n",
        "Where:\n",
        "\n",
        "* $n$ is the total number of samples in the parent node\n",
        "* $n_i$ is the number of samples in the $i^{th}$ child node\n",
        "* $k$ is the number of child nodes\n",
        "\n",
        "Usage in Decision Trees:\n",
        "\n",
        "* During tree construction, the algorithm calculates Information Gain for each feature.\n",
        "* The feature with the highest Information Gain is selected for the split.\n",
        "* This process continues recursively to grow the tree.\n"
      ],
      "metadata": {
        "id": "1Hv0_NkOXFNI"
      }
    },
    {
      "cell_type": "code",
      "source": [
        "'''Q.6 What is the difference between Gini Impurity and Entropy?'''"
      ],
      "metadata": {
        "id": "AdlWrBrdXOl2"
      },
      "execution_count": null,
      "outputs": []
    },
    {
      "cell_type": "markdown",
      "source": [
        "| Criteria              | Gini Impurity                                                                     | Entropy                                                          |\n",
        "| --------------------- | --------------------------------------------------------------------------------- | ---------------------------------------------------------------- |\n",
        "| Definition            | Measures the probability of incorrect classification of a randomly chosen element | Measures the amount of information (or uncertainty) in a dataset |\n",
        "| Formula               | $G = 1 - \\sum p_i^2$                                                              | $H = -\\sum p_i \\log_2 p_i$                                       |\n",
        "| Range                 | 0 (pure) to 0.5 (for binary classification)                                       | 0 (pure) to 1 (for binary classification)                        |\n",
        "| Computation           | Faster and easier to compute                                                      | Slightly more complex due to log calculations                    |\n",
        "| Split Preference      | Tends to create more balanced splits                                              | Can prefer attributes with many distinct values                  |\n",
        "| Use in Decision Trees | Used in CART algorithm                                                            | Used in ID3 and C4.5 algorithms                                  |\n"
      ],
      "metadata": {
        "id": "pki8ZF2tXU_X"
      }
    },
    {
      "cell_type": "code",
      "source": [
        "'''Q.7 What is the mathematical explanation behind Decision Trees?'''"
      ],
      "metadata": {
        "id": "9rqixZfKXdRg"
      },
      "execution_count": null,
      "outputs": []
    },
    {
      "cell_type": "markdown",
      "source": [
        "\n",
        "\n",
        "1. Objective:\n",
        "   Decision Trees aim to split the dataset into subsets such that each subset is as pure (homogeneous) as possible with respect to the target variable.\n",
        "\n",
        "2. Splitting Criteria:\n",
        "   At each node, the algorithm chooses the feature and threshold that best splits the data based on impurity measures like:\n",
        "\n",
        "   * Gini Impurity:\n",
        "\n",
        "     $$\n",
        "     Gini = 1 - \\sum_{i=1}^{k} p_i^2\n",
        "     $$\n",
        "\n",
        "     where $p_i$ is the probability of class $i$.\n",
        "\n",
        "   * Entropy (Information Gain):\n",
        "\n",
        "     $$\n",
        "     Entropy = - \\sum_{i=1}^{k} p_i \\log_2 p_i\n",
        "     $$\n",
        "\n",
        "     $$\n",
        "     Information\\ Gain = Entropy(parent) - \\sum \\left( \\frac{n_{child}}{n_{parent}} \\times Entropy(child) \\right)\n",
        "     $$\n",
        "\n",
        "3. Recursive Splitting:\n",
        "\n",
        "   * The dataset is recursively split based on the feature that gives the maximum information gain or minimum impurity.\n",
        "   * Splitting stops when all nodes are pure or a stopping condition (like max depth or min samples) is met.\n",
        "\n",
        "4. Prediction:\n",
        "\n",
        "   * For classification: Follow the path in the tree based on feature values until reaching a leaf node; output the majority class.\n",
        "   * For regression: Output the average target value at the leaf node.\n",
        "\n",
        "5. Overfitting Control:\n",
        "   Controlled using parameters like:\n",
        "\n",
        "   * Maximum depth of the tree\n",
        "   * Minimum samples per leaf\n",
        "   * Pruning\n",
        "\n",
        "Conclusion:\n",
        "Decision Trees are built using a greedy approach that selects the best split at each node using mathematical criteria like Gini or Entropy to minimize impurity and increase prediction accuracy.\n"
      ],
      "metadata": {
        "id": "e1sC6h7QXhti"
      }
    },
    {
      "cell_type": "code",
      "source": [
        "'''Q.8  What is Pre-Pruning in Decision Trees?'''"
      ],
      "metadata": {
        "id": "Sd2_WCxPXtss"
      },
      "execution_count": null,
      "outputs": []
    },
    {
      "cell_type": "markdown",
      "source": [
        "\n",
        "\n",
        "Pre-pruning, also called early stopping, is a technique used to stop the growth of a decision tree early, before it becomes too complex, in order to avoid overfitting.\n",
        "\n",
        " Key Points:\n",
        "\n",
        "1. Objective:\n",
        "   To limit the size of the tree during its construction by setting constraints.\n",
        "\n",
        "2. Common Pre-Pruning Parameters:\n",
        "\n",
        "   * `max_depth`: Maximum depth of the tree.\n",
        "   * `min_samples_split`: Minimum number of samples required to split a node.\n",
        "   * `min_samples_leaf`: Minimum number of samples required to be at a leaf node.\n",
        "   * `max_leaf_nodes`: Maximum number of leaf nodes allowed.\n",
        "   * `max_features`: Maximum number of features to consider when looking for the best split.\n",
        "\n",
        "3. How It Works:\n",
        "   Before making a split at a node, the algorithm checks if the splitting conditions meet the pre-defined criteria. If not, the node becomes a leaf.\n",
        "\n",
        "4. Advantages:\n",
        "\n",
        "   * Prevents overfitting.\n",
        "   * Faster training time.\n",
        "   * Simpler and more interpretable trees.\n",
        "\n",
        "5. Disadvantage:\n",
        "\n",
        "   * Risk of underfitting if constraints are too strict.\n",
        "\n",
        " Conclusion:\n",
        "\n",
        "Pre-pruning controls the tree size by applying constraints during tree construction, helping to generalize better on unseen data.\n"
      ],
      "metadata": {
        "id": "aPrRPF5OX3uv"
      }
    },
    {
      "cell_type": "code",
      "source": [
        "'''Q.9 What is Post-Pruning in Decision Trees?'''"
      ],
      "metadata": {
        "id": "DIHGxC2KYDNe"
      },
      "execution_count": null,
      "outputs": []
    },
    {
      "cell_type": "markdown",
      "source": [
        "\n",
        "Post-pruning, also known as cost-complexity pruning, is a technique used to reduce the size of a fully grown decision tree by removing branches that have little importance, in order to improve generalization and reduce overfitting.\n",
        "\n",
        " Key Points:\n",
        "\n",
        "1. Objective:\n",
        "   To simplify an already grown decision tree by cutting off less significant branches.\n",
        "\n",
        "2. How It Works:\n",
        "\n",
        "   * First, a very deep tree is built, possibly overfitting the training data.\n",
        "   * Then, nodes or subtrees are evaluated and removed (pruned) based on performance (e.g., validation accuracy or error).\n",
        "   * The process continues until further pruning does not improve the performance.\n",
        "\n",
        "3. Types of Post-Pruning:\n",
        "\n",
        "   * Reduced Error Pruning: Replace a subtree with a leaf if it improves validation accuracy.\n",
        "   * Cost-Complexity Pruning (used in CART): Introduces a penalty term for complexity and prunes the tree to minimize total cost.\n",
        "\n",
        "4. Advantages:\n",
        "\n",
        "   * Leads to simpler models.\n",
        "   * Improves performance on test data.\n",
        "   * Better than pre-pruning in many cases.\n",
        "\n",
        "5. Disadvantage:\n",
        "\n",
        "   * Requires a separate validation set or cross-validation.\n",
        "\n",
        " Conclusion:\n",
        "\n",
        "Post-pruning simplifies an overfitted decision tree by cutting back unnecessary branches, resulting in a more robust and generalizable model.\n"
      ],
      "metadata": {
        "id": "2XYl2ubDYHb5"
      }
    },
    {
      "cell_type": "code",
      "source": [
        "'''Q.10 What is the difference between Pre-Pruning and Post-Pruning?'''"
      ],
      "metadata": {
        "id": "xdE8MMlpYVa0"
      },
      "execution_count": null,
      "outputs": []
    },
    {
      "cell_type": "markdown",
      "source": [
        "| Aspect                   | Pre-Pruning                                          | Post-Pruning                                    |\n",
        "| ------------------------ | ---------------------------------------------------- | ----------------------------------------------- |\n",
        "| Definition           | Stops the tree growth early during training          | Trims the tree after fully growing it           |\n",
        "| When Applied         | During tree construction                             | After the tree has been completely built        |\n",
        "| Purpose              | Prevent overfitting by not allowing complex trees    | Remove overfitted or unnecessary branches       |\n",
        "| Method               | Uses constraints like max depth, min samples, etc.   | Evaluates subtrees and prunes if not useful     |\n",
        "| Risk                 | May underfit due to early stopping                   | Generally better at balancing bias and variance |\n",
        "| Data Required        | Training data only                                   | Often needs validation data                     |\n",
        "| Examples of Criteria | `max_depth`, `min_samples_split`, `min_samples_leaf` | Validation accuracy, cost-complexity (alpha)    |\n"
      ],
      "metadata": {
        "id": "mzNxh9ApYeTf"
      }
    },
    {
      "cell_type": "code",
      "source": [
        "'''Q.11 What is a Decision Tree Regressor?'''"
      ],
      "metadata": {
        "id": "RAWHdNhVYnWw"
      },
      "execution_count": null,
      "outputs": []
    },
    {
      "cell_type": "markdown",
      "source": [
        "\n",
        "\n",
        "A Decision Tree Regressor is a type of machine learning model used for predicting continuous (numerical) outcomes. It splits the data into smaller subsets based on feature values and fits a simple model (typically the mean of the target variable) in each leaf node.\n",
        "\n",
        " How it works:\n",
        "\n",
        "1. The dataset is split recursively into subsets based on the feature that minimizes the Mean Squared Error (MSE).\n",
        "2. At each node, the algorithm chooses the best feature and split point to reduce the prediction error.\n",
        "3. The process continues until a stopping condition is met (like max depth or min samples).\n",
        "4. The prediction for a new data point is the average target value of the leaf where it lands.\n",
        "\n",
        " Key Characteristics:\n",
        "\n",
        "* Output: Continuous values.\n",
        "* Split Criterion: Minimizes variance or MSE.\n",
        "* Interpretability: Easy to understand and visualize.\n",
        "* Tendency to overfit: Yes, especially on small datasets.\n",
        "\n",
        "Example Use Case:\n",
        "\n",
        "Predicting house prices based on features like number of rooms, location, and size.\n"
      ],
      "metadata": {
        "id": "IUxjwR6RY0oU"
      }
    },
    {
      "cell_type": "code",
      "source": [
        "'''Q.12 What are the advantages and disadvantages of Decision Trees?'''"
      ],
      "metadata": {
        "id": "0msA0ZsLY9T9"
      },
      "execution_count": null,
      "outputs": []
    },
    {
      "cell_type": "markdown",
      "source": [
        "\n",
        " Advantages:\n",
        "\n",
        "1. Easy to Understand and Interpret: Decision Trees are simple to visualize and explain.\n",
        "2. No Need for Feature Scaling: They do not require normalization or standardization.\n",
        "3. Handles Both Numerical and Categorical Data: Flexible with different types of features.\n",
        "4. Non-Linear Relationships: Can capture complex patterns and interactions between features.\n",
        "5. Feature Importance: Automatically identifies important features during splitting.\n",
        "\n",
        " Disadvantages:\n",
        "\n",
        "1. Overfitting: Decision Trees tend to overfit, especially if they are deep and not pruned.\n",
        "2. Unstable: Small changes in the data can lead to different tree structures.\n",
        "3. Biased to Dominant Classes: If not handled properly, trees may be biased when classes are imbalanced.\n",
        "4. Less Accurate Alone: Often less accurate than ensemble methods like Random Forest or Gradient Boosting.\n",
        "5. Greedy Algorithm: Makes locally optimal choices, which may not lead to globally optimal results.\n"
      ],
      "metadata": {
        "id": "FVo7vdQGZB17"
      }
    },
    {
      "cell_type": "code",
      "source": [
        "'''Q.13  How does a Decision Tree handle missing values?'''"
      ],
      "metadata": {
        "id": "feEgguWcZPnc"
      },
      "execution_count": null,
      "outputs": []
    },
    {
      "cell_type": "markdown",
      "source": [
        "\n",
        "\n",
        "1. During Training:\n",
        "\n",
        "   * Some implementations (like CART) ignore rows with missing values or use surrogate splits to handle them.\n",
        "   * Surrogate splits find alternative features that closely mimic the original split and use them when values are missing.\n",
        "\n",
        "2. During Prediction:\n",
        "\n",
        "   * If a value is missing for the split feature, the decision tree can:\n",
        "\n",
        "     * Use the surrogate split.\n",
        "     * Assign the instance to the most frequent branch.\n",
        "     * Use probability-based routing (sending the instance down all branches proportionally).\n",
        "\n",
        "3. Library-Specific Handling:\n",
        "\n",
        "   * In scikit-learn, missing values (NaNs) must be handled before training (e.g., via imputation).\n",
        "   * Libraries like XGBoost and LightGBM can handle missing values natively.\n"
      ],
      "metadata": {
        "id": "r2D-mL3XZULJ"
      }
    },
    {
      "cell_type": "code",
      "source": [
        "'''Q.14 How does a Decision Tree handle categorical features?'''"
      ],
      "metadata": {
        "id": "MoNxTu1DZhPY"
      },
      "execution_count": null,
      "outputs": []
    },
    {
      "cell_type": "markdown",
      "source": [
        "\n",
        "1. Direct Splitting:\n",
        "\n",
        "   * The tree can split on each category of a feature, e.g., `Color ∈ {Red, Blue, Green}`.\n",
        "   * For binary splits, it may group categories to form the best split (e.g., `Color ∈ {Red, Blue}` vs. `Green`).\n",
        "\n",
        "2. Encoding:\n",
        "\n",
        "   * In practice, categorical features are often converted to numeric format using:\n",
        "\n",
        "     * Label Encoding: Converts categories to integers.\n",
        "     * One-Hot Encoding: Creates binary columns for each category.\n",
        "\n",
        "3. Library Behavior:\n",
        "\n",
        "   * Scikit-learn DecisionTree: Requires numerical input — categorical data must be encoded first.\n",
        "   * LightGBM and CatBoost: Can handle categorical features natively without encoding.\n",
        "\n",
        "4. Split Selection:\n",
        "\n",
        "   * The algorithm finds the best way to group categories to minimize impurity (like Gini or Entropy).\n"
      ],
      "metadata": {
        "id": "pHNBv8QJZmT0"
      }
    },
    {
      "cell_type": "code",
      "source": [
        "'''Q.15 What are some real-world applications of Decision Trees?'''"
      ],
      "metadata": {
        "id": "dbtNHbc-ZwBq"
      },
      "execution_count": null,
      "outputs": []
    },
    {
      "cell_type": "markdown",
      "source": [
        "\n",
        "\n",
        "1. Medical Diagnosis\n",
        "   Used to classify diseases based on symptoms, test results, and patient history.\n",
        "\n",
        "2. Loan Approval\n",
        "   Banks use decision trees to assess credit risk and decide whether to approve a loan.\n",
        "\n",
        "3. Customer Churn Prediction\n",
        "   Helps companies predict if a customer is likely to leave based on usage patterns and feedback.\n",
        "\n",
        "4. Fraud Detection\n",
        "   Identifies fraudulent transactions by analyzing spending behavior and transaction history.\n",
        "\n",
        "5. Marketing and Targeting\n",
        "   Classifies customers into segments for personalized advertising or product recommendations.\n",
        "\n",
        "6. Manufacturing Quality Control\n",
        "   Detects defective products based on measurements and process parameters.\n",
        "\n",
        "7. HR Analytics\n",
        "   Used to predict employee attrition or performance based on factors like attendance, ratings, etc.\n",
        "\n",
        "8. Game Strategy\n",
        "   Helps in game AI to make decisions based on game state (e.g., in chess or decision-making games).\n"
      ],
      "metadata": {
        "id": "yI8WsVHIZ7TZ"
      }
    },
    {
      "cell_type": "markdown",
      "source": [
        "# PRACTICAL"
      ],
      "metadata": {
        "id": "qIg7c7sQaAWn"
      }
    },
    {
      "cell_type": "code",
      "source": [
        "'''Q.1  Write a Python program to train a Decision Tree Classifier on the Iris dataset and print the model accuracy'''"
      ],
      "metadata": {
        "id": "rzSf8PBKaEeB"
      },
      "execution_count": null,
      "outputs": []
    },
    {
      "cell_type": "code",
      "source": [
        "# Import libraries\n",
        "from sklearn.datasets import load_iris\n",
        "from sklearn.tree import DecisionTreeClassifier\n",
        "from sklearn.model_selection import train_test_split\n",
        "from sklearn.metrics import accuracy_score\n",
        "\n",
        "# Load Iris dataset\n",
        "iris = load_iris()\n",
        "X = iris.data\n",
        "y = iris.target\n",
        "\n",
        "# Split data into training and test sets (80% train, 20% test)\n",
        "X_train, X_test, y_train, y_test = train_test_split(X, y, test_size=0.2, random_state=42)\n",
        "\n",
        "# Initialize Decision Tree Classifier\n",
        "clf = DecisionTreeClassifier(random_state=42)\n",
        "\n",
        "# Train the model\n",
        "clf.fit(X_train, y_train)\n",
        "\n",
        "# Predict on test set\n",
        "y_pred = clf.predict(X_test)\n",
        "\n",
        "# Calculate and print accuracy\n",
        "accuracy = accuracy_score(y_test, y_pred)\n",
        "print(f\"Model Accuracy: {accuracy:.2f}\")\n"
      ],
      "metadata": {
        "colab": {
          "base_uri": "https://localhost:8080/"
        },
        "id": "yAf7BgXMaPn5",
        "outputId": "f5eacb44-2a85-4ece-aa59-503ba287bcb9"
      },
      "execution_count": 1,
      "outputs": [
        {
          "output_type": "stream",
          "name": "stdout",
          "text": [
            "Model Accuracy: 1.00\n"
          ]
        }
      ]
    },
    {
      "cell_type": "code",
      "source": [
        "'''Q.2  Write a Python program to train a Decision Tree Classifier using Gini Impurity as the criterion and print the feature importances'''"
      ],
      "metadata": {
        "id": "kTfrcTfQaW3Q"
      },
      "execution_count": null,
      "outputs": []
    },
    {
      "cell_type": "code",
      "source": [
        "# Import necessary libraries\n",
        "from sklearn.datasets import load_iris\n",
        "from sklearn.tree import DecisionTreeClassifier\n",
        "from sklearn.model_selection import train_test_split\n",
        "import pandas as pd\n",
        "\n",
        "# Load the Iris dataset\n",
        "iris = load_iris()\n",
        "X = iris.data\n",
        "y = iris.target\n",
        "feature_names = iris.feature_names\n",
        "\n",
        "# Split the dataset into training and test sets\n",
        "X_train, X_test, y_train, y_test = train_test_split(X, y, test_size=0.2, random_state=42)\n",
        "\n",
        "# Create and train the Decision Tree Classifier using Gini Impurity\n",
        "clf = DecisionTreeClassifier(criterion='gini', random_state=42)\n",
        "clf.fit(X_train, y_train)\n",
        "\n",
        "# Get feature importances\n",
        "importances = clf.feature_importances_\n",
        "\n",
        "# Create a pandas DataFrame for better readability\n",
        "feature_importance_df = pd.DataFrame({\n",
        "    'Feature': feature_names,\n",
        "    'Importance': importances\n",
        "}).sort_values(by='Importance', ascending=False)\n",
        "\n",
        "# Print feature importances\n",
        "print(\"Feature Importances:\")\n",
        "print(feature_importance_df)\n"
      ],
      "metadata": {
        "colab": {
          "base_uri": "https://localhost:8080/"
        },
        "id": "JQTkxyRdaaq5",
        "outputId": "dbd39997-4b5b-4c73-f183-cd5d0a6f05cb"
      },
      "execution_count": 2,
      "outputs": [
        {
          "output_type": "stream",
          "name": "stdout",
          "text": [
            "Feature Importances:\n",
            "             Feature  Importance\n",
            "2  petal length (cm)    0.906143\n",
            "3   petal width (cm)    0.077186\n",
            "1   sepal width (cm)    0.016670\n",
            "0  sepal length (cm)    0.000000\n"
          ]
        }
      ]
    },
    {
      "cell_type": "code",
      "source": [
        "'''Q.3  Write a Python program to train a Decision Tree Classifier using Entropy as the splitting criterion and print the model accuracy'''"
      ],
      "metadata": {
        "id": "YD9N9BxwagZn"
      },
      "execution_count": null,
      "outputs": []
    },
    {
      "cell_type": "code",
      "source": [
        "# Import necessary libraries\n",
        "from sklearn.datasets import load_iris\n",
        "from sklearn.tree import DecisionTreeClassifier\n",
        "from sklearn.model_selection import train_test_split\n",
        "from sklearn.metrics import accuracy_score\n",
        "\n",
        "# Load the Iris dataset\n",
        "iris = load_iris()\n",
        "X = iris.data\n",
        "y = iris.target\n",
        "\n",
        "# Split the data into training and test sets\n",
        "X_train, X_test, y_train, y_test = train_test_split(\n",
        "    X, y, test_size=0.2, random_state=42\n",
        ")\n",
        "\n",
        "# Create the Decision Tree Classifier with entropy criterion\n",
        "clf = DecisionTreeClassifier(criterion='entropy', random_state=42)\n",
        "\n",
        "# Train the model\n",
        "clf.fit(X_train, y_train)\n",
        "\n",
        "# Predict on test set\n",
        "y_pred = clf.predict(X_test)\n",
        "\n",
        "# Calculate and print accuracy\n",
        "accuracy = accuracy_score(y_test, y_pred)\n",
        "print(f\"Model Accuracy (Entropy): {accuracy:.2f}\")\n"
      ],
      "metadata": {
        "colab": {
          "base_uri": "https://localhost:8080/"
        },
        "id": "8rVYlM_JamLF",
        "outputId": "2328b274-50e6-4981-8191-7ff60d0f2559"
      },
      "execution_count": 3,
      "outputs": [
        {
          "output_type": "stream",
          "name": "stdout",
          "text": [
            "Model Accuracy (Entropy): 1.00\n"
          ]
        }
      ]
    },
    {
      "cell_type": "code",
      "source": [
        "'''Q.4 Write a Python program to train a Decision Tree Regressor on a housing dataset and evaluate using Mean Squared Error (MSE)'''"
      ],
      "metadata": {
        "id": "LOPap6FZasS6"
      },
      "execution_count": null,
      "outputs": []
    },
    {
      "cell_type": "code",
      "source": [
        "# Import required libraries\n",
        "from sklearn.datasets import fetch_california_housing\n",
        "from sklearn.tree import DecisionTreeRegressor\n",
        "from sklearn.model_selection import train_test_split\n",
        "from sklearn.metrics import mean_squared_error\n",
        "\n",
        "# Load California Housing dataset\n",
        "housing = fetch_california_housing()\n",
        "X = housing.data\n",
        "y = housing.target\n",
        "\n",
        "# Split into training and testing sets\n",
        "X_train, X_test, y_train, y_test = train_test_split(\n",
        "    X, y, test_size=0.2, random_state=42\n",
        ")\n",
        "\n",
        "# Initialize and train the Decision Tree Regressor\n",
        "regressor = DecisionTreeRegressor(random_state=42)\n",
        "regressor.fit(X_train, y_train)\n",
        "\n",
        "# Predict on test data\n",
        "y_pred = regressor.predict(X_test)\n",
        "\n",
        "# Evaluate using Mean Squared Error\n",
        "mse = mean_squared_error(y_test, y_pred)\n",
        "print(f\"Mean Squared Error (MSE): {mse:.2f}\")\n"
      ],
      "metadata": {
        "colab": {
          "base_uri": "https://localhost:8080/"
        },
        "id": "i4Z3CxJGays9",
        "outputId": "ba02de87-12f6-4394-81c4-ab6c93338d42"
      },
      "execution_count": 4,
      "outputs": [
        {
          "output_type": "stream",
          "name": "stdout",
          "text": [
            "Mean Squared Error (MSE): 0.50\n"
          ]
        }
      ]
    },
    {
      "cell_type": "code",
      "source": [
        "'''Q.5  Write a Python program to train a Decision Tree Classifier and visualize the tree using graphviz'''"
      ],
      "metadata": {
        "id": "b00aviEwa5E-"
      },
      "execution_count": null,
      "outputs": []
    },
    {
      "cell_type": "code",
      "source": [
        "from sklearn.datasets import load_iris\n",
        "from sklearn.tree import DecisionTreeClassifier, export_graphviz\n",
        "import graphviz\n",
        "\n",
        "# Load the Iris dataset\n",
        "iris = load_iris()\n",
        "X = iris.data\n",
        "y = iris.target\n",
        "\n",
        "# Train a Decision Tree Classifier\n",
        "clf = DecisionTreeClassifier(criterion='gini', max_depth=3, random_state=42)\n",
        "clf.fit(X, y)\n",
        "\n",
        "# Export the tree structure to DOT format\n",
        "dot_data = export_graphviz(\n",
        "    clf,\n",
        "    out_file=None,\n",
        "    feature_names=iris.feature_names,\n",
        "    class_names=iris.target_names,\n",
        "    filled=True,\n",
        "    rounded=True,\n",
        "    special_characters=True\n",
        ")\n",
        "\n",
        "# Visualize using graphviz\n",
        "graph = graphviz.Source(dot_data)\n",
        "graph.render(\"iris_tree\")  # Saves to iris_tree.pdf\n",
        "graph.view()  # Opens the tree in the default viewer\n"
      ],
      "metadata": {
        "colab": {
          "base_uri": "https://localhost:8080/",
          "height": 36
        },
        "id": "0phEptdEbEBZ",
        "outputId": "59828be0-e6b4-4eaa-d99c-9d5819023333"
      },
      "execution_count": 5,
      "outputs": [
        {
          "output_type": "execute_result",
          "data": {
            "text/plain": [
              "'iris_tree.pdf'"
            ],
            "application/vnd.google.colaboratory.intrinsic+json": {
              "type": "string"
            }
          },
          "metadata": {},
          "execution_count": 5
        }
      ]
    },
    {
      "cell_type": "code",
      "source": [
        "'''Q.6  Write a Python program to train a Decision Tree Classifier with a maximum depth of 3 and compare its accuracy with a fully grown tree'''"
      ],
      "metadata": {
        "id": "tp9xc65qbF8f"
      },
      "execution_count": null,
      "outputs": []
    },
    {
      "cell_type": "code",
      "source": [
        "from sklearn.datasets import load_iris\n",
        "from sklearn.model_selection import train_test_split\n",
        "from sklearn.tree import DecisionTreeClassifier\n",
        "from sklearn.metrics import accuracy_score\n",
        "\n",
        "# Load dataset\n",
        "iris = load_iris()\n",
        "X, y = iris.data, iris.target\n",
        "\n",
        "# Train-test split\n",
        "X_train, X_test, y_train, y_test = train_test_split(X, y, test_size=0.3, random_state=42)\n",
        "\n",
        "# Train Decision Tree with max_depth = 3\n",
        "clf_limited = DecisionTreeClassifier(max_depth=3, random_state=42)\n",
        "clf_limited.fit(X_train, y_train)\n",
        "y_pred_limited = clf_limited.predict(X_test)\n",
        "acc_limited = accuracy_score(y_test, y_pred_limited)\n",
        "\n",
        "# Train fully grown Decision Tree (no depth limit)\n",
        "clf_full = DecisionTreeClassifier(random_state=42)\n",
        "clf_full.fit(X_train, y_train)\n",
        "y_pred_full = clf_full.predict(X_test)\n",
        "acc_full = accuracy_score(y_test, y_pred_full)\n",
        "\n",
        "# Print accuracies\n",
        "print(\"Accuracy with max_depth=3:\", round(acc_limited, 3))\n",
        "print(\"Accuracy with fully grown tree:\", round(acc_full, 3))\n"
      ],
      "metadata": {
        "colab": {
          "base_uri": "https://localhost:8080/"
        },
        "id": "I16hx6bRbPGw",
        "outputId": "27809979-ba4d-49db-d21f-9d847a52f424"
      },
      "execution_count": 6,
      "outputs": [
        {
          "output_type": "stream",
          "name": "stdout",
          "text": [
            "Accuracy with max_depth=3: 1.0\n",
            "Accuracy with fully grown tree: 1.0\n"
          ]
        }
      ]
    },
    {
      "cell_type": "code",
      "source": [
        "'''Q.7  Write a Python program to train a Decision Tree Classifier using min_samples_split=5 and compare its accuracy with a default tree'''"
      ],
      "metadata": {
        "id": "2M8zro6SbiJk"
      },
      "execution_count": null,
      "outputs": []
    },
    {
      "cell_type": "code",
      "source": [
        "from sklearn.datasets import load_iris\n",
        "from sklearn.model_selection import train_test_split\n",
        "from sklearn.tree import DecisionTreeClassifier\n",
        "from sklearn.metrics import accuracy_score\n",
        "\n",
        "# Load the Iris dataset\n",
        "iris = load_iris()\n",
        "X, y = iris.data, iris.target\n",
        "\n",
        "# Split into training and testing sets\n",
        "X_train, X_test, y_train, y_test = train_test_split(X, y, test_size=0.3, random_state=42)\n",
        "\n",
        "# Model 1: Decision Tree with min_samples_split=5\n",
        "clf_split_5 = DecisionTreeClassifier(min_samples_split=5, random_state=42)\n",
        "clf_split_5.fit(X_train, y_train)\n",
        "y_pred_split_5 = clf_split_5.predict(X_test)\n",
        "acc_split_5 = accuracy_score(y_test, y_pred_split_5)\n",
        "\n",
        "# Model 2: Default Decision Tree\n",
        "clf_default = DecisionTreeClassifier(random_state=42)\n",
        "clf_default.fit(X_train, y_train)\n",
        "y_pred_default = clf_default.predict(X_test)\n",
        "acc_default = accuracy_score(y_test, y_pred_default)\n",
        "\n",
        "# Print accuracies\n",
        "print(\"Accuracy with min_samples_split=5:\", round(acc_split_5, 3))\n",
        "print(\"Accuracy with default settings:\", round(acc_default, 3))\n"
      ],
      "metadata": {
        "colab": {
          "base_uri": "https://localhost:8080/"
        },
        "id": "tVYvhrvgbstq",
        "outputId": "0233df26-1a56-4f6f-cd1e-5f39ca90df2d"
      },
      "execution_count": 7,
      "outputs": [
        {
          "output_type": "stream",
          "name": "stdout",
          "text": [
            "Accuracy with min_samples_split=5: 1.0\n",
            "Accuracy with default settings: 1.0\n"
          ]
        }
      ]
    },
    {
      "cell_type": "code",
      "source": [
        "'''Q.8  Write a Python program to apply feature scaling before training a Decision Tree Classifier and compare its accuracy with unscaled data'''"
      ],
      "metadata": {
        "id": "bkQV9HAPbuZz"
      },
      "execution_count": null,
      "outputs": []
    },
    {
      "cell_type": "code",
      "source": [
        "from sklearn.datasets import load_iris\n",
        "from sklearn.tree import DecisionTreeClassifier\n",
        "from sklearn.model_selection import train_test_split\n",
        "from sklearn.preprocessing import StandardScaler\n",
        "from sklearn.metrics import accuracy_score\n",
        "\n",
        "# Load the Iris dataset\n",
        "iris = load_iris()\n",
        "X, y = iris.data, iris.target\n",
        "\n",
        "# Split into training and test sets\n",
        "X_train, X_test, y_train, y_test = train_test_split(X, y, test_size=0.3, random_state=42)\n",
        "\n",
        "# --------- Model 1: Without Feature Scaling ---------\n",
        "clf_unscaled = DecisionTreeClassifier(random_state=42)\n",
        "clf_unscaled.fit(X_train, y_train)\n",
        "y_pred_unscaled = clf_unscaled.predict(X_test)\n",
        "acc_unscaled = accuracy_score(y_test, y_pred_unscaled)\n",
        "\n",
        "# --------- Model 2: With Feature Scaling ---------\n",
        "scaler = StandardScaler()\n",
        "X_train_scaled = scaler.fit_transform(X_train)\n",
        "X_test_scaled = scaler.transform(X_test)\n",
        "\n",
        "clf_scaled = DecisionTreeClassifier(random_state=42)\n",
        "clf_scaled.fit(X_train_scaled, y_train)\n",
        "y_pred_scaled = clf_scaled.predict(X_test_scaled)\n",
        "acc_scaled = accuracy_score(y_test, y_pred_scaled)\n",
        "\n",
        "# --------- Results ---------\n",
        "print(\"Accuracy without feature scaling:\", round(acc_unscaled, 3))\n",
        "print(\"Accuracy with feature scaling   :\", round(acc_scaled, 3))\n"
      ],
      "metadata": {
        "colab": {
          "base_uri": "https://localhost:8080/"
        },
        "id": "y_Ykc4S-bzaa",
        "outputId": "5b8207b5-9c3c-4157-da7f-63fd96a9a2b2"
      },
      "execution_count": 8,
      "outputs": [
        {
          "output_type": "stream",
          "name": "stdout",
          "text": [
            "Accuracy without feature scaling: 1.0\n",
            "Accuracy with feature scaling   : 1.0\n"
          ]
        }
      ]
    },
    {
      "cell_type": "code",
      "source": [
        "'''Q.9  Write a Python program to train a Decision Tree Classifier using One-vs-Rest (OvR) strategy for multiclass classification'''"
      ],
      "metadata": {
        "id": "6Dh7B6vYb6MZ"
      },
      "execution_count": null,
      "outputs": []
    },
    {
      "cell_type": "code",
      "source": [
        "from sklearn.datasets import load_iris\n",
        "from sklearn.model_selection import train_test_split\n",
        "from sklearn.tree import DecisionTreeClassifier\n",
        "from sklearn.multiclass import OneVsRestClassifier\n",
        "from sklearn.metrics import accuracy_score\n",
        "\n",
        "# Load the Iris dataset (multiclass)\n",
        "iris = load_iris()\n",
        "X, y = iris.data, iris.target\n",
        "\n",
        "# Split into train and test sets\n",
        "X_train, X_test, y_train, y_test = train_test_split(X, y, test_size=0.3, random_state=42)\n",
        "\n",
        "# Create a Decision Tree Classifier\n",
        "dtree = DecisionTreeClassifier(random_state=42)\n",
        "\n",
        "# Wrap it in a One-vs-Rest strategy\n",
        "ovr_model = OneVsRestClassifier(dtree)\n",
        "\n",
        "# Train the OvR model\n",
        "ovr_model.fit(X_train, y_train)\n",
        "\n",
        "# Predict on test data\n",
        "y_pred = ovr_model.predict(X_test)\n",
        "\n",
        "# Evaluate accuracy\n",
        "accuracy = accuracy_score(y_test, y_pred)\n",
        "print(\"One-vs-Rest Decision Tree Classifier Accuracy:\", round(accuracy, 3))\n"
      ],
      "metadata": {
        "colab": {
          "base_uri": "https://localhost:8080/"
        },
        "id": "YRB0zgDBb_kJ",
        "outputId": "84c0f5f9-cb4f-427f-cbf6-9d7e7644c40c"
      },
      "execution_count": 9,
      "outputs": [
        {
          "output_type": "stream",
          "name": "stdout",
          "text": [
            "One-vs-Rest Decision Tree Classifier Accuracy: 1.0\n"
          ]
        }
      ]
    },
    {
      "cell_type": "code",
      "source": [
        "'''Q.10 Write a Python program to train a Decision Tree Classifier and display the feature importance scores'''"
      ],
      "metadata": {
        "id": "K5VxyLrhcHJW"
      },
      "execution_count": null,
      "outputs": []
    },
    {
      "cell_type": "code",
      "source": [
        "from sklearn.datasets import load_iris\n",
        "from sklearn.model_selection import train_test_split\n",
        "from sklearn.tree import DecisionTreeClassifier\n",
        "import pandas as pd\n",
        "\n",
        "# Load dataset\n",
        "iris = load_iris()\n",
        "X, y = iris.data, iris.target\n",
        "feature_names = iris.feature_names\n",
        "\n",
        "# Split into training and testing sets\n",
        "X_train, X_test, y_train, y_test = train_test_split(X, y, test_size=0.3, random_state=42)\n",
        "\n",
        "# Train Decision Tree Classifier\n",
        "clf = DecisionTreeClassifier(random_state=42)\n",
        "clf.fit(X_train, y_train)\n",
        "\n",
        "# Get feature importance\n",
        "importances = clf.feature_importances_\n",
        "\n",
        "# Display feature importance scores\n",
        "importance_df = pd.DataFrame({\n",
        "    'Feature': feature_names,\n",
        "    'Importance Score': importances\n",
        "}).sort_values(by='Importance Score', ascending=False)\n",
        "\n",
        "print(\"Feature Importance Scores:\")\n",
        "print(importance_df)\n"
      ],
      "metadata": {
        "colab": {
          "base_uri": "https://localhost:8080/"
        },
        "id": "350QhPm_cP3C",
        "outputId": "112ffd61-4620-497c-f5ea-38eccc7d27c8"
      },
      "execution_count": 10,
      "outputs": [
        {
          "output_type": "stream",
          "name": "stdout",
          "text": [
            "Feature Importance Scores:\n",
            "             Feature  Importance Score\n",
            "2  petal length (cm)          0.893264\n",
            "3   petal width (cm)          0.087626\n",
            "1   sepal width (cm)          0.019110\n",
            "0  sepal length (cm)          0.000000\n"
          ]
        }
      ]
    },
    {
      "cell_type": "code",
      "source": [
        "'''Q.11  Write a Python program to train a Decision Tree Regressor with max_depth=5 and compare its performance with an unrestricted tree'''"
      ],
      "metadata": {
        "id": "e5nWowUacRwN"
      },
      "execution_count": null,
      "outputs": []
    },
    {
      "cell_type": "code",
      "source": [
        "from sklearn.datasets import fetch_california_housing\n",
        "from sklearn.model_selection import train_test_split\n",
        "from sklearn.tree import DecisionTreeRegressor\n",
        "from sklearn.metrics import mean_squared_error, r2_score\n",
        "\n",
        "# Load the California housing dataset\n",
        "data = fetch_california_housing()\n",
        "X, y = data.data, data.target\n",
        "\n",
        "# Split into train and test sets\n",
        "X_train, X_test, y_train, y_test = train_test_split(X, y, test_size=0.2, random_state=42)\n",
        "\n",
        "# Train Decision Tree Regressor with max_depth=5\n",
        "reg_limited = DecisionTreeRegressor(max_depth=5, random_state=42)\n",
        "reg_limited.fit(X_train, y_train)\n",
        "y_pred_limited = reg_limited.predict(X_test)\n",
        "\n",
        "# Train Decision Tree Regressor with no depth restriction\n",
        "reg_unrestricted = DecisionTreeRegressor(random_state=42)\n",
        "reg_unrestricted.fit(X_train, y_train)\n",
        "y_pred_unrestricted = reg_unrestricted.predict(X_test)\n",
        "\n",
        "# Evaluate and compare performance\n",
        "print(\"Decision Tree Regressor with max_depth=5:\")\n",
        "print(f\"R² Score: {r2_score(y_test, y_pred_limited):.4f}\")\n",
        "print(f\"Mean Squared Error: {mean_squared_error(y_test, y_pred_limited):.4f}\\n\")\n",
        "\n",
        "print(\"Unrestricted Decision Tree Regressor:\")\n",
        "print(f\"R² Score: {r2_score(y_test, y_pred_unrestricted):.4f}\")\n",
        "print(f\"Mean Squared Error: {mean_squared_error(y_test, y_pred_unrestricted):.4f}\")\n"
      ],
      "metadata": {
        "colab": {
          "base_uri": "https://localhost:8080/"
        },
        "id": "Fi-3Cl7qcW4m",
        "outputId": "1efd32ed-88d9-46dd-ee04-b766d01c4b74"
      },
      "execution_count": 11,
      "outputs": [
        {
          "output_type": "stream",
          "name": "stdout",
          "text": [
            "Decision Tree Regressor with max_depth=5:\n",
            "R² Score: 0.5997\n",
            "Mean Squared Error: 0.5245\n",
            "\n",
            "Unrestricted Decision Tree Regressor:\n",
            "R² Score: 0.6221\n",
            "Mean Squared Error: 0.4952\n"
          ]
        }
      ]
    },
    {
      "cell_type": "code",
      "source": [
        "'''Q.12 Write a Python program to train a Decision Tree Classifier, apply Cost Complexity Pruning (CCP), and visualize its effect on accuracy'''"
      ],
      "metadata": {
        "id": "Fllz_jkXcf9p"
      },
      "execution_count": null,
      "outputs": []
    },
    {
      "cell_type": "code",
      "source": [
        "import matplotlib.pyplot as plt\n",
        "from sklearn.datasets import load_iris\n",
        "from sklearn.tree import DecisionTreeClassifier\n",
        "from sklearn.model_selection import train_test_split\n",
        "from sklearn.metrics import accuracy_score\n",
        "\n",
        "# Load dataset\n",
        "iris = load_iris()\n",
        "X, y = iris.data, iris.target\n",
        "\n",
        "# Split data\n",
        "X_train, X_test, y_train, y_test = train_test_split(X, y, test_size=0.2, random_state=42)\n",
        "\n",
        "# Train initial tree to get effective alphas\n",
        "clf = DecisionTreeClassifier(random_state=42)\n",
        "path = clf.cost_complexity_pruning_path(X_train, y_train)\n",
        "ccp_alphas = path.ccp_alphas[:-1]  # Exclude the max alpha that prunes to a root node\n",
        "\n",
        "train_accuracies = []\n",
        "test_accuracies = []\n",
        "\n",
        "# Train a tree for each alpha\n",
        "for ccp_alpha in ccp_alphas:\n",
        "    clf = DecisionTreeClassifier(random_state=42, ccp_alpha=ccp_alpha)\n",
        "    clf.fit(X_train, y_train)\n",
        "    train_accuracies.append(clf.score(X_train, y_train))\n",
        "    test_accuracies.append(clf.score(X_test, y_test))\n",
        "\n",
        "# Plotting accuracy vs ccp_alpha\n",
        "plt.figure(figsize=(8, 5))\n",
        "plt.plot(ccp_alphas, train_accuracies, marker='o', label=\"Train Accuracy\", drawstyle=\"steps-post\")\n",
        "plt.plot(ccp_alphas, test_accuracies, marker='x', label=\"Test Accuracy\", drawstyle=\"steps-post\")\n",
        "plt.xlabel(\"ccp_alpha (Complexity Parameter)\")\n",
        "plt.ylabel(\"Accuracy\")\n",
        "plt.title(\"Effect of Cost Complexity Pruning on Accuracy\")\n",
        "plt.legend()\n",
        "plt.grid(True)\n",
        "plt.tight_layout()\n",
        "plt.show()\n"
      ],
      "metadata": {
        "colab": {
          "base_uri": "https://localhost:8080/",
          "height": 507
        },
        "id": "pS-AlMM-clZe",
        "outputId": "c2652c89-ae31-4a1a-f0e0-04e3cfd10894"
      },
      "execution_count": 12,
      "outputs": [
        {
          "output_type": "display_data",
          "data": {
            "text/plain": [
              "<Figure size 800x500 with 1 Axes>"
            ],
            "image/png": "[encoded data removed]"
          },
          "metadata": {}
        }
      ]
    },
    {
      "cell_type": "code",
      "source": [
        "'''Q.13  Write a Python program to train a Decision Tree Classifier and evaluate its performance using Precision, Recall, and F1-Score'''"
      ],
      "metadata": {
        "id": "vbCUUJgDcvSr"
      },
      "execution_count": null,
      "outputs": []
    },
    {
      "cell_type": "code",
      "source": [
        "from sklearn.datasets import load_iris\n",
        "from sklearn.tree import DecisionTreeClassifier\n",
        "from sklearn.model_selection import train_test_split\n",
        "from sklearn.metrics import classification_report\n",
        "\n",
        "# Load dataset\n",
        "iris = load_iris()\n",
        "X, y = iris.data, iris.target\n",
        "\n",
        "# Split into train and test sets\n",
        "X_train, X_test, y_train, y_test = train_test_split(X, y, test_size=0.2, random_state=42)\n",
        "\n",
        "# Train Decision Tree Classifier\n",
        "clf = DecisionTreeClassifier(random_state=42)\n",
        "clf.fit(X_train, y_train)\n",
        "\n",
        "# Predict on test set\n",
        "y_pred = clf.predict(X_test)\n",
        "\n",
        "# Evaluate using Precision, Recall, F1-Score\n",
        "print(\"Classification Report:\")\n",
        "print(classification_report(y_test, y_pred, target_names=iris.target_names))\n"
      ],
      "metadata": {
        "colab": {
          "base_uri": "https://localhost:8080/"
        },
        "id": "zZo9p5p3c7Mm",
        "outputId": "3a9fbec0-5de5-4fe4-a4a7-9426c35eae63"
      },
      "execution_count": 13,
      "outputs": [
        {
          "output_type": "stream",
          "name": "stdout",
          "text": [
            "Classification Report:\n",
            "              precision    recall  f1-score   support\n",
            "\n",
            "      setosa       1.00      1.00      1.00        10\n",
            "  versicolor       1.00      1.00      1.00         9\n",
            "   virginica       1.00      1.00      1.00        11\n",
            "\n",
            "    accuracy                           1.00        30\n",
            "   macro avg       1.00      1.00      1.00        30\n",
            "weighted avg       1.00      1.00      1.00        30\n",
            "\n"
          ]
        }
      ]
    },
    {
      "cell_type": "code",
      "source": [
        "'''Q.14  Write a Python program to train a Decision Tree Classifier and visualize the confusion matrix using seaborn'''"
      ],
      "metadata": {
        "id": "E2GtlbQBc9Ks"
      },
      "execution_count": null,
      "outputs": []
    },
    {
      "cell_type": "code",
      "source": [
        "import seaborn as sns\n",
        "import matplotlib.pyplot as plt\n",
        "from sklearn.datasets import load_iris\n",
        "from sklearn.model_selection import train_test_split\n",
        "from sklearn.tree import DecisionTreeClassifier\n",
        "from sklearn.metrics import confusion_matrix, ConfusionMatrixDisplay\n",
        "\n",
        "# Load Iris dataset\n",
        "iris = load_iris()\n",
        "X, y = iris.data, iris.target\n",
        "\n",
        "# Split into train and test sets\n",
        "X_train, X_test, y_train, y_test = train_test_split(X, y, test_size=0.2, random_state=42)\n",
        "\n",
        "# Train Decision Tree Classifier\n",
        "clf = DecisionTreeClassifier(random_state=42)\n",
        "clf.fit(X_train, y_train)\n",
        "\n",
        "# Predict on test data\n",
        "y_pred = clf.predict(X_test)\n",
        "\n",
        "# Compute confusion matrix\n",
        "cm = confusion_matrix(y_test, y_pred)\n",
        "\n",
        "# Plot confusion matrix using Seaborn\n",
        "plt.figure(figsize=(6, 4))\n",
        "sns.heatmap(cm, annot=True, fmt='d', cmap='Blues', xticklabels=iris.target_names, yticklabels=iris.target_names)\n",
        "plt.xlabel('Predicted')\n",
        "plt.ylabel('Actual')\n",
        "plt.title('Confusion Matrix - Decision Tree')\n",
        "plt.tight_layout()\n",
        "plt.show()\n"
      ],
      "metadata": {
        "colab": {
          "base_uri": "https://localhost:8080/",
          "height": 407
        },
        "id": "Rfnz_f-YdGbD",
        "outputId": "fa9e22a4-b428-4e38-ff63-2d3f8b46697e"
      },
      "execution_count": 14,
      "outputs": [
        {
          "output_type": "display_data",
          "data": {
            "text/plain": [
              "<Figure size 600x400 with 2 Axes>"
            ],
            "image/png": "[encoded data removed]"
          },
          "metadata": {}
        }
      ]
    },
    {
      "cell_type": "code",
      "source": [
        "'''Q.15 Write a Python program to train a Decision Tree Classifier and use GridSearchCV to find the optimal values for max_depth and min_samples_split'''"
      ],
      "metadata": {
        "id": "pLWO8q4wdKIL"
      },
      "execution_count": null,
      "outputs": []
    },
    {
      "cell_type": "code",
      "source": [
        "import numpy as np\n",
        "from sklearn.datasets import load_iris\n",
        "from sklearn.model_selection import train_test_split, GridSearchCV\n",
        "from sklearn.tree import DecisionTreeClassifier\n",
        "from sklearn.metrics import accuracy_score\n",
        "\n",
        "# Load the Iris dataset\n",
        "data = load_iris()\n",
        "X, y = data.data, data.target\n",
        "\n",
        "# Split dataset into training and test sets\n",
        "X_train, X_test, y_train, y_test = train_test_split(X, y, test_size=0.2, random_state=42)\n",
        "\n",
        "# Define parameter grid for GridSearch\n",
        "param_grid = {\n",
        "    'max_depth': [2, 3, 4, 5, 6, None],\n",
        "    'min_samples_split': [2, 5, 10]\n",
        "}\n",
        "\n",
        "# Initialize Decision Tree Classifier\n",
        "dtc = DecisionTreeClassifier(random_state=42)\n",
        "\n",
        "# Set up GridSearchCV\n",
        "grid_search = GridSearchCV(estimator=dtc, param_grid=param_grid, cv=5, scoring='accuracy', n_jobs=-1)\n",
        "\n",
        "# Fit GridSearch to training data\n",
        "grid_search.fit(X_train, y_train)\n",
        "\n",
        "# Get best parameters and best estimator\n",
        "print(\"Best Parameters:\", grid_search.best_params_)\n",
        "\n",
        "# Evaluate on test data\n",
        "best_model = grid_search.best_estimator_\n",
        "y_pred = best_model.predict(X_test)\n",
        "accuracy = accuracy_score(y_test, y_pred)\n",
        "\n",
        "print(\"Test Set Accuracy:\", accuracy)\n"
      ],
      "metadata": {
        "colab": {
          "base_uri": "https://localhost:8080/"
        },
        "id": "Bv1r2wDvdNRT",
        "outputId": "df031189-b8f4-495c-8322-1bff1dd9fb9f"
      },
      "execution_count": 15,
      "outputs": [
        {
          "output_type": "stream",
          "name": "stdout",
          "text": [
            "Best Parameters: {'max_depth': 4, 'min_samples_split': 2}\n",
            "Test Set Accuracy: 1.0\n"
          ]
        }
      ]
    }
  ]
}