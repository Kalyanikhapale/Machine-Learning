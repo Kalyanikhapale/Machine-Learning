{
  "nbformat": 4,
  "nbformat_minor": 0,
  "metadata": {
    "colab": {
      "provenance": []
    },
    "kernelspec": {
      "name": "python3",
      "display_name": "Python 3"
    },
    "language_info": {
      "name": "python"
    }
  },
  "cells": [
    {
      "cell_type": "markdown",
      "source": [
        "# THEORETICAL"
      ],
      "metadata": {
        "id": "0KmA0pd210fu"
      }
    },
    {
      "cell_type": "code",
      "source": [
        "'''Q.1 Can we use Bagging for regression problems?'''"
      ],
      "metadata": {
        "id": "r6N4ybBM133Q"
      },
      "execution_count": null,
      "outputs": []
    },
    {
      "cell_type": "markdown",
      "source": [
        "Yes, Bagging can be used for regression problems.\n",
        "\n",
        "Bagging (Bootstrap Aggregating) is an ensemble method that creates multiple models using different subsets of the training data with replacement. It is used to reduce variance and improve model stability.\n",
        "\n",
        "In regression problems, Bagging works as follows:\n",
        "\n",
        "1. Multiple bootstrap samples are created from the training data.\n",
        "2. A regression model (e.g., Decision Tree Regressor) is trained on each sample.\n",
        "3. The final prediction is the average of all individual model predictions.\n",
        "\n",
        "It helps in reducing overfitting and improves prediction accuracy, especially with high-variance models like decision trees.\n"
      ],
      "metadata": {
        "id": "dflqYyc218Qs"
      }
    },
    {
      "cell_type": "code",
      "source": [
        "'''Q.2 What is the difference between multiple model training and single model training?'''"
      ],
      "metadata": {
        "id": "wEVDY3ke2U5c"
      },
      "execution_count": null,
      "outputs": []
    },
    {
      "cell_type": "markdown",
      "source": [
        "\n",
        "\n",
        "| Aspect          | Single Model Training                                 | Multiple Model Training (Ensemble)             |\n",
        "| --------------- | ----------------------------------------------------- | ---------------------------------------------- |\n",
        "| Definition  | Training one algorithm on the dataset                 | Training several models and combining outputs  |\n",
        "| Performance | Depends on one model's capability                     | Often better accuracy and generalization       |\n",
        "| Overfitting | More prone to overfitting (especially complex models) | Reduces overfitting by averaging or voting     |\n",
        "| Robustness  | Sensitive to noise and variance                       | More stable and less sensitive to data changes |\n",
        "| Examples    | Logistic Regression, Decision Tree                    | Random Forest, Bagging, Boosting               |\n",
        "| Complexity  | Simpler, easier to interpret                          | More complex, harder to interpret              |\n",
        "\n",
        "Conclusion:\n",
        "\n",
        "Single model training is simpler but may not perform well on complex datasets. Multiple model training improves accuracy and robustness by combining several models.\n"
      ],
      "metadata": {
        "id": "mFFcJdvF2ZeR"
      }
    },
    {
      "cell_type": "code",
      "source": [
        "'''Q.3  Explain the concept of feature randomness in Random Forest'''"
      ],
      "metadata": {
        "id": "xYzCJpLy2nMP"
      },
      "execution_count": null,
      "outputs": []
    },
    {
      "cell_type": "markdown",
      "source": [
        "\n",
        "\n",
        "Feature randomness in Random Forest refers to the technique where, at each split in a decision tree, the algorithm considers only a random subset of features rather than all available features.\n",
        "\n",
        " Purpose:\n",
        "\n",
        "* To introduce diversity among trees.\n",
        "* To reduce correlation between trees.\n",
        "* To prevent overfitting.\n",
        "\n",
        " How it works:\n",
        "\n",
        "* Suppose a dataset has `n` features.\n",
        "* At each node split in a tree, the algorithm randomly selects `√n` (for classification) or `n/3` (for regression) features.\n",
        "* The best split is chosen only from this subset, not the full set of features.\n",
        "\n",
        " Example:\n",
        "\n",
        "If a dataset has 9 features:\n",
        "\n",
        "* A tree in Random Forest will consider only 3 randomly selected features at each split.\n",
        "* This makes each tree different and less dependent on specific features.\n",
        "\n",
        " Benefit:\n",
        "\n",
        "* Improves the generalization of the model.\n",
        "* Makes the ensemble more robust and accurate.\n",
        "\n",
        "Conclusion:\n",
        "\n",
        "Feature randomness increases the diversity of trees in the Random Forest, which helps in building a stronger, more reliable ensemble model.\n"
      ],
      "metadata": {
        "id": "-IXJ3DH12y63"
      }
    },
    {
      "cell_type": "code",
      "source": [
        "'''Q.4 What is OOB (Out-of-Bag) Score?'''"
      ],
      "metadata": {
        "id": "GPJtVuIr25J2"
      },
      "execution_count": null,
      "outputs": []
    },
    {
      "cell_type": "markdown",
      "source": [
        "\n",
        "\n",
        "Definition:\n",
        "\n",
        "OOB Score is an internal validation method used in Bagging techniques like Random Forest to estimate the model's performance without using a separate validation set.\n",
        "\n",
        "\n",
        "\n",
        " How it works:\n",
        "\n",
        "* In Bagging, each tree is trained on a bootstrap sample (random sample with replacement) of the original data.\n",
        "* On average, about 63% of the data is used for training a tree, and the remaining 37% (OOB samples) are not included.\n",
        "* These OOB samples are then used to test the corresponding tree.\n",
        "* The OOB score is computed as the average accuracy (or error) over all such predictions.\n",
        "\n",
        "\n",
        "\n",
        " Advantages:\n",
        "\n",
        "* Acts like cross-validation.\n",
        "* Saves time and data by avoiding the need for a separate test set.\n",
        "* Gives a reliable estimate of model performance.\n",
        "\n",
        "\n",
        "\n",
        " Example:\n",
        "\n",
        "* Suppose we have 1000 samples.\n",
        "* For Tree 1, 630 samples are randomly selected with replacement.\n",
        "* The remaining 370 samples (OOB) are tested using Tree 1.\n",
        "* This is done for all trees, and the predictions are aggregated.\n",
        "\n",
        "\n",
        "\n",
        "Conclusion:\n",
        "\n",
        "OOB Score is a useful, efficient way to evaluate the performance of ensemble models like Random Forest without needing a separate validation dataset.\n"
      ],
      "metadata": {
        "id": "WIJPuGDt3B23"
      }
    },
    {
      "cell_type": "code",
      "source": [
        "'''Q.5  How can you measure the importance of features in a Random Forest model?'''"
      ],
      "metadata": {
        "id": "y3DCbasX3fxi"
      },
      "execution_count": null,
      "outputs": []
    },
    {
      "cell_type": "markdown",
      "source": [
        "\n",
        "\n",
        " Definition:\n",
        "\n",
        "Feature importance in a Random Forest model indicates how useful or valuable each feature is in predicting the target variable.\n",
        "\n",
        "\n",
        "\n",
        " Ways to Measure Feature Importance:\n",
        "\n",
        "1. Gini Importance (Mean Decrease in Impurity):\n",
        "\n",
        "   * Measures how much each feature decreases the Gini impurity (or entropy) across all trees.\n",
        "   * Higher decrease → more important feature.\n",
        "   * Calculated automatically during model training.\n",
        "\n",
        "2. Permutation Importance:\n",
        "\n",
        "   * Randomly shuffle one feature's values and measure the decrease in model accuracy.\n",
        "   * Larger drop → more important feature.\n",
        "   * Model-agnostic and reflects actual performance impact.\n",
        "\n",
        "\n",
        "\n",
        " Steps (for Gini Importance):\n",
        "\n",
        "* At each node split, the reduction in impurity is calculated.\n",
        "* This reduction is accumulated for each feature over all trees.\n",
        "* Finally, it's normalized to get importance scores.\n",
        "\n",
        "\n",
        "\n",
        " Output:\n",
        "\n",
        "* A list or plot of features with corresponding importance values.\n",
        "* Features with higher scores contribute more to the model’s predictions.\n",
        "\n",
        "\n",
        "\n",
        " Conclusion:\n",
        "\n",
        "Feature importance helps in understanding the model, performing feature selection, and improving model interpretability.\n"
      ],
      "metadata": {
        "id": "MdVyfww03mLv"
      }
    },
    {
      "cell_type": "code",
      "source": [
        "'''Q.6  Explain the working principle of a Bagging Classifier'''"
      ],
      "metadata": {
        "id": "BmH2dbQj358s"
      },
      "execution_count": null,
      "outputs": []
    },
    {
      "cell_type": "markdown",
      "source": [
        "\n",
        " Definition:\n",
        "\n",
        "Bagging (Bootstrap Aggregating) Classifier is an ensemble learning method that combines the predictions of multiple base classifiers to improve accuracy and reduce variance.\n",
        "\n",
        "\n",
        "\n",
        " Working Principle:\n",
        "\n",
        "1. Bootstrap Sampling:\n",
        "\n",
        "   * Multiple datasets are created by randomly sampling (with replacement) from the original dataset.\n",
        "\n",
        "2. Model Training:\n",
        "\n",
        "   * A separate base classifier (e.g., Decision Tree) is trained on each of the bootstrapped datasets.\n",
        "\n",
        "3. Aggregation:\n",
        "\n",
        "   * For classification:\n",
        "\n",
        "     * Each classifier gives a class prediction.\n",
        "     * The final output is the majority vote among all classifiers.\n",
        "   * For regression:\n",
        "\n",
        "     * The final output is the average of all predictions.\n",
        "\n",
        "\n",
        "\n",
        " Key Points:\n",
        "\n",
        "* Reduces overfitting by averaging multiple models.\n",
        "* Improves stability and accuracy.\n",
        "* Each model is trained independently, allowing parallel processing.\n",
        "* Common algorithm: Random Forest (a type of Bagging using decision trees).\n",
        "\n",
        "\n",
        "\n",
        " Conclusion:\n",
        "\n",
        "Bagging enhances model performance by reducing variance and combining the strengths of multiple weak learners.\n"
      ],
      "metadata": {
        "id": "sgunK-v74IrU"
      }
    },
    {
      "cell_type": "code",
      "source": [
        "'''Q.7 How do you evaluate a Bagging Classifier’s performance?'''"
      ],
      "metadata": {
        "id": "2JBoCVcD4SVj"
      },
      "execution_count": null,
      "outputs": []
    },
    {
      "cell_type": "markdown",
      "source": [
        "\n",
        "\n",
        " 1. Accuracy Score:\n",
        "\n",
        "* Measures the percentage of correct predictions.\n",
        "* Formula:\n",
        "\n",
        "  $$\n",
        "  \\text{Accuracy} = \\frac{\\text{Number of correct predictions}}{\\text{Total predictions}} \\times 100\n",
        "  $$\n",
        "\n",
        "\n",
        "\n",
        " 2. Confusion Matrix:\n",
        "\n",
        "* Provides a summary of prediction results:\n",
        "\n",
        "  * TP (True Positives)\n",
        "  * TN (True Negatives)\n",
        "  * FP (False Positives)\n",
        "  * FN (False Negatives)\n",
        "\n",
        "\n",
        "\n",
        " 3. Precision, Recall, F1-Score:\n",
        "\n",
        "* Precision: Measures correctness among predicted positives.\n",
        "* Recall: Measures completeness of positive predictions.\n",
        "* F1-Score: Harmonic mean of precision and recall.\n",
        "\n",
        "\n",
        "\n",
        " 4. ROC Curve and AUC Score:\n",
        "\n",
        "* Visualizes performance at different threshold values.\n",
        "* AUC (Area Under Curve): Higher value indicates better performance.\n",
        "\n",
        "\n",
        "\n",
        " 5. Out-of-Bag (OOB) Score:\n",
        "\n",
        "* Specific to Bagging.\n",
        "* Uses samples not included in the bootstrap (out-of-bag) to estimate accuracy without using a separate validation set.\n",
        "\n",
        "\n",
        " 6. Cross-Validation:\n",
        "\n",
        "* Split the dataset into k folds and average the accuracy across folds for a more reliable evaluation.\n",
        "\n",
        "\n",
        " Conclusion:\n",
        "\n",
        "Bagging Classifier performance is evaluated using classification metrics and techniques like OOB score and cross-validation to ensure reliability and robustness.\n"
      ],
      "metadata": {
        "id": "TdT7gxP_6LUt"
      }
    },
    {
      "cell_type": "code",
      "source": [
        "'''Q.8  How does a Bagging Regressor work?'''"
      ],
      "metadata": {
        "id": "ZmwSHy1E6aWW"
      },
      "execution_count": null,
      "outputs": []
    },
    {
      "cell_type": "markdown",
      "source": [
        "\n",
        "\n",
        " Definition:\n",
        "\n",
        "Bagging Regressor (Bootstrap Aggregating Regressor) is an ensemble method that improves regression performance by combining the predictions of multiple base regressors trained on random subsets of the data.\n",
        "\n",
        "\n",
        "\n",
        " Working Steps:\n",
        "\n",
        "1. Bootstrap Sampling:\n",
        "\n",
        "   * Random subsets are created from the original dataset with replacement.\n",
        "\n",
        "2. Train Base Regressors:\n",
        "\n",
        "   * A separate regression model (e.g., Decision Tree Regressor) is trained on each bootstrap sample.\n",
        "\n",
        "3. Aggregate Predictions:\n",
        "\n",
        "   * For each test input, all trained regressors make predictions.\n",
        "   * The final prediction is the average of these predictions.\n",
        "\n",
        "   $$\n",
        "   \\hat{y} = \\frac{1}{n} \\sum_{i=1}^{n} \\hat{y}_i\n",
        "   $$\n",
        "\n",
        "\n",
        "\n",
        " Advantages:\n",
        "\n",
        "* Reduces variance\n",
        "* Improves stability and accuracy\n",
        "* Prevents overfitting (especially with high-variance models like decision trees)\n",
        "\n",
        "\n",
        "\n",
        " Conclusion:\n",
        "\n",
        "A Bagging Regressor creates an ensemble of regressors using bootstrap sampling and combines their outputs by averaging, leading to more robust and accurate predictions.\n"
      ],
      "metadata": {
        "id": "0ZcNk6WO6eDS"
      }
    },
    {
      "cell_type": "code",
      "source": [
        "'''Q.9  What is the main advantage of ensemble techniques?'''"
      ],
      "metadata": {
        "id": "mnul_Rbv6vz0"
      },
      "execution_count": null,
      "outputs": []
    },
    {
      "cell_type": "markdown",
      "source": [
        "\n",
        "\n",
        " Definition:\n",
        "\n",
        "Ensemble techniques combine predictions from multiple models to improve overall performance.\n",
        "\n",
        "\n",
        "\n",
        " Main Advantage:\n",
        "\n",
        "Higher accuracy and better generalization compared to individual models.\n",
        "\n",
        "\n",
        "\n",
        " Explanation:\n",
        "\n",
        "* They reduce variance (e.g., Bagging),\n",
        "* reduce bias (e.g., Boosting),\n",
        "* and combine strengths of different models (e.g., Stacking).\n",
        "\n",
        "\n",
        "\n",
        " Conclusion:\n",
        "\n",
        "The main advantage of ensemble techniques is that they produce more accurate, stable, and robust predictions by combining multiple models.\n"
      ],
      "metadata": {
        "id": "wH_g4NXM61jx"
      }
    },
    {
      "cell_type": "code",
      "source": [
        "'''Q.10 What is the main challenge of ensemble methods?'''"
      ],
      "metadata": {
        "id": "tZW6VA1v7KBf"
      },
      "execution_count": null,
      "outputs": []
    },
    {
      "cell_type": "markdown",
      "source": [
        "\n",
        "\n",
        "\n",
        " Definition:\n",
        "\n",
        "Ensemble methods combine multiple models to improve prediction accuracy.\n",
        "\n",
        "\n",
        "\n",
        " Main Challenge:\n",
        "\n",
        "Increased complexity and computational cost.\n",
        "\n",
        "\n",
        "\n",
        " Explanation:\n",
        "\n",
        "* Training and managing multiple models requires more time and resources.\n",
        "* Ensemble models are often harder to interpret than single models.\n",
        "* Overfitting may occur if not properly regularized or tuned.\n",
        "\n",
        "\n",
        "\n",
        " Conclusion:\n",
        "\n",
        "The main challenge of ensemble methods is their complexity in training, tuning, and interpretation, especially when working with large datasets or limited resources.\n"
      ],
      "metadata": {
        "id": "JSCahYk37NqT"
      }
    },
    {
      "cell_type": "code",
      "source": [
        "'''Q.11  Explain the key idea behind ensemble techniques'''"
      ],
      "metadata": {
        "id": "KuKE_Enq7fpw"
      },
      "execution_count": null,
      "outputs": []
    },
    {
      "cell_type": "markdown",
      "source": [
        "\n",
        "\n",
        " Definition:\n",
        "\n",
        "Ensemble techniques are methods that combine predictions from multiple models to improve overall performance.\n",
        "\n",
        "\n",
        "\n",
        " Key Idea:\n",
        "\n",
        "\"Wisdom of the crowd\" – combining multiple weak or base learners results in a stronger and more accurate model.\n",
        "\n",
        "\n",
        "\n",
        " Explanation:\n",
        "\n",
        "* Each model may make different errors.\n",
        "* Combining them helps to reduce variance, bias, or both.\n",
        "* Final prediction is based on methods like voting (classification) or averaging (regression).\n",
        "\n",
        "\n",
        "\n",
        " Types of Ensemble Techniques:\n",
        "\n",
        "* Bagging – reduces variance (e.g., Random Forest)\n",
        "* Boosting – reduces bias (e.g., AdaBoost, XGBoost)\n",
        "* Stacking – combines multiple models using a meta-model\n",
        "\n",
        "\n",
        "\n",
        " Conclusion:\n",
        "\n",
        "The key idea is to leverage the strengths of multiple models to build a more robust and generalizable system.\n"
      ],
      "metadata": {
        "id": "sqzZbITG7ts8"
      }
    },
    {
      "cell_type": "code",
      "source": [
        "'''Q.12 What is a Random Forest Classifier?'''"
      ],
      "metadata": {
        "id": "QcjFwyXS73y5"
      },
      "execution_count": null,
      "outputs": []
    },
    {
      "cell_type": "markdown",
      "source": [
        "\n",
        "\n",
        " Definition:\n",
        "\n",
        "A Random Forest Classifier is an ensemble learning method that builds multiple decision trees and combines their results to improve classification accuracy.\n",
        "\n",
        "\n",
        "\n",
        " Working Principle:\n",
        "\n",
        "1. Bootstrapping: Random subsets of the training data are created.\n",
        "2. Random Feature Selection: Each tree considers only a random subset of features when splitting.\n",
        "3. Multiple Trees: Many decision trees are trained independently.\n",
        "4. Voting: For classification, the final output is based on majority voting from all trees.\n",
        "\n",
        "\n",
        "\n",
        " Key Features:\n",
        "\n",
        "* Reduces overfitting compared to a single decision tree.\n",
        "* Handles large datasets and high-dimensional spaces well.\n",
        "* Provides feature importance scores.\n",
        "\n",
        "\n",
        "\n",
        " Conclusion:\n",
        "\n",
        "Random Forest is a powerful, robust, and widely used classification algorithm that improves accuracy and reduces overfitting by combining multiple decision trees.\n"
      ],
      "metadata": {
        "id": "Aa-rwh-t8xly"
      }
    },
    {
      "cell_type": "code",
      "source": [
        "'''Q.13 What are the main types of ensemble techniques?'''"
      ],
      "metadata": {
        "id": "X6j_7zYr9PcB"
      },
      "execution_count": null,
      "outputs": []
    },
    {
      "cell_type": "markdown",
      "source": [
        "\n",
        "\n",
        " 1. Bagging (Bootstrap Aggregating):\n",
        "\n",
        "* Trains multiple models independently on random subsets of data (with replacement).\n",
        "* Final output is based on majority voting (classification) or averaging (regression).\n",
        "* Example: Random Forest\n",
        "\n",
        "\n",
        "\n",
        " 2. Boosting:\n",
        "\n",
        "* Trains models sequentially, where each new model focuses on the errors of the previous one.\n",
        "* Models are combined to make the final prediction.\n",
        "* Examples: AdaBoost, Gradient Boosting, XGBoost\n",
        "\n",
        "\n",
        "\n",
        " 3. Stacking (Stacked Generalization):\n",
        "\n",
        "* Combines predictions of multiple base models using a meta-model.\n",
        "* Base models are trained independently, and their outputs are used to train the final model.\n",
        "\n",
        "\n",
        "\n",
        " 4. Voting:\n",
        "\n",
        "* Combines multiple models’ predictions by majority voting (classification) or averaging (regression).\n",
        "* Can be hard voting (based on predicted class) or soft voting (based on class probabilities).\n",
        "\n",
        "\n",
        "\n",
        " Conclusion:\n",
        "\n",
        "The main ensemble techniques—Bagging, Boosting, Stacking, and Voting—improve model accuracy, stability, and generalization by combining multiple learners.\n"
      ],
      "metadata": {
        "id": "0ivfbFyF9Raw"
      }
    },
    {
      "cell_type": "code",
      "source": [
        "'''Q.14  What is ensemble learning in machine learning?'''"
      ],
      "metadata": {
        "id": "XuY45n4k9iiM"
      },
      "execution_count": null,
      "outputs": []
    },
    {
      "cell_type": "markdown",
      "source": [
        "\n",
        "\n",
        "Ensemble learning is a technique in machine learning where multiple models (called base learners or weak learners) are combined to produce a stronger and more accurate model.\n",
        "\n",
        "\n",
        "\n",
        " Key Points:\n",
        "\n",
        "* It reduces errors, improves accuracy, and increases robustness.\n",
        "* Works on the principle that a group of models performs better than an individual one.\n",
        "* Used for both classification and regression problems.\n",
        "\n",
        "\n",
        "\n",
        " Examples of Ensemble Methods:\n",
        "\n",
        "* Bagging (e.g., Random Forest)\n",
        "* Boosting (e.g., AdaBoost, XGBoost)\n",
        "* Stacking\n",
        "* Voting Classifier\n",
        "\n",
        "\n",
        "\n",
        " Conclusion:\n",
        "\n",
        "Ensemble learning improves model performance by combining predictions from multiple models to make more reliable and accurate decisions.\n"
      ],
      "metadata": {
        "id": "bS9dZTaQ9nHk"
      }
    },
    {
      "cell_type": "code",
      "source": [
        "'''Q.15 When should we avoid using ensemble methods?'''"
      ],
      "metadata": {
        "id": "v4V5S_ZD96-N"
      },
      "execution_count": null,
      "outputs": []
    },
    {
      "cell_type": "markdown",
      "source": [
        "\n",
        "\n",
        " 1. When Model Interpretability is Important\n",
        "\n",
        "Ensemble methods like Random Forest, XGBoost, or Stacking are complex and act like black boxes, making them unsuitable for cases where you need clear and simple explanations (e.g., in healthcare or finance).\n",
        "\n",
        "\n",
        "\n",
        " 2. When Data is Very Small\n",
        "\n",
        "Ensembles may overfit on small datasets, and simpler models like Logistic Regression or Decision Tree can perform better in such cases.\n",
        "\n",
        "\n",
        "\n",
        " 3. When Computational Resources are Limited\n",
        "\n",
        "Ensemble models require more time and memory for training and prediction, so they should be avoided in resource-constrained environments.\n",
        "\n",
        "\n",
        " 4. When a Simple Model is Sufficient\n",
        "\n",
        "If a single model gives high accuracy and generalizes well, using ensemble methods may be unnecessary and only add complexity.\n",
        "\n",
        "\n",
        "\n",
        " 5. When Real-Time Prediction is Needed\n",
        "\n",
        "Ensemble models are often slower during prediction, which can be a problem in real-time systems (e.g., fraud detection or recommendation engines).\n",
        "\n",
        "\n",
        "\n",
        " Conclusion:\n",
        "\n",
        "Avoid ensemble methods when you need simplicity, interpretability, fast computation, or when working with small datasets.\n"
      ],
      "metadata": {
        "id": "hndboiUf9_ad"
      }
    },
    {
      "cell_type": "code",
      "source": [
        "'''Q.16  How does Bagging help in reducing overfitting?'''"
      ],
      "metadata": {
        "id": "b2hv8wMY-Q9n"
      },
      "execution_count": null,
      "outputs": []
    },
    {
      "cell_type": "markdown",
      "source": [
        "\n",
        "\n",
        "Bagging (Bootstrap Aggregating) reduces overfitting by combining predictions from multiple models trained on different subsets of the training data. Here's how it helps:\n",
        "\n",
        "\n",
        "\n",
        " 1. Reduces Variance\n",
        "\n",
        "Each model is trained on a random subset of data (with replacement), so the final output is averaged (regression) or voted (classification). This smooths out noise and reduces the high variance of individual models like Decision Trees.\n",
        "\n",
        "\n",
        "\n",
        " 2. Combats Overfitting\n",
        "\n",
        "Since overfitting usually comes from fitting too closely to training data noise, combining many slightly different models reduces the chance of all models overfitting the same way.\n",
        "\n",
        "\n",
        " 3. Creates Diverse Models\n",
        "\n",
        "Bagging creates diverse learners by varying training data. These uncorrelated models produce errors in different places, which cancel out when aggregated.\n",
        "\n",
        "\n",
        " 4. Stabilizes Predictions\n",
        "\n",
        "Aggregating the outputs of many models produces more stable and robust predictions, especially when the base learner is prone to overfitting (e.g., Decision Tree).\n",
        "\n",
        "\n",
        "\n",
        "Conclusion:\n",
        "Bagging reduces overfitting by lowering model variance through data resampling and aggregation, leading to more generalized and stable predictions.\n"
      ],
      "metadata": {
        "id": "WxA6M5hp-cah"
      }
    },
    {
      "cell_type": "code",
      "source": [
        "'''Q.17 Why is Random Forest better than a single Decision Tree?'''"
      ],
      "metadata": {
        "id": "rpvy7ZbX-vNn"
      },
      "execution_count": null,
      "outputs": []
    },
    {
      "cell_type": "markdown",
      "source": [
        "\n",
        "\n",
        " 1. Reduces Overfitting\n",
        "\n",
        "A single decision tree often overfits the training data, especially if it's deep.\n",
        "Random Forest combines multiple trees trained on random subsets of data and features, making it less likely to overfit.\n",
        "\n",
        "\n",
        " 2. Improves Accuracy\n",
        "\n",
        "By aggregating predictions from many trees (voting or averaging), Random Forest gives more accurate and stable predictions than a single tree.\n",
        "\n",
        "\n",
        "\n",
        " 3. Handles Missing and Noisy Data Better\n",
        "\n",
        "Random Forest is more robust to missing values and noise, since errors from individual trees are averaged out.\n",
        "\n",
        "\n",
        "\n",
        " 4. Reduces Variance\n",
        "\n",
        "Single decision trees have high variance (sensitive to data changes). Random Forest lowers variance by combining many trees with varied data and features.\n",
        "\n",
        "\n",
        "\n",
        " 5. Provides Feature Importance\n",
        "\n",
        "Random Forest can rank features based on how important they are in predicting the outcome — useful for feature selection.\n",
        "\n",
        "\n",
        "\n",
        " 6. Generalizes Better\n",
        "\n",
        "Because of its ensemble nature, Random Forest generalizes well to unseen data, unlike a single tree that may capture too many specifics of training data.\n",
        "\n",
        "\n",
        "\n",
        "Conclusion:\n",
        "Random Forest is better than a single Decision Tree due to higher accuracy, lower overfitting, better generalization, and robustness.\n"
      ],
      "metadata": {
        "id": "gi5TPKHA-z_N"
      }
    },
    {
      "cell_type": "code",
      "source": [
        "'''Q.18 What is the role of bootstrap sampling in Bagging?'''"
      ],
      "metadata": {
        "id": "jmd62lyp_ZEI"
      },
      "execution_count": null,
      "outputs": []
    },
    {
      "cell_type": "markdown",
      "source": [
        "\n",
        "\n",
        " 1. Definition of Bootstrap Sampling\n",
        "\n",
        "Bootstrap sampling involves randomly selecting data points with replacement from the original dataset to create multiple subsets of the same size.\n",
        "\n",
        "\n",
        "\n",
        " 2. Purpose in Bagging\n",
        "\n",
        "In Bagging (Bootstrap Aggregating), each model (usually decision trees) is trained on a different bootstrap sample. This introduces diversity among models.\n",
        "\n",
        "\n",
        "\n",
        " 3. Reduces Overfitting\n",
        "\n",
        "Because each model sees a different version of the data, it reduces overfitting compared to training all models on the same dataset.\n",
        "\n",
        "\n",
        "\n",
        " 4. Increases Robustness\n",
        "\n",
        "By averaging or voting over multiple diverse models trained on different bootstrap samples, Bagging increases stability and accuracy.\n",
        "\n",
        "\n",
        "\n",
        " 5. Foundation of Out-of-Bag (OOB) Error\n",
        "\n",
        "Bootstrap sampling enables OOB error estimation, where data not included in a sample can be used as a validation set for that model.\n",
        "\n",
        "\n",
        "Conclusion:\n",
        "\n",
        "Bootstrap sampling plays a central role in Bagging by creating diverse training sets for individual models, helping to reduce variance and improve generalization.\n"
      ],
      "metadata": {
        "id": "a2BkjxK3_d9l"
      }
    },
    {
      "cell_type": "code",
      "source": [
        "'''Q.19 What are some real-world applications of ensemble techniques?'''"
      ],
      "metadata": {
        "id": "veFpE3IM_wrR"
      },
      "execution_count": null,
      "outputs": []
    },
    {
      "cell_type": "markdown",
      "source": [
        "\n",
        "\n",
        " 1. Finance and Credit Scoring\n",
        "\n",
        "* Used for loan default prediction, fraud detection, and risk assessment.\n",
        "* Ensemble models like Random Forest and XGBoost improve prediction accuracy.\n",
        "\n",
        "\n",
        "\n",
        " 2. Healthcare\n",
        "\n",
        "* Applied in disease diagnosis, patient readmission prediction, and drug discovery.\n",
        "* Combines multiple models for better medical decision-making.\n",
        "\n",
        "\n",
        "\n",
        " 3. Marketing and Customer Analytics\n",
        "\n",
        "* Helps in customer segmentation, churn prediction, and targeted advertising.\n",
        "* Bagging and Boosting methods enhance model performance on large datasets.\n",
        "\n",
        "\n",
        "\n",
        " 4. Image and Speech Recognition\n",
        "\n",
        "* Used in facial recognition systems, voice assistants, and autonomous vehicles.\n",
        "* Ensemble deep learning methods provide robustness and higher accuracy.\n",
        "\n",
        "\n",
        "\n",
        " 5. E-commerce and Recommendation Systems\n",
        "\n",
        "* Improves product recommendation, search ranking, and personalization.\n",
        "* Combines collaborative and content-based filtering models.\n",
        "\n",
        "\n",
        "\n",
        " 6. Cybersecurity\n",
        "\n",
        "* Detects intrusions, malware, and spam filtering.\n",
        "* Ensemble classifiers handle high-dimensional, imbalanced data effectively.\n",
        "\n",
        "\n",
        "\n",
        "Conclusion:\n",
        "\n",
        "Ensemble techniques are widely used in critical applications where accuracy, robustness, and generalization are essential.\n"
      ],
      "metadata": {
        "id": "cIzVBXv7_16K"
      }
    },
    {
      "cell_type": "code",
      "source": [
        "'''Q.20 What is the difference between Bagging and Boosting?'''"
      ],
      "metadata": {
        "id": "xx3cqK9HAM6c"
      },
      "execution_count": null,
      "outputs": []
    },
    {
      "cell_type": "markdown",
      "source": [
        "\n",
        "\n",
        "| Aspect             | Bagging                                | Boosting                                 |\n",
        "| ---------------------- | ------------------------------------------ | -------------------------------------------- |\n",
        "| Full Form          | Bootstrap Aggregating                      | Adaptive Boosting                            |\n",
        "| Goal               | Reduce variance                            | Reduce bias                                  |\n",
        "| Data Sampling      | Random samples with replacement            | Sequential sampling with weight adjustment   |\n",
        "| Model Training     | Independent, parallel training             | Sequential, each model corrects previous one |\n",
        "| Model Combination  | Majority voting (classification) / average | Weighted sum of weak learners                |\n",
        "| Overfitting        | Helps reduce overfitting                   | Can overfit if too many estimators           |\n",
        "| Example Algorithms | Random Forest, Bagging Classifier          | AdaBoost, Gradient Boosting, XGBoost         |\n",
        "| Performance        | Improves stability and accuracy            | Improves accuracy by focusing on errors      |\n",
        "\n",
        "\n",
        "\n",
        "Conclusion:\n",
        "\n",
        "Bagging and Boosting are both ensemble techniques, but Bagging aims to reduce variance, while Boosting aims to reduce bias by focusing more on misclassified data points.\n"
      ],
      "metadata": {
        "id": "guoOVmqDAcCy"
      }
    },
    {
      "cell_type": "markdown",
      "source": [
        "# PRACTICAL"
      ],
      "metadata": {
        "id": "H_rWmR1WAmaa"
      }
    },
    {
      "cell_type": "code",
      "source": [
        "'''Q.21 Train a Bagging Classifier using Decision Trees on a sample dataset and print model accuracy'''"
      ],
      "metadata": {
        "id": "VwGbkvDjAp_8"
      },
      "execution_count": null,
      "outputs": []
    },
    {
      "cell_type": "code",
      "source": [
        "from sklearn.datasets import load_iris\n",
        "from sklearn.model_selection import train_test_split\n",
        "from sklearn.ensemble import BaggingClassifier\n",
        "from sklearn.tree import DecisionTreeClassifier\n",
        "from sklearn.metrics import accuracy_score\n",
        "\n",
        "# Load dataset\n",
        "iris = load_iris()\n",
        "X, y = iris.data, iris.target\n",
        "\n",
        "# Train-test split\n",
        "X_train, X_test, y_train, y_test = train_test_split(X, y, test_size=0.3, random_state=42)\n",
        "\n",
        "# Create Bagging Classifier using Decision Trees (Updated for scikit-learn >= 1.2)\n",
        "bagging_model = BaggingClassifier(\n",
        "    estimator=DecisionTreeClassifier(),\n",
        "    n_estimators=50,\n",
        "    random_state=42\n",
        ")\n",
        "\n",
        "# Train the model\n",
        "bagging_model.fit(X_train, y_train)\n",
        "\n",
        "# Predict\n",
        "y_pred = bagging_model.predict(X_test)\n",
        "\n",
        "# Evaluate accuracy\n",
        "accuracy = accuracy_score(y_test, y_pred)\n",
        "print(f\"Bagging Classifier Accuracy: {accuracy:.2f}\")\n"
      ],
      "metadata": {
        "colab": {
          "base_uri": "https://localhost:8080/"
        },
        "id": "4-35IY7-BNvU",
        "outputId": "34a09c4a-4496-4ce2-d16d-0e9b57f71b0a"
      },
      "execution_count": null,
      "outputs": [
        {
          "output_type": "stream",
          "name": "stdout",
          "text": [
            "Bagging Classifier Accuracy: 1.00\n"
          ]
        }
      ]
    },
    {
      "cell_type": "code",
      "source": [
        "'''Q.22 Train a Bagging Regressor using Decision Trees and evaluate using Mean Squared Error (MSE)'''"
      ],
      "metadata": {
        "id": "2kX9TOb8BQP-"
      },
      "execution_count": null,
      "outputs": []
    },
    {
      "cell_type": "code",
      "source": [
        "# Step 1: Import necessary libraries\n",
        "from sklearn.datasets import fetch_california_housing\n",
        "from sklearn.model_selection import train_test_split\n",
        "from sklearn.ensemble import BaggingRegressor\n",
        "from sklearn.tree import DecisionTreeRegressor\n",
        "from sklearn.metrics import mean_squared_error\n",
        "\n",
        "# Step 2: Load the California housing dataset\n",
        "data = fetch_california_housing()\n",
        "X, y = data.data, data.target\n",
        "\n",
        "# Step 3: Train-test split\n",
        "X_train, X_test, y_train, y_test = train_test_split(\n",
        "    X, y, test_size=0.2, random_state=42\n",
        ")\n",
        "\n",
        "# Step 4: Create Bagging Regressor using Decision Trees\n",
        "# Use 'estimator' instead of deprecated 'base_estimator'\n",
        "bagging_model = BaggingRegressor(\n",
        "    estimator=DecisionTreeRegressor(),\n",
        "    n_estimators=50,\n",
        "    random_state=42\n",
        ")\n",
        "\n",
        "# Step 5: Train the model\n",
        "bagging_model.fit(X_train, y_train)\n",
        "\n",
        "# Step 6: Make predictions\n",
        "y_pred = bagging_model.predict(X_test)\n",
        "\n",
        "# Step 7: Evaluate the model using Mean Squared Error\n",
        "mse = mean_squared_error(y_test, y_pred)\n",
        "print(f\" Bagging Regressor Mean Squared Error (MSE): {mse:.2f}\")\n"
      ],
      "metadata": {
        "colab": {
          "base_uri": "https://localhost:8080/"
        },
        "id": "FB6TaH5HBy7n",
        "outputId": "abab7180-ff12-4e6b-cb56-fbfa90f89ff4"
      },
      "execution_count": null,
      "outputs": [
        {
          "output_type": "stream",
          "name": "stdout",
          "text": [
            " Bagging Regressor Mean Squared Error (MSE): 0.26\n"
          ]
        }
      ]
    },
    {
      "cell_type": "code",
      "source": [
        "'''Q.23 Train a Random Forest Classifier on the Breast Cancer dataset and print feature importance scores'''"
      ],
      "metadata": {
        "id": "DobcQm74B7nd"
      },
      "execution_count": null,
      "outputs": []
    },
    {
      "cell_type": "code",
      "source": [
        "# Step 1: Import required libraries\n",
        "from sklearn.datasets import load_breast_cancer\n",
        "from sklearn.model_selection import train_test_split\n",
        "from sklearn.ensemble import RandomForestClassifier\n",
        "import pandas as pd\n",
        "import matplotlib.pyplot as plt\n",
        "\n",
        "# Step 2: Load the Breast Cancer dataset\n",
        "data = load_breast_cancer()\n",
        "X, y = data.data, data.target\n",
        "feature_names = data.feature_names\n",
        "\n",
        "# Step 3: Split data into training and testing sets\n",
        "X_train, X_test, y_train, y_test = train_test_split(\n",
        "    X, y, test_size=0.2, random_state=42\n",
        ")\n",
        "\n",
        "# Step 4: Initialize and train Random Forest Classifier\n",
        "rf_model = RandomForestClassifier(n_estimators=100, random_state=42)\n",
        "rf_model.fit(X_train, y_train)\n",
        "\n",
        "# Step 5: Get and print feature importance scores\n",
        "importances = rf_model.feature_importances_\n",
        "importance_df = pd.DataFrame({\n",
        "    'Feature': feature_names,\n",
        "    'Importance': importances\n",
        "}).sort_values(by='Importance', ascending=False)\n",
        "\n",
        "print(\"📊 Feature Importance Scores:\\n\")\n",
        "print(importance_df)\n",
        "\n",
        "# Optional: Plot feature importance\n",
        "plt.figure(figsize=(12, 8))\n",
        "plt.barh(importance_df['Feature'], importance_df['Importance'])\n",
        "plt.xlabel(\"Importance Score\")\n",
        "plt.title(\"Feature Importance - Random Forest\")\n",
        "plt.gca().invert_yaxis()\n",
        "plt.tight_layout()\n",
        "plt.show()\n"
      ],
      "metadata": {
        "colab": {
          "base_uri": "https://localhost:8080/",
          "height": 1000
        },
        "id": "AoF8u-EjCLeA",
        "outputId": "09595393-3216-489b-b7fa-929483727833"
      },
      "execution_count": null,
      "outputs": [
        {
          "output_type": "stream",
          "name": "stdout",
          "text": [
            "📊 Feature Importance Scores:\n",
            "\n",
            "                    Feature  Importance\n",
            "23               worst area    0.153892\n",
            "27     worst concave points    0.144663\n",
            "7       mean concave points    0.106210\n",
            "20             worst radius    0.077987\n",
            "6            mean concavity    0.068001\n",
            "22          worst perimeter    0.067115\n",
            "2            mean perimeter    0.053270\n",
            "0               mean radius    0.048703\n",
            "3                 mean area    0.047555\n",
            "26          worst concavity    0.031802\n",
            "13               area error    0.022407\n",
            "21            worst texture    0.021749\n",
            "25        worst compactness    0.020266\n",
            "10             radius error    0.020139\n",
            "5          mean compactness    0.013944\n",
            "1              mean texture    0.013591\n",
            "12          perimeter error    0.011303\n",
            "24         worst smoothness    0.010644\n",
            "28           worst symmetry    0.010120\n",
            "16          concavity error    0.009386\n",
            "4           mean smoothness    0.007285\n",
            "19  fractal dimension error    0.005321\n",
            "15        compactness error    0.005253\n",
            "29  worst fractal dimension    0.005210\n",
            "11            texture error    0.004724\n",
            "14         smoothness error    0.004271\n",
            "18           symmetry error    0.004018\n",
            "9    mean fractal dimension    0.003886\n",
            "8             mean symmetry    0.003770\n",
            "17     concave points error    0.003513\n"
          ]
        },
        {
          "output_type": "display_data",
          "data": {
            "text/plain": [
              "<Figure size 1200x800 with 1 Axes>"
            ],
            "image/png": "[encoded data removed]"
          },
          "metadata": {}
        }
      ]
    },
    {
      "cell_type": "code",
      "source": [
        "'''Q.24 Train a Random Forest Regressor and compare its performance with a single Decision Tree'''"
      ],
      "metadata": {
        "id": "geoG2eOtCPLv"
      },
      "execution_count": null,
      "outputs": []
    },
    {
      "cell_type": "code",
      "source": [
        "# Step 1: Import required libraries\n",
        "from sklearn.datasets import fetch_california_housing\n",
        "from sklearn.model_selection import train_test_split\n",
        "from sklearn.tree import DecisionTreeRegressor\n",
        "from sklearn.ensemble import RandomForestRegressor\n",
        "from sklearn.metrics import mean_squared_error\n",
        "\n",
        "# Step 2: Load California housing dataset\n",
        "housing = fetch_california_housing()\n",
        "X, y = housing.data, housing.target\n",
        "\n",
        "# Step 3: Split data into training and testing sets\n",
        "X_train, X_test, y_train, y_test = train_test_split(\n",
        "    X, y, test_size=0.2, random_state=42\n",
        ")\n",
        "\n",
        "# Step 4: Train Decision Tree Regressor\n",
        "dt_model = DecisionTreeRegressor(random_state=42)\n",
        "dt_model.fit(X_train, y_train)\n",
        "dt_preds = dt_model.predict(X_test)\n",
        "\n",
        "# Step 5: Train Random Forest Regressor\n",
        "rf_model = RandomForestRegressor(n_estimators=100, random_state=42)\n",
        "rf_model.fit(X_train, y_train)\n",
        "rf_preds = rf_model.predict(X_test)\n",
        "\n",
        "# Step 6: Evaluate both models using Mean Squared Error (MSE)\n",
        "dt_mse = mean_squared_error(y_test, dt_preds)\n",
        "rf_mse = mean_squared_error(y_test, rf_preds)\n",
        "\n",
        "print(f\" Decision Tree Regressor MSE: {dt_mse:.4f}\")\n",
        "print(f\" Random Forest Regressor MSE: {rf_mse:.4f}\")\n",
        "\n",
        "# Optional: Percentage improvement\n",
        "improvement = ((dt_mse - rf_mse) / dt_mse) * 100\n",
        "print(f\"\\n Random Forest improved MSE by {improvement:.2f}% over Decision Tree.\")\n"
      ],
      "metadata": {
        "colab": {
          "base_uri": "https://localhost:8080/"
        },
        "id": "-H_27ckZCTVE",
        "outputId": "a47d834f-0a21-4d1f-e4ed-1f5e11a072aa"
      },
      "execution_count": null,
      "outputs": [
        {
          "output_type": "stream",
          "name": "stdout",
          "text": [
            " Decision Tree Regressor MSE: 0.4952\n",
            " Random Forest Regressor MSE: 0.2554\n",
            "\n",
            " Random Forest improved MSE by 48.43% over Decision Tree.\n"
          ]
        }
      ]
    },
    {
      "cell_type": "code",
      "source": [
        "'''Q.25 Compute the Out-of-Bag (OOB) Score for a Random Forest Classifier'''"
      ],
      "metadata": {
        "id": "WGs_2ojICmMn"
      },
      "execution_count": null,
      "outputs": []
    },
    {
      "cell_type": "code",
      "source": [
        "# Step 1: Import necessary libraries\n",
        "from sklearn.datasets import load_breast_cancer\n",
        "from sklearn.ensemble import RandomForestClassifier\n",
        "from sklearn.model_selection import train_test_split\n",
        "\n",
        "# Step 2: Load the breast cancer dataset\n",
        "data = load_breast_cancer()\n",
        "X, y = data.data, data.target\n",
        "\n",
        "# Step 3: Split dataset (optional but recommended)\n",
        "X_train, X_test, y_train, y_test = train_test_split(\n",
        "    X, y, test_size=0.2, random_state=42\n",
        ")\n",
        "\n",
        "# Step 4: Train Random Forest with OOB enabled\n",
        "rf_oob = RandomForestClassifier(\n",
        "    n_estimators=100,\n",
        "    oob_score=True,\n",
        "    random_state=42,\n",
        "    bootstrap=True  # required for OOB\n",
        ")\n",
        "rf_oob.fit(X_train, y_train)\n",
        "\n",
        "# Step 5: Print the OOB Score\n",
        "print(f\" Out-of-Bag (OOB) Score: {rf_oob.oob_score_:.4f}\")\n"
      ],
      "metadata": {
        "id": "qzNWVKdWCrzN",
        "colab": {
          "base_uri": "https://localhost:8080/"
        },
        "outputId": "0a27e90e-6719-4ec7-c1c6-a47e8b90a885"
      },
      "execution_count": 8,
      "outputs": [
        {
          "output_type": "stream",
          "name": "stdout",
          "text": [
            " Out-of-Bag (OOB) Score: 0.9560\n"
          ]
        }
      ]
    },
    {
      "cell_type": "code",
      "source": [
        "'''Q.26  Train a Bagging Classifier using SVM as a base estimator and print accuracy'''"
      ],
      "metadata": {
        "id": "2FMhI7sZDDPu"
      },
      "execution_count": null,
      "outputs": []
    },
    {
      "cell_type": "code",
      "source": [
        "# Step 1: Install required packages (if needed)\n",
        "# You can uncomment the line below if running in a fresh Colab environment\n",
        "# !pip install scikit-learn\n",
        "\n",
        "# Step 2: Import necessary libraries\n",
        "from sklearn.datasets import load_breast_cancer\n",
        "from sklearn.ensemble import BaggingClassifier\n",
        "from sklearn.svm import SVC\n",
        "from sklearn.model_selection import train_test_split\n",
        "from sklearn.metrics import accuracy_score\n",
        "\n",
        "# Step 3: Load dataset\n",
        "data = load_breast_cancer()\n",
        "X, y = data.data, data.target\n",
        "\n",
        "# Step 4: Split data into train and test sets\n",
        "X_train, X_test, y_train, y_test = train_test_split(\n",
        "    X, y, test_size=0.2, random_state=42\n",
        ")\n",
        "\n",
        "# Step 5: Create Bagging Classifier with SVM\n",
        "bagging_svm = BaggingClassifier(\n",
        "    estimator=SVC(),            # base estimator is SVM\n",
        "    n_estimators=10,\n",
        "    random_state=42,\n",
        "    n_jobs=-1\n",
        ")\n",
        "\n",
        "# Step 6: Train model\n",
        "bagging_svm.fit(X_train, y_train)\n",
        "\n",
        "# Step 7: Predict and evaluate\n",
        "y_pred = bagging_svm.predict(X_test)\n",
        "accuracy = accuracy_score(y_test, y_pred)\n",
        "\n",
        "# Step 8: Print accuracy\n",
        "print(f\" Bagging Classifier with SVM Accuracy: {accuracy:.4f}\")\n"
      ],
      "metadata": {
        "id": "RAECh_1eDJSP",
        "colab": {
          "base_uri": "https://localhost:8080/"
        },
        "outputId": "dc873808-3b24-4144-b377-bd965915d4eb"
      },
      "execution_count": 9,
      "outputs": [
        {
          "output_type": "stream",
          "name": "stdout",
          "text": [
            " Bagging Classifier with SVM Accuracy: 0.9474\n"
          ]
        }
      ]
    },
    {
      "cell_type": "code",
      "source": [
        "'''Q.27  Train a Random Forest Classifier with different numbers of trees and compare accuracy'''"
      ],
      "metadata": {
        "id": "lnA1bHq9DxNF"
      },
      "execution_count": null,
      "outputs": []
    },
    {
      "cell_type": "code",
      "source": [
        "# Step 1: Import necessary libraries\n",
        "from sklearn.datasets import load_breast_cancer\n",
        "from sklearn.ensemble import RandomForestClassifier\n",
        "from sklearn.model_selection import train_test_split\n",
        "from sklearn.metrics import accuracy_score\n",
        "import matplotlib.pyplot as plt\n",
        "\n",
        "# Step 2: Load dataset\n",
        "data = load_breast_cancer()\n",
        "X, y = data.data, data.target\n",
        "\n",
        "# Step 3: Split the data\n",
        "X_train, X_test, y_train, y_test = train_test_split(\n",
        "    X, y, test_size=0.2, random_state=42\n",
        ")\n",
        "\n",
        "# Step 4: Train models with different numbers of trees\n",
        "n_estimators_list = [1, 10, 50, 100, 200]\n",
        "accuracies = []\n",
        "\n",
        "for n in n_estimators_list:\n",
        "    rf = RandomForestClassifier(n_estimators=n, random_state=42)\n",
        "    rf.fit(X_train, y_train)\n",
        "    y_pred = rf.predict(X_test)\n",
        "    acc = accuracy_score(y_test, y_pred)\n",
        "    accuracies.append(acc)\n",
        "    print(f\"n_estimators = {n}  Accuracy = {acc:.4f}\")\n",
        "\n",
        "# Step 5: Plot accuracy vs. number of trees\n",
        "plt.figure(figsize=(8, 5))\n",
        "plt.plot(n_estimators_list, accuracies, marker='o', color='green')\n",
        "plt.title(\"Random Forest Accuracy vs. Number of Trees\")\n",
        "plt.xlabel(\"Number of Trees (n_estimators)\")\n",
        "plt.ylabel(\"Accuracy\")\n",
        "plt.grid(True)\n",
        "plt.show()\n"
      ],
      "metadata": {
        "colab": {
          "base_uri": "https://localhost:8080/",
          "height": 574
        },
        "id": "jOnpXyYYEZxG",
        "outputId": "58591b24-a020-47e0-b0b6-eb1c9cb9d215"
      },
      "execution_count": 10,
      "outputs": [
        {
          "output_type": "stream",
          "name": "stdout",
          "text": [
            "n_estimators = 1  Accuracy = 0.9386\n",
            "n_estimators = 10  Accuracy = 0.9561\n",
            "n_estimators = 50  Accuracy = 0.9649\n",
            "n_estimators = 100  Accuracy = 0.9649\n",
            "n_estimators = 200  Accuracy = 0.9649\n"
          ]
        },
        {
          "output_type": "display_data",
          "data": {
            "text/plain": [
              "<Figure size 800x500 with 1 Axes>"
            ],
            "image/png": "[encoded data removed]"
          },
          "metadata": {}
        }
      ]
    },
    {
      "cell_type": "code",
      "source": [
        "'''Q.28  Train a Bagging Classifier using Logistic Regression as a base estimator and print AUC score'''"
      ],
      "metadata": {
        "id": "MFy46II6E_V1"
      },
      "execution_count": null,
      "outputs": []
    },
    {
      "cell_type": "code",
      "source": [
        "# Step 1: Install required libraries (if not already installed)\n",
        "# You can skip this in Colab since scikit-learn is pre-installed\n",
        "\n",
        "# Step 2: Import necessary modules\n",
        "from sklearn.datasets import load_breast_cancer\n",
        "from sklearn.linear_model import LogisticRegression\n",
        "from sklearn.ensemble import BaggingClassifier\n",
        "from sklearn.model_selection import train_test_split\n",
        "from sklearn.metrics import roc_auc_score\n",
        "from sklearn.preprocessing import StandardScaler\n",
        "\n",
        "# Step 3: Load dataset\n",
        "data = load_breast_cancer()\n",
        "X, y = data.data, data.target\n",
        "\n",
        "# Step 4: Standardize features (important for Logistic Regression)\n",
        "scaler = StandardScaler()\n",
        "X = scaler.fit_transform(X)\n",
        "\n",
        "# Step 5: Split the dataset\n",
        "X_train, X_test, y_train, y_test = train_test_split(\n",
        "    X, y, test_size=0.2, random_state=42\n",
        ")\n",
        "\n",
        "# Step 6: Create and train Bagging Classifier with Logistic Regression\n",
        "bagging_model = BaggingClassifier(\n",
        "    estimator=LogisticRegression(max_iter=1000),\n",
        "    n_estimators=50,\n",
        "    random_state=42,\n",
        "    n_jobs=-1\n",
        ")\n",
        "\n",
        "bagging_model.fit(X_train, y_train)\n",
        "\n",
        "# Step 7: Predict probabilities\n",
        "y_proba = bagging_model.predict_proba(X_test)[:, 1]\n",
        "\n",
        "# Step 8: Calculate and print AUC score\n",
        "auc_score = roc_auc_score(y_test, y_proba)\n",
        "print(f\"AUC Score for Bagging Classifier with Logistic Regression: {auc_score:.4f}\")\n"
      ],
      "metadata": {
        "colab": {
          "base_uri": "https://localhost:8080/"
        },
        "id": "1ERygyNWFO5z",
        "outputId": "cc2b1e62-386a-4cb4-fbb1-6aa5424b3536"
      },
      "execution_count": 11,
      "outputs": [
        {
          "output_type": "stream",
          "name": "stdout",
          "text": [
            "AUC Score for Bagging Classifier with Logistic Regression: 0.9974\n"
          ]
        }
      ]
    },
    {
      "cell_type": "code",
      "source": [
        "'''Q.29  Train a Random Forest Regressor and analyze feature importance scores'''"
      ],
      "metadata": {
        "id": "BJFcwT3rFSWb"
      },
      "execution_count": null,
      "outputs": []
    },
    {
      "cell_type": "code",
      "source": [
        "# Step 1: Import libraries\n",
        "from sklearn.datasets import fetch_california_housing\n",
        "from sklearn.ensemble import RandomForestRegressor\n",
        "from sklearn.model_selection import train_test_split\n",
        "from sklearn.metrics import mean_squared_error\n",
        "import matplotlib.pyplot as plt\n",
        "import pandas as pd\n",
        "import numpy as np\n",
        "\n",
        "# Step 2: Load California housing dataset\n",
        "housing = fetch_california_housing()\n",
        "X, y = housing.data, housing.target\n",
        "feature_names = housing.feature_names\n",
        "\n",
        "# Step 3: Split the data\n",
        "X_train, X_test, y_train, y_test = train_test_split(\n",
        "    X, y, test_size=0.2, random_state=42\n",
        ")\n",
        "\n",
        "# Step 4: Train Random Forest Regressor\n",
        "rf_model = RandomForestRegressor(n_estimators=100, random_state=42)\n",
        "rf_model.fit(X_train, y_train)\n",
        "\n",
        "# Step 5: Predict and evaluate\n",
        "y_pred = rf_model.predict(X_test)\n",
        "mse = mean_squared_error(y_test, y_pred)\n",
        "print(f\"Mean Squared Error: {mse:.4f}\")\n",
        "\n",
        "# Step 6: Analyze feature importance\n",
        "importances = rf_model.feature_importances_\n",
        "indices = np.argsort(importances)[::-1]\n",
        "\n",
        "# Step 7: Plot feature importances\n",
        "plt.figure(figsize=(10, 6))\n",
        "plt.title(\"Feature Importances in Random Forest Regressor\")\n",
        "plt.bar(range(X.shape[1]), importances[indices], align=\"center\")\n",
        "plt.xticks(range(X.shape[1]), [feature_names[i] for i in indices], rotation=45)\n",
        "plt.xlabel(\"Features\")\n",
        "plt.ylabel(\"Importance Score\")\n",
        "plt.tight_layout()\n",
        "plt.show()\n"
      ],
      "metadata": {
        "colab": {
          "base_uri": "https://localhost:8080/",
          "height": 624
        },
        "id": "so45cm-ZFXKT",
        "outputId": "bff6a92e-a076-4908-8883-35a6c1ae8069"
      },
      "execution_count": 12,
      "outputs": [
        {
          "output_type": "stream",
          "name": "stdout",
          "text": [
            "Mean Squared Error: 0.2554\n"
          ]
        },
        {
          "output_type": "display_data",
          "data": {
            "text/plain": [
              "<Figure size 1000x600 with 1 Axes>"
            ],
            "image/png": "[encoded data removed]"
          },
          "metadata": {}
        }
      ]
    },
    {
      "cell_type": "code",
      "source": [
        "'''Q.30 Train an ensemble model using both Bagging and Random Forest and compare accuracy'''"
      ],
      "metadata": {
        "id": "vFyoGLC9Fl75"
      },
      "execution_count": null,
      "outputs": []
    },
    {
      "cell_type": "code",
      "source": [
        "# Step 1: Import libraries\n",
        "from sklearn.datasets import load_breast_cancer\n",
        "from sklearn.ensemble import BaggingClassifier, RandomForestClassifier\n",
        "from sklearn.tree import DecisionTreeClassifier\n",
        "from sklearn.model_selection import train_test_split\n",
        "from sklearn.metrics import accuracy_score\n",
        "\n",
        "# Step 2: Load dataset\n",
        "data = load_breast_cancer()\n",
        "X, y = data.data, data.target\n",
        "\n",
        "# Step 3: Split data\n",
        "X_train, X_test, y_train, y_test = train_test_split(X, y, test_size=0.2, random_state=42)\n",
        "\n",
        "# Step 4: Train Bagging Classifier (using Decision Tree as base estimator)\n",
        "bagging_model = BaggingClassifier(\n",
        "    estimator=DecisionTreeClassifier(),\n",
        "    n_estimators=100,\n",
        "    random_state=42\n",
        ")\n",
        "bagging_model.fit(X_train, y_train)\n",
        "bagging_pred = bagging_model.predict(X_test)\n",
        "bagging_acc = accuracy_score(y_test, bagging_pred)\n",
        "\n",
        "# Step 5: Train Random Forest Classifier\n",
        "rf_model = RandomForestClassifier(n_estimators=100, random_state=42)\n",
        "rf_model.fit(X_train, y_train)\n",
        "rf_pred = rf_model.predict(X_test)\n",
        "rf_acc = accuracy_score(y_test, rf_pred)\n",
        "\n",
        "# Step 6: Compare accuracy\n",
        "print(f\"Bagging Classifier Accuracy      : {bagging_acc:.4f}\")\n",
        "print(f\"Random Forest Classifier Accuracy: {rf_acc:.4f}\")\n"
      ],
      "metadata": {
        "colab": {
          "base_uri": "https://localhost:8080/"
        },
        "id": "Z1-WKxPNFq_n",
        "outputId": "e74264bd-43e3-4572-b3b5-b655483349b6"
      },
      "execution_count": 13,
      "outputs": [
        {
          "output_type": "stream",
          "name": "stdout",
          "text": [
            "Bagging Classifier Accuracy      : 0.9561\n",
            "Random Forest Classifier Accuracy: 0.9649\n"
          ]
        }
      ]
    },
    {
      "cell_type": "code",
      "source": [
        "'''Q.31 Train a Random Forest Classifier and tune hyperparameters using GridSearchCV'''"
      ],
      "metadata": {
        "id": "kmHYnDghF9I2"
      },
      "execution_count": null,
      "outputs": []
    },
    {
      "cell_type": "code",
      "source": [
        "# Step 1: Import libraries\n",
        "from sklearn.datasets import load_breast_cancer\n",
        "from sklearn.ensemble import RandomForestClassifier\n",
        "from sklearn.model_selection import train_test_split, GridSearchCV\n",
        "from sklearn.metrics import classification_report, accuracy_score\n",
        "\n",
        "# Step 2: Load dataset\n",
        "data = load_breast_cancer()\n",
        "X, y = data.data, data.target\n",
        "\n",
        "# Step 3: Train-test split\n",
        "X_train, X_test, y_train, y_test = train_test_split(\n",
        "    X, y, test_size=0.2, random_state=42\n",
        ")\n",
        "\n",
        "# Step 4: Define the model\n",
        "rf = RandomForestClassifier(random_state=42)\n",
        "\n",
        "# Step 5: Define parameter grid\n",
        "param_grid = {\n",
        "    'n_estimators': [50, 100, 150],\n",
        "    'max_depth': [None, 5, 10],\n",
        "    'min_samples_split': [2, 5],\n",
        "    'min_samples_leaf': [1, 2]\n",
        "}\n",
        "\n",
        "# Step 6: Apply GridSearchCV\n",
        "grid_search = GridSearchCV(\n",
        "    estimator=rf,\n",
        "    param_grid=param_grid,\n",
        "    cv=5,\n",
        "    scoring='accuracy',\n",
        "    n_jobs=-1,\n",
        "    verbose=1\n",
        ")\n",
        "\n",
        "grid_search.fit(X_train, y_train)\n",
        "\n",
        "# Step 7: Best parameters and evaluation\n",
        "print(\"Best Parameters:\", grid_search.best_params_)\n",
        "\n",
        "best_model = grid_search.best_estimator_\n",
        "y_pred = best_model.predict(X_test)\n",
        "\n",
        "print(\"\\nAccuracy on Test Set:\", accuracy_score(y_test, y_pred))\n",
        "print(\"\\nClassification Report:\\n\", classification_report(y_test, y_pred))\n"
      ],
      "metadata": {
        "colab": {
          "base_uri": "https://localhost:8080/"
        },
        "id": "T2Dm5RysGOlk",
        "outputId": "b2c040b6-6230-4406-96c8-33c3b92dbeb3"
      },
      "execution_count": 14,
      "outputs": [
        {
          "output_type": "stream",
          "name": "stdout",
          "text": [
            "Fitting 5 folds for each of 36 candidates, totalling 180 fits\n",
            "Best Parameters: {'max_depth': None, 'min_samples_leaf': 1, 'min_samples_split': 2, 'n_estimators': 150}\n",
            "\n",
            "Accuracy on Test Set: 0.9649122807017544\n",
            "\n",
            "Classification Report:\n",
            "               precision    recall  f1-score   support\n",
            "\n",
            "           0       0.98      0.93      0.95        43\n",
            "           1       0.96      0.99      0.97        71\n",
            "\n",
            "    accuracy                           0.96       114\n",
            "   macro avg       0.97      0.96      0.96       114\n",
            "weighted avg       0.97      0.96      0.96       114\n",
            "\n"
          ]
        }
      ]
    },
    {
      "cell_type": "code",
      "source": [
        "'''Q.32  Train a Bagging Regressor with different numbers of base estimators and compare performance'''"
      ],
      "metadata": {
        "id": "_1EMkf-6GR4x"
      },
      "execution_count": null,
      "outputs": []
    },
    {
      "cell_type": "code",
      "source": [
        "# Step 1: Import libraries\n",
        "import numpy as np\n",
        "import matplotlib.pyplot as plt\n",
        "from sklearn.datasets import fetch_california_housing\n",
        "from sklearn.ensemble import BaggingRegressor\n",
        "from sklearn.tree import DecisionTreeRegressor\n",
        "from sklearn.model_selection import train_test_split\n",
        "from sklearn.metrics import mean_squared_error\n",
        "\n",
        "# Step 2: Load dataset\n",
        "data = fetch_california_housing()\n",
        "X, y = data.data, data.target\n",
        "\n",
        "# Step 3: Train-test split\n",
        "X_train, X_test, y_train, y_test = train_test_split(\n",
        "    X, y, test_size=0.2, random_state=42\n",
        ")\n",
        "\n",
        "# Step 4: Try different numbers of base estimators\n",
        "estimators_range = [1, 5, 10, 20, 50, 100]\n",
        "mse_scores = []\n",
        "\n",
        "for n in estimators_range:\n",
        "    model = BaggingRegressor(\n",
        "        estimator=DecisionTreeRegressor(),\n",
        "        n_estimators=n,\n",
        "        random_state=42,\n",
        "        n_jobs=-1\n",
        "    )\n",
        "    model.fit(X_train, y_train)\n",
        "    y_pred = model.predict(X_test)\n",
        "    mse = mean_squared_error(y_test, y_pred)\n",
        "    mse_scores.append(mse)\n",
        "    print(f\"Estimators: {n} | MSE: {mse:.4f}\")\n",
        "\n",
        "# Step 5: Plot the results\n",
        "plt.figure(figsize=(8, 5))\n",
        "plt.plot(estimators_range, mse_scores, marker='o', linestyle='--', color='teal')\n",
        "plt.title(\"Bagging Regressor: Estimators vs. MSE\")\n",
        "plt.xlabel(\"Number of Estimators\")\n",
        "plt.ylabel(\"Mean Squared Error (MSE)\")\n",
        "plt.grid(True)\n",
        "plt.show()\n"
      ],
      "metadata": {
        "colab": {
          "base_uri": "https://localhost:8080/",
          "height": 591
        },
        "id": "Rb_zWuXqG3a0",
        "outputId": "6df4226f-47cb-4ae3-f3e6-05f7aa292538"
      },
      "execution_count": 16,
      "outputs": [
        {
          "output_type": "stream",
          "name": "stdout",
          "text": [
            "Estimators: 1 | MSE: 0.5501\n",
            "Estimators: 5 | MSE: 0.3060\n",
            "Estimators: 10 | MSE: 0.2824\n",
            "Estimators: 20 | MSE: 0.2643\n",
            "Estimators: 50 | MSE: 0.2573\n",
            "Estimators: 100 | MSE: 0.2559\n"
          ]
        },
        {
          "output_type": "display_data",
          "data": {
            "text/plain": [
              "<Figure size 800x500 with 1 Axes>"
            ],
            "image/png": "[encoded data removed]"
          },
          "metadata": {}
        }
      ]
    },
    {
      "cell_type": "code",
      "source": [
        "'''Q.33 Train a Random Forest Classifier and analyze misclassified samples'''"
      ],
      "metadata": {
        "id": "EXzgACJvHAsd"
      },
      "execution_count": null,
      "outputs": []
    },
    {
      "cell_type": "code",
      "source": [
        "# Step 1: Import libraries\n",
        "from sklearn.datasets import load_breast_cancer\n",
        "from sklearn.ensemble import RandomForestClassifier\n",
        "from sklearn.model_selection import train_test_split\n",
        "from sklearn.metrics import classification_report, confusion_matrix\n",
        "import pandas as pd\n",
        "\n",
        "# Step 2: Load dataset\n",
        "data = load_breast_cancer()\n",
        "X, y = data.data, data.target\n",
        "feature_names = data.feature_names\n",
        "target_names = data.target_names\n",
        "\n",
        "# Step 3: Train-test split\n",
        "X_train, X_test, y_train, y_test = train_test_split(\n",
        "    X, y, test_size=0.2, random_state=42\n",
        ")\n",
        "\n",
        "# Step 4: Train Random Forest Classifier\n",
        "model = RandomForestClassifier(n_estimators=100, random_state=42)\n",
        "model.fit(X_train, y_train)\n",
        "\n",
        "# Step 5: Predict\n",
        "y_pred = model.predict(X_test)\n",
        "\n",
        "# Step 6: Print classification report and confusion matrix\n",
        "print(\"Classification Report:\\n\", classification_report(y_test, y_pred, target_names=target_names))\n",
        "print(\"Confusion Matrix:\\n\", confusion_matrix(y_test, y_pred))\n",
        "\n",
        "# Step 7: Analyze misclassified samples\n",
        "misclassified_indices = (y_test != y_pred)\n",
        "X_misclassified = X_test[misclassified_indices]\n",
        "y_true_misclassified = y_test[misclassified_indices]\n",
        "y_pred_misclassified = y_pred[misclassified_indices]\n",
        "\n",
        "# Convert to DataFrame for better readability\n",
        "df_misclassified = pd.DataFrame(X_misclassified, columns=feature_names)\n",
        "df_misclassified['True_Label'] = y_true_misclassified\n",
        "df_misclassified['Predicted_Label'] = y_pred_misclassified\n",
        "\n",
        "print(\"\\nMisclassified Samples:\")\n",
        "print(df_misclassified.head())\n"
      ],
      "metadata": {
        "colab": {
          "base_uri": "https://localhost:8080/"
        },
        "id": "eVNI2h8rHTJW",
        "outputId": "f175cd48-1cd9-4eb0-95dc-f255b7666236"
      },
      "execution_count": 17,
      "outputs": [
        {
          "output_type": "stream",
          "name": "stdout",
          "text": [
            "Classification Report:\n",
            "               precision    recall  f1-score   support\n",
            "\n",
            "   malignant       0.98      0.93      0.95        43\n",
            "      benign       0.96      0.99      0.97        71\n",
            "\n",
            "    accuracy                           0.96       114\n",
            "   macro avg       0.97      0.96      0.96       114\n",
            "weighted avg       0.97      0.96      0.96       114\n",
            "\n",
            "Confusion Matrix:\n",
            " [[40  3]\n",
            " [ 1 70]]\n",
            "\n",
            "Misclassified Samples:\n",
            "   mean radius  mean texture  mean perimeter  mean area  mean smoothness  \\\n",
            "0        13.34         15.86           86.49      520.0          0.10780   \n",
            "1        13.80         15.79           90.43      584.1          0.10070   \n",
            "2        13.96         17.05           91.43      602.4          0.10960   \n",
            "3        14.48         21.46           94.25      648.2          0.09444   \n",
            "\n",
            "   mean compactness  mean concavity  mean concave points  mean symmetry  \\\n",
            "0           0.15350         0.11690              0.06987         0.1942   \n",
            "1           0.12800         0.07789              0.05069         0.1662   \n",
            "2           0.12790         0.09789              0.05246         0.1908   \n",
            "3           0.09947         0.12040              0.04938         0.2075   \n",
            "\n",
            "   mean fractal dimension  ...  worst perimeter  worst area  worst smoothness  \\\n",
            "0                 0.06902  ...            96.66       614.9            0.1536   \n",
            "1                 0.06566  ...           110.30       812.4            0.1411   \n",
            "2                 0.06130  ...           108.10       826.0            0.1512   \n",
            "3                 0.05636  ...           108.40       808.9            0.1306   \n",
            "\n",
            "   worst compactness  worst concavity  worst concave points  worst symmetry  \\\n",
            "0             0.4791           0.4858                0.1708          0.3527   \n",
            "1             0.3542           0.2779                0.1383          0.2589   \n",
            "2             0.3262           0.3209                0.1374          0.3068   \n",
            "3             0.1976           0.3349                0.1225          0.3020   \n",
            "\n",
            "   worst fractal dimension  True_Label  Predicted_Label  \n",
            "0                  0.10160           1                0  \n",
            "1                  0.10300           0                1  \n",
            "2                  0.07957           0                1  \n",
            "3                  0.06846           0                1  \n",
            "\n",
            "[4 rows x 32 columns]\n"
          ]
        }
      ]
    },
    {
      "cell_type": "code",
      "source": [
        "'''Q.34  Train a Bagging Classifier and compare its performance with a single Decision Tree Classifier'''"
      ],
      "metadata": {
        "id": "WLeW4C8pHWX-"
      },
      "execution_count": null,
      "outputs": []
    },
    {
      "cell_type": "code",
      "source": [
        "# Step 1: Import libraries\n",
        "from sklearn.datasets import load_breast_cancer\n",
        "from sklearn.model_selection import train_test_split\n",
        "from sklearn.tree import DecisionTreeClassifier\n",
        "from sklearn.ensemble import BaggingClassifier\n",
        "from sklearn.metrics import accuracy_score\n",
        "\n",
        "# Step 2: Load dataset\n",
        "data = load_breast_cancer()\n",
        "X, y = data.data, data.target\n",
        "\n",
        "# Step 3: Train-test split\n",
        "X_train, X_test, y_train, y_test = train_test_split(\n",
        "    X, y, test_size=0.2, random_state=42\n",
        ")\n",
        "\n",
        "# Step 4: Train single Decision Tree\n",
        "dt_model = DecisionTreeClassifier(random_state=42)\n",
        "dt_model.fit(X_train, y_train)\n",
        "dt_preds = dt_model.predict(X_test)\n",
        "dt_accuracy = accuracy_score(y_test, dt_preds)\n",
        "\n",
        "# Step 5: Train Bagging Classifier using Decision Tree\n",
        "bag_model = BaggingClassifier(\n",
        "    estimator=DecisionTreeClassifier(),\n",
        "    n_estimators=50,\n",
        "    random_state=42\n",
        ")\n",
        "bag_model.fit(X_train, y_train)\n",
        "bag_preds = bag_model.predict(X_test)\n",
        "bag_accuracy = accuracy_score(y_test, bag_preds)\n",
        "\n",
        "# Step 6: Print results\n",
        "print(f\"Single Decision Tree Accuracy: {dt_accuracy:.4f}\")\n",
        "print(f\"Bagging Classifier Accuracy:   {bag_accuracy:.4f}\")\n"
      ],
      "metadata": {
        "colab": {
          "base_uri": "https://localhost:8080/"
        },
        "id": "O0yIai74HcmT",
        "outputId": "938d1164-9f86-48b5-d998-dfdc6fb66f69"
      },
      "execution_count": 18,
      "outputs": [
        {
          "output_type": "stream",
          "name": "stdout",
          "text": [
            "Single Decision Tree Accuracy: 0.9474\n",
            "Bagging Classifier Accuracy:   0.9561\n"
          ]
        }
      ]
    },
    {
      "cell_type": "code",
      "source": [
        "'''Q.35 Train a Random Forest Classifier and visualize the confusion matrix'''"
      ],
      "metadata": {
        "id": "Cn-xipr_Hq73"
      },
      "execution_count": null,
      "outputs": []
    },
    {
      "cell_type": "code",
      "source": [
        "# Step 1: Import libraries\n",
        "from sklearn.datasets import load_breast_cancer\n",
        "from sklearn.ensemble import RandomForestClassifier\n",
        "from sklearn.model_selection import train_test_split\n",
        "from sklearn.metrics import confusion_matrix, ConfusionMatrixDisplay\n",
        "import matplotlib.pyplot as plt\n",
        "\n",
        "# Step 2: Load dataset\n",
        "data = load_breast_cancer()\n",
        "X, y = data.data, data.target\n",
        "\n",
        "# Step 3: Split the data\n",
        "X_train, X_test, y_train, y_test = train_test_split(\n",
        "    X, y, test_size=0.2, random_state=42\n",
        ")\n",
        "\n",
        "# Step 4: Train Random Forest Classifier\n",
        "rf_model = RandomForestClassifier(n_estimators=100, random_state=42)\n",
        "rf_model.fit(X_train, y_train)\n",
        "\n",
        "# Step 5: Predict on test set\n",
        "y_pred = rf_model.predict(X_test)\n",
        "\n",
        "# Step 6: Compute and display confusion matrix\n",
        "cm = confusion_matrix(y_test, y_pred)\n",
        "disp = ConfusionMatrixDisplay(confusion_matrix=cm, display_labels=data.target_names)\n",
        "disp.plot(cmap=plt.cm.Blues)\n",
        "plt.title(\"Confusion Matrix - Random Forest Classifier\")\n",
        "plt.show()\n"
      ],
      "metadata": {
        "colab": {
          "base_uri": "https://localhost:8080/",
          "height": 472
        },
        "id": "Mu-ImbXCH-Dh",
        "outputId": "0f373efa-850f-4317-eb48-df280822e190"
      },
      "execution_count": 19,
      "outputs": [
        {
          "output_type": "display_data",
          "data": {
            "text/plain": [
              "<Figure size 640x480 with 2 Axes>"
            ],
            "image/png": "[encoded data removed]"
          },
          "metadata": {}
        }
      ]
    },
    {
      "cell_type": "code",
      "source": [
        "'''Q.36  Train a Stacking Classifier using Decision Trees, SVM, and Logistic Regression, and compare accuracy'''"
      ],
      "metadata": {
        "id": "KdI3aqY4IBKW"
      },
      "execution_count": null,
      "outputs": []
    },
    {
      "cell_type": "code",
      "source": [
        "# Step 1: Import required libraries\n",
        "from sklearn.datasets import load_breast_cancer\n",
        "from sklearn.model_selection import train_test_split\n",
        "from sklearn.tree import DecisionTreeClassifier\n",
        "from sklearn.svm import SVC\n",
        "from sklearn.linear_model import LogisticRegression\n",
        "from sklearn.ensemble import StackingClassifier\n",
        "from sklearn.metrics import accuracy_score\n",
        "import warnings\n",
        "warnings.filterwarnings('ignore')\n",
        "\n",
        "# Step 2: Load dataset\n",
        "data = load_breast_cancer()\n",
        "X, y = data.data, data.target\n",
        "\n",
        "# Step 3: Split data\n",
        "X_train, X_test, y_train, y_test = train_test_split(\n",
        "    X, y, test_size=0.2, random_state=42\n",
        ")\n",
        "\n",
        "# Step 4: Define base learners\n",
        "base_learners = [\n",
        "    ('dt', DecisionTreeClassifier(random_state=42)),\n",
        "    ('svm', SVC(probability=True, random_state=42))\n",
        "]\n",
        "\n",
        "# Step 5: Define meta learner\n",
        "meta_learner = LogisticRegression()\n",
        "\n",
        "# Step 6: Create Stacking Classifier\n",
        "stack_model = StackingClassifier(\n",
        "    estimators=base_learners,\n",
        "    final_estimator=meta_learner,\n",
        "    cv=5\n",
        ")\n",
        "\n",
        "# Step 7: Fit stacking model\n",
        "stack_model.fit(X_train, y_train)\n",
        "\n",
        "# Step 8: Predictions and Accuracy\n",
        "stack_pred = stack_model.predict(X_test)\n",
        "stack_acc = accuracy_score(y_test, stack_pred)\n",
        "\n",
        "# Step 9: Compare with individual models\n",
        "dt_model = DecisionTreeClassifier(random_state=42)\n",
        "svm_model = SVC(probability=True, random_state=42)\n",
        "lr_model = LogisticRegression()\n",
        "\n",
        "dt_model.fit(X_train, y_train)\n",
        "svm_model.fit(X_train, y_train)\n",
        "lr_model.fit(X_train, y_train)\n",
        "\n",
        "dt_acc = accuracy_score(y_test, dt_model.predict(X_test))\n",
        "svm_acc = accuracy_score(y_test, svm_model.predict(X_test))\n",
        "lr_acc = accuracy_score(y_test, lr_model.predict(X_test))\n",
        "\n",
        "# Step 10: Print Results\n",
        "print(\"Accuracy Comparison:\")\n",
        "print(f\"Decision Tree: {dt_acc:.4f}\")\n",
        "print(f\"SVM:           {svm_acc:.4f}\")\n",
        "print(f\"Logistic Reg.: {lr_acc:.4f}\")\n",
        "print(f\"Stacking:      {stack_acc:.4f}\")\n"
      ],
      "metadata": {
        "colab": {
          "base_uri": "https://localhost:8080/"
        },
        "id": "oK4f9N3xIGIt",
        "outputId": "c78a9c6c-58a7-441c-d72d-7964f662b5de"
      },
      "execution_count": 20,
      "outputs": [
        {
          "output_type": "stream",
          "name": "stdout",
          "text": [
            "Accuracy Comparison:\n",
            "Decision Tree: 0.9474\n",
            "SVM:           0.9474\n",
            "Logistic Reg.: 0.9561\n",
            "Stacking:      0.9649\n"
          ]
        }
      ]
    },
    {
      "cell_type": "code",
      "source": [
        "'''Q.37  Train a Random Forest Classifier and print the top 5 most important features'''"
      ],
      "metadata": {
        "id": "Zw2rGUyoIXR7"
      },
      "execution_count": null,
      "outputs": []
    },
    {
      "cell_type": "code",
      "source": [
        "# Step 1: Import libraries\n",
        "from sklearn.datasets import load_breast_cancer\n",
        "from sklearn.model_selection import train_test_split\n",
        "from sklearn.ensemble import RandomForestClassifier\n",
        "import pandas as pd\n",
        "import numpy as np\n",
        "\n",
        "# Step 2: Load dataset\n",
        "data = load_breast_cancer()\n",
        "X, y = data.data, data.target\n",
        "feature_names = data.feature_names\n",
        "\n",
        "# Step 3: Split dataset\n",
        "X_train, X_test, y_train, y_test = train_test_split(\n",
        "    X, y, test_size=0.2, random_state=42\n",
        ")\n",
        "\n",
        "# Step 4: Train Random Forest Classifier\n",
        "rf_model = RandomForestClassifier(n_estimators=100, random_state=42)\n",
        "rf_model.fit(X_train, y_train)\n",
        "\n",
        "# Step 5: Get feature importances\n",
        "importances = rf_model.feature_importances_\n",
        "importance_df = pd.DataFrame({\n",
        "    'Feature': feature_names,\n",
        "    'Importance': importances\n",
        "})\n",
        "\n",
        "# Step 6: Sort and display top 5\n",
        "top5 = importance_df.sort_values(by='Importance', ascending=False).head(5)\n",
        "print(\"Top 5 Important Features:\")\n",
        "print(top5)\n"
      ],
      "metadata": {
        "colab": {
          "base_uri": "https://localhost:8080/"
        },
        "id": "f7OlZlPAIcXN",
        "outputId": "7119ecb6-379e-4ed9-d3b0-1ea4efe78fe8"
      },
      "execution_count": 21,
      "outputs": [
        {
          "output_type": "stream",
          "name": "stdout",
          "text": [
            "Top 5 Important Features:\n",
            "                 Feature  Importance\n",
            "23            worst area    0.153892\n",
            "27  worst concave points    0.144663\n",
            "7    mean concave points    0.106210\n",
            "20          worst radius    0.077987\n",
            "6         mean concavity    0.068001\n"
          ]
        }
      ]
    },
    {
      "cell_type": "code",
      "source": [
        "'''Q.38 Train a Bagging Classifier and evaluate performance using Precision, Recall, and F1-score'''"
      ],
      "metadata": {
        "id": "EgaRtUfhIt-7"
      },
      "execution_count": null,
      "outputs": []
    },
    {
      "cell_type": "code",
      "source": [
        "# Step 1: Import libraries\n",
        "from sklearn.datasets import load_breast_cancer\n",
        "from sklearn.ensemble import BaggingClassifier\n",
        "from sklearn.tree import DecisionTreeClassifier\n",
        "from sklearn.model_selection import train_test_split\n",
        "from sklearn.metrics import precision_score, recall_score, f1_score, classification_report\n",
        "\n",
        "# Step 2: Load dataset\n",
        "data = load_breast_cancer()\n",
        "X, y = data.data, data.target\n",
        "\n",
        "# Step 3: Split dataset\n",
        "X_train, X_test, y_train, y_test = train_test_split(\n",
        "    X, y, test_size=0.2, random_state=42\n",
        ")\n",
        "\n",
        "# Step 4: Train Bagging Classifier\n",
        "model = BaggingClassifier(\n",
        "    estimator=DecisionTreeClassifier(),\n",
        "    n_estimators=50,\n",
        "    random_state=42\n",
        ")\n",
        "model.fit(X_train, y_train)\n",
        "\n",
        "# Step 5: Make predictions\n",
        "y_pred = model.predict(X_test)\n",
        "\n",
        "# Step 6: Evaluate performance\n",
        "precision = precision_score(y_test, y_pred)\n",
        "recall = recall_score(y_test, y_pred)\n",
        "f1 = f1_score(y_test, y_pred)\n",
        "\n",
        "print(\"Precision:\", round(precision, 3))\n",
        "print(\"Recall:\", round(recall, 3))\n",
        "print(\"F1-Score:\", round(f1, 3))\n",
        "print(\"\\nClassification Report:\\n\")\n",
        "print(classification_report(y_test, y_pred, target_names=data.target_names))\n"
      ],
      "metadata": {
        "colab": {
          "base_uri": "https://localhost:8080/"
        },
        "id": "53RtLdRxI2Lo",
        "outputId": "86c4209b-d9e7-45aa-ebdd-607ff1237b46"
      },
      "execution_count": 22,
      "outputs": [
        {
          "output_type": "stream",
          "name": "stdout",
          "text": [
            "Precision: 0.958\n",
            "Recall: 0.972\n",
            "F1-Score: 0.965\n",
            "\n",
            "Classification Report:\n",
            "\n",
            "              precision    recall  f1-score   support\n",
            "\n",
            "   malignant       0.95      0.93      0.94        43\n",
            "      benign       0.96      0.97      0.97        71\n",
            "\n",
            "    accuracy                           0.96       114\n",
            "   macro avg       0.96      0.95      0.95       114\n",
            "weighted avg       0.96      0.96      0.96       114\n",
            "\n"
          ]
        }
      ]
    },
    {
      "cell_type": "code",
      "source": [
        "'''Q.39 Train a Random Forest Classifier and analyze the effect of max_depth on accuracy'''"
      ],
      "metadata": {
        "id": "IXT_o6tdJFiv"
      },
      "execution_count": null,
      "outputs": []
    },
    {
      "cell_type": "code",
      "source": [
        "# Step 1: Import required libraries\n",
        "from sklearn.datasets import load_breast_cancer\n",
        "from sklearn.ensemble import RandomForestClassifier\n",
        "from sklearn.model_selection import train_test_split\n",
        "from sklearn.metrics import accuracy_score\n",
        "import matplotlib.pyplot as plt\n",
        "\n",
        "# Step 2: Load dataset\n",
        "data = load_breast_cancer()\n",
        "X, y = data.data, data.target\n",
        "\n",
        "# Step 3: Split dataset\n",
        "X_train, X_test, y_train, y_test = train_test_split(\n",
        "    X, y, test_size=0.2, random_state=42\n",
        ")\n",
        "\n",
        "# Step 4: Train with different max_depth values and store accuracy\n",
        "depths = range(1, 21)\n",
        "accuracies = []\n",
        "\n",
        "for depth in depths:\n",
        "    model = RandomForestClassifier(max_depth=depth, n_estimators=100, random_state=42)\n",
        "    model.fit(X_train, y_train)\n",
        "    y_pred = model.predict(X_test)\n",
        "    acc = accuracy_score(y_test, y_pred)\n",
        "    accuracies.append(acc)\n",
        "\n",
        "# Step 5: Plot results\n",
        "plt.figure(figsize=(10, 6))\n",
        "plt.plot(depths, accuracies, marker='o', linestyle='-')\n",
        "plt.title('Effect of max_depth on Accuracy')\n",
        "plt.xlabel('max_depth')\n",
        "plt.ylabel('Accuracy on Test Set')\n",
        "plt.grid(True)\n",
        "plt.xticks(depths)\n",
        "plt.show()\n"
      ],
      "metadata": {
        "colab": {
          "base_uri": "https://localhost:8080/",
          "height": 564
        },
        "id": "bhtRcg9sJKVj",
        "outputId": "34e951f2-6934-4a0f-a605-79a51a97b319"
      },
      "execution_count": 23,
      "outputs": [
        {
          "output_type": "display_data",
          "data": {
            "text/plain": [
              "<Figure size 1000x600 with 1 Axes>"
            ],
            "image/png": "[encoded data removed]"
          },
          "metadata": {}
        }
      ]
    },
    {
      "cell_type": "code",
      "source": [
        "'''Q.40 Train a Bagging Regressor using different base estimators (DecisionTree and KNeighbors) and compare performance'''"
      ],
      "metadata": {
        "id": "mv5fJ0yZJatC"
      },
      "execution_count": null,
      "outputs": []
    },
    {
      "cell_type": "code",
      "source": [
        "# Step 1: Import required libraries\n",
        "from sklearn.datasets import fetch_california_housing\n",
        "from sklearn.ensemble import BaggingRegressor\n",
        "from sklearn.tree import DecisionTreeRegressor\n",
        "from sklearn.neighbors import KNeighborsRegressor\n",
        "from sklearn.metrics import mean_squared_error\n",
        "from sklearn.model_selection import train_test_split\n",
        "import numpy as np\n",
        "\n",
        "# Step 2: Load dataset\n",
        "data = fetch_california_housing()\n",
        "X, y = data.data, data.target\n",
        "\n",
        "# Step 3: Split dataset\n",
        "X_train, X_test, y_train, y_test = train_test_split(\n",
        "    X, y, test_size=0.2, random_state=42\n",
        ")\n",
        "\n",
        "# Step 4: Initialize base models\n",
        "dt = DecisionTreeRegressor(random_state=42)\n",
        "knn = KNeighborsRegressor()\n",
        "\n",
        "# Step 5: Create Bagging Regressors\n",
        "bagging_dt = BaggingRegressor(estimator=dt, n_estimators=50, random_state=42, n_jobs=-1)\n",
        "bagging_knn = BaggingRegressor(estimator=knn, n_estimators=50, random_state=42, n_jobs=-1)\n",
        "\n",
        "# Step 6: Train models\n",
        "bagging_dt.fit(X_train, y_train)\n",
        "bagging_knn.fit(X_train, y_train)\n",
        "\n",
        "# Step 7: Predict and evaluate\n",
        "pred_dt = bagging_dt.predict(X_test)\n",
        "pred_knn = bagging_knn.predict(X_test)\n",
        "\n",
        "mse_dt = mean_squared_error(y_test, pred_dt)\n",
        "mse_knn = mean_squared_error(y_test, pred_knn)\n",
        "\n",
        "print(f\" Mean Squared Error (Decision Tree base): {mse_dt:.4f}\")\n",
        "print(f\" Mean Squared Error (KNN base):           {mse_knn:.4f}\")\n"
      ],
      "metadata": {
        "colab": {
          "base_uri": "https://localhost:8080/"
        },
        "id": "P5oubLTJJhhH",
        "outputId": "c52cf5aa-f892-4904-a026-7edfe01364ca"
      },
      "execution_count": 24,
      "outputs": [
        {
          "output_type": "stream",
          "name": "stdout",
          "text": [
            " Mean Squared Error (Decision Tree base): 0.2573\n",
            " Mean Squared Error (KNN base):           1.0763\n"
          ]
        }
      ]
    },
    {
      "cell_type": "code",
      "source": [
        "'''Q.41  Train a Random Forest Classifier and evaluate its performance using ROC-AUC Score'''"
      ],
      "metadata": {
        "id": "I-5qfBwLKANG"
      },
      "execution_count": null,
      "outputs": []
    },
    {
      "cell_type": "code",
      "source": [
        "# Step 1: Import libraries\n",
        "from sklearn.datasets import load_breast_cancer\n",
        "from sklearn.ensemble import RandomForestClassifier\n",
        "from sklearn.metrics import roc_auc_score, roc_curve\n",
        "from sklearn.model_selection import train_test_split\n",
        "import matplotlib.pyplot as plt\n",
        "\n",
        "# Step 2: Load dataset\n",
        "data = load_breast_cancer()\n",
        "X, y = data.data, data.target\n",
        "\n",
        "# Step 3: Train-test split\n",
        "X_train, X_test, y_train, y_test = train_test_split(\n",
        "    X, y, test_size=0.3, random_state=42, stratify=y\n",
        ")\n",
        "\n",
        "# Step 4: Train Random Forest\n",
        "rf_model = RandomForestClassifier(n_estimators=100, random_state=42)\n",
        "rf_model.fit(X_train, y_train)\n",
        "\n",
        "# Step 5: Predict probabilities\n",
        "y_proba = rf_model.predict_proba(X_test)[:, 1]\n",
        "\n",
        "# Step 6: Compute ROC-AUC\n",
        "roc_auc = roc_auc_score(y_test, y_proba)\n",
        "print(f\" ROC-AUC Score: {roc_auc:.4f}\")\n",
        "\n",
        "# Step 7: Plot ROC Curve\n",
        "fpr, tpr, _ = roc_curve(y_test, y_proba)\n",
        "plt.figure(figsize=(8, 5))\n",
        "plt.plot(fpr, tpr, color='blue', label=f'ROC Curve (AUC = {roc_auc:.4f})')\n",
        "plt.plot([0, 1], [0, 1], color='red', linestyle='--')\n",
        "plt.xlabel('False Positive Rate')\n",
        "plt.ylabel('True Positive Rate')\n",
        "plt.title('ROC Curve - Random Forest')\n",
        "plt.legend()\n",
        "plt.grid()\n",
        "plt.show()\n"
      ],
      "metadata": {
        "colab": {
          "base_uri": "https://localhost:8080/",
          "height": 504
        },
        "id": "QnB_mk2-KGsO",
        "outputId": "d3b9b238-988c-43c7-baec-6f0765d359c1"
      },
      "execution_count": 25,
      "outputs": [
        {
          "output_type": "stream",
          "name": "stdout",
          "text": [
            " ROC-AUC Score: 0.9913\n"
          ]
        },
        {
          "output_type": "display_data",
          "data": {
            "text/plain": [
              "<Figure size 800x500 with 1 Axes>"
            ],
            "image/png": "[encoded data removed]"
          },
          "metadata": {}
        }
      ]
    },
    {
      "cell_type": "code",
      "source": [
        "'''Q.42  Train a Bagging Classifier and evaluate its performance using cross-validation'''"
      ],
      "metadata": {
        "id": "hIVPhn1mKYmQ"
      },
      "execution_count": null,
      "outputs": []
    },
    {
      "cell_type": "code",
      "source": [
        "# Step 1: Import required libraries\n",
        "from sklearn.ensemble import BaggingClassifier\n",
        "from sklearn.tree import DecisionTreeClassifier\n",
        "from sklearn.model_selection import cross_val_score\n",
        "from sklearn.datasets import load_breast_cancer\n",
        "from sklearn.model_selection import StratifiedKFold\n",
        "import numpy as np\n",
        "\n",
        "# Step 2: Load the Breast Cancer dataset\n",
        "data = load_breast_cancer()\n",
        "X, y = data.data, data.target\n",
        "\n",
        "# Step 3: Initialize Bagging Classifier\n",
        "bagging_model = BaggingClassifier(\n",
        "    estimator=DecisionTreeClassifier(),\n",
        "    n_estimators=50,\n",
        "    random_state=42\n",
        ")\n",
        "\n",
        "# Step 4: Cross-validation setup\n",
        "cv = StratifiedKFold(n_splits=5, shuffle=True, random_state=42)\n",
        "\n",
        "# Step 5: Evaluate using cross-validation\n",
        "scores = cross_val_score(bagging_model, X, y, cv=cv, scoring='accuracy')\n",
        "\n",
        "# Step 6: Display results\n",
        "print(f\"Cross-Validation Accuracy Scores: {scores}\")\n",
        "print(f\"Mean Accuracy: {np.mean(scores):.4f}\")\n",
        "print(f\"Standard Deviation: {np.std(scores):.4f}\")\n"
      ],
      "metadata": {
        "colab": {
          "base_uri": "https://localhost:8080/"
        },
        "id": "j9_5HFbAK_FS",
        "outputId": "13c173f0-f56c-4c5a-99cc-2ee48d1780d8"
      },
      "execution_count": 26,
      "outputs": [
        {
          "output_type": "stream",
          "name": "stdout",
          "text": [
            "Cross-Validation Accuracy Scores: [0.96491228 0.92982456 0.96491228 0.96491228 0.96460177]\n",
            "Mean Accuracy: 0.9578\n",
            "Standard Deviation: 0.0140\n"
          ]
        }
      ]
    },
    {
      "cell_type": "code",
      "source": [
        "'''Q.43 Train a Random Forest Classifier and plot the Precision-Recall curve'''"
      ],
      "metadata": {
        "id": "He_uxSIOLCJ2"
      },
      "execution_count": null,
      "outputs": []
    },
    {
      "cell_type": "code",
      "source": [
        "# Step 1: Import libraries\n",
        "import matplotlib.pyplot as plt\n",
        "from sklearn.ensemble import RandomForestClassifier\n",
        "from sklearn.datasets import load_breast_cancer\n",
        "from sklearn.model_selection import train_test_split\n",
        "from sklearn.metrics import precision_recall_curve, PrecisionRecallDisplay\n",
        "\n",
        "# Step 2: Load dataset\n",
        "data = load_breast_cancer()\n",
        "X, y = data.data, data.target\n",
        "\n",
        "# Step 3: Split into train and test sets\n",
        "X_train, X_test, y_train, y_test = train_test_split(X, y, test_size=0.3, random_state=42)\n",
        "\n",
        "# Step 4: Train Random Forest Classifier\n",
        "rf = RandomForestClassifier(n_estimators=100, random_state=42)\n",
        "rf.fit(X_train, y_train)\n",
        "\n",
        "# Step 5: Predict probabilities\n",
        "y_scores = rf.predict_proba(X_test)[:, 1]  # Probability for the positive class\n",
        "\n",
        "# Step 6: Compute Precision-Recall curve\n",
        "precision, recall, _ = precision_recall_curve(y_test, y_scores)\n",
        "\n",
        "# Step 7: Plot the Precision-Recall curve\n",
        "disp = PrecisionRecallDisplay(precision=precision, recall=recall)\n",
        "disp.plot()\n",
        "plt.title('Precision-Recall Curve for Random Forest Classifier')\n",
        "plt.grid(True)\n",
        "plt.show()\n"
      ],
      "metadata": {
        "colab": {
          "base_uri": "https://localhost:8080/",
          "height": 472
        },
        "id": "hepmXxNrLLLJ",
        "outputId": "c8f844e7-a7c3-47d4-b38d-bd0cc53c654b"
      },
      "execution_count": 27,
      "outputs": [
        {
          "output_type": "display_data",
          "data": {
            "text/plain": [
              "<Figure size 640x480 with 1 Axes>"
            ],
            "image/png": "[encoded data removed]"
          },
          "metadata": {}
        }
      ]
    },
    {
      "cell_type": "code",
      "source": [
        "'''Q.44  Train a Stacking Classifier with Random Forest and Logistic Regression and compare accuracy'''"
      ],
      "metadata": {
        "id": "NmkCI7uiLXu8"
      },
      "execution_count": null,
      "outputs": []
    },
    {
      "cell_type": "code",
      "source": [
        "# Step 1: Import necessary libraries\n",
        "from sklearn.datasets import load_breast_cancer\n",
        "from sklearn.model_selection import train_test_split\n",
        "from sklearn.ensemble import StackingClassifier, RandomForestClassifier\n",
        "from sklearn.linear_model import LogisticRegression\n",
        "from sklearn.metrics import accuracy_score\n",
        "\n",
        "# Step 2: Load dataset\n",
        "data = load_breast_cancer()\n",
        "X, y = data.data, data.target\n",
        "\n",
        "# Step 3: Split data\n",
        "X_train, X_test, y_train, y_test = train_test_split(X, y, test_size=0.3, random_state=42)\n",
        "\n",
        "# Step 4: Define base and final estimators\n",
        "base_estimators = [\n",
        "    ('rf', RandomForestClassifier(n_estimators=100, random_state=42))\n",
        "]\n",
        "\n",
        "final_estimator = LogisticRegression()\n",
        "\n",
        "# Step 5: Create and train stacking model\n",
        "stack_model = StackingClassifier(estimators=base_estimators, final_estimator=final_estimator, cv=5)\n",
        "stack_model.fit(X_train, y_train)\n",
        "\n",
        "# Step 6: Train individual models\n",
        "rf_model = RandomForestClassifier(n_estimators=100, random_state=42)\n",
        "rf_model.fit(X_train, y_train)\n",
        "\n",
        "lr_model = LogisticRegression(max_iter=1000)\n",
        "lr_model.fit(X_train, y_train)\n",
        "\n",
        "# Step 7: Make predictions\n",
        "stack_pred = stack_model.predict(X_test)\n",
        "rf_pred = rf_model.predict(X_test)\n",
        "lr_pred = lr_model.predict(X_test)\n",
        "\n",
        "# Step 8: Print accuracy scores\n",
        "print(\"Stacking Classifier Accuracy:\", accuracy_score(y_test, stack_pred))\n",
        "print(\"Random Forest Accuracy      :\", accuracy_score(y_test, rf_pred))\n",
        "print(\"Logistic Regression Accuracy:\", accuracy_score(y_test, lr_pred))\n"
      ],
      "metadata": {
        "colab": {
          "base_uri": "https://localhost:8080/"
        },
        "id": "6Qt8MkyMLdyB",
        "outputId": "4a0837cd-f399-4a0f-9f8a-fad009fc7410"
      },
      "execution_count": 28,
      "outputs": [
        {
          "output_type": "stream",
          "name": "stdout",
          "text": [
            "Stacking Classifier Accuracy: 0.9707602339181286\n",
            "Random Forest Accuracy      : 0.9707602339181286\n",
            "Logistic Regression Accuracy: 0.9707602339181286\n"
          ]
        }
      ]
    },
    {
      "cell_type": "code",
      "source": [
        "'''Q.45 Train a Bagging Regressor with different levels of bootstrap samples and compare performance.'''"
      ],
      "metadata": {
        "id": "hpCMODKHLu-v"
      },
      "execution_count": null,
      "outputs": []
    },
    {
      "cell_type": "code",
      "source": [
        "# Step 1: Import required libraries\n",
        "from sklearn.datasets import load_diabetes\n",
        "from sklearn.ensemble import BaggingRegressor\n",
        "from sklearn.tree import DecisionTreeRegressor\n",
        "from sklearn.model_selection import train_test_split\n",
        "from sklearn.metrics import mean_squared_error\n",
        "\n",
        "# Step 2: Load regression dataset\n",
        "data = load_diabetes()\n",
        "X, y = data.data, data.target\n",
        "\n",
        "# Step 3: Split into training and testing sets\n",
        "X_train, X_test, y_train, y_test = train_test_split(X, y, test_size=0.3, random_state=42)\n",
        "\n",
        "# Step 4: Train Bagging Regressor with bootstrap=True (default)\n",
        "bagging_bootstrap = BaggingRegressor(\n",
        "    estimator=DecisionTreeRegressor(),\n",
        "    n_estimators=50,\n",
        "    bootstrap=True,\n",
        "    random_state=42\n",
        ")\n",
        "bagging_bootstrap.fit(X_train, y_train)\n",
        "y_pred_bootstrap = bagging_bootstrap.predict(X_test)\n",
        "mse_bootstrap = mean_squared_error(y_test, y_pred_bootstrap)\n",
        "\n",
        "# Step 5: Train Bagging Regressor with bootstrap=False\n",
        "bagging_no_bootstrap = BaggingRegressor(\n",
        "    estimator=DecisionTreeRegressor(),\n",
        "    n_estimators=50,\n",
        "    bootstrap=False,\n",
        "    random_state=42\n",
        ")\n",
        "bagging_no_bootstrap.fit(X_train, y_train)\n",
        "y_pred_no_bootstrap = bagging_no_bootstrap.predict(X_test)\n",
        "mse_no_bootstrap = mean_squared_error(y_test, y_pred_no_bootstrap)\n",
        "\n",
        "# Step 6: Print MSE for both\n",
        "print(\"MSE with bootstrap=True :\", round(mse_bootstrap, 2))\n",
        "print(\"MSE with bootstrap=False:\", round(mse_no_bootstrap, 2))\n"
      ],
      "metadata": {
        "colab": {
          "base_uri": "https://localhost:8080/"
        },
        "id": "23CphXNYLz9L",
        "outputId": "e0287e52-6043-4412-caa0-6f16743ac356"
      },
      "execution_count": 29,
      "outputs": [
        {
          "output_type": "stream",
          "name": "stdout",
          "text": [
            "MSE with bootstrap=True : 2987.01\n",
            "MSE with bootstrap=False: 5190.68\n"
          ]
        }
      ]
    }
  ]
}